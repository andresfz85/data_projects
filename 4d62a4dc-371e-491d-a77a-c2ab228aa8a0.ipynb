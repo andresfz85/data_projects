{
 "cells": [
  {
   "cell_type": "markdown",
   "metadata": {},
   "source": [
    "¡Hola!\n",
    "\n",
    "Mi nombre es Tonatiuh Cruz. Me complace revisar tu proyecto hoy.\n",
    "\n",
    "Al identificar cualquier error inicialmente, simplemente los destacaré. Te animo a localizar y abordar los problemas de forma independiente como parte de tu preparación para un rol como data-scientist. En un entorno profesional, tu líder de equipo seguiría un enfoque similar. Si encuentras la tarea desafiante, proporcionaré una pista más específica en la próxima iteración.\n",
    "\n",
    "Encontrarás mis comentarios a continuación - **por favor no los muevas, modifiques o elimines**.\n",
    "\n",
    "Puedes encontrar mis comentarios en cajas verdes, amarillas o rojas como esta:\n",
    "\n",
    "<div class=\"alert alert-block alert-success\">\n",
    "<b>Comentario del revisor</b> <a class=\"tocSkip\"></a>\n",
    "\n",
    "Éxito. Todo está hecho correctamente.\n",
    "</div>\n",
    "\n",
    "<div class=\"alert alert-block alert-warning\">\n",
    "<b>Comentario del revisor</b> <a class=\"tocSkip\"></a>\n",
    "\n",
    "Observaciones. Algunas recomendaciones.\n",
    "</div>\n",
    "\n",
    "<div class=\"alert alert-block alert-danger\">\n",
    "<b>Comentario del revisor</b> <a class=\"tocSkip\"></a>\n",
    "\n",
    "Necesita corrección. El bloque requiere algunas correcciones. El trabajo no puede ser aceptado con comentarios en rojo.\n",
    "</div>\n",
    "\n",
    "Puedes responderme utilizando esto:\n",
    "\n",
    "<div class=\"alert alert-block alert-info\">\n",
    "<b>Respuesta del estudiante.</b> <a class=\"tocSkip\"></a>\n",
    "</div>"
   ]
  },
  {
   "cell_type": "markdown",
   "metadata": {
    "id": "3rYiDeEH0q0f"
   },
   "source": [
    "# ¿Cuál es la mejor tarifa?\n",
    "\n",
    "Trabajas como analista para el operador de telecomunicaciones Megaline. La empresa ofrece a sus clientes dos tarifas de prepago, Surf y Ultimate. El departamento comercial quiere saber cuál de las tarifas genera más ingresos para poder ajustar el presupuesto de publicidad.\n",
    "\n",
    "Vas a realizar un análisis preliminar de las tarifas basado en una selección de clientes relativamente pequeña. Tendrás los datos de 500 clientes de Megaline: quiénes son los clientes, de dónde son, qué tarifa usan, así como la cantidad de llamadas que hicieron y los mensajes de texto que enviaron en 2018. Tu trabajo es analizar el comportamiento de los clientes y determinar qué tarifa de prepago genera más ingresos."
   ]
  },
  {
   "cell_type": "markdown",
   "metadata": {
    "id": "VNddPNRQ0q0w"
   },
   "source": [
    "[Te proporcionamos algunos comentarios para orientarte mientras completas este proyecto. Pero debes asegurarte de eliminar todos los comentarios entre corchetes antes de entregar tu proyecto.]\n",
    "\n",
    "[Antes de sumergirte en el análisis de datos, explica por tu propia cuenta el propósito del proyecto y las acciones que planeas realizar.]\n",
    "\n",
    "[Ten en cuenta que estudiar, modificar y analizar datos es un proceso iterativo. Es normal volver a los pasos anteriores y corregirlos/ampliarlos para permitir nuevos pasos.]"
   ]
  },
  {
   "cell_type": "markdown",
   "metadata": {
    "id": "MQi4IPy70q0y"
   },
   "source": [
    "## Inicialización"
   ]
  },
  {
   "cell_type": "code",
   "execution_count": 1,
   "metadata": {
    "id": "MtYIuBxu0q0z"
   },
   "outputs": [],
   "source": [
    "import pandas as pd# Cargar todas las librerías\n",
    "import seaborn as sns\n",
    "import numpy as np\n",
    "import math as mt\n",
    "from scipy import stats as st\n",
    "import scipy.integrate # necesario para ejecutar scipy\n",
    "from math import factorial\n",
    "from matplotlib import pyplot as plt\n"
   ]
  },
  {
   "cell_type": "markdown",
   "metadata": {
    "id": "4ysWWC5i0q00"
   },
   "source": [
    "## Cargar datos"
   ]
  },
  {
   "cell_type": "code",
   "execution_count": 2,
   "metadata": {
    "id": "CCqPW7rS0q01"
   },
   "outputs": [
    {
     "name": "stdout",
     "output_type": "stream",
     "text": [
      "              id  user_id   call_date  duration\n",
      "0        1000_93     1000  2018-12-27      8.52\n",
      "1       1000_145     1000  2018-12-27     13.66\n",
      "2       1000_247     1000  2018-12-27     14.48\n",
      "3       1000_309     1000  2018-12-28      5.76\n",
      "4       1000_380     1000  2018-12-30      4.22\n",
      "...          ...      ...         ...       ...\n",
      "137730  1499_199     1499  2018-11-21      8.72\n",
      "137731  1499_200     1499  2018-10-20     10.89\n",
      "137732  1499_201     1499  2018-09-21      8.12\n",
      "137733  1499_202     1499  2018-10-10      0.37\n",
      "137734  1499_203     1499  2018-12-29     13.86\n",
      "\n",
      "[137735 rows x 4 columns]\n",
      "\n",
      "              id  user_id session_date  mb_used\n",
      "0        1000_13     1000   2018-12-29    89.86\n",
      "1       1000_204     1000   2018-12-31     0.00\n",
      "2       1000_379     1000   2018-12-28   660.40\n",
      "3       1000_413     1000   2018-12-26   270.99\n",
      "4       1000_442     1000   2018-12-27   880.22\n",
      "...          ...      ...          ...      ...\n",
      "104820  1499_215     1499   2018-10-20   218.06\n",
      "104821  1499_216     1499   2018-12-30   304.72\n",
      "104822  1499_217     1499   2018-09-22   292.75\n",
      "104823  1499_218     1499   2018-12-07     0.00\n",
      "104824  1499_219     1499   2018-12-24   758.31\n",
      "\n",
      "[104825 rows x 4 columns]\n",
      "\n",
      "             id  user_id message_date\n",
      "0      1000_125     1000   2018-12-27\n",
      "1      1000_160     1000   2018-12-31\n",
      "2      1000_223     1000   2018-12-31\n",
      "3      1000_251     1000   2018-12-27\n",
      "4      1000_255     1000   2018-12-26\n",
      "...         ...      ...          ...\n",
      "76046  1497_526     1497   2018-12-24\n",
      "76047  1497_536     1497   2018-12-24\n",
      "76048  1497_547     1497   2018-12-31\n",
      "76049  1497_558     1497   2018-12-24\n",
      "76050  1497_613     1497   2018-12-23\n",
      "\n",
      "[76051 rows x 3 columns]\n",
      "\n",
      "   messages_included  mb_per_month_included  minutes_included  \\\n",
      "0                 50                  15360               500   \n",
      "1               1000                  30720              3000   \n",
      "\n",
      "   usd_monthly_pay  usd_per_gb  usd_per_message  usd_per_minute plan_name  \n",
      "0               20          10             0.03            0.03      surf  \n",
      "1               70           7             0.01            0.01  ultimate  \n",
      "\n",
      "     user_id first_name   last_name  age  \\\n",
      "0       1000   Anamaria       Bauer   45   \n",
      "1       1001     Mickey   Wilkerson   28   \n",
      "2       1002     Carlee     Hoffman   36   \n",
      "3       1003   Reynaldo     Jenkins   52   \n",
      "4       1004    Leonila    Thompson   40   \n",
      "..       ...        ...         ...  ...   \n",
      "495     1495      Fidel      Sharpe   67   \n",
      "496     1496      Ariel    Shepherd   49   \n",
      "497     1497      Donte     Barrera   49   \n",
      "498     1498       Scot  Williamson   51   \n",
      "499     1499      Shena     Dickson   37   \n",
      "\n",
      "                                          city    reg_date      plan  \\\n",
      "0        Atlanta-Sandy Springs-Roswell, GA MSA  2018-12-24  ultimate   \n",
      "1              Seattle-Tacoma-Bellevue, WA MSA  2018-08-13      surf   \n",
      "2         Las Vegas-Henderson-Paradise, NV MSA  2018-10-21      surf   \n",
      "3                                Tulsa, OK MSA  2018-01-28      surf   \n",
      "4              Seattle-Tacoma-Bellevue, WA MSA  2018-05-23      surf   \n",
      "..                                         ...         ...       ...   \n",
      "495  New York-Newark-Jersey City, NY-NJ-PA MSA  2018-09-04      surf   \n",
      "496               New Orleans-Metairie, LA MSA  2018-02-20      surf   \n",
      "497     Los Angeles-Long Beach-Anaheim, CA MSA  2018-12-10  ultimate   \n",
      "498  New York-Newark-Jersey City, NY-NJ-PA MSA  2018-02-04      surf   \n",
      "499          Orlando-Kissimmee-Sanford, FL MSA  2018-05-06      surf   \n",
      "\n",
      "    churn_date  \n",
      "0          NaN  \n",
      "1          NaN  \n",
      "2          NaN  \n",
      "3          NaN  \n",
      "4          NaN  \n",
      "..         ...  \n",
      "495        NaN  \n",
      "496        NaN  \n",
      "497        NaN  \n",
      "498        NaN  \n",
      "499        NaN  \n",
      "\n",
      "[500 rows x 8 columns]\n"
     ]
    }
   ],
   "source": [
    "# Carga los archivos de datos en diferentes DataFrames\n",
    "df_calls = pd.read_csv('/datasets/megaline_calls.csv')\n",
    "print(df_calls)\n",
    "print()\n",
    "\n",
    "df_internet = pd.read_csv('/datasets/megaline_internet.csv')\n",
    "print(df_internet)\n",
    "print()\n",
    "\n",
    "df_messages = pd.read_csv('/datasets/megaline_messages.csv')\n",
    "print(df_messages)\n",
    "print()\n",
    "\n",
    "df_plans = pd.read_csv('/datasets/megaline_plans.csv')\n",
    "print(df_plans)\n",
    "print()\n",
    "\n",
    "df_users = pd.read_csv('/datasets/megaline_users.csv')\n",
    "print(df_users)"
   ]
  },
  {
   "cell_type": "markdown",
   "metadata": {
    "id": "69qqoJ3r0q01"
   },
   "source": [
    "## Preparar los datos"
   ]
  },
  {
   "cell_type": "markdown",
   "metadata": {
    "id": "vUuZw80S0q01"
   },
   "source": [
    "[Los datos para este proyecto se dividen en varias tablas. Explora cada una para tener una comprensión inicial de los datos. Si es necesario, haz las correcciones requeridas en cada tabla.]"
   ]
  },
  {
   "cell_type": "markdown",
   "metadata": {
    "id": "ohBhimvH0q01"
   },
   "source": [
    "## Tarifas"
   ]
  },
  {
   "cell_type": "code",
   "execution_count": 3,
   "metadata": {
    "id": "GptqP3Q40q02"
   },
   "outputs": [
    {
     "name": "stdout",
     "output_type": "stream",
     "text": [
      "<class 'pandas.core.frame.DataFrame'>\n",
      "RangeIndex: 2 entries, 0 to 1\n",
      "Data columns (total 8 columns):\n",
      " #   Column                 Non-Null Count  Dtype  \n",
      "---  ------                 --------------  -----  \n",
      " 0   messages_included      2 non-null      int64  \n",
      " 1   mb_per_month_included  2 non-null      int64  \n",
      " 2   minutes_included       2 non-null      int64  \n",
      " 3   usd_monthly_pay        2 non-null      int64  \n",
      " 4   usd_per_gb             2 non-null      int64  \n",
      " 5   usd_per_message        2 non-null      float64\n",
      " 6   usd_per_minute         2 non-null      float64\n",
      " 7   plan_name              2 non-null      object \n",
      "dtypes: float64(2), int64(5), object(1)\n",
      "memory usage: 256.0+ bytes\n"
     ]
    }
   ],
   "source": [
    "# Imprime la información general/resumida sobre el DataFrame de las tarifas\n",
    "df_plans.info()"
   ]
  },
  {
   "cell_type": "code",
   "execution_count": 4,
   "metadata": {
    "id": "64xzjwL70q02"
   },
   "outputs": [
    {
     "data": {
      "text/html": [
       "<div>\n",
       "<style scoped>\n",
       "    .dataframe tbody tr th:only-of-type {\n",
       "        vertical-align: middle;\n",
       "    }\n",
       "\n",
       "    .dataframe tbody tr th {\n",
       "        vertical-align: top;\n",
       "    }\n",
       "\n",
       "    .dataframe thead th {\n",
       "        text-align: right;\n",
       "    }\n",
       "</style>\n",
       "<table border=\"1\" class=\"dataframe\">\n",
       "  <thead>\n",
       "    <tr style=\"text-align: right;\">\n",
       "      <th></th>\n",
       "      <th>messages_included</th>\n",
       "      <th>mb_per_month_included</th>\n",
       "      <th>minutes_included</th>\n",
       "      <th>usd_monthly_pay</th>\n",
       "      <th>usd_per_gb</th>\n",
       "      <th>usd_per_message</th>\n",
       "      <th>usd_per_minute</th>\n",
       "      <th>plan_name</th>\n",
       "    </tr>\n",
       "  </thead>\n",
       "  <tbody>\n",
       "    <tr>\n",
       "      <th>0</th>\n",
       "      <td>50</td>\n",
       "      <td>15360</td>\n",
       "      <td>500</td>\n",
       "      <td>20</td>\n",
       "      <td>10</td>\n",
       "      <td>0.03</td>\n",
       "      <td>0.03</td>\n",
       "      <td>surf</td>\n",
       "    </tr>\n",
       "    <tr>\n",
       "      <th>1</th>\n",
       "      <td>1000</td>\n",
       "      <td>30720</td>\n",
       "      <td>3000</td>\n",
       "      <td>70</td>\n",
       "      <td>7</td>\n",
       "      <td>0.01</td>\n",
       "      <td>0.01</td>\n",
       "      <td>ultimate</td>\n",
       "    </tr>\n",
       "  </tbody>\n",
       "</table>\n",
       "</div>"
      ],
      "text/plain": [
       "   messages_included  mb_per_month_included  minutes_included  \\\n",
       "0                 50                  15360               500   \n",
       "1               1000                  30720              3000   \n",
       "\n",
       "   usd_monthly_pay  usd_per_gb  usd_per_message  usd_per_minute plan_name  \n",
       "0               20          10             0.03            0.03      surf  \n",
       "1               70           7             0.01            0.01  ultimate  "
      ]
     },
     "execution_count": 4,
     "metadata": {},
     "output_type": "execute_result"
    }
   ],
   "source": [
    "# Imprime una muestra de los datos para las tarifas\n",
    "df_plans.sample(2)"
   ]
  },
  {
   "cell_type": "markdown",
   "metadata": {
    "id": "mEc_3_hs0q02"
   },
   "source": [
    "[Describe lo que ves y observas en la información general y en la muestra de datos impresa para el precio de datos anterior. ¿Hay algún problema (tipos de datos no adecuados, datos ausentes, etc.) que pudieran necesitar investigación y cambios adicionales? ¿Cómo se puede arreglar?]\n",
    "\n",
    "En este data frame, se muestra las caracteristicas de los planes surf y ultimate: minutos, mensajes y mb incluidos, el costo normal, los costos extra en caso de sobrepasarse los minutos, mensajes o gb incluidos. Los datos se encuentran completos y la muestra indica que los tipos de datos son acordes a la información existente, no se observa ningún problema a corregir."
   ]
  },
  {
   "cell_type": "markdown",
   "metadata": {},
   "source": [
    "<div class=\"alert alert-block alert-warning\">\n",
    "<b>Comentario Revisor</b> <a class=\"tocSkip\"></a>\n",
    "\n",
    "Muy buen trabajo, solamente te sugiero que en este apartado menciones un poco sobre la transformación que se debe realizar de megabytes a gigabytes. \n",
    "</div>"
   ]
  },
  {
   "cell_type": "markdown",
   "metadata": {
    "id": "R3C05i1l0q03"
   },
   "source": [
    "## Corregir datos"
   ]
  },
  {
   "cell_type": "markdown",
   "metadata": {
    "id": "bIi8StZI0q03"
   },
   "source": [
    "[Corrige los problemas obvios con los datos basándote en las observaciones iniciales.]\n",
    "En este data frame, los datos se encuentran completos y la muestra indica que los tipos de datos son acordes a la información existente, no se observa ningún problema a corregir."
   ]
  },
  {
   "cell_type": "code",
   "execution_count": null,
   "metadata": {
    "id": "Y7SVmjGn0q03"
   },
   "outputs": [],
   "source": []
  },
  {
   "cell_type": "markdown",
   "metadata": {
    "id": "LJir7bml0q03"
   },
   "source": [
    "## Enriquecer los datos"
   ]
  },
  {
   "cell_type": "markdown",
   "metadata": {
    "id": "eqADpCfg0q04"
   },
   "source": [
    "[Agrega factores adicionales a los datos si crees que pudieran ser útiles.]"
   ]
  },
  {
   "cell_type": "code",
   "execution_count": 5,
   "metadata": {
    "id": "gfcIEuXV0q04"
   },
   "outputs": [
    {
     "data": {
      "text/html": [
       "<div>\n",
       "<style scoped>\n",
       "    .dataframe tbody tr th:only-of-type {\n",
       "        vertical-align: middle;\n",
       "    }\n",
       "\n",
       "    .dataframe tbody tr th {\n",
       "        vertical-align: top;\n",
       "    }\n",
       "\n",
       "    .dataframe thead th {\n",
       "        text-align: right;\n",
       "    }\n",
       "</style>\n",
       "<table border=\"1\" class=\"dataframe\">\n",
       "  <thead>\n",
       "    <tr style=\"text-align: right;\">\n",
       "      <th></th>\n",
       "      <th>messages_included</th>\n",
       "      <th>mb_per_month_included</th>\n",
       "      <th>minutes_included</th>\n",
       "      <th>usd_monthly_pay</th>\n",
       "      <th>usd_per_gb</th>\n",
       "      <th>usd_per_message</th>\n",
       "      <th>usd_per_minute</th>\n",
       "      <th>plan_name</th>\n",
       "      <th>gb_per_month_included</th>\n",
       "    </tr>\n",
       "  </thead>\n",
       "  <tbody>\n",
       "    <tr>\n",
       "      <th>1</th>\n",
       "      <td>1000</td>\n",
       "      <td>30720</td>\n",
       "      <td>3000</td>\n",
       "      <td>70</td>\n",
       "      <td>7</td>\n",
       "      <td>0.01</td>\n",
       "      <td>0.01</td>\n",
       "      <td>ultimate</td>\n",
       "      <td>30.72</td>\n",
       "    </tr>\n",
       "    <tr>\n",
       "      <th>0</th>\n",
       "      <td>50</td>\n",
       "      <td>15360</td>\n",
       "      <td>500</td>\n",
       "      <td>20</td>\n",
       "      <td>10</td>\n",
       "      <td>0.03</td>\n",
       "      <td>0.03</td>\n",
       "      <td>surf</td>\n",
       "      <td>15.36</td>\n",
       "    </tr>\n",
       "  </tbody>\n",
       "</table>\n",
       "</div>"
      ],
      "text/plain": [
       "   messages_included  mb_per_month_included  minutes_included  \\\n",
       "1               1000                  30720              3000   \n",
       "0                 50                  15360               500   \n",
       "\n",
       "   usd_monthly_pay  usd_per_gb  usd_per_message  usd_per_minute plan_name  \\\n",
       "1               70           7             0.01            0.01  ultimate   \n",
       "0               20          10             0.03            0.03      surf   \n",
       "\n",
       "   gb_per_month_included  \n",
       "1                  30.72  \n",
       "0                  15.36  "
      ]
     },
     "execution_count": 5,
     "metadata": {},
     "output_type": "execute_result"
    }
   ],
   "source": [
    "df_plans[\"gb_per_month_included\"] = df_plans[\"mb_per_month_included\"] /1000\n",
    "df_plans.sample(2)"
   ]
  },
  {
   "cell_type": "markdown",
   "metadata": {
    "id": "1n2X6WXf0q04"
   },
   "source": [
    "## Usuarios/as"
   ]
  },
  {
   "cell_type": "code",
   "execution_count": 6,
   "metadata": {
    "id": "2NgjWFqx0q05"
   },
   "outputs": [
    {
     "name": "stdout",
     "output_type": "stream",
     "text": [
      "<class 'pandas.core.frame.DataFrame'>\n",
      "RangeIndex: 500 entries, 0 to 499\n",
      "Data columns (total 8 columns):\n",
      " #   Column      Non-Null Count  Dtype \n",
      "---  ------      --------------  ----- \n",
      " 0   user_id     500 non-null    int64 \n",
      " 1   first_name  500 non-null    object\n",
      " 2   last_name   500 non-null    object\n",
      " 3   age         500 non-null    int64 \n",
      " 4   city        500 non-null    object\n",
      " 5   reg_date    500 non-null    object\n",
      " 6   plan        500 non-null    object\n",
      " 7   churn_date  34 non-null     object\n",
      "dtypes: int64(2), object(6)\n",
      "memory usage: 31.4+ KB\n"
     ]
    }
   ],
   "source": [
    "# Imprime la información general/resumida sobre el DataFrame de usuarios\n",
    "df_users.info()\n"
   ]
  },
  {
   "cell_type": "code",
   "execution_count": 7,
   "metadata": {
    "id": "1IN1L9uh0q05"
   },
   "outputs": [
    {
     "name": "stdout",
     "output_type": "stream",
     "text": [
      "\n",
      "2018-12-18    3\n",
      "2018-12-19    2\n",
      "2018-12-31    2\n",
      "2018-11-14    2\n",
      "2018-11-24    1\n",
      "2018-10-22    1\n",
      "2018-08-16    1\n",
      "2018-11-30    1\n",
      "2018-11-18    1\n",
      "2018-12-22    1\n",
      "2018-08-19    1\n",
      "2018-11-11    1\n",
      "2018-07-31    1\n",
      "2018-12-12    1\n",
      "2018-10-07    1\n",
      "2018-12-26    1\n",
      "2018-09-01    1\n",
      "2018-11-21    1\n",
      "2018-12-15    1\n",
      "2018-12-27    1\n",
      "2018-09-17    1\n",
      "2018-12-30    1\n",
      "2018-09-18    1\n",
      "2018-10-13    1\n",
      "2018-11-29    1\n",
      "2018-10-03    1\n",
      "2018-12-10    1\n",
      "2018-09-07    1\n",
      "2018-11-16    1\n",
      "Name: churn_date, dtype: int64\n"
     ]
    }
   ],
   "source": [
    "# Imprime una muestra de datos para usuarios\n",
    "df_users.sample(10)\n",
    "print()\n",
    "print(df_users[\"churn_date\"].value_counts())"
   ]
  },
  {
   "cell_type": "markdown",
   "metadata": {
    "id": "dCZoUq4f0q06"
   },
   "source": [
    "[Describe lo que ves y observas en la información general y en la muestra de datos impresa para el precio de datos anterior. ¿Hay algún problema (tipos de datos no adecuados, datos ausentes, etc.) que pudieran necesitar investigación y cambios adicionales? ¿Cómo se puede arreglar?]\n",
    "\n",
    "En este dataframe se muestra la información de 500 usuarios, todas las columnas se encuentran completas excepto churn_date que es la fecha de salida del plan, por lo que los demas usuarios siguen activos. Los datos existentes son identificación de usuario, nombre, apellido, edad, ciudad y estado, fecha de registro, tipo de plan y fecha de salida.\n",
    "34 usuarios se dieron de baja durante el año que representan 6.8% de todos los usuarios registrados."
   ]
  },
  {
   "cell_type": "markdown",
   "metadata": {},
   "source": [
    "<div class=\"alert alert-block alert-warning\">\n",
    "<b>Comentario Revisor</b> <a class=\"tocSkip\"></a>\n",
    "\n",
    "Muy buena conclusión, pero a manera de complementar el análisis qué podríamos decir de los registros que no tienen valores en la variable churn_date? Por ejemplo, podrías usar value_counts() para ver en que fechas exactamente terminaron sus planes las 34 personas. \n",
    "</div>"
   ]
  },
  {
   "cell_type": "markdown",
   "metadata": {
    "id": "BX5FQh_I0q06"
   },
   "source": [
    "### Corregir los datos"
   ]
  },
  {
   "cell_type": "markdown",
   "metadata": {
    "id": "8OdKMwJv0q06"
   },
   "source": [
    "[Corrige los problemas obvios con los datos basándote en las observaciones iniciales.]\n",
    "Se corrigen los el tipo de datos de registro y salida, estos deben convertirse en datos tipo datetime"
   ]
  },
  {
   "cell_type": "code",
   "execution_count": 8,
   "metadata": {
    "id": "yUqX-K0C0q07"
   },
   "outputs": [
    {
     "name": "stdout",
     "output_type": "stream",
     "text": [
      "<class 'pandas.core.frame.DataFrame'>\n",
      "RangeIndex: 500 entries, 0 to 499\n",
      "Data columns (total 8 columns):\n",
      " #   Column      Non-Null Count  Dtype         \n",
      "---  ------      --------------  -----         \n",
      " 0   user_id     500 non-null    int64         \n",
      " 1   first_name  500 non-null    object        \n",
      " 2   last_name   500 non-null    object        \n",
      " 3   age         500 non-null    int64         \n",
      " 4   city        500 non-null    object        \n",
      " 5   reg_date    500 non-null    datetime64[ns]\n",
      " 6   plan        500 non-null    object        \n",
      " 7   churn_date  34 non-null     datetime64[ns]\n",
      "dtypes: datetime64[ns](2), int64(2), object(4)\n",
      "memory usage: 31.4+ KB\n",
      "\n",
      "El número de datos duplicados de df_users es  0\n"
     ]
    }
   ],
   "source": [
    "df_users[\"reg_date\"]= pd.to_datetime(df_users[\"reg_date\"], format='%Y-%m-%d')\n",
    "df_users[\"churn_date\"]= pd.to_datetime(df_users[\"churn_date\"], format='%Y-%m-%d')\n",
    "df_users.info()\n",
    "print()\n",
    "print(\"El número de datos duplicados de df_users es \", df_users.duplicated().sum())"
   ]
  },
  {
   "cell_type": "markdown",
   "metadata": {
    "id": "ycwuARJp0q07"
   },
   "source": [
    "### Enriquecer los datos"
   ]
  },
  {
   "cell_type": "markdown",
   "metadata": {
    "id": "96NIh4CJ0q08"
   },
   "source": [
    "[Agrega factores adicionales a los datos si crees que pudieran ser útiles.]\n",
    "Se crea una columna que extrae los meses de la fecha de registro\n",
    "Se crea una columna que extrae los meses de la fecha de salida"
   ]
  },
  {
   "cell_type": "code",
   "execution_count": 9,
   "metadata": {
    "id": "iq0AaBS90q08"
   },
   "outputs": [
    {
     "name": "stdout",
     "output_type": "stream",
     "text": [
      "<class 'pandas.core.frame.DataFrame'>\n",
      "RangeIndex: 500 entries, 0 to 499\n",
      "Data columns (total 10 columns):\n",
      " #   Column       Non-Null Count  Dtype         \n",
      "---  ------       --------------  -----         \n",
      " 0   user_id      500 non-null    int64         \n",
      " 1   first_name   500 non-null    object        \n",
      " 2   last_name    500 non-null    object        \n",
      " 3   age          500 non-null    int64         \n",
      " 4   city         500 non-null    object        \n",
      " 5   reg_date     500 non-null    datetime64[ns]\n",
      " 6   plan         500 non-null    object        \n",
      " 7   churn_date   34 non-null     datetime64[ns]\n",
      " 8   reg_month    500 non-null    int64         \n",
      " 9   churn_month  500 non-null    float64       \n",
      "dtypes: datetime64[ns](2), float64(1), int64(3), object(4)\n",
      "memory usage: 39.2+ KB\n"
     ]
    },
    {
     "data": {
      "text/html": [
       "<div>\n",
       "<style scoped>\n",
       "    .dataframe tbody tr th:only-of-type {\n",
       "        vertical-align: middle;\n",
       "    }\n",
       "\n",
       "    .dataframe tbody tr th {\n",
       "        vertical-align: top;\n",
       "    }\n",
       "\n",
       "    .dataframe thead th {\n",
       "        text-align: right;\n",
       "    }\n",
       "</style>\n",
       "<table border=\"1\" class=\"dataframe\">\n",
       "  <thead>\n",
       "    <tr style=\"text-align: right;\">\n",
       "      <th></th>\n",
       "      <th>user_id</th>\n",
       "      <th>first_name</th>\n",
       "      <th>last_name</th>\n",
       "      <th>age</th>\n",
       "      <th>city</th>\n",
       "      <th>reg_date</th>\n",
       "      <th>plan</th>\n",
       "      <th>churn_date</th>\n",
       "      <th>reg_month</th>\n",
       "      <th>churn_month</th>\n",
       "    </tr>\n",
       "  </thead>\n",
       "  <tbody>\n",
       "    <tr>\n",
       "      <th>284</th>\n",
       "      <td>1284</td>\n",
       "      <td>Yuri</td>\n",
       "      <td>Odom</td>\n",
       "      <td>51</td>\n",
       "      <td>Dayton-Kettering, OH MSA</td>\n",
       "      <td>2018-09-07</td>\n",
       "      <td>surf</td>\n",
       "      <td>NaT</td>\n",
       "      <td>9</td>\n",
       "      <td>0.0</td>\n",
       "    </tr>\n",
       "    <tr>\n",
       "      <th>413</th>\n",
       "      <td>1413</td>\n",
       "      <td>Andre</td>\n",
       "      <td>Hensley</td>\n",
       "      <td>38</td>\n",
       "      <td>Bakersfield, CA MSA</td>\n",
       "      <td>2018-07-12</td>\n",
       "      <td>surf</td>\n",
       "      <td>NaT</td>\n",
       "      <td>7</td>\n",
       "      <td>0.0</td>\n",
       "    </tr>\n",
       "    <tr>\n",
       "      <th>35</th>\n",
       "      <td>1035</td>\n",
       "      <td>Jeff</td>\n",
       "      <td>Cummings</td>\n",
       "      <td>67</td>\n",
       "      <td>Charlotte-Concord-Gastonia, NC-SC MSA</td>\n",
       "      <td>2018-12-08</td>\n",
       "      <td>surf</td>\n",
       "      <td>NaT</td>\n",
       "      <td>12</td>\n",
       "      <td>0.0</td>\n",
       "    </tr>\n",
       "    <tr>\n",
       "      <th>6</th>\n",
       "      <td>1006</td>\n",
       "      <td>Jesusa</td>\n",
       "      <td>Bradford</td>\n",
       "      <td>73</td>\n",
       "      <td>San Francisco-Oakland-Berkeley, CA MSA</td>\n",
       "      <td>2018-11-27</td>\n",
       "      <td>ultimate</td>\n",
       "      <td>2018-12-18</td>\n",
       "      <td>11</td>\n",
       "      <td>12.0</td>\n",
       "    </tr>\n",
       "    <tr>\n",
       "      <th>425</th>\n",
       "      <td>1425</td>\n",
       "      <td>Latrisha</td>\n",
       "      <td>Larsen</td>\n",
       "      <td>19</td>\n",
       "      <td>Las Vegas-Henderson-Paradise, NV MSA</td>\n",
       "      <td>2018-09-20</td>\n",
       "      <td>surf</td>\n",
       "      <td>NaT</td>\n",
       "      <td>9</td>\n",
       "      <td>0.0</td>\n",
       "    </tr>\n",
       "    <tr>\n",
       "      <th>1</th>\n",
       "      <td>1001</td>\n",
       "      <td>Mickey</td>\n",
       "      <td>Wilkerson</td>\n",
       "      <td>28</td>\n",
       "      <td>Seattle-Tacoma-Bellevue, WA MSA</td>\n",
       "      <td>2018-08-13</td>\n",
       "      <td>surf</td>\n",
       "      <td>NaT</td>\n",
       "      <td>8</td>\n",
       "      <td>0.0</td>\n",
       "    </tr>\n",
       "    <tr>\n",
       "      <th>275</th>\n",
       "      <td>1275</td>\n",
       "      <td>Elvie</td>\n",
       "      <td>Velazquez</td>\n",
       "      <td>33</td>\n",
       "      <td>New York-Newark-Jersey City, NY-NJ-PA MSA</td>\n",
       "      <td>2018-11-29</td>\n",
       "      <td>ultimate</td>\n",
       "      <td>NaT</td>\n",
       "      <td>11</td>\n",
       "      <td>0.0</td>\n",
       "    </tr>\n",
       "    <tr>\n",
       "      <th>385</th>\n",
       "      <td>1385</td>\n",
       "      <td>Nohemi</td>\n",
       "      <td>Erickson</td>\n",
       "      <td>52</td>\n",
       "      <td>New York-Newark-Jersey City, NY-NJ-PA MSA</td>\n",
       "      <td>2018-01-19</td>\n",
       "      <td>surf</td>\n",
       "      <td>NaT</td>\n",
       "      <td>1</td>\n",
       "      <td>0.0</td>\n",
       "    </tr>\n",
       "    <tr>\n",
       "      <th>133</th>\n",
       "      <td>1133</td>\n",
       "      <td>Larry</td>\n",
       "      <td>Barr</td>\n",
       "      <td>50</td>\n",
       "      <td>Cincinnati, OH-KY-IN MSA</td>\n",
       "      <td>2018-07-21</td>\n",
       "      <td>ultimate</td>\n",
       "      <td>NaT</td>\n",
       "      <td>7</td>\n",
       "      <td>0.0</td>\n",
       "    </tr>\n",
       "    <tr>\n",
       "      <th>193</th>\n",
       "      <td>1193</td>\n",
       "      <td>Lacresha</td>\n",
       "      <td>Olsen</td>\n",
       "      <td>18</td>\n",
       "      <td>Houston-The Woodlands-Sugar Land, TX MSA</td>\n",
       "      <td>2018-07-07</td>\n",
       "      <td>surf</td>\n",
       "      <td>NaT</td>\n",
       "      <td>7</td>\n",
       "      <td>0.0</td>\n",
       "    </tr>\n",
       "  </tbody>\n",
       "</table>\n",
       "</div>"
      ],
      "text/plain": [
       "     user_id first_name  last_name  age  \\\n",
       "284     1284       Yuri       Odom   51   \n",
       "413     1413      Andre    Hensley   38   \n",
       "35      1035       Jeff   Cummings   67   \n",
       "6       1006     Jesusa   Bradford   73   \n",
       "425     1425   Latrisha     Larsen   19   \n",
       "1       1001     Mickey  Wilkerson   28   \n",
       "275     1275      Elvie  Velazquez   33   \n",
       "385     1385     Nohemi   Erickson   52   \n",
       "133     1133      Larry       Barr   50   \n",
       "193     1193   Lacresha      Olsen   18   \n",
       "\n",
       "                                          city   reg_date      plan  \\\n",
       "284                   Dayton-Kettering, OH MSA 2018-09-07      surf   \n",
       "413                        Bakersfield, CA MSA 2018-07-12      surf   \n",
       "35       Charlotte-Concord-Gastonia, NC-SC MSA 2018-12-08      surf   \n",
       "6       San Francisco-Oakland-Berkeley, CA MSA 2018-11-27  ultimate   \n",
       "425       Las Vegas-Henderson-Paradise, NV MSA 2018-09-20      surf   \n",
       "1              Seattle-Tacoma-Bellevue, WA MSA 2018-08-13      surf   \n",
       "275  New York-Newark-Jersey City, NY-NJ-PA MSA 2018-11-29  ultimate   \n",
       "385  New York-Newark-Jersey City, NY-NJ-PA MSA 2018-01-19      surf   \n",
       "133                   Cincinnati, OH-KY-IN MSA 2018-07-21  ultimate   \n",
       "193   Houston-The Woodlands-Sugar Land, TX MSA 2018-07-07      surf   \n",
       "\n",
       "    churn_date  reg_month  churn_month  \n",
       "284        NaT          9          0.0  \n",
       "413        NaT          7          0.0  \n",
       "35         NaT         12          0.0  \n",
       "6   2018-12-18         11         12.0  \n",
       "425        NaT          9          0.0  \n",
       "1          NaT          8          0.0  \n",
       "275        NaT         11          0.0  \n",
       "385        NaT          1          0.0  \n",
       "133        NaT          7          0.0  \n",
       "193        NaT          7          0.0  "
      ]
     },
     "execution_count": 9,
     "metadata": {},
     "output_type": "execute_result"
    }
   ],
   "source": [
    "#se crea una columna que extrae los meses de la fecha de registro\n",
    "df_users[\"reg_month\"] = df_users[\"reg_date\"].dt.month\n",
    "\n",
    "#se crea una columna que extrae los meses de la fecha de salida\n",
    "df_users[\"churn_month\"] = df_users[\"churn_date\"].dt.month\n",
    "df_users[\"churn_month\"] = df_users[\"churn_month\"].fillna(0)\n",
    "\n",
    "df_users.info()\n",
    "df_users.sample(10)"
   ]
  },
  {
   "cell_type": "markdown",
   "metadata": {
    "id": "o7MeKCid0q08"
   },
   "source": [
    "## Llamadas"
   ]
  },
  {
   "cell_type": "code",
   "execution_count": 10,
   "metadata": {
    "id": "6dDlnoDm0q08"
   },
   "outputs": [
    {
     "name": "stdout",
     "output_type": "stream",
     "text": [
      "<class 'pandas.core.frame.DataFrame'>\n",
      "RangeIndex: 137735 entries, 0 to 137734\n",
      "Data columns (total 4 columns):\n",
      " #   Column     Non-Null Count   Dtype  \n",
      "---  ------     --------------   -----  \n",
      " 0   id         137735 non-null  object \n",
      " 1   user_id    137735 non-null  int64  \n",
      " 2   call_date  137735 non-null  object \n",
      " 3   duration   137735 non-null  float64\n",
      "dtypes: float64(1), int64(1), object(2)\n",
      "memory usage: 4.2+ MB\n"
     ]
    }
   ],
   "source": [
    "# Imprime la información general/resumida sobre el DataFrame de las llamadas\n",
    "df_calls.info()"
   ]
  },
  {
   "cell_type": "code",
   "execution_count": 11,
   "metadata": {
    "id": "kuh1vlNB0q09"
   },
   "outputs": [
    {
     "data": {
      "text/html": [
       "<div>\n",
       "<style scoped>\n",
       "    .dataframe tbody tr th:only-of-type {\n",
       "        vertical-align: middle;\n",
       "    }\n",
       "\n",
       "    .dataframe tbody tr th {\n",
       "        vertical-align: top;\n",
       "    }\n",
       "\n",
       "    .dataframe thead th {\n",
       "        text-align: right;\n",
       "    }\n",
       "</style>\n",
       "<table border=\"1\" class=\"dataframe\">\n",
       "  <thead>\n",
       "    <tr style=\"text-align: right;\">\n",
       "      <th></th>\n",
       "      <th>id</th>\n",
       "      <th>user_id</th>\n",
       "      <th>call_date</th>\n",
       "      <th>duration</th>\n",
       "    </tr>\n",
       "  </thead>\n",
       "  <tbody>\n",
       "    <tr>\n",
       "      <th>127270</th>\n",
       "      <td>1456_23</td>\n",
       "      <td>1456</td>\n",
       "      <td>2018-10-21</td>\n",
       "      <td>0.00</td>\n",
       "    </tr>\n",
       "    <tr>\n",
       "      <th>68163</th>\n",
       "      <td>1246_182</td>\n",
       "      <td>1246</td>\n",
       "      <td>2018-09-04</td>\n",
       "      <td>2.87</td>\n",
       "    </tr>\n",
       "    <tr>\n",
       "      <th>100225</th>\n",
       "      <td>1359_88</td>\n",
       "      <td>1359</td>\n",
       "      <td>2018-03-16</td>\n",
       "      <td>6.61</td>\n",
       "    </tr>\n",
       "    <tr>\n",
       "      <th>35509</th>\n",
       "      <td>1132_1034</td>\n",
       "      <td>1132</td>\n",
       "      <td>2018-08-08</td>\n",
       "      <td>8.09</td>\n",
       "    </tr>\n",
       "    <tr>\n",
       "      <th>98298</th>\n",
       "      <td>1353_5</td>\n",
       "      <td>1353</td>\n",
       "      <td>2018-11-24</td>\n",
       "      <td>7.14</td>\n",
       "    </tr>\n",
       "    <tr>\n",
       "      <th>54952</th>\n",
       "      <td>1196_850</td>\n",
       "      <td>1196</td>\n",
       "      <td>2018-02-18</td>\n",
       "      <td>3.33</td>\n",
       "    </tr>\n",
       "    <tr>\n",
       "      <th>12215</th>\n",
       "      <td>1053_483</td>\n",
       "      <td>1053</td>\n",
       "      <td>2018-11-12</td>\n",
       "      <td>1.20</td>\n",
       "    </tr>\n",
       "    <tr>\n",
       "      <th>104185</th>\n",
       "      <td>1366_394</td>\n",
       "      <td>1366</td>\n",
       "      <td>2018-09-15</td>\n",
       "      <td>0.00</td>\n",
       "    </tr>\n",
       "    <tr>\n",
       "      <th>7569</th>\n",
       "      <td>1036_161</td>\n",
       "      <td>1036</td>\n",
       "      <td>2018-09-09</td>\n",
       "      <td>0.51</td>\n",
       "    </tr>\n",
       "    <tr>\n",
       "      <th>95602</th>\n",
       "      <td>1338_431</td>\n",
       "      <td>1338</td>\n",
       "      <td>2018-12-09</td>\n",
       "      <td>15.43</td>\n",
       "    </tr>\n",
       "  </tbody>\n",
       "</table>\n",
       "</div>"
      ],
      "text/plain": [
       "               id  user_id   call_date  duration\n",
       "127270    1456_23     1456  2018-10-21      0.00\n",
       "68163    1246_182     1246  2018-09-04      2.87\n",
       "100225    1359_88     1359  2018-03-16      6.61\n",
       "35509   1132_1034     1132  2018-08-08      8.09\n",
       "98298      1353_5     1353  2018-11-24      7.14\n",
       "54952    1196_850     1196  2018-02-18      3.33\n",
       "12215    1053_483     1053  2018-11-12      1.20\n",
       "104185   1366_394     1366  2018-09-15      0.00\n",
       "7569     1036_161     1036  2018-09-09      0.51\n",
       "95602    1338_431     1338  2018-12-09     15.43"
      ]
     },
     "execution_count": 11,
     "metadata": {},
     "output_type": "execute_result"
    }
   ],
   "source": [
    "# Imprime una muestra de datos para las llamadas\n",
    "df_calls.sample(10)"
   ]
  },
  {
   "cell_type": "markdown",
   "metadata": {
    "id": "DOAxYJSx0q09"
   },
   "source": [
    "[Describe lo que ves y observas en la información general y en la muestra de datos impresa para el precio de datos anterior. ¿Hay algún problema (tipos de datos no adecuados, datos ausentes, etc.) que pudieran necesitar investigación y cambios adicionales? ¿Cómo se puede arreglar?]\n",
    "\n",
    "Este data frame describe cada llamada realizada por los usuarios, contiene la user_id, la fecha de llamada y la duración de llamada"
   ]
  },
  {
   "cell_type": "markdown",
   "metadata": {
    "id": "S7hzxmbX0q0-"
   },
   "source": [
    "### Corregir los datos"
   ]
  },
  {
   "cell_type": "markdown",
   "metadata": {
    "id": "YxWyAjD20q0-"
   },
   "source": [
    "[Corrige los problemas obvios con los datos basándote en las observaciones iniciales.]\n",
    "\n",
    "Se corrige el tipo de dato de la fecha de llamada a tipo datetime"
   ]
  },
  {
   "cell_type": "code",
   "execution_count": 12,
   "metadata": {
    "id": "S2r8xA4f0q0-"
   },
   "outputs": [
    {
     "name": "stdout",
     "output_type": "stream",
     "text": [
      "<class 'pandas.core.frame.DataFrame'>\n",
      "RangeIndex: 137735 entries, 0 to 137734\n",
      "Data columns (total 4 columns):\n",
      " #   Column     Non-Null Count   Dtype         \n",
      "---  ------     --------------   -----         \n",
      " 0   id         137735 non-null  object        \n",
      " 1   user_id    137735 non-null  int64         \n",
      " 2   call_date  137735 non-null  datetime64[ns]\n",
      " 3   duration   137735 non-null  float64       \n",
      "dtypes: datetime64[ns](1), float64(1), int64(1), object(1)\n",
      "memory usage: 4.2+ MB\n",
      "\n",
      "El número de datos duplicados de df_calls es  0\n"
     ]
    }
   ],
   "source": [
    "df_calls[\"call_date\"] = pd.to_datetime(df_calls[\"call_date\"], format='%Y-%m-%d')\n",
    "\n",
    "df_calls.info()\n",
    "print()\n",
    "print(\"El número de datos duplicados de df_calls es \", df_calls.duplicated().sum())"
   ]
  },
  {
   "cell_type": "markdown",
   "metadata": {
    "id": "KrMgTrlG0q0_"
   },
   "source": [
    "### Enriquecer los datos"
   ]
  },
  {
   "cell_type": "markdown",
   "metadata": {
    "id": "a9MbmEvE0q0_"
   },
   "source": [
    "[Agrega factores adicionales a los datos si crees que pudieran ser útiles.]\n",
    "\n",
    "Se crea una columna con el mes de la llamada"
   ]
  },
  {
   "cell_type": "code",
   "execution_count": 13,
   "metadata": {
    "id": "iZ1avpA_0q0_"
   },
   "outputs": [
    {
     "name": "stdout",
     "output_type": "stream",
     "text": [
      "<class 'pandas.core.frame.DataFrame'>\n",
      "RangeIndex: 137735 entries, 0 to 137734\n",
      "Data columns (total 6 columns):\n",
      " #   Column         Non-Null Count   Dtype         \n",
      "---  ------         --------------   -----         \n",
      " 0   id             137735 non-null  object        \n",
      " 1   user_id        137735 non-null  int64         \n",
      " 2   call_date      137735 non-null  datetime64[ns]\n",
      " 3   duration       137735 non-null  float64       \n",
      " 4   month          137735 non-null  int64         \n",
      " 5   duration_mins  137735 non-null  float64       \n",
      "dtypes: datetime64[ns](1), float64(2), int64(2), object(1)\n",
      "memory usage: 6.3+ MB\n"
     ]
    },
    {
     "data": {
      "text/html": [
       "<div>\n",
       "<style scoped>\n",
       "    .dataframe tbody tr th:only-of-type {\n",
       "        vertical-align: middle;\n",
       "    }\n",
       "\n",
       "    .dataframe tbody tr th {\n",
       "        vertical-align: top;\n",
       "    }\n",
       "\n",
       "    .dataframe thead th {\n",
       "        text-align: right;\n",
       "    }\n",
       "</style>\n",
       "<table border=\"1\" class=\"dataframe\">\n",
       "  <thead>\n",
       "    <tr style=\"text-align: right;\">\n",
       "      <th></th>\n",
       "      <th>id</th>\n",
       "      <th>user_id</th>\n",
       "      <th>call_date</th>\n",
       "      <th>duration</th>\n",
       "      <th>month</th>\n",
       "      <th>duration_mins</th>\n",
       "    </tr>\n",
       "  </thead>\n",
       "  <tbody>\n",
       "    <tr>\n",
       "      <th>136681</th>\n",
       "      <td>1495_120</td>\n",
       "      <td>1495</td>\n",
       "      <td>2018-09-30</td>\n",
       "      <td>3.64</td>\n",
       "      <td>9</td>\n",
       "      <td>4.0</td>\n",
       "    </tr>\n",
       "    <tr>\n",
       "      <th>47621</th>\n",
       "      <td>1172_212</td>\n",
       "      <td>1172</td>\n",
       "      <td>2018-08-24</td>\n",
       "      <td>1.10</td>\n",
       "      <td>8</td>\n",
       "      <td>2.0</td>\n",
       "    </tr>\n",
       "    <tr>\n",
       "      <th>129739</th>\n",
       "      <td>1466_191</td>\n",
       "      <td>1466</td>\n",
       "      <td>2018-07-30</td>\n",
       "      <td>6.90</td>\n",
       "      <td>7</td>\n",
       "      <td>7.0</td>\n",
       "    </tr>\n",
       "    <tr>\n",
       "      <th>109370</th>\n",
       "      <td>1385_440</td>\n",
       "      <td>1385</td>\n",
       "      <td>2018-10-22</td>\n",
       "      <td>5.19</td>\n",
       "      <td>10</td>\n",
       "      <td>6.0</td>\n",
       "    </tr>\n",
       "    <tr>\n",
       "      <th>31673</th>\n",
       "      <td>1119_647</td>\n",
       "      <td>1119</td>\n",
       "      <td>2018-12-15</td>\n",
       "      <td>3.82</td>\n",
       "      <td>12</td>\n",
       "      <td>4.0</td>\n",
       "    </tr>\n",
       "    <tr>\n",
       "      <th>63814</th>\n",
       "      <td>1232_37</td>\n",
       "      <td>1232</td>\n",
       "      <td>2018-09-24</td>\n",
       "      <td>4.46</td>\n",
       "      <td>9</td>\n",
       "      <td>5.0</td>\n",
       "    </tr>\n",
       "    <tr>\n",
       "      <th>3715</th>\n",
       "      <td>1014_443</td>\n",
       "      <td>1014</td>\n",
       "      <td>2018-12-15</td>\n",
       "      <td>0.00</td>\n",
       "      <td>12</td>\n",
       "      <td>0.0</td>\n",
       "    </tr>\n",
       "    <tr>\n",
       "      <th>53139</th>\n",
       "      <td>1191_287</td>\n",
       "      <td>1191</td>\n",
       "      <td>2018-05-19</td>\n",
       "      <td>2.16</td>\n",
       "      <td>5</td>\n",
       "      <td>3.0</td>\n",
       "    </tr>\n",
       "    <tr>\n",
       "      <th>15783</th>\n",
       "      <td>1062_23</td>\n",
       "      <td>1062</td>\n",
       "      <td>2018-09-01</td>\n",
       "      <td>0.00</td>\n",
       "      <td>9</td>\n",
       "      <td>0.0</td>\n",
       "    </tr>\n",
       "    <tr>\n",
       "      <th>102718</th>\n",
       "      <td>1364_319</td>\n",
       "      <td>1364</td>\n",
       "      <td>2018-08-28</td>\n",
       "      <td>3.95</td>\n",
       "      <td>8</td>\n",
       "      <td>4.0</td>\n",
       "    </tr>\n",
       "    <tr>\n",
       "      <th>11904</th>\n",
       "      <td>1052_123</td>\n",
       "      <td>1052</td>\n",
       "      <td>2018-12-04</td>\n",
       "      <td>8.32</td>\n",
       "      <td>12</td>\n",
       "      <td>9.0</td>\n",
       "    </tr>\n",
       "    <tr>\n",
       "      <th>6494</th>\n",
       "      <td>1031_101</td>\n",
       "      <td>1031</td>\n",
       "      <td>2018-12-09</td>\n",
       "      <td>6.62</td>\n",
       "      <td>12</td>\n",
       "      <td>7.0</td>\n",
       "    </tr>\n",
       "    <tr>\n",
       "      <th>89079</th>\n",
       "      <td>1324_1145</td>\n",
       "      <td>1324</td>\n",
       "      <td>2018-05-27</td>\n",
       "      <td>5.12</td>\n",
       "      <td>5</td>\n",
       "      <td>6.0</td>\n",
       "    </tr>\n",
       "    <tr>\n",
       "      <th>29913</th>\n",
       "      <td>1113_116</td>\n",
       "      <td>1113</td>\n",
       "      <td>2018-10-02</td>\n",
       "      <td>0.00</td>\n",
       "      <td>10</td>\n",
       "      <td>0.0</td>\n",
       "    </tr>\n",
       "    <tr>\n",
       "      <th>1860</th>\n",
       "      <td>1009_282</td>\n",
       "      <td>1009</td>\n",
       "      <td>2018-07-25</td>\n",
       "      <td>1.05</td>\n",
       "      <td>7</td>\n",
       "      <td>2.0</td>\n",
       "    </tr>\n",
       "    <tr>\n",
       "      <th>85351</th>\n",
       "      <td>1313_331</td>\n",
       "      <td>1313</td>\n",
       "      <td>2018-12-24</td>\n",
       "      <td>5.46</td>\n",
       "      <td>12</td>\n",
       "      <td>6.0</td>\n",
       "    </tr>\n",
       "    <tr>\n",
       "      <th>70577</th>\n",
       "      <td>1251_588</td>\n",
       "      <td>1251</td>\n",
       "      <td>2018-11-14</td>\n",
       "      <td>7.43</td>\n",
       "      <td>11</td>\n",
       "      <td>8.0</td>\n",
       "    </tr>\n",
       "    <tr>\n",
       "      <th>132089</th>\n",
       "      <td>1476_8</td>\n",
       "      <td>1476</td>\n",
       "      <td>2018-11-24</td>\n",
       "      <td>1.84</td>\n",
       "      <td>11</td>\n",
       "      <td>2.0</td>\n",
       "    </tr>\n",
       "    <tr>\n",
       "      <th>25443</th>\n",
       "      <td>1098_117</td>\n",
       "      <td>1098</td>\n",
       "      <td>2018-09-13</td>\n",
       "      <td>0.00</td>\n",
       "      <td>9</td>\n",
       "      <td>0.0</td>\n",
       "    </tr>\n",
       "    <tr>\n",
       "      <th>83717</th>\n",
       "      <td>1305_148</td>\n",
       "      <td>1305</td>\n",
       "      <td>2018-11-05</td>\n",
       "      <td>6.81</td>\n",
       "      <td>11</td>\n",
       "      <td>7.0</td>\n",
       "    </tr>\n",
       "  </tbody>\n",
       "</table>\n",
       "</div>"
      ],
      "text/plain": [
       "               id  user_id  call_date  duration  month  duration_mins\n",
       "136681   1495_120     1495 2018-09-30      3.64      9            4.0\n",
       "47621    1172_212     1172 2018-08-24      1.10      8            2.0\n",
       "129739   1466_191     1466 2018-07-30      6.90      7            7.0\n",
       "109370   1385_440     1385 2018-10-22      5.19     10            6.0\n",
       "31673    1119_647     1119 2018-12-15      3.82     12            4.0\n",
       "63814     1232_37     1232 2018-09-24      4.46      9            5.0\n",
       "3715     1014_443     1014 2018-12-15      0.00     12            0.0\n",
       "53139    1191_287     1191 2018-05-19      2.16      5            3.0\n",
       "15783     1062_23     1062 2018-09-01      0.00      9            0.0\n",
       "102718   1364_319     1364 2018-08-28      3.95      8            4.0\n",
       "11904    1052_123     1052 2018-12-04      8.32     12            9.0\n",
       "6494     1031_101     1031 2018-12-09      6.62     12            7.0\n",
       "89079   1324_1145     1324 2018-05-27      5.12      5            6.0\n",
       "29913    1113_116     1113 2018-10-02      0.00     10            0.0\n",
       "1860     1009_282     1009 2018-07-25      1.05      7            2.0\n",
       "85351    1313_331     1313 2018-12-24      5.46     12            6.0\n",
       "70577    1251_588     1251 2018-11-14      7.43     11            8.0\n",
       "132089     1476_8     1476 2018-11-24      1.84     11            2.0\n",
       "25443    1098_117     1098 2018-09-13      0.00      9            0.0\n",
       "83717    1305_148     1305 2018-11-05      6.81     11            7.0"
      ]
     },
     "execution_count": 13,
     "metadata": {},
     "output_type": "execute_result"
    }
   ],
   "source": [
    "df_calls[\"month\"] = df_calls[\"call_date\"].dt.month\n",
    "df_calls[\"duration_mins\"] = df_calls[\"duration\"].apply(np.ceil)\n",
    "\n",
    "df_calls.info()\n",
    "df_calls.sample(20)"
   ]
  },
  {
   "cell_type": "markdown",
   "metadata": {},
   "source": [
    "<div class=\"alert alert-block alert-warning\">\n",
    "<b>Comentario Revisor</b> <a class=\"tocSkip\"></a>\n",
    "\n",
    "Qué podríamos decir hasta el momento de las llamadas que tienen una duración de 0?\n",
    "</div>"
   ]
  },
  {
   "cell_type": "markdown",
   "metadata": {},
   "source": [
    "Las llamadas con duración cero serían llamadas no atendidas"
   ]
  },
  {
   "cell_type": "markdown",
   "metadata": {},
   "source": [
    "<div class=\"alert alert-block alert-danger\">\n",
    "<b>Comentario revisor</b> <a class=\"tocSkip\"></a>\n",
    "\n",
    "\n",
    "Recuerda que es necesario redondear la duración de las llamadas  hacia arriba lo valores, dado que para este ejercicio debemos hacer el redondeo superior dado que se cobra el costo extra en cuanto se pasa de los límites.\n",
    "</div>"
   ]
  },
  {
   "cell_type": "markdown",
   "metadata": {
    "id": "mOUZSi180q0_"
   },
   "source": [
    "## Mensajes"
   ]
  },
  {
   "cell_type": "code",
   "execution_count": 14,
   "metadata": {
    "id": "R-bYJpdV0q1A"
   },
   "outputs": [
    {
     "name": "stdout",
     "output_type": "stream",
     "text": [
      "<class 'pandas.core.frame.DataFrame'>\n",
      "RangeIndex: 76051 entries, 0 to 76050\n",
      "Data columns (total 3 columns):\n",
      " #   Column        Non-Null Count  Dtype \n",
      "---  ------        --------------  ----- \n",
      " 0   id            76051 non-null  object\n",
      " 1   user_id       76051 non-null  int64 \n",
      " 2   message_date  76051 non-null  object\n",
      "dtypes: int64(1), object(2)\n",
      "memory usage: 1.7+ MB\n"
     ]
    }
   ],
   "source": [
    "# Imprime la información general/resumida sobre el DataFrame de los mensajes\n",
    "df_messages.info()\n"
   ]
  },
  {
   "cell_type": "code",
   "execution_count": 15,
   "metadata": {
    "id": "mCEl2iGE0q1A"
   },
   "outputs": [
    {
     "data": {
      "text/html": [
       "<div>\n",
       "<style scoped>\n",
       "    .dataframe tbody tr th:only-of-type {\n",
       "        vertical-align: middle;\n",
       "    }\n",
       "\n",
       "    .dataframe tbody tr th {\n",
       "        vertical-align: top;\n",
       "    }\n",
       "\n",
       "    .dataframe thead th {\n",
       "        text-align: right;\n",
       "    }\n",
       "</style>\n",
       "<table border=\"1\" class=\"dataframe\">\n",
       "  <thead>\n",
       "    <tr style=\"text-align: right;\">\n",
       "      <th></th>\n",
       "      <th>id</th>\n",
       "      <th>user_id</th>\n",
       "      <th>message_date</th>\n",
       "    </tr>\n",
       "  </thead>\n",
       "  <tbody>\n",
       "    <tr>\n",
       "      <th>47531</th>\n",
       "      <td>1324_246</td>\n",
       "      <td>1324</td>\n",
       "      <td>2018-10-18</td>\n",
       "    </tr>\n",
       "    <tr>\n",
       "      <th>66187</th>\n",
       "      <td>1433_127</td>\n",
       "      <td>1433</td>\n",
       "      <td>2018-11-07</td>\n",
       "    </tr>\n",
       "    <tr>\n",
       "      <th>18762</th>\n",
       "      <td>1121_89</td>\n",
       "      <td>1121</td>\n",
       "      <td>2018-12-29</td>\n",
       "    </tr>\n",
       "    <tr>\n",
       "      <th>6497</th>\n",
       "      <td>1056_7</td>\n",
       "      <td>1056</td>\n",
       "      <td>2018-10-26</td>\n",
       "    </tr>\n",
       "    <tr>\n",
       "      <th>38748</th>\n",
       "      <td>1254_344</td>\n",
       "      <td>1254</td>\n",
       "      <td>2018-08-23</td>\n",
       "    </tr>\n",
       "    <tr>\n",
       "      <th>75196</th>\n",
       "      <td>1489_271</td>\n",
       "      <td>1489</td>\n",
       "      <td>2018-09-27</td>\n",
       "    </tr>\n",
       "    <tr>\n",
       "      <th>48779</th>\n",
       "      <td>1326_316</td>\n",
       "      <td>1326</td>\n",
       "      <td>2018-08-26</td>\n",
       "    </tr>\n",
       "    <tr>\n",
       "      <th>60913</th>\n",
       "      <td>1383_182</td>\n",
       "      <td>1383</td>\n",
       "      <td>2018-11-06</td>\n",
       "    </tr>\n",
       "    <tr>\n",
       "      <th>48147</th>\n",
       "      <td>1324_878</td>\n",
       "      <td>1324</td>\n",
       "      <td>2018-12-16</td>\n",
       "    </tr>\n",
       "    <tr>\n",
       "      <th>45589</th>\n",
       "      <td>1312_73</td>\n",
       "      <td>1312</td>\n",
       "      <td>2018-03-15</td>\n",
       "    </tr>\n",
       "  </tbody>\n",
       "</table>\n",
       "</div>"
      ],
      "text/plain": [
       "             id  user_id message_date\n",
       "47531  1324_246     1324   2018-10-18\n",
       "66187  1433_127     1433   2018-11-07\n",
       "18762   1121_89     1121   2018-12-29\n",
       "6497     1056_7     1056   2018-10-26\n",
       "38748  1254_344     1254   2018-08-23\n",
       "75196  1489_271     1489   2018-09-27\n",
       "48779  1326_316     1326   2018-08-26\n",
       "60913  1383_182     1383   2018-11-06\n",
       "48147  1324_878     1324   2018-12-16\n",
       "45589   1312_73     1312   2018-03-15"
      ]
     },
     "execution_count": 15,
     "metadata": {},
     "output_type": "execute_result"
    }
   ],
   "source": [
    "# Imprime una muestra de datos para los mensajes\n",
    "df_messages.sample(10)"
   ]
  },
  {
   "cell_type": "markdown",
   "metadata": {
    "id": "04xDj7KH0q1A"
   },
   "source": [
    "[Describe lo que ves y observas en la información general y en la muestra de datos impresa para el precio de datos anterior. ¿Hay algún problema (tipos de datos no adecuados, datos ausentes, etc.) que pudieran necesitar investigación y cambios adicionales? ¿Cómo se puede arreglar?]\n",
    "\n",
    "En este data frame, se describe la información de los mensjaes enviados, contiene la user_id y la fecha del mensaje "
   ]
  },
  {
   "cell_type": "markdown",
   "metadata": {
    "id": "Sprfak900q1B"
   },
   "source": [
    "### Corregir los datos"
   ]
  },
  {
   "cell_type": "markdown",
   "metadata": {
    "id": "eGw7d9j10q1B"
   },
   "source": [
    "[Corrige los problemas obvios con los datos basándote en las observaciones iniciales.]\n",
    "\n",
    "Se transforma message_date de object a datetime"
   ]
  },
  {
   "cell_type": "code",
   "execution_count": 16,
   "metadata": {
    "id": "vsllvkoa0q1B"
   },
   "outputs": [
    {
     "name": "stdout",
     "output_type": "stream",
     "text": [
      "<class 'pandas.core.frame.DataFrame'>\n",
      "RangeIndex: 76051 entries, 0 to 76050\n",
      "Data columns (total 3 columns):\n",
      " #   Column        Non-Null Count  Dtype         \n",
      "---  ------        --------------  -----         \n",
      " 0   id            76051 non-null  object        \n",
      " 1   user_id       76051 non-null  int64         \n",
      " 2   message_date  76051 non-null  datetime64[ns]\n",
      "dtypes: datetime64[ns](1), int64(1), object(1)\n",
      "memory usage: 1.7+ MB\n",
      "\n",
      "El número de datos duplicados de df_messages es  0\n"
     ]
    }
   ],
   "source": [
    "df_messages[\"message_date\"]= pd.to_datetime(df_messages[\"message_date\"], format='%Y-%m-%d')\n",
    "df_messages.info()\n",
    "print()\n",
    "print(\"El número de datos duplicados de df_messages es \", df_messages.duplicated().sum())"
   ]
  },
  {
   "cell_type": "markdown",
   "metadata": {
    "id": "HvLid7iD0q1B"
   },
   "source": [
    "### Enriquecer los datos"
   ]
  },
  {
   "cell_type": "markdown",
   "metadata": {
    "id": "8nhPFKIe0q1C"
   },
   "source": [
    "[Agrega factores adicionales a los datos si crees que pudieran ser útiles.]\n",
    "\n",
    "Se crea la columna month que contiene el mes de envío del mensaje"
   ]
  },
  {
   "cell_type": "code",
   "execution_count": 17,
   "metadata": {
    "id": "zYEXZac10q1C"
   },
   "outputs": [
    {
     "name": "stdout",
     "output_type": "stream",
     "text": [
      "<class 'pandas.core.frame.DataFrame'>\n",
      "RangeIndex: 76051 entries, 0 to 76050\n",
      "Data columns (total 4 columns):\n",
      " #   Column        Non-Null Count  Dtype         \n",
      "---  ------        --------------  -----         \n",
      " 0   id            76051 non-null  object        \n",
      " 1   user_id       76051 non-null  int64         \n",
      " 2   message_date  76051 non-null  datetime64[ns]\n",
      " 3   month         76051 non-null  int64         \n",
      "dtypes: datetime64[ns](1), int64(2), object(1)\n",
      "memory usage: 2.3+ MB\n"
     ]
    }
   ],
   "source": [
    "df_messages[\"month\"]=df_messages[\"message_date\"].dt.month\n",
    "df_messages.info()"
   ]
  },
  {
   "cell_type": "markdown",
   "metadata": {
    "id": "bStkaxn40q1C"
   },
   "source": [
    "## Internet"
   ]
  },
  {
   "cell_type": "code",
   "execution_count": 18,
   "metadata": {
    "id": "e-Uz5qyn0q1C"
   },
   "outputs": [
    {
     "name": "stdout",
     "output_type": "stream",
     "text": [
      "<class 'pandas.core.frame.DataFrame'>\n",
      "RangeIndex: 104825 entries, 0 to 104824\n",
      "Data columns (total 4 columns):\n",
      " #   Column        Non-Null Count   Dtype  \n",
      "---  ------        --------------   -----  \n",
      " 0   id            104825 non-null  object \n",
      " 1   user_id       104825 non-null  int64  \n",
      " 2   session_date  104825 non-null  object \n",
      " 3   mb_used       104825 non-null  float64\n",
      "dtypes: float64(1), int64(1), object(2)\n",
      "memory usage: 3.2+ MB\n"
     ]
    }
   ],
   "source": [
    "# Imprime la información general/resumida sobre el DataFrame de internet\n",
    "df_internet.info()"
   ]
  },
  {
   "cell_type": "code",
   "execution_count": 19,
   "metadata": {
    "id": "9r3x_XLw0q1C"
   },
   "outputs": [
    {
     "data": {
      "text/html": [
       "<div>\n",
       "<style scoped>\n",
       "    .dataframe tbody tr th:only-of-type {\n",
       "        vertical-align: middle;\n",
       "    }\n",
       "\n",
       "    .dataframe tbody tr th {\n",
       "        vertical-align: top;\n",
       "    }\n",
       "\n",
       "    .dataframe thead th {\n",
       "        text-align: right;\n",
       "    }\n",
       "</style>\n",
       "<table border=\"1\" class=\"dataframe\">\n",
       "  <thead>\n",
       "    <tr style=\"text-align: right;\">\n",
       "      <th></th>\n",
       "      <th>id</th>\n",
       "      <th>user_id</th>\n",
       "      <th>session_date</th>\n",
       "      <th>mb_used</th>\n",
       "    </tr>\n",
       "  </thead>\n",
       "  <tbody>\n",
       "    <tr>\n",
       "      <th>53958</th>\n",
       "      <td>1244_76</td>\n",
       "      <td>1244</td>\n",
       "      <td>2018-12-03</td>\n",
       "      <td>144.41</td>\n",
       "    </tr>\n",
       "    <tr>\n",
       "      <th>99485</th>\n",
       "      <td>1468_318</td>\n",
       "      <td>1468</td>\n",
       "      <td>2018-10-21</td>\n",
       "      <td>261.04</td>\n",
       "    </tr>\n",
       "    <tr>\n",
       "      <th>47654</th>\n",
       "      <td>1214_28</td>\n",
       "      <td>1214</td>\n",
       "      <td>2018-02-01</td>\n",
       "      <td>314.40</td>\n",
       "    </tr>\n",
       "    <tr>\n",
       "      <th>63383</th>\n",
       "      <td>1292_87</td>\n",
       "      <td>1292</td>\n",
       "      <td>2018-11-01</td>\n",
       "      <td>820.57</td>\n",
       "    </tr>\n",
       "    <tr>\n",
       "      <th>84113</th>\n",
       "      <td>1392_81</td>\n",
       "      <td>1392</td>\n",
       "      <td>2018-08-08</td>\n",
       "      <td>333.41</td>\n",
       "    </tr>\n",
       "    <tr>\n",
       "      <th>2376</th>\n",
       "      <td>1011_116</td>\n",
       "      <td>1011</td>\n",
       "      <td>2018-08-23</td>\n",
       "      <td>470.33</td>\n",
       "    </tr>\n",
       "    <tr>\n",
       "      <th>48669</th>\n",
       "      <td>1217_9</td>\n",
       "      <td>1217</td>\n",
       "      <td>2018-11-19</td>\n",
       "      <td>595.20</td>\n",
       "    </tr>\n",
       "    <tr>\n",
       "      <th>29089</th>\n",
       "      <td>1133_42</td>\n",
       "      <td>1133</td>\n",
       "      <td>2018-11-05</td>\n",
       "      <td>379.84</td>\n",
       "    </tr>\n",
       "    <tr>\n",
       "      <th>63944</th>\n",
       "      <td>1293_417</td>\n",
       "      <td>1293</td>\n",
       "      <td>2018-11-30</td>\n",
       "      <td>592.45</td>\n",
       "    </tr>\n",
       "    <tr>\n",
       "      <th>12847</th>\n",
       "      <td>1061_344</td>\n",
       "      <td>1061</td>\n",
       "      <td>2018-07-04</td>\n",
       "      <td>198.80</td>\n",
       "    </tr>\n",
       "  </tbody>\n",
       "</table>\n",
       "</div>"
      ],
      "text/plain": [
       "             id  user_id session_date  mb_used\n",
       "53958   1244_76     1244   2018-12-03   144.41\n",
       "99485  1468_318     1468   2018-10-21   261.04\n",
       "47654   1214_28     1214   2018-02-01   314.40\n",
       "63383   1292_87     1292   2018-11-01   820.57\n",
       "84113   1392_81     1392   2018-08-08   333.41\n",
       "2376   1011_116     1011   2018-08-23   470.33\n",
       "48669    1217_9     1217   2018-11-19   595.20\n",
       "29089   1133_42     1133   2018-11-05   379.84\n",
       "63944  1293_417     1293   2018-11-30   592.45\n",
       "12847  1061_344     1061   2018-07-04   198.80"
      ]
     },
     "execution_count": 19,
     "metadata": {},
     "output_type": "execute_result"
    }
   ],
   "source": [
    "# Imprime una muestra de datos para el tráfico de internet\n",
    "df_internet.sample(10)"
   ]
  },
  {
   "cell_type": "markdown",
   "metadata": {
    "id": "EzOG5ik30q1D"
   },
   "source": [
    "[Describe lo que ves y observas en la información general y en la muestra de datos impresa para el precio de datos anterior. ¿Hay algún problema (tipos de datos no adecuados, datos ausentes, etc.) que pudieran necesitar investigación y cambios adicionales? ¿Cómo se puede arreglar?]\n",
    "\n",
    "En este dataframe, se desribe el uso de internet de cada uno de los usuarios; contiene la user_id, la fecha de sesión y los mb usados en la sesión"
   ]
  },
  {
   "cell_type": "markdown",
   "metadata": {
    "id": "yA0tkPFg0q1D"
   },
   "source": [
    "### Corregir los datos"
   ]
  },
  {
   "cell_type": "markdown",
   "metadata": {
    "id": "zlZMuIEK0q1D"
   },
   "source": [
    "[Corrige los problemas obvios con los datos basándote en las observaciones iniciales.]\n",
    "Se transforma session_date de object a datetime"
   ]
  },
  {
   "cell_type": "code",
   "execution_count": 20,
   "metadata": {
    "id": "zVeanzdd0q1E"
   },
   "outputs": [
    {
     "name": "stdout",
     "output_type": "stream",
     "text": [
      "<class 'pandas.core.frame.DataFrame'>\n",
      "RangeIndex: 104825 entries, 0 to 104824\n",
      "Data columns (total 4 columns):\n",
      " #   Column        Non-Null Count   Dtype         \n",
      "---  ------        --------------   -----         \n",
      " 0   id            104825 non-null  object        \n",
      " 1   user_id       104825 non-null  int64         \n",
      " 2   session_date  104825 non-null  datetime64[ns]\n",
      " 3   mb_used       104825 non-null  float64       \n",
      "dtypes: datetime64[ns](1), float64(1), int64(1), object(1)\n",
      "memory usage: 3.2+ MB\n",
      "\n",
      "El número de datos duplicados de df_internet es  0\n"
     ]
    }
   ],
   "source": [
    "df_internet[\"session_date\"]= pd.to_datetime(df_internet[\"session_date\"], format='%Y-%m-%d')\n",
    "df_internet.info()\n",
    "print()\n",
    "print(\"El número de datos duplicados de df_internet es \", df_internet.duplicated().sum())"
   ]
  },
  {
   "cell_type": "markdown",
   "metadata": {
    "id": "e8_mLF4a0q1E"
   },
   "source": [
    "### Enriquecer los datos"
   ]
  },
  {
   "cell_type": "markdown",
   "metadata": {
    "id": "xhNdn2tE0q1E"
   },
   "source": [
    "[Agrega factores adicionales a los datos si crees que pudieran ser útiles.]\n",
    "\n",
    "Se crea una columna del mes de la sesión"
   ]
  },
  {
   "cell_type": "code",
   "execution_count": 21,
   "metadata": {
    "id": "ESiYPIEK0q1E"
   },
   "outputs": [
    {
     "name": "stdout",
     "output_type": "stream",
     "text": [
      "<class 'pandas.core.frame.DataFrame'>\n",
      "RangeIndex: 104825 entries, 0 to 104824\n",
      "Data columns (total 6 columns):\n",
      " #   Column        Non-Null Count   Dtype         \n",
      "---  ------        --------------   -----         \n",
      " 0   id            104825 non-null  object        \n",
      " 1   user_id       104825 non-null  int64         \n",
      " 2   session_date  104825 non-null  datetime64[ns]\n",
      " 3   mb_used       104825 non-null  float64       \n",
      " 4   month         104825 non-null  int64         \n",
      " 5   gb_used       104825 non-null  float64       \n",
      "dtypes: datetime64[ns](1), float64(2), int64(2), object(1)\n",
      "memory usage: 4.8+ MB\n"
     ]
    },
    {
     "data": {
      "text/html": [
       "<div>\n",
       "<style scoped>\n",
       "    .dataframe tbody tr th:only-of-type {\n",
       "        vertical-align: middle;\n",
       "    }\n",
       "\n",
       "    .dataframe tbody tr th {\n",
       "        vertical-align: top;\n",
       "    }\n",
       "\n",
       "    .dataframe thead th {\n",
       "        text-align: right;\n",
       "    }\n",
       "</style>\n",
       "<table border=\"1\" class=\"dataframe\">\n",
       "  <thead>\n",
       "    <tr style=\"text-align: right;\">\n",
       "      <th></th>\n",
       "      <th>id</th>\n",
       "      <th>user_id</th>\n",
       "      <th>session_date</th>\n",
       "      <th>mb_used</th>\n",
       "      <th>month</th>\n",
       "      <th>gb_used</th>\n",
       "    </tr>\n",
       "  </thead>\n",
       "  <tbody>\n",
       "    <tr>\n",
       "      <th>28981</th>\n",
       "      <td>1132_450</td>\n",
       "      <td>1132</td>\n",
       "      <td>2018-05-03</td>\n",
       "      <td>446.78</td>\n",
       "      <td>5</td>\n",
       "      <td>0.45</td>\n",
       "    </tr>\n",
       "    <tr>\n",
       "      <th>39361</th>\n",
       "      <td>1176_182</td>\n",
       "      <td>1176</td>\n",
       "      <td>2018-12-07</td>\n",
       "      <td>801.97</td>\n",
       "      <td>12</td>\n",
       "      <td>0.80</td>\n",
       "    </tr>\n",
       "    <tr>\n",
       "      <th>17110</th>\n",
       "      <td>1077_230</td>\n",
       "      <td>1077</td>\n",
       "      <td>2018-12-18</td>\n",
       "      <td>325.11</td>\n",
       "      <td>12</td>\n",
       "      <td>0.33</td>\n",
       "    </tr>\n",
       "    <tr>\n",
       "      <th>68093</th>\n",
       "      <td>1317_29</td>\n",
       "      <td>1317</td>\n",
       "      <td>2018-12-18</td>\n",
       "      <td>797.94</td>\n",
       "      <td>12</td>\n",
       "      <td>0.80</td>\n",
       "    </tr>\n",
       "    <tr>\n",
       "      <th>12909</th>\n",
       "      <td>1061_406</td>\n",
       "      <td>1061</td>\n",
       "      <td>2018-12-23</td>\n",
       "      <td>1105.40</td>\n",
       "      <td>12</td>\n",
       "      <td>1.11</td>\n",
       "    </tr>\n",
       "  </tbody>\n",
       "</table>\n",
       "</div>"
      ],
      "text/plain": [
       "             id  user_id session_date  mb_used  month  gb_used\n",
       "28981  1132_450     1132   2018-05-03   446.78      5     0.45\n",
       "39361  1176_182     1176   2018-12-07   801.97     12     0.80\n",
       "17110  1077_230     1077   2018-12-18   325.11     12     0.33\n",
       "68093   1317_29     1317   2018-12-18   797.94     12     0.80\n",
       "12909  1061_406     1061   2018-12-23  1105.40     12     1.11"
      ]
     },
     "execution_count": 21,
     "metadata": {},
     "output_type": "execute_result"
    }
   ],
   "source": [
    "df_internet[\"month\"]=df_internet[\"session_date\"].dt.month\n",
    "df_internet[\"gb_used\"] = (df_internet[\"mb_used\"] / 1000).round(2)\n",
    "df_internet.info()\n",
    "df_internet.sample(5)"
   ]
  },
  {
   "cell_type": "markdown",
   "metadata": {},
   "source": [
    "<div class=\"alert alert-block alert-warning\">\n",
    "<b>Comentario Revisor</b> <a class=\"tocSkip\"></a>\n",
    "\n",
    "Cuando hacemos análisis de datos, un paso que es muy importate realizar es verificar que no se tengan duplicados en nuestras bases de datos y en caso de tener duplicados entender si hace sentido su duplicación o solamente son errores de registro. En este sentido sería importante que para todas las bases de datos desarrolles un análisis de registros duplicados.\n",
    "    \n",
    "</div>\n",
    "\n"
   ]
  },
  {
   "cell_type": "markdown",
   "metadata": {
    "id": "3UA2cqIW0q1E"
   },
   "source": [
    "## Estudiar las condiciones de las tarifas"
   ]
  },
  {
   "cell_type": "markdown",
   "metadata": {
    "id": "T86Sqltq0q1F"
   },
   "source": [
    "[Es sumamente importante entender cómo funcionan las tarifas, cómo se les cobra a los usuarios en función de su plan de suscripción. Así que te sugerimos imprimir la información de la tarifa para ver una vez más sus condiciones.]"
   ]
  },
  {
   "cell_type": "code",
   "execution_count": 22,
   "metadata": {
    "id": "i409op8p0q1F"
   },
   "outputs": [
    {
     "name": "stdout",
     "output_type": "stream",
     "text": [
      "   messages_included  mb_per_month_included  minutes_included  \\\n",
      "0                 50                  15360               500   \n",
      "1               1000                  30720              3000   \n",
      "\n",
      "   usd_monthly_pay  usd_per_gb  usd_per_message  usd_per_minute plan_name  \\\n",
      "0               20          10             0.03            0.03      surf   \n",
      "1               70           7             0.01            0.01  ultimate   \n",
      "\n",
      "   gb_per_month_included  \n",
      "0                  15.36  \n",
      "1                  30.72  \n"
     ]
    }
   ],
   "source": [
    "# Imprime las condiciones de la tarifa y asegúrate de que te quedan claras\n",
    "print(df_plans)\n"
   ]
  },
  {
   "cell_type": "markdown",
   "metadata": {
    "id": "hMR1tP5d0q1F"
   },
   "source": [
    "## Agregar datos por usuario\n",
    "\n",
    "[Ahora que los datos están limpios, agrega los datos por usuario y por periodo para que solo haya un registro por usuario y por periodo. Esto facilitará mucho el análisis posterior.]\n",
    "\n",
    "Se crea un tabla pivot donde se cuenta el número de llamadas realizadas por cada usuario por cada mes. Los datos vacíos se rellenan con 0."
   ]
  },
  {
   "cell_type": "code",
   "execution_count": 23,
   "metadata": {
    "id": "A332cedB0q1G"
   },
   "outputs": [
    {
     "data": {
      "text/html": [
       "<div>\n",
       "<style scoped>\n",
       "    .dataframe tbody tr th:only-of-type {\n",
       "        vertical-align: middle;\n",
       "    }\n",
       "\n",
       "    .dataframe tbody tr th {\n",
       "        vertical-align: top;\n",
       "    }\n",
       "\n",
       "    .dataframe thead tr th {\n",
       "        text-align: left;\n",
       "    }\n",
       "</style>\n",
       "<table border=\"1\" class=\"dataframe\">\n",
       "  <thead>\n",
       "    <tr>\n",
       "      <th></th>\n",
       "      <th>user_id</th>\n",
       "      <th>month</th>\n",
       "      <th>count</th>\n",
       "    </tr>\n",
       "    <tr>\n",
       "      <th></th>\n",
       "      <th></th>\n",
       "      <th></th>\n",
       "      <th>duration</th>\n",
       "    </tr>\n",
       "  </thead>\n",
       "  <tbody>\n",
       "    <tr>\n",
       "      <th>225</th>\n",
       "      <td>1054</td>\n",
       "      <td>6</td>\n",
       "      <td>32</td>\n",
       "    </tr>\n",
       "    <tr>\n",
       "      <th>732</th>\n",
       "      <td>1156</td>\n",
       "      <td>12</td>\n",
       "      <td>48</td>\n",
       "    </tr>\n",
       "    <tr>\n",
       "      <th>1723</th>\n",
       "      <td>1380</td>\n",
       "      <td>9</td>\n",
       "      <td>59</td>\n",
       "    </tr>\n",
       "    <tr>\n",
       "      <th>2246</th>\n",
       "      <td>1498</td>\n",
       "      <td>5</td>\n",
       "      <td>35</td>\n",
       "    </tr>\n",
       "    <tr>\n",
       "      <th>546</th>\n",
       "      <td>1117</td>\n",
       "      <td>11</td>\n",
       "      <td>58</td>\n",
       "    </tr>\n",
       "    <tr>\n",
       "      <th>1689</th>\n",
       "      <td>1369</td>\n",
       "      <td>11</td>\n",
       "      <td>22</td>\n",
       "    </tr>\n",
       "    <tr>\n",
       "      <th>1698</th>\n",
       "      <td>1372</td>\n",
       "      <td>12</td>\n",
       "      <td>57</td>\n",
       "    </tr>\n",
       "    <tr>\n",
       "      <th>982</th>\n",
       "      <td>1211</td>\n",
       "      <td>12</td>\n",
       "      <td>36</td>\n",
       "    </tr>\n",
       "    <tr>\n",
       "      <th>791</th>\n",
       "      <td>1170</td>\n",
       "      <td>10</td>\n",
       "      <td>116</td>\n",
       "    </tr>\n",
       "    <tr>\n",
       "      <th>1634</th>\n",
       "      <td>1360</td>\n",
       "      <td>12</td>\n",
       "      <td>104</td>\n",
       "    </tr>\n",
       "  </tbody>\n",
       "</table>\n",
       "</div>"
      ],
      "text/plain": [
       "     user_id month    count\n",
       "                   duration\n",
       "225     1054     6       32\n",
       "732     1156    12       48\n",
       "1723    1380     9       59\n",
       "2246    1498     5       35\n",
       "546     1117    11       58\n",
       "1689    1369    11       22\n",
       "1698    1372    12       57\n",
       "982     1211    12       36\n",
       "791     1170    10      116\n",
       "1634    1360    12      104"
      ]
     },
     "execution_count": 23,
     "metadata": {},
     "output_type": "execute_result"
    }
   ],
   "source": [
    "# Calcula el número de llamadas hechas por cada usuario al mes. Guarda el resultado.\n",
    "pivot_calls = df_calls.pivot_table(index=['user_id','month'],\n",
    "                                   values=['duration'], \n",
    "                            aggfunc=['count'] \n",
    "                            ).reset_index()\n",
    "pivot_calls = pivot_calls.fillna(0)\n",
    "pivot_calls.sample(10)"
   ]
  },
  {
   "cell_type": "markdown",
   "metadata": {},
   "source": [
    "<div class=\"alert alert-block alert-warning\">\n",
    "<b>Comentario del revisor</b> <a class=\"tocSkip\"></a>\n",
    "\n",
    "Muy buen trabajo!! la función de pivot_table() es muy recomendable para hacer los códigos más eficientes. Solamente te recomendaria que puedes agregar las siguientes varaibles a la función para que se vean más claros los resultados: \n",
    "    \n",
    "    pivot_calls = calls.pivot_table(index=['user_id', 'month'],\n",
    "                                values=['duration'],\n",
    "                                aggfunc=['sum','count']).reset_index()\n",
    "\n",
    "\n",
    "    \n",
    "</div>"
   ]
  },
  {
   "cell_type": "code",
   "execution_count": 24,
   "metadata": {
    "id": "aw2cmuql0q1G"
   },
   "outputs": [
    {
     "data": {
      "text/html": [
       "<div>\n",
       "<style scoped>\n",
       "    .dataframe tbody tr th:only-of-type {\n",
       "        vertical-align: middle;\n",
       "    }\n",
       "\n",
       "    .dataframe tbody tr th {\n",
       "        vertical-align: top;\n",
       "    }\n",
       "\n",
       "    .dataframe thead tr th {\n",
       "        text-align: left;\n",
       "    }\n",
       "</style>\n",
       "<table border=\"1\" class=\"dataframe\">\n",
       "  <thead>\n",
       "    <tr>\n",
       "      <th></th>\n",
       "      <th>user_id</th>\n",
       "      <th>month</th>\n",
       "      <th>sum</th>\n",
       "    </tr>\n",
       "    <tr>\n",
       "      <th></th>\n",
       "      <th></th>\n",
       "      <th></th>\n",
       "      <th>duration_mins</th>\n",
       "    </tr>\n",
       "  </thead>\n",
       "  <tbody>\n",
       "    <tr>\n",
       "      <th>792</th>\n",
       "      <td>1170</td>\n",
       "      <td>11</td>\n",
       "      <td>712.0</td>\n",
       "    </tr>\n",
       "    <tr>\n",
       "      <th>499</th>\n",
       "      <td>1107</td>\n",
       "      <td>12</td>\n",
       "      <td>320.0</td>\n",
       "    </tr>\n",
       "    <tr>\n",
       "      <th>1572</th>\n",
       "      <td>1347</td>\n",
       "      <td>9</td>\n",
       "      <td>490.0</td>\n",
       "    </tr>\n",
       "    <tr>\n",
       "      <th>2165</th>\n",
       "      <td>1477</td>\n",
       "      <td>11</td>\n",
       "      <td>339.0</td>\n",
       "    </tr>\n",
       "    <tr>\n",
       "      <th>955</th>\n",
       "      <td>1203</td>\n",
       "      <td>10</td>\n",
       "      <td>670.0</td>\n",
       "    </tr>\n",
       "    <tr>\n",
       "      <th>877</th>\n",
       "      <td>1187</td>\n",
       "      <td>7</td>\n",
       "      <td>565.0</td>\n",
       "    </tr>\n",
       "    <tr>\n",
       "      <th>1141</th>\n",
       "      <td>1249</td>\n",
       "      <td>8</td>\n",
       "      <td>554.0</td>\n",
       "    </tr>\n",
       "    <tr>\n",
       "      <th>542</th>\n",
       "      <td>1117</td>\n",
       "      <td>7</td>\n",
       "      <td>446.0</td>\n",
       "    </tr>\n",
       "    <tr>\n",
       "      <th>2072</th>\n",
       "      <td>1456</td>\n",
       "      <td>12</td>\n",
       "      <td>425.0</td>\n",
       "    </tr>\n",
       "    <tr>\n",
       "      <th>1716</th>\n",
       "      <td>1377</td>\n",
       "      <td>8</td>\n",
       "      <td>476.0</td>\n",
       "    </tr>\n",
       "  </tbody>\n",
       "</table>\n",
       "</div>"
      ],
      "text/plain": [
       "     user_id month           sum\n",
       "                   duration_mins\n",
       "792     1170    11         712.0\n",
       "499     1107    12         320.0\n",
       "1572    1347     9         490.0\n",
       "2165    1477    11         339.0\n",
       "955     1203    10         670.0\n",
       "877     1187     7         565.0\n",
       "1141    1249     8         554.0\n",
       "542     1117     7         446.0\n",
       "2072    1456    12         425.0\n",
       "1716    1377     8         476.0"
      ]
     },
     "execution_count": 24,
     "metadata": {},
     "output_type": "execute_result"
    }
   ],
   "source": [
    "# Calcula la cantidad de minutos usados por cada usuario al mes. Guarda el resultado.\n",
    "# Se crea un tabla pivot donde se suma el tiempo de llamadas realizadas por cada usuario por cada mes. Los datos vacíos se rellenan con 0.\n",
    "pivot_mins = df_calls.pivot_table(index=['user_id', 'month'],\n",
    "                            values=['duration_mins'], \n",
    "                            aggfunc=['sum'] \n",
    "                            ).reset_index()\n",
    "pivot_mins = pivot_mins.fillna(0)\n",
    "pivot_mins.sample(10)\n"
   ]
  },
  {
   "cell_type": "code",
   "execution_count": 25,
   "metadata": {
    "id": "CcQvNHn60q1G"
   },
   "outputs": [
    {
     "data": {
      "text/html": [
       "<div>\n",
       "<style scoped>\n",
       "    .dataframe tbody tr th:only-of-type {\n",
       "        vertical-align: middle;\n",
       "    }\n",
       "\n",
       "    .dataframe tbody tr th {\n",
       "        vertical-align: top;\n",
       "    }\n",
       "\n",
       "    .dataframe thead tr th {\n",
       "        text-align: left;\n",
       "    }\n",
       "</style>\n",
       "<table border=\"1\" class=\"dataframe\">\n",
       "  <thead>\n",
       "    <tr>\n",
       "      <th></th>\n",
       "      <th>user_id</th>\n",
       "      <th>month</th>\n",
       "      <th>count</th>\n",
       "    </tr>\n",
       "    <tr>\n",
       "      <th></th>\n",
       "      <th></th>\n",
       "      <th></th>\n",
       "      <th>message_date</th>\n",
       "    </tr>\n",
       "  </thead>\n",
       "  <tbody>\n",
       "    <tr>\n",
       "      <th>1743</th>\n",
       "      <td>1475</td>\n",
       "      <td>11</td>\n",
       "      <td>77</td>\n",
       "    </tr>\n",
       "    <tr>\n",
       "      <th>1725</th>\n",
       "      <td>1471</td>\n",
       "      <td>10</td>\n",
       "      <td>32</td>\n",
       "    </tr>\n",
       "    <tr>\n",
       "      <th>1638</th>\n",
       "      <td>1447</td>\n",
       "      <td>11</td>\n",
       "      <td>68</td>\n",
       "    </tr>\n",
       "    <tr>\n",
       "      <th>945</th>\n",
       "      <td>1252</td>\n",
       "      <td>8</td>\n",
       "      <td>26</td>\n",
       "    </tr>\n",
       "    <tr>\n",
       "      <th>1580</th>\n",
       "      <td>1433</td>\n",
       "      <td>11</td>\n",
       "      <td>123</td>\n",
       "    </tr>\n",
       "    <tr>\n",
       "      <th>642</th>\n",
       "      <td>1174</td>\n",
       "      <td>7</td>\n",
       "      <td>75</td>\n",
       "    </tr>\n",
       "    <tr>\n",
       "      <th>826</th>\n",
       "      <td>1220</td>\n",
       "      <td>10</td>\n",
       "      <td>35</td>\n",
       "    </tr>\n",
       "    <tr>\n",
       "      <th>907</th>\n",
       "      <td>1245</td>\n",
       "      <td>12</td>\n",
       "      <td>9</td>\n",
       "    </tr>\n",
       "    <tr>\n",
       "      <th>538</th>\n",
       "      <td>1144</td>\n",
       "      <td>8</td>\n",
       "      <td>86</td>\n",
       "    </tr>\n",
       "    <tr>\n",
       "      <th>1264</th>\n",
       "      <td>1339</td>\n",
       "      <td>12</td>\n",
       "      <td>86</td>\n",
       "    </tr>\n",
       "  </tbody>\n",
       "</table>\n",
       "</div>"
      ],
      "text/plain": [
       "     user_id month        count\n",
       "                   message_date\n",
       "1743    1475    11           77\n",
       "1725    1471    10           32\n",
       "1638    1447    11           68\n",
       "945     1252     8           26\n",
       "1580    1433    11          123\n",
       "642     1174     7           75\n",
       "826     1220    10           35\n",
       "907     1245    12            9\n",
       "538     1144     8           86\n",
       "1264    1339    12           86"
      ]
     },
     "execution_count": 25,
     "metadata": {},
     "output_type": "execute_result"
    }
   ],
   "source": [
    "# Calcula el número de mensajes enviados por cada usuario al mes. Guarda el resultado.\n",
    "\n",
    "# Se crea un tabla pivot donde se cuenta los mensajes enviados por cada usuario por cada mes. Los datos vacíos se rellenan con 0.\n",
    "\n",
    "pivot_messages = df_messages.pivot_table(index=['user_id', 'month'],\n",
    "                            values=['message_date'], \n",
    "                            aggfunc=['count'] \n",
    "                            ).reset_index()\n",
    "pivot_messages = pivot_messages.fillna(0)\n",
    "pivot_messages.sample(10)\n"
   ]
  },
  {
   "cell_type": "code",
   "execution_count": 26,
   "metadata": {
    "id": "H1AqN2eG0q1H"
   },
   "outputs": [
    {
     "data": {
      "text/html": [
       "<div>\n",
       "<style scoped>\n",
       "    .dataframe tbody tr th:only-of-type {\n",
       "        vertical-align: middle;\n",
       "    }\n",
       "\n",
       "    .dataframe tbody tr th {\n",
       "        vertical-align: top;\n",
       "    }\n",
       "\n",
       "    .dataframe thead tr th {\n",
       "        text-align: left;\n",
       "    }\n",
       "</style>\n",
       "<table border=\"1\" class=\"dataframe\">\n",
       "  <thead>\n",
       "    <tr>\n",
       "      <th></th>\n",
       "      <th>user_id</th>\n",
       "      <th>month</th>\n",
       "      <th>sum</th>\n",
       "    </tr>\n",
       "    <tr>\n",
       "      <th></th>\n",
       "      <th></th>\n",
       "      <th></th>\n",
       "      <th>gb_used</th>\n",
       "    </tr>\n",
       "  </thead>\n",
       "  <tbody>\n",
       "    <tr>\n",
       "      <th>349</th>\n",
       "      <td>1074</td>\n",
       "      <td>12</td>\n",
       "      <td>10.81</td>\n",
       "    </tr>\n",
       "    <tr>\n",
       "      <th>2180</th>\n",
       "      <td>1476</td>\n",
       "      <td>8</td>\n",
       "      <td>10.09</td>\n",
       "    </tr>\n",
       "    <tr>\n",
       "      <th>962</th>\n",
       "      <td>1200</td>\n",
       "      <td>12</td>\n",
       "      <td>15.42</td>\n",
       "    </tr>\n",
       "    <tr>\n",
       "      <th>2076</th>\n",
       "      <td>1449</td>\n",
       "      <td>11</td>\n",
       "      <td>15.80</td>\n",
       "    </tr>\n",
       "    <tr>\n",
       "      <th>2072</th>\n",
       "      <td>1448</td>\n",
       "      <td>10</td>\n",
       "      <td>7.94</td>\n",
       "    </tr>\n",
       "    <tr>\n",
       "      <th>898</th>\n",
       "      <td>1187</td>\n",
       "      <td>8</td>\n",
       "      <td>21.77</td>\n",
       "    </tr>\n",
       "    <tr>\n",
       "      <th>1684</th>\n",
       "      <td>1363</td>\n",
       "      <td>9</td>\n",
       "      <td>10.33</td>\n",
       "    </tr>\n",
       "    <tr>\n",
       "      <th>1231</th>\n",
       "      <td>1259</td>\n",
       "      <td>10</td>\n",
       "      <td>1.95</td>\n",
       "    </tr>\n",
       "    <tr>\n",
       "      <th>2000</th>\n",
       "      <td>1432</td>\n",
       "      <td>10</td>\n",
       "      <td>8.40</td>\n",
       "    </tr>\n",
       "    <tr>\n",
       "      <th>1733</th>\n",
       "      <td>1374</td>\n",
       "      <td>4</td>\n",
       "      <td>2.38</td>\n",
       "    </tr>\n",
       "  </tbody>\n",
       "</table>\n",
       "</div>"
      ],
      "text/plain": [
       "     user_id month     sum\n",
       "                   gb_used\n",
       "349     1074    12   10.81\n",
       "2180    1476     8   10.09\n",
       "962     1200    12   15.42\n",
       "2076    1449    11   15.80\n",
       "2072    1448    10    7.94\n",
       "898     1187     8   21.77\n",
       "1684    1363     9   10.33\n",
       "1231    1259    10    1.95\n",
       "2000    1432    10    8.40\n",
       "1733    1374     4    2.38"
      ]
     },
     "execution_count": 26,
     "metadata": {},
     "output_type": "execute_result"
    }
   ],
   "source": [
    "# Calcula el volumen del tráfico de Internet usado por cada usuario al mes. Guarda el resultado.\n",
    "\n",
    "# Se crea un tabla pivot donde se suma los mb usados por cada usuario por cada mes. Los datos vacíos se rellenan con 0.\n",
    "\n",
    "pivot_internet = df_internet.pivot_table(index=['user_id', 'month'],\n",
    "                            values=['gb_used'], \n",
    "                            aggfunc=['sum'] \n",
    "                            ).reset_index()\n",
    "\n",
    "pivot_internet = pivot_internet.fillna(0)\n",
    "pivot_internet.sample(10)\n"
   ]
  },
  {
   "cell_type": "markdown",
   "metadata": {
    "id": "VDfYXnj80q1H"
   },
   "source": [
    "[Junta los datos agregados en un DataFrame para que haya un registro que represente lo que consumió un usuario único en un mes determinado.]\n",
    "\n",
    "Se utiliza la funcion merge para fusionar los datos con el atributo outer, se realizan 3 fusiiones: la primera entre llamadas y minutos, la segunda, entre mensajes e internet, la última fusión entre las 2 anteriores."
   ]
  },
  {
   "cell_type": "code",
   "execution_count": 27,
   "metadata": {
    "id": "FW99ykyf0q1H"
   },
   "outputs": [
    {
     "name": "stdout",
     "output_type": "stream",
     "text": [
      "    user_id  month  calls  duration_mins  messages  gb_used\n",
      "0      1000     12   16.0          124.0      11.0     1.90\n",
      "1      1001      8   27.0          182.0      30.0     6.91\n",
      "2      1001      9   49.0          315.0      44.0    13.28\n",
      "3      1001     10   65.0          393.0      53.0    22.28\n",
      "4      1001     11   64.0          426.0      36.0    18.51\n",
      "5      1001     12   56.0          412.0      44.0    19.39\n",
      "6      1002     10   11.0           59.0      15.0     6.57\n",
      "7      1002     11   55.0          386.0      32.0    19.34\n",
      "8      1002     12   47.0          384.0      41.0    14.40\n",
      "9      1003     12  149.0         1104.0      50.0    27.05\n",
      "10     1004      5   21.0          193.0       7.0     6.53\n",
      "11     1004      6   44.0          275.0      18.0    20.69\n",
      "12     1004      7   49.0          381.0      26.0    24.55\n",
      "13     1004      8   49.0          354.0      25.0    27.99\n",
      "14     1004      9   42.0          301.0      21.0    18.82\n",
      "15     1004     10   61.0          365.0      24.0    14.57\n",
      "16     1004     11   54.0          476.0      25.0    21.86\n",
      "17     1004     12   50.0          427.0      31.0    21.37\n",
      "18     1005     12   59.0          496.0      11.0    17.15\n",
      "19     1006     11    2.0           10.0      15.0     2.05\n"
     ]
    },
    {
     "name": "stderr",
     "output_type": "stream",
     "text": [
      "/opt/conda/lib/python3.9/site-packages/pandas/core/generic.py:4153: PerformanceWarning: dropping on a non-lexsorted multi-index without a level parameter may impact performance.\n",
      "  obj = obj._drop_axis(labels, axis, level=level, errors=errors)\n"
     ]
    }
   ],
   "source": [
    "# Fusiona los datos de llamadas, minutos, mensajes e Internet con base en user_id y month\n",
    "\n",
    "merged1 = pd.merge(pivot_calls, pivot_mins, on=[\"user_id\",\"month\"], how=\"outer\", suffixes=[\"_call\",\"_mins\"])\n",
    "merged2 = pd.merge(pivot_messages, pivot_internet, on=[\"user_id\",\"month\"], how=\"outer\", suffixes=[\"_mess\",\"_inte\"])\n",
    "merged3 = pd.merge(merged1, merged2, on=[\"user_id\",\"month\"], how=\"outer\")\n",
    "merged3 = merged3.set_axis([\"user_id\",\"month\",\"calls\",\"duration_mins\",\"messages\",\"gb_used\"], axis=1)\n",
    "merged3 = merged3.fillna(0)\n",
    "print(merged3.head(20))"
   ]
  },
  {
   "cell_type": "markdown",
   "metadata": {},
   "source": [
    "<div class=\"alert alert-block alert-danger\">\n",
    "<b>Comentario revisor</b> <a class=\"tocSkip\"></a>\n",
    "\n",
    "\n",
    "Si bien el la estructura del merge es correcto, con el ajuste en las variables que se agregan en el pivot_table podrás realizar el merge por ususario y mes, de tal manera que vas a poder contar con una base de datos con la duración de las llamadas, llamadas realizadas, cantidad de mensajes y el internet utilizado por usuario y por mes. Es decir, en lugar de tener tus datos en formato \"ancho\" los vas a tener en formato \"largo\". Esto mejora la visualización de la información y te será más útil para el desarrollo de los siguientes análisis.\n",
    "</div>"
   ]
  },
  {
   "cell_type": "markdown",
   "metadata": {},
   "source": [
    "<div class=\"alert alert-block alert-danger\">\n",
    "<b>Comentario revisor</b> <a class=\"tocSkip\"></a>\n",
    "\n",
    "\n",
    "Por otro lado, recuerda que para este punto, es necesario que ya tengamos los valores redondeados de la duración de las llamadas y la transformación de megabytes a gigabytes. \n",
    "</div>"
   ]
  },
  {
   "cell_type": "code",
   "execution_count": 28,
   "metadata": {
    "id": "0dNOXHag0q1H"
   },
   "outputs": [
    {
     "name": "stdout",
     "output_type": "stream",
     "text": [
      "      user_id  month  calls  duration_mins  messages  gb_used      plan  \\\n",
      "940      1073    6.0   45.0          324.0       0.0    13.20      surf   \n",
      "15       1026    8.0   34.0          194.0      13.0     8.41  ultimate   \n",
      "1206     1151   10.0   93.0          501.0      60.0    20.54      surf   \n",
      "1299     1178   10.0   51.0          396.0      39.0    12.30      surf   \n",
      "794      1023    8.0   11.0           72.0       6.0     9.98      surf   \n",
      "1690     1309   12.0   81.0          614.0      67.0    16.23      surf   \n",
      "97       1059    9.0   95.0          806.0      63.0    15.03  ultimate   \n",
      "1401     1212    9.0   40.0          235.0      32.0    13.64      surf   \n",
      "1730     1320   11.0  140.0          958.0      72.0    19.94      surf   \n",
      "711      1493    8.0   50.0          373.0       0.0    14.15  ultimate   \n",
      "\n",
      "      messages_included  mb_per_month_included  minutes_included  \\\n",
      "940                  50                  15360               500   \n",
      "15                 1000                  30720              3000   \n",
      "1206                 50                  15360               500   \n",
      "1299                 50                  15360               500   \n",
      "794                  50                  15360               500   \n",
      "1690                 50                  15360               500   \n",
      "97                 1000                  30720              3000   \n",
      "1401                 50                  15360               500   \n",
      "1730                 50                  15360               500   \n",
      "711                1000                  30720              3000   \n",
      "\n",
      "      usd_monthly_pay  usd_per_gb  usd_per_message  usd_per_minute plan_name  \\\n",
      "940                20          10             0.03            0.03      surf   \n",
      "15                 70           7             0.01            0.01  ultimate   \n",
      "1206               20          10             0.03            0.03      surf   \n",
      "1299               20          10             0.03            0.03      surf   \n",
      "794                20          10             0.03            0.03      surf   \n",
      "1690               20          10             0.03            0.03      surf   \n",
      "97                 70           7             0.01            0.01  ultimate   \n",
      "1401               20          10             0.03            0.03      surf   \n",
      "1730               20          10             0.03            0.03      surf   \n",
      "711                70           7             0.01            0.01  ultimate   \n",
      "\n",
      "      gb_per_month_included  \n",
      "940                   15.36  \n",
      "15                    30.72  \n",
      "1206                  15.36  \n",
      "1299                  15.36  \n",
      "794                   15.36  \n",
      "1690                  15.36  \n",
      "97                    30.72  \n",
      "1401                  15.36  \n",
      "1730                  15.36  \n",
      "711                   30.72  \n",
      "<class 'pandas.core.frame.DataFrame'>\n",
      "Int64Index: 2303 entries, 0 to 2302\n",
      "Data columns (total 16 columns):\n",
      " #   Column                 Non-Null Count  Dtype  \n",
      "---  ------                 --------------  -----  \n",
      " 0   user_id                2303 non-null   int64  \n",
      " 1   month                  2303 non-null   float64\n",
      " 2   calls                  2303 non-null   float64\n",
      " 3   duration_mins          2303 non-null   float64\n",
      " 4   messages               2303 non-null   float64\n",
      " 5   gb_used                2303 non-null   float64\n",
      " 6   plan                   2303 non-null   object \n",
      " 7   messages_included      2303 non-null   int64  \n",
      " 8   mb_per_month_included  2303 non-null   int64  \n",
      " 9   minutes_included       2303 non-null   int64  \n",
      " 10  usd_monthly_pay        2303 non-null   int64  \n",
      " 11  usd_per_gb             2303 non-null   int64  \n",
      " 12  usd_per_message        2303 non-null   float64\n",
      " 13  usd_per_minute         2303 non-null   float64\n",
      " 14  plan_name              2303 non-null   object \n",
      " 15  gb_per_month_included  2303 non-null   float64\n",
      "dtypes: float64(8), int64(6), object(2)\n",
      "memory usage: 305.9+ KB\n"
     ]
    }
   ],
   "source": [
    "# Añade la información de la tarifa\n",
    "# Al dataframe anterior merge3, se agrega la información del plan en df_users. Después fusiona la información de la tarifa df_plans\n",
    "user_plan = df_users.drop(['first_name', 'last_name', 'age','city', 'reg_date', 'churn_date', 'reg_month', 'churn_month'], axis=1)\n",
    "merged4 = pd.merge(merged3, user_plan, on=\"user_id\", how=\"outer\")\n",
    "merged4 = merged4.fillna(0)\n",
    "\n",
    "m_all = pd.merge(merged4, df_plans, left_on=\"plan\", right_on=\"plan_name\", how=\"outer\")\n",
    "\n",
    "print(m_all.sample(10))\n",
    "m_all.info()\n"
   ]
  },
  {
   "cell_type": "markdown",
   "metadata": {
    "id": "1IwGo4wg0q1I"
   },
   "source": [
    "[Calcula los ingresos mensuales por usuario (resta el límite del paquete gratuito del número total de llamadas, mensajes de texto y datos; multiplica el resultado por el valor del plan de llamadas; añade la tarifa mensual en función del plan de llamadas). Nota: Dadas las condiciones del plan, ¡esto podría no ser tan trivial como un par de líneas! Así que no pasa nada si dedicas algo de tiempo a ello.]\n",
    "\n",
    "1. Se calcula los minutos extra por mes, restando de los minutos usados con los minutos incluidos\n",
    "2. Se calcula los mensajes extra por mes, restando de los mensajes enviados con los mensajes incluidos\n",
    "3. Se calcula el internet extra por mes, restando de los gbs usados con los gbs incluidos\n",
    "4. Se calcula los ingresos por mes:\n",
    "    precio plan + (minutos adicionales * costo min extra) + (mensajes adicionales * costo mensaje extra) + (gbs adicionales * costo gb extra)\n",
    "5. Se crea un data frame separado con la información de los ingresos\n"
   ]
  },
  {
   "cell_type": "code",
   "execution_count": 29,
   "metadata": {
    "id": "5FGCf_c60q1I"
   },
   "outputs": [
    {
     "name": "stdout",
     "output_type": "stream",
     "text": [
      "    user_id  month  calls  duration_mins  messages  gb_used      plan  \\\n",
      "0      1000   12.0   16.0          124.0      11.0     1.90  ultimate   \n",
      "1      1006   11.0    2.0           10.0      15.0     2.05  ultimate   \n",
      "2      1006   12.0    9.0           59.0     139.0    32.12  ultimate   \n",
      "3      1008   10.0   71.0          476.0      21.0    17.13  ultimate   \n",
      "4      1008   11.0   63.0          446.0      37.0    23.71  ultimate   \n",
      "5      1008   12.0   85.0          634.0      26.0    14.67  ultimate   \n",
      "6      1011    6.0   19.0          118.0      21.0     6.69  ultimate   \n",
      "7      1011    7.0   63.0          499.0      53.0    21.05  ultimate   \n",
      "8      1011    8.0   61.0          486.0      54.0    21.10  ultimate   \n",
      "9      1011    9.0   73.0          484.0      60.0    16.66  ultimate   \n",
      "10     1011   10.0   76.0          504.0      64.0    24.59  ultimate   \n",
      "11     1011   11.0   65.0          505.0      58.0    22.10  ultimate   \n",
      "12     1011   12.0   56.0          311.0      61.0    19.64  ultimate   \n",
      "13     1013   12.0   35.0          219.0      16.0    20.07  ultimate   \n",
      "14     1026    7.0   23.0          163.0       9.0     4.80  ultimate   \n",
      "15     1026    8.0   34.0          194.0      13.0     8.41  ultimate   \n",
      "16     1028    3.0    6.0           39.0      66.0    36.03  ultimate   \n",
      "17     1028    4.0    7.0           53.0      77.0    37.78  ultimate   \n",
      "18     1028    5.0    8.0           67.0      84.0    32.89  ultimate   \n",
      "19     1028    6.0   11.0           49.0      66.0    37.92  ultimate   \n",
      "\n",
      "    messages_included  mb_per_month_included  minutes_included  \\\n",
      "0                1000                  30720              3000   \n",
      "1                1000                  30720              3000   \n",
      "2                1000                  30720              3000   \n",
      "3                1000                  30720              3000   \n",
      "4                1000                  30720              3000   \n",
      "5                1000                  30720              3000   \n",
      "6                1000                  30720              3000   \n",
      "7                1000                  30720              3000   \n",
      "8                1000                  30720              3000   \n",
      "9                1000                  30720              3000   \n",
      "10               1000                  30720              3000   \n",
      "11               1000                  30720              3000   \n",
      "12               1000                  30720              3000   \n",
      "13               1000                  30720              3000   \n",
      "14               1000                  30720              3000   \n",
      "15               1000                  30720              3000   \n",
      "16               1000                  30720              3000   \n",
      "17               1000                  30720              3000   \n",
      "18               1000                  30720              3000   \n",
      "19               1000                  30720              3000   \n",
      "\n",
      "    usd_monthly_pay  usd_per_gb  usd_per_message  usd_per_minute plan_name  \\\n",
      "0                70           7             0.01            0.01  ultimate   \n",
      "1                70           7             0.01            0.01  ultimate   \n",
      "2                70           7             0.01            0.01  ultimate   \n",
      "3                70           7             0.01            0.01  ultimate   \n",
      "4                70           7             0.01            0.01  ultimate   \n",
      "5                70           7             0.01            0.01  ultimate   \n",
      "6                70           7             0.01            0.01  ultimate   \n",
      "7                70           7             0.01            0.01  ultimate   \n",
      "8                70           7             0.01            0.01  ultimate   \n",
      "9                70           7             0.01            0.01  ultimate   \n",
      "10               70           7             0.01            0.01  ultimate   \n",
      "11               70           7             0.01            0.01  ultimate   \n",
      "12               70           7             0.01            0.01  ultimate   \n",
      "13               70           7             0.01            0.01  ultimate   \n",
      "14               70           7             0.01            0.01  ultimate   \n",
      "15               70           7             0.01            0.01  ultimate   \n",
      "16               70           7             0.01            0.01  ultimate   \n",
      "17               70           7             0.01            0.01  ultimate   \n",
      "18               70           7             0.01            0.01  ultimate   \n",
      "19               70           7             0.01            0.01  ultimate   \n",
      "\n",
      "    gb_per_month_included  xtra_mins  xtra_mess  xtra_inte    ing  \n",
      "0                   30.72        0.0        0.0        0.0   70.0  \n",
      "1                   30.72        0.0        0.0        0.0   70.0  \n",
      "2                   30.72        0.0        0.0        2.0   84.0  \n",
      "3                   30.72        0.0        0.0        0.0   70.0  \n",
      "4                   30.72        0.0        0.0        0.0   70.0  \n",
      "5                   30.72        0.0        0.0        0.0   70.0  \n",
      "6                   30.72        0.0        0.0        0.0   70.0  \n",
      "7                   30.72        0.0        0.0        0.0   70.0  \n",
      "8                   30.72        0.0        0.0        0.0   70.0  \n",
      "9                   30.72        0.0        0.0        0.0   70.0  \n",
      "10                  30.72        0.0        0.0        0.0   70.0  \n",
      "11                  30.72        0.0        0.0        0.0   70.0  \n",
      "12                  30.72        0.0        0.0        0.0   70.0  \n",
      "13                  30.72        0.0        0.0        0.0   70.0  \n",
      "14                  30.72        0.0        0.0        0.0   70.0  \n",
      "15                  30.72        0.0        0.0        0.0   70.0  \n",
      "16                  30.72        0.0        0.0        6.0  112.0  \n",
      "17                  30.72        0.0        0.0        8.0  126.0  \n",
      "18                  30.72        0.0        0.0        3.0   91.0  \n",
      "19                  30.72        0.0        0.0        8.0  126.0  \n",
      "    user_id  month      plan    ing\n",
      "0      1000   12.0  ultimate   70.0\n",
      "1      1006   11.0  ultimate   70.0\n",
      "2      1006   12.0  ultimate   84.0\n",
      "3      1008   10.0  ultimate   70.0\n",
      "4      1008   11.0  ultimate   70.0\n",
      "5      1008   12.0  ultimate   70.0\n",
      "6      1011    6.0  ultimate   70.0\n",
      "7      1011    7.0  ultimate   70.0\n",
      "8      1011    8.0  ultimate   70.0\n",
      "9      1011    9.0  ultimate   70.0\n",
      "10     1011   10.0  ultimate   70.0\n",
      "11     1011   11.0  ultimate   70.0\n",
      "12     1011   12.0  ultimate   70.0\n",
      "13     1013   12.0  ultimate   70.0\n",
      "14     1026    7.0  ultimate   70.0\n",
      "15     1026    8.0  ultimate   70.0\n",
      "16     1028    3.0  ultimate  112.0\n",
      "17     1028    4.0  ultimate  126.0\n",
      "18     1028    5.0  ultimate   91.0\n",
      "19     1028    6.0  ultimate  126.0\n"
     ]
    }
   ],
   "source": [
    "# Calcula el ingreso mensual para cada usuario\n",
    "\n",
    "m_all.loc[m_all[\"duration_mins\"] >= m_all[\"minutes_included\"],\"xtra_mins\"]= m_all[\"duration_mins\"]- m_all[\"minutes_included\"]\n",
    "m_all.loc[m_all[\"duration_mins\"] < m_all[\"minutes_included\"],\"xtra_mins\"]= 0\n",
    "\n",
    "m_all.loc[m_all[\"messages\"] >= m_all[\"messages_included\"],\"xtra_mess\"]= m_all[\"messages\"]- m_all[\"messages_included\"]\n",
    "m_all.loc[m_all[\"messages\"] < m_all[\"messages_included\"],\"xtra_mess\"]= 0\n",
    "\n",
    "m_all.loc[m_all[\"gb_used\"] >= m_all[\"gb_per_month_included\"],\"xtra_inte\"]= m_all[\"gb_used\"]- m_all[\"gb_per_month_included\"]\n",
    "m_all.loc[m_all[\"gb_used\"] < m_all[\"gb_per_month_included\"],\"xtra_inte\"]= 0\n",
    "\n",
    "m_all[\"xtra_inte\"] = m_all[\"xtra_inte\"].apply(np.ceil)\n",
    "\n",
    "# calcular ingresos \n",
    "m_all.loc[(m_all[\"duration_mins\"]>0) | (m_all[\"messages\"]>0) | (m_all[\"gb_used\"]>0),\"ing\"]= m_all[\"usd_monthly_pay\"] + (m_all[\"xtra_mins\"]*m_all[\"usd_per_minute\"]) + (m_all[\"xtra_mess\"]*m_all[\"usd_per_message\"]) + (m_all[\"xtra_inte\"]*m_all[\"usd_per_gb\"])\n",
    "m_all[\"ing\"] = m_all[\"ing\"].fillna(0)\n",
    "print(m_all.head(20))\n",
    "\n",
    "\n",
    "#crear df para ingresos\n",
    "df_ing = pd.DataFrame()\n",
    "df_ing[\"user_id\"] = m_all[\"user_id\"]\n",
    "df_ing[\"month\"] = m_all[\"month\"]\n",
    "df_ing[\"plan\"] = m_all[\"plan\"]\n",
    "df_ing[\"ing\"] = m_all[\"ing\"]\n",
    "print(df_ing.head(20))\n",
    "\n"
   ]
  },
  {
   "cell_type": "markdown",
   "metadata": {},
   "source": [
    "<div class=\"alert alert-block alert-danger\">\n",
    "<b>Comentario revisor</b> <a class=\"tocSkip\"></a>\n",
    "\n",
    "\n",
    "Si bien la estructura que usas para hacer el cálculo de los ingresos mensuales, puedes notar que dada la estructura \"ancho\" de tu base de datos, se vuelve poco eficiente hacer estos procesos y muy repetitivos los procesos. En este sentido, al ajustar las variables podrás realizar este proceso de una forma más eficiente con una función que contengan unos cuantos \"if\" para ver las condiciones del cobor extra.   \n",
    "    \n",
    "</div>"
   ]
  },
  {
   "cell_type": "markdown",
   "metadata": {
    "id": "-jtyHzJb0q1I"
   },
   "source": [
    "## Estudia el comportamiento de usuario"
   ]
  },
  {
   "cell_type": "markdown",
   "metadata": {
    "id": "AxU3Y0N70q1J"
   },
   "source": [
    "[Calcula algunas estadísticas descriptivas para los datos agregados y fusionados que nos sean útiles y que muestren un panorama general captado por los datos. Dibuja gráficos útiles para facilitar la comprensión. Dado que la tarea principal es comparar las tarifas y decidir cuál es más rentable, las estadísticas y gráficas deben calcularse por tarifa.]\n",
    "\n",
    "[En los comentarios hallarás pistas relevantes para las llamadas, pero no las hay para los mensajes e Internet. Sin embargo, el principio del estudio estadístico que se aplica para ellos es el mismo que para las llamadas.]"
   ]
  },
  {
   "cell_type": "code",
   "execution_count": 30,
   "metadata": {},
   "outputs": [
    {
     "name": "stdout",
     "output_type": "stream",
     "text": [
      "    month  users_surf  users_ultimate\n",
      "0     0.0           6               4\n",
      "1     1.0           2               4\n",
      "2     2.0           9               7\n",
      "3     3.0          23              12\n",
      "4     4.0          50              21\n",
      "5     5.0          77              29\n",
      "6     6.0          97              47\n",
      "7     7.0         121              59\n",
      "8     8.0         162              71\n",
      "9     9.0         194              86\n",
      "10   10.0         237             106\n",
      "11   11.0         283             127\n",
      "12   12.0         318             151\n"
     ]
    },
    {
     "data": {
      "text/plain": [
       "<AxesSubplot:title={'center':'usuarios por mes'}, xlabel='mes', ylabel='usuarios'>"
      ]
     },
     "execution_count": 30,
     "metadata": {},
     "output_type": "execute_result"
    },
    {
     "data": {
      "image/png": "[encoded data removed]",
      "text/plain": [
       "<Figure size 432x288 with 1 Axes>"
      ]
     },
     "metadata": {
      "needs_background": "light"
     },
     "output_type": "display_data"
    }
   ],
   "source": [
    "#calcular usuarios activos por mes\n",
    "m_all.loc[m_all[\"duration_mins\"] >= m_all[\"minutes_included\"],\"activ_user\"]= m_all[\"duration_mins\"]- m_all[\"minutes_included\"]\n",
    "m_all.loc[m_all[\"duration_mins\"] < m_all[\"minutes_included\"],\"activ_user\"]= 0\n",
    "\n",
    "user_plan = m_all.pivot_table(index=['month'],\n",
    "                              columns=['plan'],\n",
    "                            values=['activ_user'], \n",
    "                            aggfunc=['count'] \n",
    "                            ).reset_index()\n",
    "\n",
    "user_plan.columns = ['month', 'users_surf', 'users_ultimate']\n",
    "print(user_plan)\n",
    "\n",
    "user_plan.plot(kind = \"bar\", \n",
    "               x = \"month\",\n",
    "               title = \"usuarios por mes\",\n",
    "               xlabel = \"mes\",\n",
    "               ylabel = \"usuarios\")\n"
   ]
  },
  {
   "cell_type": "markdown",
   "metadata": {},
   "source": [
    "Esta tabla y gráfico se realizan para analizar cuantos usuarios fueron activos a lo largo de año, es decir que pagaron un valor a la empresa, así se puede determinar que durante a lo largo del año los usuarios fueron creciendo y el número de usuarios surf siempre superan a los usuarios ultimate."
   ]
  },
  {
   "cell_type": "markdown",
   "metadata": {
    "id": "vtW4CJEe0q1J"
   },
   "source": [
    "### Llamadas"
   ]
  },
  {
   "cell_type": "code",
   "execution_count": 31,
   "metadata": {
    "id": "Jf5v5--k0q1J"
   },
   "outputs": [
    {
     "name": "stdout",
     "output_type": "stream",
     "text": [
      "    month  calls_mins_surf  calls_mins_ultimate\n",
      "0     1.0             6.43                 6.54\n",
      "1     2.0             6.91                 6.52\n",
      "2     3.0             6.70                 6.21\n",
      "3     4.0             6.80                 6.66\n",
      "4     5.0             6.77                 6.66\n",
      "5     6.0             6.85                 6.71\n",
      "6     7.0             6.72                 6.88\n",
      "7     8.0             6.73                 6.61\n",
      "8     9.0             6.73                 6.77\n",
      "9    10.0             6.72                 6.67\n",
      "10   11.0             6.76                 6.74\n",
      "11   12.0             6.84                 6.67\n"
     ]
    },
    {
     "data": {
      "text/plain": [
       "<AxesSubplot:title={'center':'Duración de llamadas por mes'}, xlabel='mes', ylabel='duración promedio - mins'>"
      ]
     },
     "execution_count": 31,
     "metadata": {},
     "output_type": "execute_result"
    },
    {
     "data": {
      "image/png": "[encoded data removed]",
      "text/plain": [
       "<Figure size 432x288 with 1 Axes>"
      ]
     },
     "metadata": {
      "needs_background": "light"
     },
     "output_type": "display_data"
    }
   ],
   "source": [
    "# Compara la duración promedio de llamadas por cada plan y por cada mes. Traza un gráfico de barras para visualizarla.\n",
    "calls_plan = pd.merge(df_calls, df_users, on=\"user_id\", how=\"outer\")\n",
    "\n",
    "mean_mins = calls_plan.pivot_table(index=['month'],\n",
    "                            columns=['plan'], \n",
    "                            values=['duration'], \n",
    "                            aggfunc=['mean'] \n",
    "                            ).reset_index()\n",
    "\n",
    "mean_mins.columns = ['month', 'calls_mins_surf', 'calls_mins_ultimate']\n",
    "mean_mins['calls_mins_surf'] = round(mean_mins['calls_mins_surf'],2)\n",
    "mean_mins['calls_mins_ultimate'] = round(mean_mins['calls_mins_ultimate'],2)\n",
    "print(mean_mins)\n",
    "\n",
    "mean_mins.plot(kind = \"bar\", \n",
    "               x = \"month\",\n",
    "               title = \"Duración de llamadas por mes\",\n",
    "               xlabel = \"mes\",\n",
    "               ylabel = \"duración promedio - mins\")\n"
   ]
  },
  {
   "cell_type": "markdown",
   "metadata": {},
   "source": [
    "La duración de las llamadas entre planes no tiene una diferencia significativa, el tiempo promedio de llamada se encuentra entre 6 y 7 minutos"
   ]
  },
  {
   "cell_type": "code",
   "execution_count": 32,
   "metadata": {
    "id": "QoLqW1S_0q1J"
   },
   "outputs": [
    {
     "name": "stdout",
     "output_type": "stream",
     "text": [
      "     month     surf  ultimate\n",
      "0     1000      NaN    116.83\n",
      "1     1001  1640.46       NaN\n",
      "2     1002   777.13       NaN\n",
      "3     1003  1041.00       NaN\n",
      "4     1004  2618.95       NaN\n",
      "..     ...      ...       ...\n",
      "495   1495  1666.41       NaN\n",
      "496   1496  1376.21       NaN\n",
      "497   1497      NaN    276.53\n",
      "498   1498  3029.97       NaN\n",
      "499   1499  1450.31       NaN\n",
      "\n",
      "[500 rows x 3 columns]\n"
     ]
    },
    {
     "data": {
      "text/plain": [
       "([<matplotlib.axis.XTick at 0x7f7dc40e8c40>,\n",
       "  <matplotlib.axis.XTick at 0x7f7dc40e8c10>,\n",
       "  <matplotlib.axis.XTick at 0x7f7dc4102fa0>,\n",
       "  <matplotlib.axis.XTick at 0x7f7dc40bb670>,\n",
       "  <matplotlib.axis.XTick at 0x7f7dc40bbb80>,\n",
       "  <matplotlib.axis.XTick at 0x7f7dc40c90d0>,\n",
       "  <matplotlib.axis.XTick at 0x7f7dc40c95e0>,\n",
       "  <matplotlib.axis.XTick at 0x7f7dc40e47f0>,\n",
       "  <matplotlib.axis.XTick at 0x7f7dc407d2b0>,\n",
       "  <matplotlib.axis.XTick at 0x7f7dc407d7c0>,\n",
       "  <matplotlib.axis.XTick at 0x7f7dc407dcd0>,\n",
       "  <matplotlib.axis.XTick at 0x7f7dc4083220>,\n",
       "  <matplotlib.axis.XTick at 0x7f7dc4083730>,\n",
       "  <matplotlib.axis.XTick at 0x7f7dc407d910>,\n",
       "  <matplotlib.axis.XTick at 0x7f7dc4083af0>,\n",
       "  <matplotlib.axis.XTick at 0x7f7dc4083e20>,\n",
       "  <matplotlib.axis.XTick at 0x7f7dc4089370>,\n",
       "  <matplotlib.axis.XTick at 0x7f7dc4089880>],\n",
       " [Text(0, 0, ''),\n",
       "  Text(0, 0, ''),\n",
       "  Text(0, 0, ''),\n",
       "  Text(0, 0, ''),\n",
       "  Text(0, 0, ''),\n",
       "  Text(0, 0, ''),\n",
       "  Text(0, 0, ''),\n",
       "  Text(0, 0, ''),\n",
       "  Text(0, 0, ''),\n",
       "  Text(0, 0, ''),\n",
       "  Text(0, 0, ''),\n",
       "  Text(0, 0, ''),\n",
       "  Text(0, 0, ''),\n",
       "  Text(0, 0, ''),\n",
       "  Text(0, 0, ''),\n",
       "  Text(0, 0, ''),\n",
       "  Text(0, 0, ''),\n",
       "  Text(0, 0, '')])"
      ]
     },
     "execution_count": 32,
     "metadata": {},
     "output_type": "execute_result"
    },
    {
     "data": {
      "image/png": "[encoded data removed]",
      "text/plain": [
       "<Figure size 432x288 with 1 Axes>"
      ]
     },
     "metadata": {
      "needs_background": "light"
     },
     "output_type": "display_data"
    }
   ],
   "source": [
    "# Compara el número de minutos mensuales que necesitan los usuarios de cada plan. Traza un histograma.\n",
    "mins_per_user = calls_plan.pivot_table(index=['user_id'],\n",
    "                            columns=['plan'], \n",
    "                            values=['duration'], \n",
    "                            aggfunc=['sum'] \n",
    "                            ).reset_index()\n",
    "mins_per_user.columns = ['month', 'surf', 'ultimate']\n",
    "print(mins_per_user)\n",
    "\n",
    "intevalos = [0,500,1000,1500,2000,2500,3000,3500,4000,4500,5000,5500,6000,6500,7000,7500,8000,8500]\n",
    "mins_per_user[\"surf\"].plot(kind = \"hist\", bins = intevalos)\n",
    "mins_per_user[\"ultimate\"].plot(kind = \"hist\", bins = intevalos , alpha = 0.8)\n",
    "plt.title(\"Minutos usados al mes\")\n",
    "plt.xlabel(\"minutos\")\n",
    "plt.ylabel(\"frecuencia\")\n",
    "plt.legend([\"surf\",\"ultimate\"])\n",
    "plt.xticks([0,500,1000,1500,2000,2500,3000,3500,4000,4500,5000,5500,6000,6500,7000,7500,8000,8500], rotation='vertical')\n"
   ]
  },
  {
   "cell_type": "markdown",
   "metadata": {},
   "source": [
    "Los usuarios del plan surf utilizan más el servicio de llamadas, sin embargo, tienen solo 500 min incluidos por lo que la mayoría tendrán que pagar más minutos extra"
   ]
  },
  {
   "cell_type": "markdown",
   "metadata": {
    "id": "bLS9T8OH0q1K"
   },
   "source": [
    "[Calcula la media y la variable de la duración de las llamadas para averiguar si los usuarios de los distintos planes se comportan de forma diferente al realizar sus llamadas.]"
   ]
  },
  {
   "cell_type": "code",
   "execution_count": 33,
   "metadata": {
    "id": "oSndbAnt0q1K"
   },
   "outputs": [
    {
     "name": "stdout",
     "output_type": "stream",
     "text": [
      "La media de llamadas en el plan surf es:  1878.15\n",
      "La media de llamadas en el plan ultimate es:  1816.52\n",
      "\n",
      "La varianza de llamadas en el plan surf es:  2653038.36\n",
      "La varianza de llamadas en el plan ultimate es:  2592559.04\n"
     ]
    }
   ],
   "source": [
    "# Calcula la media y la varianza de la duración mensual de llamadas.\n",
    "\n",
    "mean_duration_surf = mins_per_user[\"surf\"].mean().round(2) \n",
    "print(\"La media de llamadas en el plan surf es: \", mean_duration_surf)\n",
    "mean_duration_ulti = mins_per_user[\"ultimate\"].mean().round(2) \n",
    "print(\"La media de llamadas en el plan ultimate es: \", mean_duration_ulti)\n",
    "\n",
    "print()\n",
    "\n",
    "var_duration_surf = mins_per_user[\"surf\"].var().round(2)  \n",
    "print(\"La varianza de llamadas en el plan surf es: \", var_duration_surf)\n",
    "var_duration_ulti = mins_per_user[\"ultimate\"].var().round(2) \n",
    "print(\"La varianza de llamadas en el plan ultimate es: \", var_duration_ulti)"
   ]
  },
  {
   "cell_type": "markdown",
   "metadata": {},
   "source": [
    "Estos parametros son similares: Las medias difieren en 3% de diferencia y las varianzas en 2.2%"
   ]
  },
  {
   "cell_type": "code",
   "execution_count": 34,
   "metadata": {
    "id": "nZzoRUKc0q1K"
   },
   "outputs": [
    {
     "name": "stderr",
     "output_type": "stream",
     "text": [
      "/opt/conda/lib/python3.9/site-packages/seaborn/_decorators.py:36: FutureWarning: Pass the following variable as a keyword arg: x. From version 0.12, the only valid positional argument will be `data`, and passing other arguments without an explicit keyword will result in an error or misinterpretation.\n",
      "  warnings.warn(\n"
     ]
    },
    {
     "data": {
      "text/plain": [
       "count     339.000000\n",
       "mean     1878.145251\n",
       "std      1628.815017\n",
       "min         0.000000\n",
       "25%       620.075000\n",
       "50%      1413.010000\n",
       "75%      2732.580000\n",
       "max      8950.280000\n",
       "Name: surf, dtype: float64"
      ]
     },
     "execution_count": 34,
     "metadata": {},
     "output_type": "execute_result"
    },
    {
     "data": {
      "image/png": "[encoded data removed]",
      "text/plain": [
       "<Figure size 432x288 with 1 Axes>"
      ]
     },
     "metadata": {
      "needs_background": "light"
     },
     "output_type": "display_data"
    }
   ],
   "source": [
    "# Traza un diagrama de caja para visualizar la distribución de la duración mensual de llamadas\n",
    "sns.boxplot(mins_per_user[\"surf\"])\n",
    "mins_per_user[\"surf\"].describe()"
   ]
  },
  {
   "cell_type": "code",
   "execution_count": 35,
   "metadata": {},
   "outputs": [
    {
     "name": "stderr",
     "output_type": "stream",
     "text": [
      "/opt/conda/lib/python3.9/site-packages/seaborn/_decorators.py:36: FutureWarning: Pass the following variable as a keyword arg: x. From version 0.12, the only valid positional argument will be `data`, and passing other arguments without an explicit keyword will result in an error or misinterpretation.\n",
      "  warnings.warn(\n"
     ]
    },
    {
     "data": {
      "text/plain": [
       "count     161.000000\n",
       "mean     1816.515652\n",
       "std      1610.142552\n",
       "min         0.000000\n",
       "25%       630.580000\n",
       "50%      1279.240000\n",
       "75%      2648.380000\n",
       "max      8024.090000\n",
       "Name: ultimate, dtype: float64"
      ]
     },
     "execution_count": 35,
     "metadata": {},
     "output_type": "execute_result"
    },
    {
     "data": {
      "image/png": "[encoded data removed]",
      "text/plain": [
       "<Figure size 432x288 with 1 Axes>"
      ]
     },
     "metadata": {
      "needs_background": "light"
     },
     "output_type": "display_data"
    }
   ],
   "source": [
    "sns.boxplot(mins_per_user[\"ultimate\"])\n",
    "mins_per_user[\"ultimate\"].describe()"
   ]
  },
  {
   "cell_type": "markdown",
   "metadata": {
    "id": "r627zBO50q1K"
   },
   "source": [
    "[Elabora las conclusiones sobre el comportamiento de los usuarios con respecto a las llamadas. ¿Su comportamiento varía en función del plan?]\n",
    "\n",
    "En realidad la estadística de la duración de las llamadas no difiere en los planes. Los usuarios se comportan de manera similar. Aunque se resalta que muchos usuarios surf pagan más minutos extra de lo incluido en el plan"
   ]
  },
  {
   "cell_type": "markdown",
   "metadata": {
    "id": "8idKy8Wh0q1L"
   },
   "source": [
    "### Mensajes"
   ]
  },
  {
   "cell_type": "code",
   "execution_count": 36,
   "metadata": {
    "id": "NXLxiTit0q1L"
   },
   "outputs": [
    {
     "name": "stdout",
     "output_type": "stream",
     "text": [
      "<class 'pandas.core.frame.DataFrame'>\n",
      "Int64Index: 76149 entries, 0 to 76148\n",
      "Data columns (total 13 columns):\n",
      " #   Column        Non-Null Count  Dtype         \n",
      "---  ------        --------------  -----         \n",
      " 0   id            76051 non-null  object        \n",
      " 1   user_id       76149 non-null  int64         \n",
      " 2   message_date  76051 non-null  datetime64[ns]\n",
      " 3   month         76051 non-null  float64       \n",
      " 4   first_name    76149 non-null  object        \n",
      " 5   last_name     76149 non-null  object        \n",
      " 6   age           76149 non-null  int64         \n",
      " 7   city          76149 non-null  object        \n",
      " 8   reg_date      76149 non-null  datetime64[ns]\n",
      " 9   plan          76149 non-null  object        \n",
      " 10  churn_date    4406 non-null   datetime64[ns]\n",
      " 11  reg_month     76149 non-null  int64         \n",
      " 12  churn_month   76149 non-null  float64       \n",
      "dtypes: datetime64[ns](3), float64(2), int64(3), object(5)\n",
      "memory usage: 8.1+ MB\n",
      "    month   surf  ultimate\n",
      "0     1.0     21        62\n",
      "1     2.0    108       151\n",
      "2     3.0    351       243\n",
      "3     4.0    870       463\n",
      "4     5.0   1849       931\n",
      "5     6.0   2454      1379\n",
      "6     7.0   3271      1937\n",
      "7     8.0   4662      2732\n",
      "8     9.0   5968      3259\n",
      "9    10.0   8020      4181\n",
      "10   11.0   9165      4903\n",
      "11   12.0  12275      6796\n"
     ]
    },
    {
     "data": {
      "text/plain": [
       "<AxesSubplot:title={'center':'Mensajes enviados por mes'}, xlabel='mes', ylabel='mensajes'>"
      ]
     },
     "execution_count": 36,
     "metadata": {},
     "output_type": "execute_result"
    },
    {
     "data": {
      "image/png": "[encoded data removed]",
      "text/plain": [
       "<Figure size 432x288 with 1 Axes>"
      ]
     },
     "metadata": {
      "needs_background": "light"
     },
     "output_type": "display_data"
    }
   ],
   "source": [
    "# Comprara el número de mensajes que tienden a enviar cada mes los usuarios de cada plan\n",
    "mess_plan = pd.merge(df_messages, df_users, on=\"user_id\", how=\"outer\")\n",
    "mess_plan.info()\n",
    "\n",
    "count_mess = mess_plan.pivot_table(index=['month'],\n",
    "                            columns=['plan'], \n",
    "                            values=['message_date'], \n",
    "                            aggfunc=['count']\n",
    "                            ).reset_index()\n",
    "count_mess.columns = ['month', 'surf', 'ultimate']\n",
    "print(count_mess)\n",
    "\n",
    "count_mess.plot(kind = \"bar\", \n",
    "                x = \"month\",\n",
    "               title = \"Mensajes enviados por mes\",\n",
    "               xlabel = \"mes\",\n",
    "               ylabel = \"mensajes\")\n"
   ]
  },
  {
   "cell_type": "markdown",
   "metadata": {},
   "source": [
    "Los usuarios del plan surf envian más mensajes que los usuarios del plan ultimate"
   ]
  },
  {
   "cell_type": "code",
   "execution_count": 37,
   "metadata": {
    "id": "GRI_R7xF0q1L"
   },
   "outputs": [
    {
     "name": "stdout",
     "output_type": "stream",
     "text": [
      "     month   surf  ultimate\n",
      "0     1000    NaN      11.0\n",
      "1     1001  207.0       NaN\n",
      "2     1002   88.0       NaN\n",
      "3     1003   50.0       NaN\n",
      "4     1004  177.0       NaN\n",
      "..     ...    ...       ...\n",
      "495   1495    0.0       NaN\n",
      "496   1496   65.0       NaN\n",
      "497   1497    NaN      50.0\n",
      "498   1498    0.0       NaN\n",
      "499   1499    0.0       NaN\n",
      "\n",
      "[500 rows x 3 columns]\n"
     ]
    },
    {
     "data": {
      "text/plain": [
       "([<matplotlib.axis.XTick at 0x7f7dc3eced30>,\n",
       "  <matplotlib.axis.XTick at 0x7f7dc3eced00>,\n",
       "  <matplotlib.axis.XTick at 0x7f7dc3e73130>,\n",
       "  <matplotlib.axis.XTick at 0x7f7dc3e8fbb0>,\n",
       "  <matplotlib.axis.XTick at 0x7f7dc3e1d100>,\n",
       "  <matplotlib.axis.XTick at 0x7f7dc3e1d610>,\n",
       "  <matplotlib.axis.XTick at 0x7f7dc3e1db20>,\n",
       "  <matplotlib.axis.XTick at 0x7f7dc3e22070>,\n",
       "  <matplotlib.axis.XTick at 0x7f7dc3e22580>,\n",
       "  <matplotlib.axis.XTick at 0x7f7dc3ec68e0>,\n",
       "  <matplotlib.axis.XTick at 0x7f7dc3e4c1f0>,\n",
       "  <matplotlib.axis.XTick at 0x7f7dc3e4c700>,\n",
       "  <matplotlib.axis.XTick at 0x7f7dc3e4cc10>,\n",
       "  <matplotlib.axis.XTick at 0x7f7dc3e4f160>],\n",
       " [Text(0, 0, ''),\n",
       "  Text(0, 0, ''),\n",
       "  Text(0, 0, ''),\n",
       "  Text(0, 0, ''),\n",
       "  Text(0, 0, ''),\n",
       "  Text(0, 0, ''),\n",
       "  Text(0, 0, ''),\n",
       "  Text(0, 0, ''),\n",
       "  Text(0, 0, ''),\n",
       "  Text(0, 0, ''),\n",
       "  Text(0, 0, ''),\n",
       "  Text(0, 0, ''),\n",
       "  Text(0, 0, ''),\n",
       "  Text(0, 0, '')])"
      ]
     },
     "execution_count": 37,
     "metadata": {},
     "output_type": "execute_result"
    },
    {
     "data": {
      "image/png": "[encoded data removed]",
      "text/plain": [
       "<Figure size 432x288 with 1 Axes>"
      ]
     },
     "metadata": {
      "needs_background": "light"
     },
     "output_type": "display_data"
    }
   ],
   "source": [
    "mess_per_user = mess_plan.pivot_table(index=['user_id'],\n",
    "                            columns=['plan'], \n",
    "                            values=['message_date'], \n",
    "                            aggfunc=['count'] \n",
    "                            ).reset_index()\n",
    "mess_per_user.columns = ['month', 'surf', 'ultimate']\n",
    "print(mess_per_user)\n",
    "\n",
    "mess_per_user[\"surf\"].plot(kind = \"hist\", bins = [0,50,100,200,300,400,500,600,700,800,900,1000,1100,1200], alpha = 1)\n",
    "mess_per_user[\"ultimate\"].plot(kind = \"hist\", bins = [0,50,100,200,300,400,500,600,700,800,900,1000,1100,1200], alpha = 0.8)\n",
    "plt.title(\"Mensajes enviados al mes\")\n",
    "plt.xlabel(\"mensajes\")\n",
    "plt.ylabel(\"frecuencia\")\n",
    "plt.legend([\"surf\",\"ultimate\"])\n",
    "plt.xticks([0,50,100,200,300,400,500,600,700,800,900,1000,1100,1200],rotation='vertical')\n"
   ]
  },
  {
   "cell_type": "markdown",
   "metadata": {},
   "source": [
    "Una vez más los usuarios surf envían más mensajes de los que tienen incluidos en su plan (50), es decir que la mayoría pagará mensajes extra"
   ]
  },
  {
   "cell_type": "code",
   "execution_count": 38,
   "metadata": {
    "id": "dtFwCGAp0q1M"
   },
   "outputs": [
    {
     "name": "stdout",
     "output_type": "stream",
     "text": [
      "La media de mensajes en el plan surf es:  144.58\n",
      "La media de mensajes en el plan ultimate es:  167.93\n",
      "\n",
      "La varianza de mensajes en el plan surf es:  33340.55\n",
      "La varianza de mensajes en el plan ultimate es:  39411.44\n"
     ]
    }
   ],
   "source": [
    "mean_mess_surf = mess_per_user[\"surf\"].mean().round(2) \n",
    "print(\"La media de mensajes en el plan surf es: \", mean_mess_surf)\n",
    "mean_mess_ulti = mess_per_user[\"ultimate\"].mean().round(2) \n",
    "print(\"La media de mensajes en el plan ultimate es: \", mean_mess_ulti)\n",
    "\n",
    "print()\n",
    "\n",
    "var_mess_surf = mess_per_user[\"surf\"].var().round(2)  \n",
    "print(\"La varianza de mensajes en el plan surf es: \", var_mess_surf)\n",
    "var_mess_ulti = mess_per_user[\"ultimate\"].var().round(2) \n",
    "print(\"La varianza de mensajes en el plan ultimate es: \", var_mess_ulti)"
   ]
  },
  {
   "cell_type": "markdown",
   "metadata": {},
   "source": [
    "Las estadísticas en los mensajes difieren, la media difiere 15% y la varianza 18%. Es decir que los usuarios srf envían 15% más mensajes que los usuarios ultimate"
   ]
  },
  {
   "cell_type": "code",
   "execution_count": 39,
   "metadata": {},
   "outputs": [
    {
     "name": "stderr",
     "output_type": "stream",
     "text": [
      "/opt/conda/lib/python3.9/site-packages/seaborn/_decorators.py:36: FutureWarning: Pass the following variable as a keyword arg: x. From version 0.12, the only valid positional argument will be `data`, and passing other arguments without an explicit keyword will result in an error or misinterpretation.\n",
      "  warnings.warn(\n"
     ]
    },
    {
     "data": {
      "text/plain": [
       "count     339.000000\n",
       "mean      144.584071\n",
       "std       182.593936\n",
       "min         0.000000\n",
       "25%        11.000000\n",
       "50%        81.000000\n",
       "75%       208.500000\n",
       "max      1233.000000\n",
       "Name: surf, dtype: float64"
      ]
     },
     "execution_count": 39,
     "metadata": {},
     "output_type": "execute_result"
    },
    {
     "data": {
      "image/png": "[encoded data removed]",
      "text/plain": [
       "<Figure size 432x288 with 1 Axes>"
      ]
     },
     "metadata": {
      "needs_background": "light"
     },
     "output_type": "display_data"
    }
   ],
   "source": [
    "sns.boxplot(mess_per_user[\"surf\"])\n",
    "mess_per_user[\"surf\"].describe()"
   ]
  },
  {
   "cell_type": "code",
   "execution_count": 40,
   "metadata": {},
   "outputs": [
    {
     "name": "stderr",
     "output_type": "stream",
     "text": [
      "/opt/conda/lib/python3.9/site-packages/seaborn/_decorators.py:36: FutureWarning: Pass the following variable as a keyword arg: x. From version 0.12, the only valid positional argument will be `data`, and passing other arguments without an explicit keyword will result in an error or misinterpretation.\n",
      "  warnings.warn(\n"
     ]
    },
    {
     "data": {
      "text/plain": [
       "count     161.000000\n",
       "mean      167.931677\n",
       "std       198.523145\n",
       "min         0.000000\n",
       "25%        17.000000\n",
       "50%        96.000000\n",
       "75%       244.000000\n",
       "max      1288.000000\n",
       "Name: ultimate, dtype: float64"
      ]
     },
     "execution_count": 40,
     "metadata": {},
     "output_type": "execute_result"
    },
    {
     "data": {
      "image/png": "[encoded data removed]",
      "text/plain": [
       "<Figure size 432x288 with 1 Axes>"
      ]
     },
     "metadata": {
      "needs_background": "light"
     },
     "output_type": "display_data"
    }
   ],
   "source": [
    "sns.boxplot(mess_per_user[\"ultimate\"])\n",
    "mess_per_user[\"ultimate\"].describe()"
   ]
  },
  {
   "cell_type": "markdown",
   "metadata": {},
   "source": [
    "Si comparamos las diferencias entre medianas, se observa que los usuarios surf enviar 81 mensajes mientras que los usuarios ultimate mandan 96 (18% más que los surf)"
   ]
  },
  {
   "cell_type": "markdown",
   "metadata": {
    "id": "390SSL480q1M"
   },
   "source": [
    "[Elabora las conclusiones sobre el comportamiento de los usuarios con respecto a los mensajes. ¿Su comportamiento varía en función del plan?]"
   ]
  },
  {
   "cell_type": "markdown",
   "metadata": {
    "id": "42YSypXz0q1M"
   },
   "source": [
    "### Internet"
   ]
  },
  {
   "cell_type": "code",
   "execution_count": 41,
   "metadata": {
    "id": "lSuKPtjh0q1M"
   },
   "outputs": [
    {
     "name": "stdout",
     "output_type": "stream",
     "text": [
      "<class 'pandas.core.frame.DataFrame'>\n",
      "Int64Index: 104836 entries, 0 to 104835\n",
      "Data columns (total 15 columns):\n",
      " #   Column        Non-Null Count   Dtype         \n",
      "---  ------        --------------   -----         \n",
      " 0   id            104825 non-null  object        \n",
      " 1   user_id       104836 non-null  int64         \n",
      " 2   session_date  104825 non-null  datetime64[ns]\n",
      " 3   mb_used       104825 non-null  float64       \n",
      " 4   month         104825 non-null  float64       \n",
      " 5   gb_used       104825 non-null  float64       \n",
      " 6   first_name    104836 non-null  object        \n",
      " 7   last_name     104836 non-null  object        \n",
      " 8   age           104836 non-null  int64         \n",
      " 9   city          104836 non-null  object        \n",
      " 10  reg_date      104836 non-null  datetime64[ns]\n",
      " 11  plan          104836 non-null  object        \n",
      " 12  churn_date    7468 non-null    datetime64[ns]\n",
      " 13  reg_month     104836 non-null  int64         \n",
      " 14  churn_month   104836 non-null  float64       \n",
      "dtypes: datetime64[ns](3), float64(4), int64(3), object(5)\n",
      "memory usage: 12.8+ MB\n",
      "    month     surf  ultimate\n",
      "0     1.0     9.74     27.67\n",
      "1     2.0   109.55    119.83\n",
      "2     3.0   307.00    219.86\n",
      "3     4.0   599.21    338.57\n",
      "4     5.0  1073.27    481.89\n",
      "5     6.0  1484.25    720.98\n",
      "6     7.0  2030.99    964.25\n",
      "7     8.0  2721.01   1264.77\n",
      "8     9.0  3218.52   1459.36\n",
      "9    10.0  4102.97   1867.07\n",
      "10   11.0  4624.12   2163.46\n",
      "11   12.0  5766.36   2766.77\n"
     ]
    },
    {
     "data": {
      "text/plain": [
       "<AxesSubplot:title={'center':'gbs usados por mes'}, xlabel='mes', ylabel='gbs'>"
      ]
     },
     "execution_count": 41,
     "metadata": {},
     "output_type": "execute_result"
    },
    {
     "data": {
      "image/png": "[encoded data removed]",
      "text/plain": [
       "<Figure size 432x288 with 1 Axes>"
      ]
     },
     "metadata": {
      "needs_background": "light"
     },
     "output_type": "display_data"
    }
   ],
   "source": [
    "inte_plan = pd.merge(df_internet, df_users, on=\"user_id\", how=\"outer\")\n",
    "inte_plan.info()\n",
    "\n",
    "sum_inte= inte_plan.pivot_table(index=['month'],\n",
    "                            columns=['plan'], \n",
    "                            values=['gb_used'], \n",
    "                            aggfunc=['sum']\n",
    "                            ).reset_index()\n",
    "sum_inte.columns = ['month', 'surf', 'ultimate']\n",
    "print(sum_inte)\n",
    "\n",
    "sum_inte.plot(kind = \"bar\", \n",
    "              x = \"month\",\n",
    "               title = \"gbs usados por mes\",\n",
    "               xlabel = \"mes\",\n",
    "               ylabel = \"gbs\")\n"
   ]
  },
  {
   "cell_type": "markdown",
   "metadata": {},
   "source": [
    "Una vez más los usuarios surf usan más gbs del servicio de internet"
   ]
  },
  {
   "cell_type": "code",
   "execution_count": 42,
   "metadata": {
    "id": "wnh8jYXi0q1N"
   },
   "outputs": [
    {
     "name": "stdout",
     "output_type": "stream",
     "text": [
      "     month    surf  ultimate\n",
      "0     1000     NaN       1.9\n",
      "1     1001   80.37       NaN\n",
      "2     1002   40.31       NaN\n",
      "3     1003   27.05       NaN\n",
      "4     1004  156.38       NaN\n",
      "..     ...     ...       ...\n",
      "495   1495   98.91       NaN\n",
      "496   1496   64.26       NaN\n",
      "497   1497     NaN      11.1\n",
      "498   1498  227.52       NaN\n",
      "499   1499   71.32       NaN\n",
      "\n",
      "[500 rows x 3 columns]\n"
     ]
    },
    {
     "data": {
      "text/plain": [
       "(array([-50.,   0.,  50., 100., 150., 200., 250., 300., 350., 400., 450.]),\n",
       " [Text(0, 0, ''),\n",
       "  Text(0, 0, ''),\n",
       "  Text(0, 0, ''),\n",
       "  Text(0, 0, ''),\n",
       "  Text(0, 0, ''),\n",
       "  Text(0, 0, ''),\n",
       "  Text(0, 0, ''),\n",
       "  Text(0, 0, ''),\n",
       "  Text(0, 0, ''),\n",
       "  Text(0, 0, ''),\n",
       "  Text(0, 0, '')])"
      ]
     },
     "execution_count": 42,
     "metadata": {},
     "output_type": "execute_result"
    },
    {
     "data": {
      "image/png": "[encoded data removed]",
      "text/plain": [
       "<Figure size 432x288 with 1 Axes>"
      ]
     },
     "metadata": {
      "needs_background": "light"
     },
     "output_type": "display_data"
    }
   ],
   "source": [
    "inte_per_user = inte_plan.pivot_table(index=['user_id'],\n",
    "                            columns=['plan'], \n",
    "                            values=['gb_used'], \n",
    "                            aggfunc=['sum']\n",
    "                            ).reset_index()\n",
    "inte_per_user.columns = ['month', 'surf', 'ultimate']\n",
    "print(inte_per_user)\n",
    "\n",
    "inte_per_user[\"surf\"].plot(kind = \"hist\", bins = 25, alpha = 1)\n",
    "inte_per_user[\"ultimate\"].plot(kind = \"hist\", bins = 25, alpha = 0.8)\n",
    "plt.title(\"mbs usados al mes\")\n",
    "plt.xlabel(\"mbs\")\n",
    "plt.ylabel(\"frecuencia\")\n",
    "plt.legend([\"surf\",\"ultimate\"])\n",
    "plt.xticks(rotation='vertical')"
   ]
  },
  {
   "cell_type": "markdown",
   "metadata": {},
   "source": [
    "En este caso el histograma nos dice que los usuarios se comprotan de manera similar en el uso de internet"
   ]
  },
  {
   "cell_type": "markdown",
   "metadata": {
    "id": "5VlyJ9ry0q1N"
   },
   "source": []
  },
  {
   "cell_type": "code",
   "execution_count": 43,
   "metadata": {},
   "outputs": [
    {
     "name": "stdout",
     "output_type": "stream",
     "text": [
      "La media de mbs usados en el plan surf es:  76.83\n",
      "La media de mbs usados en el plan ultimate es:  76.98\n",
      "\n",
      "La varianza de mbs usados en el plan surf es:  3620.39\n",
      "La varianza de mbs usados en el plan ultimate es:  4469.55\n"
     ]
    }
   ],
   "source": [
    "mean_inte_surf = inte_per_user[\"surf\"].mean().round(2) \n",
    "print(\"La media de mbs usados en el plan surf es: \", mean_inte_surf)\n",
    "mean_inte_ulti = inte_per_user[\"ultimate\"].mean().round(2) \n",
    "print(\"La media de mbs usados en el plan ultimate es: \", mean_inte_ulti)\n",
    "\n",
    "print()\n",
    "\n",
    "var_inte_surf = inte_per_user[\"surf\"].var().round(2)  \n",
    "print(\"La varianza de mbs usados en el plan surf es: \", var_inte_surf)\n",
    "var_inte_ulti = inte_per_user[\"ultimate\"].var().round(2) \n",
    "print(\"La varianza de mbs usados en el plan ultimate es: \", var_inte_ulti)"
   ]
  },
  {
   "cell_type": "markdown",
   "metadata": {},
   "source": [
    "La media de los msb usados es similar, sin embargo el comportamiento de los usuarios es más disperso en los ultimate"
   ]
  },
  {
   "cell_type": "code",
   "execution_count": 44,
   "metadata": {},
   "outputs": [
    {
     "name": "stderr",
     "output_type": "stream",
     "text": [
      "/opt/conda/lib/python3.9/site-packages/seaborn/_decorators.py:36: FutureWarning: Pass the following variable as a keyword arg: x. From version 0.12, the only valid positional argument will be `data`, and passing other arguments without an explicit keyword will result in an error or misinterpretation.\n",
      "  warnings.warn(\n"
     ]
    },
    {
     "data": {
      "text/plain": [
       "count    339.000000\n",
       "mean      76.834779\n",
       "std       60.169675\n",
       "min        0.000000\n",
       "25%       28.235000\n",
       "50%       62.240000\n",
       "75%      116.950000\n",
       "max      312.510000\n",
       "Name: surf, dtype: float64"
      ]
     },
     "execution_count": 44,
     "metadata": {},
     "output_type": "execute_result"
    },
    {
     "data": {
      "image/png": "[encoded data removed]",
      "text/plain": [
       "<Figure size 432x288 with 1 Axes>"
      ]
     },
     "metadata": {
      "needs_background": "light"
     },
     "output_type": "display_data"
    }
   ],
   "source": [
    "sns.boxplot(inte_per_user[\"surf\"])\n",
    "inte_per_user[\"surf\"].describe()"
   ]
  },
  {
   "cell_type": "code",
   "execution_count": 45,
   "metadata": {},
   "outputs": [
    {
     "name": "stderr",
     "output_type": "stream",
     "text": [
      "/opt/conda/lib/python3.9/site-packages/seaborn/_decorators.py:36: FutureWarning: Pass the following variable as a keyword arg: x. From version 0.12, the only valid positional argument will be `data`, and passing other arguments without an explicit keyword will result in an error or misinterpretation.\n",
      "  warnings.warn(\n"
     ]
    },
    {
     "data": {
      "text/plain": [
       "count    161.000000\n",
       "mean      76.984348\n",
       "std       66.854689\n",
       "min        0.000000\n",
       "25%       25.070000\n",
       "50%       58.600000\n",
       "75%      106.570000\n",
       "max      390.110000\n",
       "Name: ultimate, dtype: float64"
      ]
     },
     "execution_count": 45,
     "metadata": {},
     "output_type": "execute_result"
    },
    {
     "data": {
      "image/png": "[encoded data removed]",
      "text/plain": [
       "<Figure size 432x288 with 1 Axes>"
      ]
     },
     "metadata": {
      "needs_background": "light"
     },
     "output_type": "display_data"
    }
   ],
   "source": [
    "sns.boxplot(inte_per_user[\"ultimate\"])\n",
    "inte_per_user[\"ultimate\"].describe()"
   ]
  },
  {
   "cell_type": "markdown",
   "metadata": {
    "id": "UN9zwuMP0q1N"
   },
   "source": [
    "[Elabora las conclusiones sobre cómo los usuarios tienden a consumir el tráfico de Internet. ¿Su comportamiento varía en función del plan?]\n",
    "\n",
    "Estadísticamente el comportamiento de los usuarios en el uso de internet es similar, según la mediana. Pero en comparación a los gráficos, los usuarios surf usan más gb."
   ]
  },
  {
   "cell_type": "markdown",
   "metadata": {},
   "source": [
    "<div class=\"alert alert-block alert-success\">\n",
    "<b>Comentario revisor</b> <a class=\"tocSkip\"></a>\n",
    "\n",
    " Muy buena prática la de usar distintos tipos de gráficas identificar algunos hallazgos y llegar a conclusiones\n",
    "</div>"
   ]
  },
  {
   "cell_type": "markdown",
   "metadata": {
    "id": "tCijq3260q1N"
   },
   "source": [
    "## Ingreso"
   ]
  },
  {
   "cell_type": "markdown",
   "metadata": {
    "id": "9nq5IAcy0q1O"
   },
   "source": [
    "[Del mismo modo que has estudiado el comportamiento de los usuarios, describe estadísticamente los ingresos de los planes.]"
   ]
  },
  {
   "cell_type": "code",
   "execution_count": 46,
   "metadata": {
    "id": "tz-dq_V00q1O"
   },
   "outputs": [
    {
     "name": "stdout",
     "output_type": "stream",
     "text": [
      "    month      surf  ultimate\n",
      "0     0.0      0.00       0.0\n",
      "1     1.0     40.00     280.0\n",
      "2     2.0    319.57     490.0\n",
      "3     3.0   1066.65     896.0\n",
      "4     4.0   2065.53    1540.0\n",
      "5     5.0   3717.37    2051.0\n",
      "6     6.0   4809.80    3367.0\n",
      "7     7.0   7713.56    4249.0\n",
      "8     8.0  10526.85    5173.0\n",
      "9     9.0  11444.67    6195.0\n",
      "10   10.0  15664.83    7665.0\n",
      "11   11.0  16635.21    9121.0\n",
      "12   12.0  22657.14   11088.0\n"
     ]
    },
    {
     "data": {
      "text/plain": [
       "<AxesSubplot:title={'center':'Ingresos por mes'}, xlabel='mes', ylabel='usd'>"
      ]
     },
     "execution_count": 46,
     "metadata": {},
     "output_type": "execute_result"
    },
    {
     "data": {
      "image/png": "[encoded data removed]",
      "text/plain": [
       "<Figure size 432x288 with 1 Axes>"
      ]
     },
     "metadata": {
      "needs_background": "light"
     },
     "output_type": "display_data"
    }
   ],
   "source": [
    "ing_plan= df_ing.pivot_table(index=['month'],\n",
    "                            columns=['plan'], \n",
    "                            values=['ing'], \n",
    "                            aggfunc=['sum']\n",
    "                            ).reset_index()\n",
    "ing_plan.columns = ['month', 'surf', 'ultimate']\n",
    "print(ing_plan)\n",
    "\n",
    "ing_plan.plot(kind = \"bar\", \n",
    "              x = \"month\",\n",
    "               title = \"Ingresos por mes\",\n",
    "               xlabel = \"mes\",\n",
    "               ylabel = \"usd\")"
   ]
  },
  {
   "cell_type": "markdown",
   "metadata": {},
   "source": [
    "Los usuarios surf son quienes proveen de los ingresos a la empresa. Probablemente se deba a que deben pagar más por minutos, mensajes y gb extra."
   ]
  },
  {
   "cell_type": "code",
   "execution_count": 47,
   "metadata": {
    "id": "0Y1v8ZUz0q1P"
   },
   "outputs": [
    {
     "name": "stdout",
     "output_type": "stream",
     "text": [
      "     month    surf  ultimate\n",
      "0     1000     NaN      70.0\n",
      "1     1001  260.09       NaN\n",
      "2     1002  100.00       NaN\n",
      "3     1003  158.12       NaN\n",
      "4     1004  630.00       NaN\n",
      "..     ...     ...       ...\n",
      "495   1495  473.30       NaN\n",
      "496   1496  140.00       NaN\n",
      "497   1497     NaN      70.0\n",
      "498   1498  860.00       NaN\n",
      "499   1499  220.00       NaN\n",
      "\n",
      "[500 rows x 3 columns]\n"
     ]
    },
    {
     "data": {
      "text/plain": [
       "(array([-250.,    0.,  250.,  500.,  750., 1000., 1250., 1500., 1750.,\n",
       "        2000.]),\n",
       " [Text(0, 0, ''),\n",
       "  Text(0, 0, ''),\n",
       "  Text(0, 0, ''),\n",
       "  Text(0, 0, ''),\n",
       "  Text(0, 0, ''),\n",
       "  Text(0, 0, ''),\n",
       "  Text(0, 0, ''),\n",
       "  Text(0, 0, ''),\n",
       "  Text(0, 0, ''),\n",
       "  Text(0, 0, '')])"
      ]
     },
     "execution_count": 47,
     "metadata": {},
     "output_type": "execute_result"
    },
    {
     "data": {
      "image/png": "[encoded data removed]",
      "text/plain": [
       "<Figure size 432x288 with 1 Axes>"
      ]
     },
     "metadata": {
      "needs_background": "light"
     },
     "output_type": "display_data"
    }
   ],
   "source": [
    "ing_per_user = df_ing.pivot_table(index=['user_id'],\n",
    "                            columns=['plan'], \n",
    "                            values=['ing'], \n",
    "                            aggfunc=['sum'] ,\n",
    "                            ).reset_index()\n",
    "ing_per_user.columns = ['month', 'surf', 'ultimate']\n",
    "print(ing_per_user)\n",
    "\n",
    "ing_per_user[\"surf\"].plot(kind='hist') \n",
    "ing_per_user[\"ultimate\"].plot(kind='hist', alpha = 0.8) \n",
    "plt.title(\"ingreso  al mes\")\n",
    "plt.xlabel(\"usd\")\n",
    "plt.ylabel(\"frecuencia\")\n",
    "plt.legend([\"surf\",\"ultimate\"])\n",
    "plt.xticks(rotation='vertical')\n"
   ]
  },
  {
   "cell_type": "markdown",
   "metadata": {
    "id": "bYmwxyVh0q1P"
   },
   "source": [
    "La distribución en los histogramas muestran que el ingreso de surf por cada usuario se encuentra entre 0 y 1000 usd, mientras que los usuarios ultimate pagan de 0 hasta 800 usd"
   ]
  },
  {
   "cell_type": "code",
   "execution_count": 48,
   "metadata": {},
   "outputs": [
    {
     "name": "stdout",
     "output_type": "stream",
     "text": [
      "La media de ingresos en el plan surf es:  285.14\n",
      "La media de ingresos en el plan ultimate es:  323.7\n",
      "\n",
      "La varianza de ingresos en el plan surf es:  87181.85\n",
      "La varianza de ingresos en el plan ultimate es:  52040.31\n"
     ]
    }
   ],
   "source": [
    "mean_ing_surf = ing_per_user[\"surf\"].mean().round(2) \n",
    "print(\"La media de ingresos en el plan surf es: \", mean_ing_surf)\n",
    "mean_ing_ulti = ing_per_user[\"ultimate\"].mean().round(2) \n",
    "print(\"La media de ingresos en el plan ultimate es: \", mean_ing_ulti)\n",
    "\n",
    "print()\n",
    "\n",
    "var_ing_surf = ing_per_user[\"surf\"].var().round(2)  \n",
    "print(\"La varianza de ingresos en el plan surf es: \", var_ing_surf)\n",
    "var_ing_ulti = ing_per_user[\"ultimate\"].var().round(2) \n",
    "print(\"La varianza de ingresos en el plan ultimate es: \", var_ing_ulti)"
   ]
  },
  {
   "cell_type": "markdown",
   "metadata": {},
   "source": [
    "La difenrencia de ingresos es notable, los usuarios ultimate pagan alrededor del 60% más que los usuarios surf. la varianza es diferente entre planes, el pago de los usuarios surf son más dispersos que los usuarios ultimate"
   ]
  },
  {
   "cell_type": "code",
   "execution_count": 49,
   "metadata": {},
   "outputs": [
    {
     "name": "stderr",
     "output_type": "stream",
     "text": [
      "/opt/conda/lib/python3.9/site-packages/seaborn/_decorators.py:36: FutureWarning: Pass the following variable as a keyword arg: x. From version 0.12, the only valid positional argument will be `data`, and passing other arguments without an explicit keyword will result in an error or misinterpretation.\n",
      "  warnings.warn(\n"
     ]
    },
    {
     "data": {
      "text/plain": [
       "count     339.000000\n",
       "mean      285.136224\n",
       "std       295.265727\n",
       "min         0.000000\n",
       "25%        81.735000\n",
       "50%       200.000000\n",
       "75%       378.320000\n",
       "max      1850.860000\n",
       "Name: surf, dtype: float64"
      ]
     },
     "execution_count": 49,
     "metadata": {},
     "output_type": "execute_result"
    },
    {
     "data": {
      "image/png": "[encoded data removed]",
      "text/plain": [
       "<Figure size 432x288 with 1 Axes>"
      ]
     },
     "metadata": {
      "needs_background": "light"
     },
     "output_type": "display_data"
    }
   ],
   "source": [
    "sns.boxplot(ing_per_user[\"surf\"])\n",
    "ing_per_user[\"surf\"].describe()"
   ]
  },
  {
   "cell_type": "code",
   "execution_count": 50,
   "metadata": {},
   "outputs": [
    {
     "name": "stderr",
     "output_type": "stream",
     "text": [
      "/opt/conda/lib/python3.9/site-packages/seaborn/_decorators.py:36: FutureWarning: Pass the following variable as a keyword arg: x. From version 0.12, the only valid positional argument will be `data`, and passing other arguments without an explicit keyword will result in an error or misinterpretation.\n",
      "  warnings.warn(\n"
     ]
    },
    {
     "data": {
      "text/plain": [
       "count     161.000000\n",
       "mean      323.695652\n",
       "std       228.123460\n",
       "min         0.000000\n",
       "25%       140.000000\n",
       "50%       280.000000\n",
       "75%       490.000000\n",
       "max      1330.000000\n",
       "Name: ultimate, dtype: float64"
      ]
     },
     "execution_count": 50,
     "metadata": {},
     "output_type": "execute_result"
    },
    {
     "data": {
      "image/png": "[encoded data removed]",
      "text/plain": [
       "<Figure size 432x288 with 1 Axes>"
      ]
     },
     "metadata": {
      "needs_background": "light"
     },
     "output_type": "display_data"
    }
   ],
   "source": [
    "sns.boxplot(ing_per_user[\"ultimate\"])\n",
    "ing_per_user[\"ultimate\"].describe()"
   ]
  },
  {
   "cell_type": "markdown",
   "metadata": {
    "id": "KAFidcXZ0q1P"
   },
   "source": [
    "[Elabora las conclusiones sobre cómo difiere el ingreso entre los planes.]\n",
    "Existen diferencias notables frente a los ingresos,  los usuarios surf pagan 200 usd como mediana de acuerdo al diagrama de caja, al contrario los usuarios ultimate que pagan 285 usd. Los mayores ingresos para la operadora telefónica provienen de sus usuarios surf, porque el número de usuarios es mucho mayor."
   ]
  },
  {
   "cell_type": "markdown",
   "metadata": {},
   "source": [
    "<div class=\"alert alert-block alert-warning\">\n",
    "\n",
    "<b>Comentario revisor</b> <a class=\"tocSkip\"></a>\n",
    "\n",
    "Te recomiendo obtener estadística descriptiva de cada partida (llamadas, mensajes, internet) e ingresos por plan (media, mediana, moda, desviación típica, varianza) para identificar la distribución de los datos y algunos hallazgos antes de pasar a las pruebas de hipótesis.\n",
    "\n",
    "</div>"
   ]
  },
  {
   "cell_type": "markdown",
   "metadata": {
    "id": "ajJ7VKeI0q1Q"
   },
   "source": [
    "## Prueba las hipótesis estadísticas"
   ]
  },
  {
   "cell_type": "markdown",
   "metadata": {},
   "source": [
    "<div class=\"alert alert-block alert-warning\">\n",
    "\n",
    "<b>Comentario revisor</b> <a class=\"tocSkip\"></a>\n",
    "\n",
    "Cuando hacemos análisis de datos, es muy buena prática eliminar valores atipicos que puedan sesgar nuestros resultados. En este caso elaminar estos valores puedes ser útiles para tener una mejor respuesta de las pruebas de hipóstesis sobre si son iguales o diferentes los ingresos promedios de los usuarios de ambos planes y de los ingresos promedio de los usuarios del área NY-NJ.\n",
    "\n",
    "</div>"
   ]
  },
  {
   "cell_type": "markdown",
   "metadata": {
    "id": "AdXAZ-yL0q1Q"
   },
   "source": [
    "[Prueba la hipótesis de que son diferentes los ingresos promedio procedentes de los usuarios de los planes de llamada Ultimate y Surf.]"
   ]
  },
  {
   "cell_type": "markdown",
   "metadata": {
    "id": "IQwa_hsh0q1Q"
   },
   "source": [
    "[Elabora las hipótesis nula y alternativa, escoge la prueba estadística, determina el valor alfa.]\n",
    "\n",
    "Hipótesis nula: Los ingresos del plan surf no son iguales a los ingresos del plan ultimate\n",
    "Hipótesis alternativa: Los ingresos del plan surf son iguales a los ingresos del plan ultimate\n",
    "\n",
    "Se aplica la prueba estadística \"Hipótesis sobre la igualdad de las medias de dos poblaciones\"\n",
    "alpha = 5%\n",
    "la varianza entre poblaciones es diferente"
   ]
  },
  {
   "cell_type": "code",
   "execution_count": 51,
   "metadata": {
    "id": "nFoPNlPq0q1R"
   },
   "outputs": [
    {
     "name": "stderr",
     "output_type": "stream",
     "text": [
      "/opt/conda/lib/python3.9/site-packages/seaborn/_decorators.py:36: FutureWarning: Pass the following variable as a keyword arg: x. From version 0.12, the only valid positional argument will be `data`, and passing other arguments without an explicit keyword will result in an error or misinterpretation.\n",
      "  warnings.warn(\n"
     ]
    },
    {
     "data": {
      "text/plain": [
       "count     339.000000\n",
       "mean      285.136224\n",
       "std       295.265727\n",
       "min         0.000000\n",
       "25%        81.735000\n",
       "50%       200.000000\n",
       "75%       378.320000\n",
       "max      1850.860000\n",
       "Name: surf, dtype: float64"
      ]
     },
     "execution_count": 51,
     "metadata": {},
     "output_type": "execute_result"
    },
    {
     "data": {
      "image/png": "[encoded data removed]",
      "text/plain": [
       "<Figure size 432x288 with 1 Axes>"
      ]
     },
     "metadata": {
      "needs_background": "light"
     },
     "output_type": "display_data"
    }
   ],
   "source": [
    "ing_surf = pd.DataFrame\n",
    "ing_surf = ing_per_user[\"surf\"]\n",
    "ing_surf = ing_surf.dropna()\n",
    "sns.boxplot(ing_surf)\n",
    "ing_surf.describe()"
   ]
  },
  {
   "cell_type": "code",
   "execution_count": 52,
   "metadata": {},
   "outputs": [
    {
     "name": "stdout",
     "output_type": "stream",
     "text": [
      "El número de datos de ing_surf es: 339\n",
      "\n",
      "El número de datos de corr_ing_surf es: 323\n"
     ]
    }
   ],
   "source": [
    "# CORRECCION VALORES ATIPICOS\n",
    "print (\"El número de datos de ing_surf es:\", len(ing_surf))\n",
    "print()\n",
    "# Calcular pencentiles\n",
    "cuartil3 = ing_surf.quantile(0.75)\n",
    "cuartil1 = ing_surf.quantile(0.25)\n",
    "\n",
    "# Calcular IQR\n",
    "iqr = cuartil3 - cuartil1\n",
    "\n",
    "# Límites upper y lower\n",
    "upper = cuartil3 + (1.5 * iqr)\n",
    "lower = cuartil1 - (1.5 * iqr)\n",
    "\n",
    "#Eliminar outliers\n",
    "corr_ing_surf = ing_surf.where((ing_surf > lower) & (ing_surf < upper), None)\n",
    "corr_ing_surf = corr_ing_surf.dropna()\n",
    "print (\"El número de datos de corr_ing_surf es:\", len(corr_ing_surf))\n"
   ]
  },
  {
   "cell_type": "code",
   "execution_count": 53,
   "metadata": {},
   "outputs": [
    {
     "name": "stderr",
     "output_type": "stream",
     "text": [
      "/opt/conda/lib/python3.9/site-packages/seaborn/_decorators.py:36: FutureWarning: Pass the following variable as a keyword arg: x. From version 0.12, the only valid positional argument will be `data`, and passing other arguments without an explicit keyword will result in an error or misinterpretation.\n",
      "  warnings.warn(\n"
     ]
    },
    {
     "name": "stdout",
     "output_type": "stream",
     "text": [
      "0       70.0\n",
      "6      154.0\n",
      "8      210.0\n",
      "11     490.0\n",
      "13      70.0\n",
      "       ...  \n",
      "482    210.0\n",
      "487     70.0\n",
      "490    686.0\n",
      "493    350.0\n",
      "497     70.0\n",
      "Name: ultimate, Length: 161, dtype: float64\n",
      "\n"
     ]
    },
    {
     "data": {
      "text/plain": [
       "count     161.000000\n",
       "mean      323.695652\n",
       "std       228.123460\n",
       "min         0.000000\n",
       "25%       140.000000\n",
       "50%       280.000000\n",
       "75%       490.000000\n",
       "max      1330.000000\n",
       "Name: ultimate, dtype: float64"
      ]
     },
     "execution_count": 53,
     "metadata": {},
     "output_type": "execute_result"
    },
    {
     "data": {
      "image/png": "[encoded data removed]",
      "text/plain": [
       "<Figure size 432x288 with 1 Axes>"
      ]
     },
     "metadata": {
      "needs_background": "light"
     },
     "output_type": "display_data"
    }
   ],
   "source": [
    "ing_ultimate = pd.DataFrame\n",
    "ing_ultimate = ing_per_user[\"ultimate\"]\n",
    "ing_ultimate = ing_ultimate.dropna()\n",
    "print(ing_ultimate)\n",
    "print()\n",
    "sns.boxplot(ing_ultimate)\n",
    "ing_ultimate.describe()"
   ]
  },
  {
   "cell_type": "code",
   "execution_count": 54,
   "metadata": {},
   "outputs": [
    {
     "name": "stdout",
     "output_type": "stream",
     "text": [
      "El número de datos de ing_ultimate es: 161\n",
      "\n",
      "El número de datos de corr_ing_ultimate es: 160\n",
      "\n"
     ]
    }
   ],
   "source": [
    "# CORRECCION VALORES ATIPICOS\n",
    "print (\"El número de datos de ing_ultimate es:\", len(ing_ultimate))\n",
    "print()\n",
    "\n",
    "# Calcular pencentiles\n",
    "cuartil3_ult = ing_ultimate.quantile(0.75)\n",
    "cuartil1_ult = ing_ultimate.quantile(0.25)\n",
    "\n",
    "# Calcular IQR\n",
    "iqr_ult = cuartil3_ult - cuartil1_ult\n",
    "\n",
    "# Límites upper y lower\n",
    "upper_ult = cuartil3_ult + (1.5 * iqr_ult)\n",
    "lower_ult = cuartil1_ult - (1.5 * iqr_ult)\n",
    "\n",
    "#Eliminar outliers\n",
    "corr_ing_ult = ing_ultimate.where((ing_ultimate > lower_ult) & (ing_ultimate < upper_ult), None)\n",
    "corr_ing_ult = corr_ing_ult.dropna()\n",
    "print (\"El número de datos de corr_ing_ultimate es:\", len(corr_ing_ult))\n",
    "print()\n"
   ]
  },
  {
   "cell_type": "code",
   "execution_count": 55,
   "metadata": {},
   "outputs": [
    {
     "name": "stdout",
     "output_type": "stream",
     "text": [
      "Levene's test statistic: 3.063233853772284\n",
      "p-value: 0.08071973550080562\n",
      "No hay evidencia suficiente que sugiera que las varianzas son significativamente diferentes. Las varianzas son probablemente similares.\n",
      "\n"
     ]
    }
   ],
   "source": [
    "#levene\n",
    "levene_stat, p_value = st.levene(corr_ing_surf, corr_ing_ult)\n",
    "\n",
    "print(\"Levene's test statistic:\", levene_stat)\n",
    "print(\"p-value:\", p_value)\n",
    "\n",
    "if p_value < 0.05:\n",
    "    print(\"Hay evidencia suficiente que sugiera que las varianzas son significativamente diferentes.\")\n",
    "else:\n",
    "    print(\"No hay evidencia suficiente que sugiera que las varianzas son significativamente diferentes. Las varianzas son probablemente similares.\")\n",
    "\n",
    "print()"
   ]
  },
  {
   "cell_type": "code",
   "execution_count": 56,
   "metadata": {},
   "outputs": [
    {
     "name": "stdout",
     "output_type": "stream",
     "text": [
      "valor p:  7.823542244352279e-05\n",
      "Rechazamos la hipótesis nula\n"
     ]
    }
   ],
   "source": [
    "# Prueba las hipótesis\n",
    "alpha = 0.05  # el nivel de significancia estadística crítica\n",
    "\n",
    "# si el valor p es menor que alpha, rechazamos la hipótesis\n",
    "\n",
    "results = scipy.stats.ttest_ind(corr_ing_surf, corr_ing_ult, equal_var = True) # realizar una prueba\n",
    "\n",
    "print('valor p: ', results.pvalue) # extraer el valor p\n",
    "\n",
    "if results.pvalue < alpha: # comparar el valor p con el umbral\n",
    "    print(\"Rechazamos la hipótesis nula\")\n",
    "else:\n",
    "    print(\"No podemos rechazar la hipótesis nula\") "
   ]
  },
  {
   "cell_type": "markdown",
   "metadata": {},
   "source": [
    "<div class=\"alert alert-block alert-success\">\n",
    "<b>Comentario Revisor</b> <a class=\"tocSkip\"></a>\n",
    "\n",
    "Muy buen uso de las pruebas de hipótesis, pero qué conclusiones podríamos identificar de ambas pruebas?  \n",
    "</div>"
   ]
  },
  {
   "cell_type": "markdown",
   "metadata": {},
   "source": [
    "El valor p nos dice que aunque los ingresos promedio para los dos canales son diferentes, existe un 0.1% de probabilidad de obtener aleatoriamente una diferencia de ese tamaño o mayor. Se rechaza la hipótesis de que los ingresos no son iguales, entonces son similares."
   ]
  },
  {
   "cell_type": "markdown",
   "metadata": {
    "id": "tCcAruM60q1R"
   },
   "source": [
    "[Prueba la hipótesis de que el ingreso promedio de los usuarios del área NY-NJ es diferente al de los usuarios de otras regiones.]\n",
    "Si es diferente"
   ]
  },
  {
   "cell_type": "markdown",
   "metadata": {
    "id": "LsBgitqj0q1R"
   },
   "source": [
    "[Elabora las hipótesis nula y alternativa, escoge la prueba estadística, determina el valor alfa.]\n",
    "\n",
    "Hipótesis nula: Los ingresos de los usuarios en NYNJ no son iguales a los ingresos de los usuarios fuera de NYNJ\n",
    "\n",
    "Hipótesis alternativa: Los ingresos de los usuarios en NYNJ son iguales a los ingresos de los usuarios fuera de NYNJ\n",
    "\n",
    "Se aplica la prueba estadística \"Hipótesis sobre la igualdad de las medias de dos poblaciones\"\n",
    "alpha = 5%\n",
    "la varianza entre poblaciones es diferente"
   ]
  },
  {
   "cell_type": "code",
   "execution_count": 57,
   "metadata": {
    "id": "Cqcj7wrZ0q1S"
   },
   "outputs": [
    {
     "name": "stdout",
     "output_type": "stream",
     "text": [
      "      user_id      plan  month                                       city  \\\n",
      "0        1000  ultimate   12.0      Atlanta-Sandy Springs-Roswell, GA MSA   \n",
      "1        1001      surf    8.0            Seattle-Tacoma-Bellevue, WA MSA   \n",
      "2        1001      surf    9.0            Seattle-Tacoma-Bellevue, WA MSA   \n",
      "3        1001      surf   10.0            Seattle-Tacoma-Bellevue, WA MSA   \n",
      "4        1001      surf   11.0            Seattle-Tacoma-Bellevue, WA MSA   \n",
      "...       ...       ...    ...                                        ...   \n",
      "2298     1498      surf   12.0  New York-Newark-Jersey City, NY-NJ-PA MSA   \n",
      "2299     1499      surf    9.0          Orlando-Kissimmee-Sanford, FL MSA   \n",
      "2300     1499      surf   10.0          Orlando-Kissimmee-Sanford, FL MSA   \n",
      "2301     1499      surf   11.0          Orlando-Kissimmee-Sanford, FL MSA   \n",
      "2302     1499      surf   12.0          Orlando-Kissimmee-Sanford, FL MSA   \n",
      "\n",
      "      total_ing  \n",
      "0         70.00  \n",
      "1         20.00  \n",
      "2         20.00  \n",
      "3         90.09  \n",
      "4         60.00  \n",
      "...         ...  \n",
      "2298     100.00  \n",
      "2299      20.00  \n",
      "2300      70.00  \n",
      "2301      40.00  \n",
      "2302      90.00  \n",
      "\n",
      "[2303 rows x 5 columns]\n",
      "\n"
     ]
    }
   ],
   "source": [
    "#crear las series\n",
    "users_ing = pd.merge(df_ing, df_users, on=[\"user_id\",\"plan\"], how=\"outer\")\n",
    "users_ing = users_ing.drop(['first_name', 'last_name', 'age', 'reg_date', 'churn_date', 'churn_month', 'reg_month'], axis=1)\n",
    "users_ing = users_ing.fillna(0)\n",
    "users_ing = users_ing.pivot_table(index=[\"user_id\",\"plan\",\"month\",\"city\"],\n",
    "                                  values=['ing'], \n",
    "                            aggfunc=['sum'] ,\n",
    "                            ).reset_index()\n",
    "users_ing.columns = [\"user_id\",\"plan\",\"month\",\"city\",\"total_ing\"]\n",
    "print(users_ing)\n",
    "print()                             \n"
   ]
  },
  {
   "cell_type": "code",
   "execution_count": 58,
   "metadata": {},
   "outputs": [
    {
     "name": "stdout",
     "output_type": "stream",
     "text": [
      "\n"
     ]
    },
    {
     "name": "stderr",
     "output_type": "stream",
     "text": [
      "/opt/conda/lib/python3.9/site-packages/seaborn/_decorators.py:36: FutureWarning: Pass the following variable as a keyword arg: x. From version 0.12, the only valid positional argument will be `data`, and passing other arguments without an explicit keyword will result in an error or misinterpretation.\n",
      "  warnings.warn(\n"
     ]
    },
    {
     "data": {
      "text/plain": [
       "<AxesSubplot:xlabel='total_ing'>"
      ]
     },
     "execution_count": 58,
     "metadata": {},
     "output_type": "execute_result"
    },
    {
     "data": {
      "image/png": "[encoded data removed]",
      "text/plain": [
       "<Figure size 432x288 with 1 Axes>"
      ]
     },
     "metadata": {
      "needs_background": "light"
     },
     "output_type": "display_data"
    }
   ],
   "source": [
    "NYNJ_ing = users_ing[users_ing['city'].isin(['New York-Newark-Jersey City, NY-NJ-PA MSA'])]\n",
    "\n",
    "NYNJ_ing[\"total_ing\"].describe()\n",
    "print()\n",
    "sns.boxplot(NYNJ_ing[\"total_ing\"])"
   ]
  },
  {
   "cell_type": "code",
   "execution_count": 59,
   "metadata": {},
   "outputs": [
    {
     "name": "stdout",
     "output_type": "stream",
     "text": [
      "El número de datos de NYNJ_t_ing es: 378\n",
      "\n",
      "El número de datos de corr_NYNJ_t_ing es: 362\n",
      "\n"
     ]
    }
   ],
   "source": [
    "# CORRECCION VALORES ATIPICOS\n",
    "NYNJ_t_ing = NYNJ_ing[\"total_ing\"]\n",
    "print (\"El número de datos de NYNJ_t_ing es:\", len(NYNJ_t_ing))\n",
    "print()\n",
    "\n",
    "# Calcular pencentiles\n",
    "cuartil3_NYNJ = NYNJ_t_ing.quantile(0.75)\n",
    "cuartil1_NYNJ = NYNJ_t_ing.quantile(0.25)\n",
    "\n",
    "# Calcular IQR\n",
    "iqr_NYNJ = cuartil3_NYNJ - cuartil1_NYNJ\n",
    "\n",
    "# Límites upper y lower\n",
    "upper_NYNJ = cuartil3_NYNJ + (1.5 * iqr_NYNJ)\n",
    "lower_NYNJ = cuartil1_NYNJ - (1.5 * iqr_NYNJ)\n",
    "\n",
    "#Eliminar outliers\n",
    "corr_NYNJ_t_ing = NYNJ_t_ing.where((NYNJ_t_ing > lower_NYNJ) & (NYNJ_t_ing < upper_NYNJ), None)\n",
    "corr_NYNJ_t_ing = corr_NYNJ_t_ing.dropna()\n",
    "print (\"El número de datos de corr_NYNJ_t_ing es:\", len(corr_NYNJ_t_ing))\n",
    "print()\n"
   ]
  },
  {
   "cell_type": "code",
   "execution_count": 60,
   "metadata": {},
   "outputs": [
    {
     "name": "stdout",
     "output_type": "stream",
     "text": [
      "<class 'pandas.core.frame.DataFrame'>\n",
      "Int64Index: 1925 entries, 0 to 2302\n",
      "Data columns (total 5 columns):\n",
      " #   Column     Non-Null Count  Dtype  \n",
      "---  ------     --------------  -----  \n",
      " 0   user_id    1925 non-null   int64  \n",
      " 1   plan       1925 non-null   object \n",
      " 2   month      1925 non-null   float64\n",
      " 3   city       1925 non-null   object \n",
      " 4   total_ing  1925 non-null   float64\n",
      "dtypes: float64(2), int64(1), object(2)\n",
      "memory usage: 90.2+ KB\n",
      "\n"
     ]
    },
    {
     "name": "stderr",
     "output_type": "stream",
     "text": [
      "/opt/conda/lib/python3.9/site-packages/seaborn/_decorators.py:36: FutureWarning: Pass the following variable as a keyword arg: x. From version 0.12, the only valid positional argument will be `data`, and passing other arguments without an explicit keyword will result in an error or misinterpretation.\n",
      "  warnings.warn(\n"
     ]
    },
    {
     "data": {
      "text/plain": [
       "<AxesSubplot:xlabel='total_ing'>"
      ]
     },
     "execution_count": 60,
     "metadata": {},
     "output_type": "execute_result"
    },
    {
     "data": {
      "image/png": "[encoded data removed]",
      "text/plain": [
       "<Figure size 432x288 with 1 Axes>"
      ]
     },
     "metadata": {
      "needs_background": "light"
     },
     "output_type": "display_data"
    }
   ],
   "source": [
    "No_NYNJ_ing = users_ing[~users_ing['city'].isin(['New York-Newark-Jersey City, NY-NJ-PA MSA'])]\n",
    "No_NYNJ_ing.info()\n",
    "print()\n",
    "No_NYNJ_ing[\"total_ing\"].describe()\n",
    "sns.boxplot(No_NYNJ_ing[\"total_ing\"])"
   ]
  },
  {
   "cell_type": "code",
   "execution_count": 61,
   "metadata": {},
   "outputs": [
    {
     "name": "stdout",
     "output_type": "stream",
     "text": [
      "El número de datos de No_NYNJ_t_ing es: 1925\n",
      "\n",
      "El número de datos de corr_No_NYNJ_t_ing es: 1805\n",
      "\n"
     ]
    }
   ],
   "source": [
    "# CORRECCION VALORES ATIPICOS\n",
    "No_NYNJ_t_ing = No_NYNJ_ing[\"total_ing\"]\n",
    "print (\"El número de datos de No_NYNJ_t_ing es:\", len(No_NYNJ_t_ing))\n",
    "print()\n",
    "\n",
    "# Calcular pencentiles\n",
    "cuartil3_No_NYNJ = No_NYNJ_t_ing.quantile(0.75)\n",
    "cuartil1_No_NYNJ = No_NYNJ_t_ing.quantile(0.25)\n",
    "\n",
    "# Calcular IQR\n",
    "iqr_No_NYNJ = cuartil3_No_NYNJ - cuartil1_No_NYNJ\n",
    "\n",
    "# Límites upper y lower\n",
    "upper_No_NYNJ = cuartil3_No_NYNJ + (1.5 * iqr_No_NYNJ)\n",
    "lower_No_NYNJ = cuartil1_No_NYNJ - (1.5 * iqr_No_NYNJ)\n",
    "\n",
    "#Eliminar outliers\n",
    "corr_No_NYNJ_t_ing = No_NYNJ_t_ing.where((No_NYNJ_t_ing > lower_No_NYNJ) & (No_NYNJ_t_ing < upper_No_NYNJ), None)\n",
    "corr_No_NYNJ_t_ing = corr_No_NYNJ_t_ing.dropna()\n",
    "print (\"El número de datos de corr_No_NYNJ_t_ing es:\", len(corr_No_NYNJ_t_ing))\n",
    "print()"
   ]
  },
  {
   "cell_type": "code",
   "execution_count": 62,
   "metadata": {},
   "outputs": [
    {
     "name": "stdout",
     "output_type": "stream",
     "text": [
      "Levene's test statistic: 14.537565973338769\n",
      "p-value: 0.00014123276156426367\n",
      "Hay evidencia suficiente que sugiere que las varianzas son significativamente diferentes.\n",
      "\n"
     ]
    }
   ],
   "source": [
    "#levene\n",
    "levene_stat, p_value = st.levene(corr_NYNJ_t_ing, corr_No_NYNJ_t_ing)\n",
    "\n",
    "print(\"Levene's test statistic:\", levene_stat)\n",
    "print(\"p-value:\", p_value)\n",
    "\n",
    "if p_value < 0.05:\n",
    "    print(\"Hay evidencia suficiente que sugiere que las varianzas son significativamente diferentes.\")\n",
    "else:\n",
    "    print(\"No hay evidencia suficiente que sugiere que las varianzas son significativamente diferentes. Las varianzas son probablemente similares.\")\n",
    "\n",
    "print()"
   ]
  },
  {
   "cell_type": "code",
   "execution_count": 63,
   "metadata": {},
   "outputs": [
    {
     "name": "stdout",
     "output_type": "stream",
     "text": [
      "valor p:  0.23105896847161786\n",
      "No podemos rechazar la hipótesis nula\n"
     ]
    }
   ],
   "source": [
    "# Prueba las hipótesis\n",
    "\n",
    "alpha = 0.05  # el nivel de significancia estadística crítica\n",
    "\n",
    "# si el valor p es menor que alpha, rechazamos la hipótesis\n",
    "\n",
    "results = scipy.stats.ttest_ind(corr_NYNJ_t_ing, corr_No_NYNJ_t_ing, equal_var = False) # realizar una prueba\n",
    "\n",
    "print('valor p: ', results.pvalue) # extraer el valor p\n",
    "\n",
    "if results.pvalue < alpha: # comparar el valor p con el umbral\n",
    "    print(\"Rechazamos la hipótesis nula\")\n",
    "else:\n",
    "    print(\"No podemos rechazar la hipótesis nula\") \n"
   ]
  },
  {
   "cell_type": "markdown",
   "metadata": {},
   "source": [
    " Este resultado de p nos dice que los ingresos de los usuarios en NYNJ no son iguales a los ingresos de los usuarios fuera de NYNJ. Es decir que se tratan como ingresos diferentes."
   ]
  },
  {
   "cell_type": "markdown",
   "metadata": {},
   "source": [
    " <div class=\"alert alert-block alert-warning\">\n",
    "<b>Comentario revisor</b> <a class=\"tocSkip\"></a>\n",
    "\n",
    "Para estra pruebas te recomiendo hacer una prueba de  Levene  para mostrar si las varianzas son iguales y agregarlo dentro de la función. Actualmente lo colocar como equal_var=False. Para esto, primero debes calcular las varianzas para cada uno de los planes y en un segundo tiempo debes de hacer uso de la siguiente función: \n",
    "    \n",
    "    levene(surf_filtered['monthly_income'], ultimate_filtered['monthly_income'])\n",
    "    \n",
    "Adoptaremos un nivel de significancia de 0.05; si el valor p resultante es mayor a 0.05, aceptaremos la hipótesis nula, y si es menor a 0.05, aceptaremos la hipótesis alternativa, indicando que las varianzas no son iguales.    \n",
    "</div>\n",
    "\n"
   ]
  },
  {
   "cell_type": "markdown",
   "metadata": {},
   "source": [
    "<div class=\"alert alert-block alert-danger\">\n",
    "<b>Comentario revisor</b> <a class=\"tocSkip\"></a>\n",
    "\n",
    "\n",
    "Te recomiendo verificar esta segunda prueba de hipótesis. Este resultado puede cambiar cuando hagamos los ajustes que te comento a lo largo del código. \n",
    "</div>"
   ]
  },
  {
   "cell_type": "markdown",
   "metadata": {
    "id": "bbTR8UQO0q1T"
   },
   "source": [
    "## Conclusión general\n",
    "\n",
    "[En esta sección final, enumera tus conclusiones importantes. Asegúrate de que estas abarquen todas las decisiones (suposiciones) importantes que adoptaste y que determinaron la forma elegida para procesar y analizar los datos.]"
   ]
  },
  {
   "cell_type": "markdown",
   "metadata": {},
   "source": [
    "+ El comportamiento de los usuarios en el uso de los servicios de llamadas, mensajes e internet es similar entre planes, sin embargo los cargos extra hace que los usuarios surf terminen pagando más por el servicio que los usuarios ultimate.\n",
    "+ Por otro lado un factor importante es el número de usuarios de cada plan, los usuarios surf producen más ingresos porque son más que los usuarios ultimate\n",
    "+ La distribución geográfica de los usuarios influye de alguna manera en los ingresos\n",
    "+ Metodológicamente es necesario eliminar los datos atípicos antes de las pruebas de hipótesis ya que la media siempre se ve influenciada por estos datos atípicos\n",
    "+ Para obtener mayores ingresos, la empresa telefónica puede atraer a más usuarios surf, teniendo en cuenta las mismas pautas de comportamiento general de los usuarios\n",
    "\n"
   ]
  },
  {
   "cell_type": "markdown",
   "metadata": {},
   "source": [
    "<div class=\"alert alert-block alert-warning\">\n",
    "<b>Comentario revisor</b> <a class=\"tocSkip\"></a>\n",
    "\n",
    "En general creo que hiciste un muy buen trabajo con el proyecto, pudiste limpiar y trabajar las bases de datos de beuna manera, así como juntar la información. Además, considero que el análisis con las gráficas y con las pruebas de hipótesis es muy acertado. No obstante, recuerda que siempre podemos mejorar y te menciono algunos puntos que debes considerar:\n",
    "\n",
    "* Realizar un análisis inicial de registros duplicados en todas las bases de datos\n",
    "    \n",
    "    \n",
    "*  verificar que redondeamos las variables antes de hacer la agrupación por usuario\n",
    "    \n",
    "*  verificar que hacemos la transformación de megabytes a gigabytes\n",
    "    \n",
    "*  Cuando hacemos la agrupación de los datos, considerar agregar la variable de mes para que los análisis posteriores sean más sencillos e intuitivos de realizar\n",
    "    \n",
    "*  verificar la segunda prueba de hipótesis\n",
    "</div>"
   ]
  },
  {
   "cell_type": "markdown",
   "metadata": {},
   "source": [
    "<div class=\"alert alert-block alert-success\">\n",
    "<b>Comentario revisor</b> <a class=\"tocSkip\"></a>\n",
    "\n",
    " Muy buen trabajo con el ajuste a los pequeños puntos que necesitaban trabajarse. \n",
    "</div>"
   ]
  }
 ],
 "metadata": {
  "ExecuteTimeLog": [
   {
    "duration": 828,
    "start_time": "2021-11-16T09:21:11.304Z"
   },
   {
    "duration": 893,
    "start_time": "2021-11-16T09:21:17.728Z"
   },
   {
    "duration": 1150,
    "start_time": "2021-11-16T09:21:29.568Z"
   },
   {
    "duration": 3,
    "start_time": "2021-11-16T09:24:14.495Z"
   },
   {
    "duration": 120,
    "start_time": "2021-11-16T09:24:46.630Z"
   },
   {
    "duration": 3,
    "start_time": "2021-11-16T09:28:27.882Z"
   },
   {
    "duration": 4,
    "start_time": "2021-11-16T09:29:54.281Z"
   },
   {
    "duration": 3,
    "start_time": "2021-11-16T09:30:45.936Z"
   },
   {
    "duration": 4,
    "start_time": "2021-11-16T09:31:06.300Z"
   },
   {
    "duration": 113,
    "start_time": "2021-11-16T09:31:37.208Z"
   },
   {
    "duration": 143,
    "start_time": "2021-11-16T09:31:48.656Z"
   },
   {
    "duration": 98,
    "start_time": "2021-11-16T09:31:55.678Z"
   },
   {
    "duration": 3,
    "start_time": "2021-11-16T09:32:08.535Z"
   },
   {
    "duration": 111,
    "start_time": "2021-11-16T09:32:10.120Z"
   },
   {
    "duration": 3,
    "start_time": "2021-11-16T09:32:15.732Z"
   },
   {
    "duration": 4,
    "start_time": "2021-11-16T09:32:29.423Z"
   },
   {
    "duration": 3,
    "start_time": "2021-11-16T10:03:03.074Z"
   },
   {
    "duration": 3,
    "start_time": "2021-11-16T10:10:01.288Z"
   },
   {
    "duration": 3,
    "start_time": "2021-11-16T10:10:46.923Z"
   },
   {
    "duration": 121,
    "start_time": "2021-11-16T10:37:46.494Z"
   },
   {
    "duration": 125,
    "start_time": "2021-11-16T10:38:20.632Z"
   },
   {
    "duration": 112,
    "start_time": "2021-11-16T10:46:53.001Z"
   },
   {
    "duration": 110,
    "start_time": "2021-11-16T10:48:25.775Z"
   },
   {
    "duration": 3,
    "start_time": "2021-11-16T10:50:18.720Z"
   },
   {
    "duration": 4,
    "start_time": "2021-11-16T10:50:37.649Z"
   },
   {
    "duration": 2,
    "start_time": "2021-11-16T10:50:51.884Z"
   },
   {
    "duration": 3,
    "start_time": "2021-11-16T10:51:56.237Z"
   },
   {
    "duration": 101,
    "start_time": "2021-11-16T10:53:13.791Z"
   },
   {
    "duration": 3,
    "start_time": "2021-11-16T10:55:59.186Z"
   },
   {
    "duration": 3,
    "start_time": "2021-11-16T10:56:10.751Z"
   },
   {
    "duration": 3,
    "start_time": "2021-11-16T10:56:49.038Z"
   },
   {
    "duration": 3,
    "start_time": "2021-11-16T10:56:49.174Z"
   },
   {
    "duration": 4,
    "start_time": "2021-11-16T10:56:49.414Z"
   },
   {
    "duration": 3,
    "start_time": "2021-11-16T10:56:49.680Z"
   },
   {
    "duration": 3,
    "start_time": "2021-11-16T10:56:50.370Z"
   },
   {
    "duration": 114,
    "start_time": "2021-11-16T10:59:34.518Z"
   },
   {
    "duration": 3,
    "start_time": "2021-11-16T11:01:41.201Z"
   },
   {
    "duration": 116,
    "start_time": "2021-11-16T11:01:48.754Z"
   },
   {
    "duration": 3,
    "start_time": "2021-11-16T11:02:16.685Z"
   },
   {
    "duration": 3,
    "start_time": "2021-11-16T11:02:19.479Z"
   },
   {
    "duration": 3,
    "start_time": "2021-11-16T11:02:47.067Z"
   },
   {
    "duration": 3,
    "start_time": "2021-11-16T11:02:49.353Z"
   },
   {
    "duration": 3,
    "start_time": "2021-11-16T11:03:07.835Z"
   },
   {
    "duration": 3,
    "start_time": "2021-11-16T11:03:07.953Z"
   },
   {
    "duration": 112,
    "start_time": "2021-11-16T11:07:52.072Z"
   },
   {
    "duration": 187,
    "start_time": "2021-11-16T11:09:23.468Z"
   },
   {
    "duration": 4,
    "start_time": "2021-11-16T11:10:01.455Z"
   },
   {
    "duration": 3,
    "start_time": "2021-11-16T11:10:05.069Z"
   },
   {
    "duration": 4,
    "start_time": "2021-11-16T11:10:13.376Z"
   },
   {
    "duration": 3,
    "start_time": "2021-11-16T11:10:14.434Z"
   },
   {
    "duration": 3,
    "start_time": "2021-11-16T11:10:22.853Z"
   },
   {
    "duration": 4,
    "start_time": "2021-11-16T11:27:29.279Z"
   },
   {
    "duration": 4,
    "start_time": "2021-11-16T11:29:08.919Z"
   },
   {
    "duration": 118,
    "start_time": "2021-11-16T11:29:46.703Z"
   },
   {
    "duration": 437,
    "start_time": "2021-11-16T11:36:02.181Z"
   },
   {
    "duration": 157,
    "start_time": "2021-11-16T11:36:14.388Z"
   },
   {
    "duration": 207,
    "start_time": "2021-11-16T11:47:15.898Z"
   },
   {
    "duration": 3,
    "start_time": "2021-11-16T11:53:52.092Z"
   },
   {
    "duration": 3,
    "start_time": "2021-11-16T11:53:52.236Z"
   },
   {
    "duration": 3,
    "start_time": "2021-11-16T11:59:12.005Z"
   },
   {
    "duration": 112,
    "start_time": "2021-11-16T12:00:33.446Z"
   },
   {
    "duration": 3,
    "start_time": "2021-11-16T12:02:14.453Z"
   },
   {
    "duration": 3,
    "start_time": "2021-11-16T12:02:39.512Z"
   },
   {
    "duration": 106,
    "start_time": "2021-11-16T12:03:03.460Z"
   },
   {
    "duration": 3,
    "start_time": "2021-11-17T20:37:21.139Z"
   },
   {
    "duration": 3,
    "start_time": "2021-11-17T20:37:22.229Z"
   },
   {
    "duration": 3,
    "start_time": "2021-11-17T20:38:38.806Z"
   },
   {
    "duration": 3,
    "start_time": "2021-11-17T20:38:41.958Z"
   },
   {
    "duration": 3,
    "start_time": "2021-11-17T20:43:46.551Z"
   },
   {
    "duration": 4,
    "start_time": "2021-11-17T20:58:21.835Z"
   },
   {
    "duration": 3,
    "start_time": "2021-11-17T20:59:21.872Z"
   },
   {
    "duration": 4,
    "start_time": "2021-11-17T20:59:45.352Z"
   },
   {
    "duration": 4,
    "start_time": "2021-11-17T20:59:49.646Z"
   },
   {
    "duration": 159,
    "start_time": "2021-11-17T21:02:26.949Z"
   },
   {
    "duration": 3,
    "start_time": "2021-11-17T21:03:53.461Z"
   },
   {
    "duration": 3,
    "start_time": "2021-11-17T21:03:53.694Z"
   },
   {
    "duration": 3,
    "start_time": "2021-11-17T21:05:28.145Z"
   },
   {
    "duration": 116,
    "start_time": "2021-11-17T21:05:57.787Z"
   },
   {
    "duration": 3,
    "start_time": "2021-11-17T21:06:37.993Z"
   },
   {
    "duration": 3,
    "start_time": "2021-11-17T21:06:38.261Z"
   },
   {
    "duration": 3,
    "start_time": "2021-11-17T21:11:54.358Z"
   },
   {
    "duration": 3,
    "start_time": "2021-11-17T21:12:43.846Z"
   },
   {
    "duration": 4,
    "start_time": "2021-11-17T21:13:08.773Z"
   },
   {
    "duration": 3,
    "start_time": "2021-11-17T21:14:44.441Z"
   },
   {
    "duration": 3,
    "start_time": "2021-11-17T21:15:42.059Z"
   },
   {
    "duration": 4,
    "start_time": "2021-11-17T21:15:51.995Z"
   },
   {
    "duration": 3,
    "start_time": "2021-11-17T21:15:53.923Z"
   },
   {
    "duration": 3,
    "start_time": "2021-11-17T21:15:55.282Z"
   },
   {
    "duration": 3,
    "start_time": "2021-11-17T21:16:28.492Z"
   },
   {
    "duration": 3,
    "start_time": "2021-11-17T21:16:32.603Z"
   },
   {
    "duration": 3,
    "start_time": "2021-11-17T21:17:06.941Z"
   },
   {
    "duration": 98,
    "start_time": "2021-11-17T21:18:05.733Z"
   },
   {
    "duration": 4,
    "start_time": "2021-11-17T21:21:35.255Z"
   },
   {
    "duration": 3,
    "start_time": "2021-11-17T21:21:37.804Z"
   },
   {
    "duration": 4,
    "start_time": "2021-11-17T21:23:06.071Z"
   },
   {
    "duration": 3,
    "start_time": "2021-11-17T21:23:24.799Z"
   },
   {
    "duration": 3,
    "start_time": "2021-11-17T21:23:32.591Z"
   },
   {
    "duration": 98,
    "start_time": "2021-11-17T21:28:31.559Z"
   },
   {
    "duration": 3,
    "start_time": "2021-11-17T21:28:45.448Z"
   },
   {
    "duration": 3,
    "start_time": "2021-11-17T21:29:17.303Z"
   },
   {
    "duration": 3,
    "start_time": "2021-11-17T21:29:29.617Z"
   },
   {
    "duration": 3,
    "start_time": "2021-11-17T21:29:32.681Z"
   },
   {
    "duration": 3,
    "start_time": "2021-11-17T21:36:11.474Z"
   },
   {
    "duration": 3,
    "start_time": "2021-11-17T21:36:14.791Z"
   },
   {
    "duration": 3,
    "start_time": "2021-11-17T21:36:53.943Z"
   },
   {
    "duration": 3,
    "start_time": "2021-11-17T21:36:56.165Z"
   },
   {
    "duration": 4,
    "start_time": "2021-11-17T21:37:16.590Z"
   },
   {
    "duration": 3,
    "start_time": "2021-11-17T21:37:22.702Z"
   },
   {
    "duration": 4,
    "start_time": "2021-11-17T21:38:03.479Z"
   },
   {
    "duration": 3,
    "start_time": "2021-11-17T21:38:08.601Z"
   },
   {
    "duration": 3,
    "start_time": "2021-11-17T21:38:12.928Z"
   },
   {
    "duration": 3,
    "start_time": "2021-11-17T21:38:48.896Z"
   },
   {
    "duration": 2,
    "start_time": "2021-11-17T21:38:49.171Z"
   },
   {
    "duration": 4,
    "start_time": "2021-11-17T21:39:57.889Z"
   },
   {
    "duration": 3,
    "start_time": "2021-11-17T21:39:58.057Z"
   },
   {
    "duration": 3,
    "start_time": "2021-11-17T21:41:20.108Z"
   },
   {
    "duration": 3,
    "start_time": "2021-11-17T21:41:20.629Z"
   },
   {
    "duration": 3,
    "start_time": "2021-11-17T21:42:49.136Z"
   },
   {
    "duration": 3,
    "start_time": "2021-11-17T21:43:15.137Z"
   },
   {
    "duration": 4,
    "start_time": "2021-11-17T21:43:16.766Z"
   },
   {
    "duration": 4,
    "start_time": "2021-11-17T21:43:31.711Z"
   },
   {
    "duration": 3,
    "start_time": "2021-11-17T21:43:36.312Z"
   },
   {
    "duration": 4,
    "start_time": "2021-11-17T21:45:08.825Z"
   },
   {
    "duration": 4,
    "start_time": "2021-11-17T21:45:10.119Z"
   },
   {
    "duration": 4,
    "start_time": "2021-11-17T21:45:13.748Z"
   },
   {
    "duration": 3,
    "start_time": "2021-11-17T21:45:22.219Z"
   },
   {
    "duration": 3,
    "start_time": "2021-11-17T21:45:33.412Z"
   },
   {
    "duration": 2,
    "start_time": "2021-11-17T21:46:01.885Z"
   },
   {
    "duration": 3,
    "start_time": "2021-11-17T21:46:03.628Z"
   },
   {
    "duration": 107,
    "start_time": "2021-11-17T21:47:32.512Z"
   },
   {
    "duration": 103,
    "start_time": "2021-11-17T21:50:36.243Z"
   },
   {
    "duration": 3,
    "start_time": "2021-11-18T06:28:31.440Z"
   },
   {
    "duration": 3,
    "start_time": "2021-11-18T06:29:00.168Z"
   },
   {
    "duration": 3,
    "start_time": "2021-11-18T06:31:27.008Z"
   },
   {
    "duration": 2,
    "start_time": "2021-11-18T06:35:34.288Z"
   },
   {
    "duration": 2,
    "start_time": "2021-11-18T06:38:04.527Z"
   }
  ],
  "colab": {
   "provenance": []
  },
  "kernelspec": {
   "display_name": "Python 3 (ipykernel)",
   "language": "python",
   "name": "python3"
  },
  "language_info": {
   "codemirror_mode": {
    "name": "ipython",
    "version": 3
   },
   "file_extension": ".py",
   "mimetype": "text/x-python",
   "name": "python",
   "nbconvert_exporter": "python",
   "pygments_lexer": "ipython3",
   "version": "3.10.9"
  },
  "toc": {
   "base_numbering": 1,
   "nav_menu": {},
   "number_sections": true,
   "sideBar": true,
   "skip_h1_title": false,
   "title_cell": "Table of Contents",
   "title_sidebar": "Contents",
   "toc_cell": false,
   "toc_position": {
    "height": "calc(100% - 180px)",
    "left": "10px",
    "top": "150px",
    "width": "196.188px"
   },
   "toc_section_display": true,
   "toc_window_display": true
  }
 },
 "nbformat": 4,
 "nbformat_minor": 1
}
