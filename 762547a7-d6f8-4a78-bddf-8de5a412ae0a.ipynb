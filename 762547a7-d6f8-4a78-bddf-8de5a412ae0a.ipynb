{
 "cells": [
  {
   "cell_type": "markdown",
   "metadata": {},
   "source": [
    "# Hola Andres!\n",
    "\n",
    "Mi nombre es David Bautista, soy code reviewer de TripleTen y voy a revisar el proyecto que acabas de desarrollar.\n",
    "\n",
    "Cuando vea un error la primera vez, lo señalaré. Deberás encontrarlo y arreglarlo. La intención es que te prepares para un espacio real de trabajo. En un trabajo, el líder de tu equipo hará lo mismo. Si no puedes solucionar el error, te daré más información en la próxima ocasión.\n",
    "\n",
    "Encontrarás mis comentarios más abajo - **por favor, no los muevas, no los modifiques ni los borres.**\n",
    "\n",
    "¿Cómo lo voy a hacer? Voy a leer detenidamente cada una de las implementaciones que has llevado a cabo para cumplir con lo solicitado. Verás los comentarios de esta forma:\n",
    "\n",
    "\n",
    "<div class=\"alert alert-block alert-success\">\n",
    "<b>Comentario del revisor</b> <a class=\"tocSkip\"></a>\n",
    "    \n",
    "Si todo está perfecto.\n",
    "</div>\n",
    "\n",
    "\n",
    "<div class=\"alert alert-block alert-warning\">\n",
    "<b>Comentario del revisor</b> <a class=\"tocSkip\"></a>\n",
    "    \n",
    "Si tu código está bien pero se puede mejorar o hay algún detalle que le hace falta.\n",
    "</div>\n",
    "\n",
    "\n",
    "<div class=\"alert alert-block alert-danger\">\n",
    "    \n",
    "<b>Comentario del revisor</b> <a class=\"tocSkip\"></a>\n",
    "    \n",
    "    \n",
    "Si de pronto hace falta algo o existe algún problema con tu código o conclusiones.\n",
    "</div>\n",
    "\n",
    "\n",
    "Puedes responderme de esta forma: \n",
    "\n",
    "<div class=\"alert alert-block alert-info\">\n",
    "<b>Respuesta del estudiante</b> <a class=\"tocSkip\"></a>\n",
    "</div\n",
    "\n",
    "¡Empecemos!"
   ]
  },
  {
   "cell_type": "markdown",
   "metadata": {},
   "source": [
    "<div class=\"alert alert-block alert-danger\">\n",
    "<b>Comentario del revisor</b> <a class=\"tocSkip\"></a>\n",
    "    \n",
    "# Comentario General\n",
    "    \n",
    "~~Hola, Andrés, te felicito por el desarrollo del proyecto hasta el momento. Ahora bien, he dejado diferentes comentarios para que puedas tenerlos en cuenta para la siguiente entrega.~~\n",
    "</div>\n",
    "\n",
    "<div class=\"alert alert-block alert-danger\">\n",
    "<b>Comentario del revisor</b> <a class=\"tocSkip\"></a>\n",
    "    \n",
    "# Comentario General #2\n",
    "    \n",
    "~~Hola, Andrés, he dejado nuevos comentarios etiquetados con el #2 para que los puedas tener en cuenta para la sigiente entrega.~~\n",
    "</div>\n",
    "\n",
    "<div class=\"alert alert-block alert-success\">\n",
    "<b>Comentario del revisor</b> <a class=\"tocSkip\"></a>\n",
    "    \n",
    "# Comentario General #3\n",
    "    \n",
    "Hola, Andrés, te felicito por la culminación del proyecto. Muy buen trabajo. </div>"
   ]
  },
  {
   "cell_type": "markdown",
   "metadata": {},
   "source": [
    "<div class=\"alert alert-block alert-danger\">\n",
    "<b>Comentario del revisor</b> <a class=\"tocSkip\"></a>\n",
    "    \n",
    "~~Hola, Andrés, no olvides que es importante generar una sección de introducción y descripción del proyecto. ~~\n",
    "</div>"
   ]
  },
  {
   "cell_type": "markdown",
   "metadata": {},
   "source": [
    "# Proyecto Sprint #9"
   ]
  },
  {
   "cell_type": "markdown",
   "metadata": {},
   "source": [
    "## Introducción"
   ]
  },
  {
   "cell_type": "markdown",
   "metadata": {},
   "source": [
    "## Contexto\n",
    "Eres analista en una gran tienda en línea. Junto con el departamento de marketing has recopilado una lista de hipótesis que pueden ayudar a aumentar los ingresos. \n",
    "\n",
    "Tienes que priorizar estas hipótesis, lanzar un test A/B y analizar los resultados.\n",
    "\n",
    "## Descripción de los datos\n",
    "Datos utilizados en la primera parte del proyecto\n",
    "\n",
    "/datasets/hypotheses_us.csv Descarga el dataset\n",
    "\n",
    "Hypotheses: breves descripciones de las hipótesis\n",
    "Reach: alcance del usuario, en una escala del uno a diez\n",
    "Impact: impacto en los usuarios, en una escala del uno al diez\n",
    "Confidence: confianza en la hipótesis, en una escala del uno al diez\n",
    "Effort: los recursos necesarios para probar una hipótesis, en una escala del uno al diez. Cuanto mayor sea el valor Effort, más recursos requiere la prueba.\n",
    "Datos utilizados en la segunda parte del proyecto\n",
    "\n",
    " /datasets/orders_us.csv Descarga el dataset\n",
    "\n",
    "transactionId: identificador de pedido\n",
    "visitorId: identificador del usuario que realizó el pedido\n",
    "date: fecha del pedido\n",
    "revenue: ingresos del pedido\n",
    "group: el grupo del test A/B al que pertenece el usuario\n",
    "/datasets/visits_us.csv Descarga el dataset\n",
    "\n",
    "date: la fecha\n",
    "group: grupo del test A/B\n",
    "visits: el número de visitas en la fecha especificada para el grupo de test A/B especificado"
   ]
  },
  {
   "cell_type": "markdown",
   "metadata": {},
   "source": [
    "## Análisis preliminar"
   ]
  },
  {
   "cell_type": "markdown",
   "metadata": {},
   "source": [
    "### Importación de librerías"
   ]
  },
  {
   "cell_type": "code",
   "execution_count": 1,
   "metadata": {},
   "outputs": [],
   "source": [
    "import pandas as pd\n",
    "import matplotlib.pyplot as plt\n",
    "import seaborn as sns\n",
    "import numpy as np\n",
    "import datetime as dt\n",
    "from datetime import timedelta\n",
    "import scipy.stats as stats"
   ]
  },
  {
   "cell_type": "markdown",
   "metadata": {},
   "source": [
    "<div class=\"alert alert-block alert-success\">\n",
    "<b>Comentario del revisor</b> <a class=\"tocSkip\"></a>\n",
    "    \n",
    "Buen trabajo importando las librerías necesarias para el desarrollo del proyecto.\n",
    "</div>"
   ]
  },
  {
   "cell_type": "markdown",
   "metadata": {},
   "source": [
    "### Análisis de datos"
   ]
  },
  {
   "cell_type": "markdown",
   "metadata": {},
   "source": [
    "#### hypotheses"
   ]
  },
  {
   "cell_type": "code",
   "execution_count": 2,
   "metadata": {},
   "outputs": [
    {
     "name": "stdout",
     "output_type": "stream",
     "text": [
      "<class 'pandas.core.frame.DataFrame'>\n",
      "RangeIndex: 9 entries, 0 to 8\n",
      "Data columns (total 5 columns):\n",
      " #   Column      Non-Null Count  Dtype \n",
      "---  ------      --------------  ----- \n",
      " 0   hypothesis  9 non-null      object\n",
      " 1   reach       9 non-null      int64 \n",
      " 2   impact      9 non-null      int64 \n",
      " 3   confidence  9 non-null      int64 \n",
      " 4   effort      9 non-null      int64 \n",
      "dtypes: int64(4), object(1)\n",
      "memory usage: 488.0+ bytes\n",
      "\n",
      "                                          hypothesis  reach  impact  \\\n",
      "0  Add two new channels for attracting traffic. T...      3      10   \n",
      "1  Launch your own delivery service. This will sh...      2       5   \n",
      "2  Add product recommendation blocks to the store...      8       3   \n",
      "3  Change the category structure. This will incre...      8       3   \n",
      "4  Change the background color on the main page. ...      3       1   \n",
      "5  Add a customer review page. This will increase...      3       2   \n",
      "6  Show banners with current offers and sales on ...      5       3   \n",
      "7  Add a subscription form to all the main pages....     10       7   \n",
      "8  Launch a promotion that gives users discounts ...      1       9   \n",
      "\n",
      "   confidence  effort  \n",
      "0           8       6  \n",
      "1           4      10  \n",
      "2           7       3  \n",
      "3           3       8  \n",
      "4           1       1  \n",
      "5           2       3  \n",
      "6           8       3  \n",
      "7           8       5  \n",
      "8           9       5  \n",
      "\n",
      "El número de datos duplicados en hypotheses es  0\n"
     ]
    }
   ],
   "source": [
    "hypotheses = pd.read_csv('/datasets/hypotheses_us.csv', sep=';')\n",
    "new_colnames = []\n",
    "for name in hypotheses.columns:\n",
    "    new = name.lower()\n",
    "    new_colnames.append(new)\n",
    "hypotheses.columns = new_colnames\n",
    "hypotheses.info()\n",
    "print()\n",
    "print(hypotheses)\n",
    "print()\n",
    "print(\"El número de datos duplicados en hypotheses es \", hypotheses.duplicated().sum())"
   ]
  },
  {
   "cell_type": "markdown",
   "metadata": {},
   "source": [
    "#### orders"
   ]
  },
  {
   "cell_type": "code",
   "execution_count": 3,
   "metadata": {},
   "outputs": [
    {
     "name": "stdout",
     "output_type": "stream",
     "text": [
      "\n",
      "<class 'pandas.core.frame.DataFrame'>\n",
      "RangeIndex: 1197 entries, 0 to 1196\n",
      "Data columns (total 5 columns):\n",
      " #   Column         Non-Null Count  Dtype  \n",
      "---  ------         --------------  -----  \n",
      " 0   transactionid  1197 non-null   int64  \n",
      " 1   visitorid      1197 non-null   int64  \n",
      " 2   date           1197 non-null   object \n",
      " 3   revenue        1197 non-null   float64\n",
      " 4   group          1197 non-null   object \n",
      "dtypes: float64(1), int64(2), object(2)\n",
      "memory usage: 46.9+ KB\n",
      "\n",
      "     transactionid   visitorid        date  revenue group\n",
      "970     3478707774  2587333274  2019-08-08     60.4     A\n",
      "556      571224785  3941503500  2019-08-06     80.8     B\n",
      "433     3312757456   994339272  2019-08-24     90.8     A\n",
      "607     3384575290   456417264  2019-08-04     30.5     B\n",
      "913     4132628207  2604694259  2019-08-08     25.4     B\n",
      "\n",
      "El número de datos duplicados en orders es  0\n"
     ]
    }
   ],
   "source": [
    "orders = pd.read_csv('/datasets/orders_us.csv')\n",
    "new_colnames = []\n",
    "for name in orders.columns:\n",
    "    new = name.lower()\n",
    "    new_colnames.append(new)\n",
    "orders.columns = new_colnames\n",
    "print()\n",
    "orders.info()\n",
    "print()\n",
    "print(orders.sample(5))\n",
    "print()\n",
    "print(\"El número de datos duplicados en orders es \", orders.duplicated().sum())"
   ]
  },
  {
   "cell_type": "code",
   "execution_count": 4,
   "metadata": {},
   "outputs": [
    {
     "name": "stdout",
     "output_type": "stream",
     "text": [
      "[ 237748145 2742574263  457167155 2706377257 3062433592 4256040402\n",
      " 2038680547 2378935119  199603092  611059232 3967698036 2892265953\n",
      " 2096506107 2716752286 3332057097 2232111114 3234906277 3803269165\n",
      " 2686716486 2579882178 1648269707 1738359350  249864742 2458001652\n",
      "  678354126 3469608676 2397843657 3202540741  351125977 2954449915\n",
      " 2927087541 1772171838 3951559397 4109358064 2044997962  522292794\n",
      " 3984495233 3362039251 2780786433 3908431265 3941503500 3957174400\n",
      " 3379260072 3891541246 2025197455 3935952912 1230306981 1294878855\n",
      " 4266935830 1614305549 1333886533    8300375 1404560065 2587333274\n",
      "  477780734 2108163459 2988190573 1617417821 1668030113 1959144690\n",
      " 2744017357  366673373 3717692402 4186807279 3766097110 1801183820\n",
      " 1316129916 1602967004  393266494 3077396270 2733145037 3941795274\n",
      "  406208401 2600415354  232979603 4120364173 3972127743 1404934699\n",
      " 3656415546 4134830387 4069496402 2306096143  276558944 2366521417\n",
      " 1985475298  759473111 2654030115 1637811943  818047933 3963646447\n",
      "  471551937 2712142231  963407295 2949041841]\n"
     ]
    }
   ],
   "source": [
    "#usuarios que tienen registros duplicados\n",
    "dup = orders[orders['visitorid'].duplicated()]\n",
    "visitordup = dup['visitorid'].unique()\n",
    "print(visitordup)\n"
   ]
  },
  {
   "cell_type": "code",
   "execution_count": 5,
   "metadata": {},
   "outputs": [
    {
     "name": "stdout",
     "output_type": "stream",
     "text": [
      "      transactionid  visitorid        date  revenue group\n",
      "27       1630050528  237748145  2019-08-15    120.2     B\n",
      "41       2594268419  237748145  2019-08-15     20.8     A\n",
      "590      3702128013  237748145  2019-08-20     20.8     A\n",
      "716       972407388  237748145  2019-08-27     10.2     A\n",
      "1097     3357467820  237748145  2019-08-12     10.2     A\n",
      "     transactionid   visitorid        date  revenue group\n",
      "15      2550768810  2742574263  2019-08-15    235.0     B\n",
      "91      3176574859  2742574263  2019-08-22    275.9     B\n",
      "840      234238251  2742574263  2019-08-21    150.4     B\n",
      "      transactionid  visitorid        date  revenue group\n",
      "94        252633006  457167155  2019-08-22     95.8     B\n",
      "95        372616894  457167155  2019-08-22     20.2     B\n",
      "256      2370268995  457167155  2019-08-23     25.9     A\n",
      "1074     3571123442  457167155  2019-08-12     20.7     B\n",
      "    transactionid   visitorid        date  revenue group\n",
      "96     1170105516  2706377257  2019-08-01    140.8     A\n",
      "98     1962247337  2706377257  2019-08-01    110.7     A\n",
      "      transactionid   visitorid        date  revenue group\n",
      "111      2736731761  3062433592  2019-08-01    225.9     B\n",
      "112      1638982251  3062433592  2019-08-01    135.3     B\n",
      "1096     3075787818  3062433592  2019-08-12    505.7     B\n",
      "1098     1092419081  3062433592  2019-08-12    265.3     A\n",
      "1100     1671551244  3062433592  2019-08-12     50.7     B\n",
      "      transactionid   visitorid        date  revenue group\n",
      "60       1421016313  4256040402  2019-08-16    875.5     B\n",
      "114      1120327437  4256040402  2019-08-01     90.2     A\n",
      "187      2048878902  4256040402  2019-08-17     25.8     A\n",
      "253      1610091760  4256040402  2019-08-23    265.8     A\n",
      "263      2575861846  4256040402  2019-08-18    170.8     B\n",
      "588      3700356838  4256040402  2019-08-20    275.5     A\n",
      "873      2519737434  4256040402  2019-08-08    900.7     B\n",
      "901      3402467119  4256040402  2019-08-27     30.1     A\n",
      "1018     1415970216  4256040402  2019-08-31     80.5     A\n",
      "1019      453824282  4256040402  2019-08-31     30.5     B\n",
      "1091      750632879  4256040402  2019-08-12      5.8     A\n",
      "     transactionid   visitorid        date  revenue group\n",
      "32      3666913472  2038680547  2019-08-15     30.8     B\n",
      "117      722060263  2038680547  2019-08-22     15.7     A\n",
      "227     4267573899  2038680547  2019-08-17     55.4     A\n",
      "390     2415738512  2038680547  2019-08-25      5.2     A\n",
      "577     3932236947  2038680547  2019-08-04     45.1     B\n",
      "578     1570911533  2038680547  2019-08-04     25.5     A\n",
      "605     1215730747  2038680547  2019-08-04     40.1     A\n",
      "624     1666104258  2038680547  2019-08-29     40.2     B\n",
      "      transactionid   visitorid        date  revenue group\n",
      "33        486237576  2378935119  2019-08-15     30.4     A\n",
      "118      4233533907  2378935119  2019-08-22     55.2     A\n",
      "179      1784270968  2378935119  2019-08-17      5.8     A\n",
      "391      2213813903  2378935119  2019-08-25    330.5     B\n",
      "435      2430683444  2378935119  2019-08-28    315.6     B\n",
      "473      3224706027  2378935119  2019-08-28     70.8     B\n",
      "697      1612868255  2378935119  2019-08-09    475.5     B\n",
      "1029      469609643  2378935119  2019-08-10    900.7     A\n",
      "1031     1661772358  2378935119  2019-08-10     45.6     B\n",
      "      transactionid  visitorid        date  revenue group\n",
      "26       2223239646  199603092  2019-08-15     55.7     A\n",
      "134        62794304  199603092  2019-08-22    110.3     A\n",
      "246       437656952  199603092  2019-08-02     55.7     B\n",
      "823      2971973105  199603092  2019-08-27     45.9     A\n",
      "1102     1941707234  199603092  2019-08-12    100.0     A\n",
      "     transactionid  visitorid        date  revenue group\n",
      "104      627804981  611059232  2019-08-01    275.8     A\n",
      "144      365058890  611059232  2019-08-01     45.3     A\n",
      "145      735232225  611059232  2019-08-01    140.4     A\n",
      "     transactionid   visitorid        date  revenue group\n",
      "141      602399015  3967698036  2019-08-01      5.6     A\n",
      "147       52260954  3967698036  2019-08-01     20.2     A\n",
      "191     2361024027  3967698036  2019-08-02     30.0     A\n",
      "     transactionid   visitorid        date  revenue group\n",
      "162     2634363174  2892265953  2019-08-17     35.6     A\n",
      "163     1071437802  2892265953  2019-08-17     10.0     A\n",
      "     transactionid   visitorid        date  revenue group\n",
      "82      1246801103  2096506107  2019-08-16     80.5     B\n",
      "172       86411600  2096506107  2019-08-17     85.3     B\n",
      "     transactionid   visitorid        date  revenue group\n",
      "139     4141167864  2716752286  2019-08-01    125.9     B\n",
      "197     2632798290  2716752286  2019-08-02     35.2     A\n",
      "     transactionid   visitorid        date  revenue group\n",
      "212     1764119908  3332057097  2019-08-02     45.4     B\n",
      "213      394880746  3332057097  2019-08-02     45.3     B\n",
      "     transactionid   visitorid        date  revenue group\n",
      "214     3485678199  2232111114  2019-08-02    270.0     A\n",
      "247     3231452720  2232111114  2019-08-02    240.2     A\n",
      "     transactionid   visitorid        date  revenue group\n",
      "24      1162046357  3234906277  2019-08-15    120.2     B\n",
      "249     1360774578  3234906277  2019-08-18    120.2     A\n",
      "      transactionid   visitorid        date  revenue group\n",
      "29       2220299125  3803269165  2019-08-15     15.8     A\n",
      "252       473864496  3803269165  2019-08-23     40.3     B\n",
      "693      3244441077  3803269165  2019-08-09     10.1     B\n",
      "1171     2860596918  3803269165  2019-08-14    105.7     B\n",
      "1172     3898641900  3803269165  2019-08-14     15.2     B\n",
      "     transactionid   visitorid        date  revenue group\n",
      "219     2139320439  2686716486  2019-08-23    170.6     A\n",
      "254     1545495643  2686716486  2019-08-23    530.3     B\n",
      "     transactionid   visitorid        date  revenue group\n",
      "265     3743515850  2579882178  2019-08-18     30.6     A\n",
      "267      131747281  2579882178  2019-08-18    305.6     B\n",
      "     transactionid   visitorid        date  revenue group\n",
      "189     4189935502  1648269707  2019-08-17      5.5     B\n",
      "279     1101659272  1648269707  2019-08-18     15.2     A\n",
      "     transactionid   visitorid        date  revenue group\n",
      "129     1665445278  1738359350  2019-08-22     50.2     A\n",
      "330     3006440800  1738359350  2019-08-28     15.7     B\n",
      "861     2229298010  1738359350  2019-08-30     35.8     B\n",
      "     transactionid  visitorid        date  revenue group\n",
      "74      3721196264  249864742  2019-08-16     15.0     B\n",
      "373     4140190337  249864742  2019-08-24     10.5     B\n",
      "920     3057892078  249864742  2019-08-21     90.1     B\n",
      "      transactionid   visitorid        date  revenue group\n",
      "133      3060563671  2458001652  2019-08-22     80.8     A\n",
      "380      1177690313  2458001652  2019-08-25     40.7     B\n",
      "454      3755354294  2458001652  2019-08-06    115.1     B\n",
      "456       543654048  2458001652  2019-08-06     25.9     A\n",
      "483      2280027650  2458001652  2019-08-06    105.8     B\n",
      "611      1244084011  2458001652  2019-08-04     10.2     A\n",
      "692      3586870909  2458001652  2019-08-09     85.4     B\n",
      "727      3959083601  2458001652  2019-08-07    270.4     A\n",
      "883      2412219836  2458001652  2019-08-05     40.2     B\n",
      "916       527333943  2458001652  2019-08-08     85.4     B\n",
      "1062     1817215137  2458001652  2019-08-11    130.4     A\n",
      "     transactionid  visitorid        date  revenue group\n",
      "143     3433533137  678354126  2019-08-01    100.4     A\n",
      "395     2552819381  678354126  2019-08-28     15.5     A\n",
      "     transactionid   visitorid        date  revenue group\n",
      "239     3083858710  3469608676  2019-08-02    165.9     A\n",
      "401     2641583134  3469608676  2019-08-28    300.0     A\n",
      "     transactionid   visitorid        date  revenue group\n",
      "426       19467429  2397843657  2019-08-19     45.5     B\n",
      "427     3019510679  2397843657  2019-08-19     25.5     B\n",
      "     transactionid   visitorid        date  revenue group\n",
      "430     1168756094  3202540741  2019-08-24     50.5     A\n",
      "432     1061451265  3202540741  2019-08-24     85.8     B\n",
      "     transactionid  visitorid        date  revenue group\n",
      "23      4252514150  351125977  2019-08-15    235.6     B\n",
      "453     3075639014  351125977  2019-08-06     70.0     A\n",
      "     transactionid   visitorid        date  revenue group\n",
      "225     2931845376  2954449915  2019-08-17    170.0     A\n",
      "455     2781850870  2954449915  2019-08-06     50.2     B\n",
      "     transactionid   visitorid        date  revenue group\n",
      "230     3124204494  2927087541  2019-08-23    425.8     A\n",
      "479     1651227034  2927087541  2019-08-24     35.7     B\n",
      "     transactionid   visitorid        date  revenue group\n",
      "364     1745032218  1772171838  2019-08-19     25.5     A\n",
      "484     2631228632  1772171838  2019-08-06    100.3     A\n",
      "     transactionid   visitorid        date  revenue group\n",
      "496     2825038272  3951559397  2019-08-29    480.8     B\n",
      "497      246848596  3951559397  2019-08-29     40.3     A\n",
      "     transactionid   visitorid        date  revenue group\n",
      "418     3322807521  4109358064  2019-08-06     15.5     A\n",
      "512     2744208512  4109358064  2019-08-06     75.5     A\n",
      "     transactionid   visitorid        date  revenue group\n",
      "370      857639553  2044997962  2019-08-24     40.1     A\n",
      "516     3754751399  2044997962  2019-08-26     95.7     B\n",
      "517      582361359  2044997962  2019-08-26     20.2     B\n"
     ]
    },
    {
     "name": "stdout",
     "output_type": "stream",
     "text": [
      "     transactionid  visitorid        date  revenue group\n",
      "182     3221239900  522292794  2019-08-23     15.0     B\n",
      "523     1739748874  522292794  2019-08-19     80.1     B\n",
      "     transactionid   visitorid        date  revenue group\n",
      "310     3532704780  3984495233  2019-08-03    315.1     B\n",
      "536     3925488023  3984495233  2019-08-04    315.1     A\n",
      "698      429858801  3984495233  2019-08-05    225.0     A\n",
      "     transactionid   visitorid        date  revenue group\n",
      "149     2368313386  3362039251  2019-08-17    150.4     B\n",
      "539     1187625359  3362039251  2019-08-20    100.2     B\n",
      "     transactionid   visitorid        date  revenue group\n",
      "304      609915801  2780786433  2019-08-28     20.5     A\n",
      "548      430186476  2780786433  2019-08-29     25.3     A\n",
      "857      847315305  2780786433  2019-08-27     10.3     B\n",
      "     transactionid   visitorid        date  revenue group\n",
      "552      151437276  3908431265  2019-08-06     25.2     A\n",
      "553     1926996770  3908431265  2019-08-06     30.5     A\n",
      "554     3986425716  3908431265  2019-08-06     15.7     A\n",
      "     transactionid   visitorid        date  revenue group\n",
      "556      571224785  3941503500  2019-08-06     80.8     B\n",
      "558     3621273697  3941503500  2019-08-06     80.8     B\n",
      "     transactionid   visitorid        date  revenue group\n",
      "269     1067267410  3957174400  2019-08-18     40.2     A\n",
      "561     3241914033  3957174400  2019-08-26     40.2     B\n",
      "     transactionid   visitorid        date  revenue group\n",
      "89      3525980424  3379260072  2019-08-22     35.5     B\n",
      "583     3167192434  3379260072  2019-08-20     10.3     B\n",
      "     transactionid   visitorid        date  revenue group\n",
      "159     1170827001  3891541246  2019-08-22     20.2     A\n",
      "606     4007826947  3891541246  2019-08-04     10.4     B\n",
      "609      332633624  3891541246  2019-08-04     80.2     A\n",
      "     transactionid   visitorid        date  revenue group\n",
      "574     3394575003  2025197455  2019-08-04      5.6     B\n",
      "608     2672742956  2025197455  2019-08-04    195.1     B\n",
      "     transactionid   visitorid        date  revenue group\n",
      "595      629969501  3935952912  2019-08-26     75.2     B\n",
      "626     3022667018  3935952912  2019-08-29     30.1     B\n",
      "     transactionid   visitorid        date  revenue group\n",
      "672     3667885894  1230306981  2019-08-09    105.7     A\n",
      "674     1748608673  1230306981  2019-08-09    100.5     B\n",
      "675     2658936877  1230306981  2019-08-09    100.1     B\n",
      "676      278311817  1230306981  2019-08-09     30.0     A\n",
      "739     2541955961  1230306981  2019-08-09    160.0     A\n",
      "      transactionid   visitorid        date  revenue group\n",
      "402       371848868  1294878855  2019-08-28     50.4     B\n",
      "677      2348589867  1294878855  2019-08-09    425.4     A\n",
      "1015     4262851755  1294878855  2019-08-31     10.8     A\n",
      "     transactionid   visitorid        date  revenue group\n",
      "662     1811671147  4266935830  2019-08-29   1220.2     A\n",
      "682     1216533772  4266935830  2019-08-29   1220.2     B\n",
      "      transactionid   visitorid        date  revenue group\n",
      "685      2972137054  1614305549  2019-08-29    150.9     B\n",
      "687      2663041816  1614305549  2019-08-29     25.5     A\n",
      "767      1278695805  1614305549  2019-08-21     15.5     A\n",
      "1195     1947021204  1614305549  2019-08-14      5.5     A\n",
      "     transactionid   visitorid        date  revenue group\n",
      "450     1750160666  1333886533  2019-08-06     25.5     A\n",
      "688      511953429  1333886533  2019-08-29     50.4     B\n",
      "     transactionid  visitorid        date  revenue group\n",
      "71      3679129301    8300375  2019-08-01    165.7     B\n",
      "703     4293855558    8300375  2019-08-07     30.5     A\n",
      "     transactionid   visitorid        date  revenue group\n",
      "465     1490093586  1404560065  2019-08-26    155.8     B\n",
      "715     2961490189  1404560065  2019-08-27    275.7     B\n",
      "     transactionid   visitorid        date  revenue group\n",
      "415     1825231501  2587333274  2019-08-06    140.5     B\n",
      "729     2667448076  2587333274  2019-08-07     95.9     B\n",
      "970     3478707774  2587333274  2019-08-08     60.4     A\n",
      "972     2419539947  2587333274  2019-08-08     60.4     B\n",
      "     transactionid  visitorid        date  revenue group\n",
      "730     3335803766  477780734  2019-08-30    115.3     A\n",
      "732      132561921  477780734  2019-08-30     60.2     B\n",
      "     transactionid   visitorid        date  revenue group\n",
      "507     4067849009  2108163459  2019-08-06     10.9     A\n",
      "740      405281389  2108163459  2019-08-09     10.9     A\n",
      "918     3839104003  2108163459  2019-08-08     15.6     A\n",
      "     transactionid   visitorid        date  revenue group\n",
      "297      520097477  2988190573  2019-08-25    340.1     A\n",
      "757      461722689  2988190573  2019-08-30    385.5     A\n",
      "793     4080243878  2988190573  2019-08-30    315.2     A\n",
      "     transactionid   visitorid        date  revenue group\n",
      "515     1472783002  1617417821  2019-08-26     30.0     A\n",
      "781      936042206  1617417821  2019-08-27    125.4     A\n",
      "      transactionid   visitorid        date  revenue group\n",
      "327      3909269888  1668030113  2019-08-28     80.0     B\n",
      "782      2339954598  1668030113  2019-08-27     40.0     A\n",
      "1182     2682156369  1668030113  2019-08-14     20.8     B\n",
      "     transactionid   visitorid        date  revenue group\n",
      "375     1863281703  1959144690  2019-08-25    255.5     A\n",
      "783      189332332  1959144690  2019-08-27    255.5     B\n",
      "     transactionid   visitorid        date  revenue group\n",
      "487     2786000406  2744017357  2019-08-19     25.9     A\n",
      "797     1595002579  2744017357  2019-08-05     85.0     A\n",
      "     transactionid  visitorid        date  revenue group\n",
      "641     4016803793  366673373  2019-08-04      5.7     A\n",
      "808     2344401705  366673373  2019-08-05     25.5     A\n",
      "      transactionid   visitorid        date  revenue group\n",
      "359       615966907  3717692402  2019-08-28     15.0     B\n",
      "809      3362484972  3717692402  2019-08-21     40.9     A\n",
      "838      1607016207  3717692402  2019-08-21     65.2     B\n",
      "938      1575313118  3717692402  2019-08-08     25.7     B\n",
      "1175     1373388206  3717692402  2019-08-14     40.9     B\n",
      "      transactionid   visitorid        date  revenue group\n",
      "814      1759418862  4186807279  2019-08-21    290.5     B\n",
      "819       380064637  4186807279  2019-08-27    215.4     B\n",
      "1167     3757656646  4186807279  2019-08-14     80.8     A\n",
      "     transactionid   visitorid        date  revenue group\n",
      "829     2514024187  3766097110  2019-08-30     20.1     A\n",
      "832     2470658885  3766097110  2019-08-30     10.5     B\n",
      "     transactionid   visitorid        date  revenue group\n",
      "805     2726113349  1801183820  2019-08-05      5.5     B\n",
      "879     1197739160  1801183820  2019-08-05     10.0     A\n",
      "     transactionid   visitorid        date  revenue group\n",
      "858      192721366  1316129916  2019-08-27   1450.2     A\n",
      "900     3922986948  1316129916  2019-08-27     15.8     B\n",
      "     transactionid   visitorid        date  revenue group\n",
      "778     2726404029  1602967004  2019-08-27     75.9     B\n",
      "914     2792059099  1602967004  2019-08-08     65.2     A\n",
      "      transactionid  visitorid        date  revenue group\n",
      "525      3031564664  393266494  2019-08-19    335.5     A\n",
      "936       936917445  393266494  2019-08-08     35.7     B\n",
      "1189     4082620617  393266494  2019-08-14    490.4     B\n",
      "     transactionid   visitorid        date  revenue group\n",
      "311     3567356314  3077396270  2019-08-24     65.5     B\n",
      "942     2518211204  3077396270  2019-08-08    115.4     B\n",
      "     transactionid   visitorid        date  revenue group\n",
      "946      210558688  2733145037  2019-08-21     55.2     A\n",
      "947     2128508695  2733145037  2019-08-21    105.5     A\n",
      "     transactionid   visitorid        date  revenue group\n",
      "842     2076434956  3941795274  2019-08-21     20.2     A\n",
      "973      698171827  3941795274  2019-08-22     25.3     B\n",
      "     transactionid  visitorid        date  revenue group\n",
      "735     3328555363  406208401  2019-08-09     55.3     B\n",
      "978      123992977  406208401  2019-08-22     45.6     B\n",
      "      transactionid   visitorid        date  revenue group\n",
      "480      1954636284  2600415354  2019-08-06     25.5     B\n",
      "1008     2316868256  2600415354  2019-08-31     45.9     A\n",
      "      transactionid  visitorid        date  revenue group\n",
      "1009     2670069237  232979603  2019-08-31     45.6     B\n",
      "1013       83566152  232979603  2019-08-31      5.9     A\n",
      "      transactionid   visitorid        date  revenue group\n",
      "627      4212256267  4120364173  2019-08-29    615.3     A\n",
      "1021      969750843  4120364173  2019-08-31    240.5     B\n",
      "      transactionid   visitorid        date  revenue group\n",
      "535      3061324106  3972127743  2019-08-04    130.2     B\n",
      "1035     2898835960  3972127743  2019-08-09    130.8     A\n",
      "      transactionid   visitorid        date  revenue group\n",
      "406      1441855393  1404934699  2019-08-03    420.1     B\n",
      "1036     2890600501  1404934699  2019-08-09    130.3     B\n",
      "1044     1814628689  1404934699  2019-08-11    135.9     A\n",
      "      transactionid   visitorid        date  revenue group\n",
      "200      2066718132  3656415546  2019-08-23     45.8     A\n",
      "1042      265631116  3656415546  2019-08-11      5.8     B\n",
      "      transactionid   visitorid        date  revenue group\n",
      "955      3143300221  4134830387  2019-08-28     40.1     B\n",
      "1048     4057562044  4134830387  2019-08-11     30.5     B\n",
      "      transactionid   visitorid        date  revenue group\n",
      "2        2961555356  4069496402  2019-08-15     10.2     A\n",
      "1070     1473132782  4069496402  2019-08-12     10.8     B\n",
      "      transactionid   visitorid        date  revenue group\n",
      "895      1646874005  2306096143  2019-08-21    210.4     A\n",
      "1072     3559692217  2306096143  2019-08-12     30.4     A\n",
      "      transactionid  visitorid        date  revenue group\n",
      "85       1701653566  276558944  2019-08-22    190.0     B\n",
      "1093     3894437543  276558944  2019-08-12     80.7     A\n",
      "      transactionid   visitorid        date  revenue group\n",
      "174      2089115464  2366521417  2019-08-02     45.1     B\n",
      "1095     2774755101  2366521417  2019-08-12    220.4     B\n",
      "      transactionid   visitorid        date  revenue group\n",
      "1112     1149756812  1985475298  2019-08-12      5.5     B\n",
      "1118      418108717  1985475298  2019-08-13     15.5     B\n",
      "      transactionid  visitorid        date  revenue group\n",
      "704      1185885568  759473111  2019-08-07    305.3     A\n",
      "1137     2183069967  759473111  2019-08-13    810.4     A\n",
      "      transactionid   visitorid        date  revenue group\n",
      "1122     3620682463  2654030115  2019-08-13     35.5     B\n",
      "1156     1254962016  2654030115  2019-08-14     35.5     A\n",
      "      transactionid   visitorid        date  revenue group\n",
      "474      2004946059  1637811943  2019-08-28     20.4     B\n",
      "1159       29438557  1637811943  2019-08-14     55.4     B\n",
      "      transactionid  visitorid        date  revenue group\n",
      "325      4276811111  818047933  2019-08-28     55.2     A\n",
      "1163     2357685128  818047933  2019-08-14     10.2     B\n",
      "      transactionid   visitorid        date  revenue group\n",
      "1162     1277417350  3963646447  2019-08-14    100.2     A\n",
      "1165     2289555915  3963646447  2019-08-14    120.2     B\n",
      "      transactionid  visitorid        date  revenue group\n",
      "844      3734714128  471551937  2019-08-05    355.1     A\n",
      "1166     2676541142  471551937  2019-08-14     55.2     B\n",
      "      transactionid   visitorid        date  revenue group\n",
      "61       1251767592  2712142231  2019-08-16     15.2     B\n",
      "1173     3612788481  2712142231  2019-08-14     40.3     A\n",
      "      transactionid  visitorid        date  revenue group\n",
      "20       2904772834  963407295  2019-08-15      5.6     B\n",
      "1183     1458356232  963407295  2019-08-14     80.0     A\n",
      "      transactionid   visitorid        date  revenue group\n",
      "1178     4052155355  2949041841  2019-08-14      5.9     A\n",
      "1184     1329499668  2949041841  2019-08-14    160.7     B\n"
     ]
    }
   ],
   "source": [
    "# mostrar registros de usuarios duplicados \n",
    "for i in visitordup:\n",
    "    print(orders[orders['visitorid'] == i])\n"
   ]
  },
  {
   "cell_type": "code",
   "execution_count": 6,
   "metadata": {},
   "outputs": [],
   "source": [
    "#reasignación de grupos para valores duplicados que muestran visitorid duplicados\n",
    "orders.loc[27, ['group']] = ['A']\n",
    "orders.loc[256, ['group']] = ['B']\n",
    "orders.loc[1098, ['group']] = ['B']\n",
    "orders.loc[60, ['group']] = ['A']\n",
    "orders.loc[263, ['group']] = ['A']\n",
    "orders.loc[873, ['group']] = ['A']\n",
    "orders.loc[1019, ['group']] = ['A']\n",
    "orders.loc[32, ['group']] = ['A']\n",
    "orders.loc[577, ['group']] = ['A']\n",
    "orders.loc[624, ['group']] = ['A']\n",
    "orders.loc[391, ['group']] = ['A']\n",
    "orders.loc[435, ['group']] = ['A']\n",
    "orders.loc[473, ['group']] = ['A']\n",
    "orders.loc[697, ['group']] = ['A']\n",
    "orders.loc[1031, ['group']] = ['A']\n",
    "orders.loc[246, ['group']] = ['A']\n",
    "orders.loc[197, ['group']] = ['B']\n",
    "orders.loc[249, ['group']] = ['B']\n",
    "orders.loc[29, ['group']] = ['B']\n",
    "orders.loc[254, ['group']] = ['A']\n",
    "orders.loc[267, ['group']] = ['A']\n",
    "orders.loc[279, ['group']] = ['B']\n",
    "orders.loc[129, ['group']] = ['B']\n",
    "orders.loc[133, ['group']] = ['B']\n",
    "orders.loc[456, ['group']] = ['B']\n",
    "orders.loc[611, ['group']] = ['B']\n",
    "orders.loc[727, ['group']] = ['B']\n",
    "orders.loc[1062, ['group']] = ['B']\n",
    "orders.loc[432, ['group']] = ['A']\n",
    "orders.loc[453, ['group']] = ['B']\n",
    "orders.loc[455, ['group']] = ['A']\n",
    "orders.loc[479, ['group']] = ['A']\n",
    "orders.loc[497, ['group']] = ['B']\n",
    "orders.loc[370, ['group']] = ['B']\n",
    "orders.loc[310, ['group']] = ['A']\n",
    "orders.loc[857, ['group']] = ['A']\n",
    "orders.loc[561, ['group']] = ['A']\n",
    "orders.loc[606, ['group']] = ['A']\n",
    "orders.loc[674, ['group']] = ['A']\n",
    "orders.loc[675, ['group']] = ['A']\n",
    "orders.loc[402, ['group']] = ['A']\n",
    "orders.loc[682, ['group']] = ['A']\n",
    "orders.loc[685, ['group']] = ['A']\n",
    "orders.loc[688, ['group']] = ['A']\n",
    "orders.loc[703, ['group']] = ['B']\n",
    "orders.loc[970, ['group']] = ['B']\n",
    "orders.loc[732, ['group']] = ['A']\n",
    "orders.loc[782, ['group']] = ['B']\n",
    "orders.loc[783, ['group']] = ['A']\n",
    "orders.loc[809, ['group']] = ['B']\n",
    "orders.loc[1167, ['group']] = ['B']\n",
    "orders.loc[832, ['group']] = ['A']\n",
    "orders.loc[879, ['group']] = ['B']\n",
    "orders.loc[900, ['group']] = ['A']\n",
    "orders.loc[914, ['group']] = ['A']\n",
    "orders.loc[525, ['group']] = ['B']\n",
    "orders.loc[973, ['group']] = ['A']\n",
    "orders.loc[1008, ['group']] = ['B']\n",
    "orders.loc[1013, ['group']] = ['B']\n",
    "orders.loc[1021, ['group']] = ['A']\n",
    "orders.loc[1035, ['group']] = ['B']\n",
    "orders.loc[1044, ['group']] = ['B']\n",
    "orders.loc[1042, ['group']] = ['A']\n",
    "orders.loc[1070, ['group']] = ['A']\n",
    "orders.loc[1093, ['group']] = ['B']\n",
    "orders.loc[1156, ['group']] = ['B']\n",
    "orders.loc[1163, ['group']] = ['A']\n",
    "orders.loc[1165, ['group']] = ['A']\n",
    "orders.loc[1166, ['group']] = ['A']\n",
    "orders.loc[1173, ['group']] = ['B']\n",
    "orders.loc[1183, ['group']] = ['B']\n",
    "orders.loc[1184, ['group']] = ['A']"
   ]
  },
  {
   "cell_type": "markdown",
   "metadata": {},
   "source": [
    "Esta reasignación ha sido arbitraria, si un visitorid tiene en sus ordenes mayoria en el grupo A, entonces se ha asignado a todas el grupo A; si un visitorid en su mayoría tiene transacciones asignadas al grupo B, entonces todas se les asigna al grupo B. No es correcto ni viable eliminar registros ya que las todas las transacciones e ingresos son válidos. "
   ]
  },
  {
   "cell_type": "markdown",
   "metadata": {},
   "source": [
    "No se debe eliminar los registros del grupo B por arte de magia, porque todas las transacciones son válidas. No se me puede rechazar el proyecto por esta corrección que la estoy haciendo argumentada."
   ]
  },
  {
   "cell_type": "markdown",
   "metadata": {},
   "source": [
    "<div class=\"alert alert-block alert-success\">\n",
    "<b>Comentario del revisor #2</b> <a class=\"tocSkip\"></a>\n",
    "\n",
    "**Comentario Importante**\n",
    "    \n",
    "Hola, Andrés, entiendo tu punto de vista, de hecho, me parece interesante. Mi opinión en este caso es que también se podría evaluar porcentualmente el efecto del número de registros que se eliminarían frente al total. Esto tal vez podría cambiar un poco la perspectiva de análisis. Aun así, reconozco tu buena capacidad de análisis frente a este problema. Por otro lado, si tomamos la vía que estas desarrollando, para futuras ocasiones te podría recomendar estructurar alguna función que te permita ahorrar código repetitivo.\n",
    "    \n",
    "    \n",
    "Ya, por otro lado, refiriendo más a temas de presentación del proyecto, te recomiendo que en las celdas de Markdown común y correines simplemente desarrollar texto que sea contenido teórico del proyecto, mientras que si quieres comunicar algo al revisor uses el formato azul que te mostramos en la introducción del proyecto, esto teniendo en cuenta que la idea de tu proyecto es que cualquier persona en el futuro lo pueda revisar y explorar tu trabajo. (Te adjunto el código HTML que se usaría en las celdas Markdown para dejar un comentario azul informativo).\n",
    "    \n",
    "```Markdown\n",
    "<div class=\"alert alert-block alert-info\">\n",
    "<b>Respuesta del estudiante</b> <a class=\"tocSkip\"></a>\n",
    "    \n",
    "Hola, esto es un ejemplo de mensaje del estudiante.\n",
    "</div>\n",
    "    \n",
    "```\n",
    "</div>"
   ]
  },
  {
   "cell_type": "code",
   "execution_count": 7,
   "metadata": {},
   "outputs": [
    {
     "name": "stdout",
     "output_type": "stream",
     "text": [
      "      transactionid  visitorid        date  revenue group\n",
      "27       1630050528  237748145  2019-08-15    120.2     A\n",
      "41       2594268419  237748145  2019-08-15     20.8     A\n",
      "590      3702128013  237748145  2019-08-20     20.8     A\n",
      "716       972407388  237748145  2019-08-27     10.2     A\n",
      "1097     3357467820  237748145  2019-08-12     10.2     A\n",
      "     transactionid   visitorid        date  revenue group\n",
      "15      2550768810  2742574263  2019-08-15    235.0     B\n",
      "91      3176574859  2742574263  2019-08-22    275.9     B\n",
      "840      234238251  2742574263  2019-08-21    150.4     B\n",
      "      transactionid  visitorid        date  revenue group\n",
      "94        252633006  457167155  2019-08-22     95.8     B\n",
      "95        372616894  457167155  2019-08-22     20.2     B\n",
      "256      2370268995  457167155  2019-08-23     25.9     B\n",
      "1074     3571123442  457167155  2019-08-12     20.7     B\n",
      "    transactionid   visitorid        date  revenue group\n",
      "96     1170105516  2706377257  2019-08-01    140.8     A\n",
      "98     1962247337  2706377257  2019-08-01    110.7     A\n",
      "      transactionid   visitorid        date  revenue group\n",
      "111      2736731761  3062433592  2019-08-01    225.9     B\n",
      "112      1638982251  3062433592  2019-08-01    135.3     B\n",
      "1096     3075787818  3062433592  2019-08-12    505.7     B\n",
      "1098     1092419081  3062433592  2019-08-12    265.3     B\n",
      "1100     1671551244  3062433592  2019-08-12     50.7     B\n",
      "      transactionid   visitorid        date  revenue group\n",
      "60       1421016313  4256040402  2019-08-16    875.5     A\n",
      "114      1120327437  4256040402  2019-08-01     90.2     A\n",
      "187      2048878902  4256040402  2019-08-17     25.8     A\n",
      "253      1610091760  4256040402  2019-08-23    265.8     A\n",
      "263      2575861846  4256040402  2019-08-18    170.8     A\n",
      "588      3700356838  4256040402  2019-08-20    275.5     A\n",
      "873      2519737434  4256040402  2019-08-08    900.7     A\n",
      "901      3402467119  4256040402  2019-08-27     30.1     A\n",
      "1018     1415970216  4256040402  2019-08-31     80.5     A\n",
      "1019      453824282  4256040402  2019-08-31     30.5     A\n",
      "1091      750632879  4256040402  2019-08-12      5.8     A\n",
      "     transactionid   visitorid        date  revenue group\n",
      "32      3666913472  2038680547  2019-08-15     30.8     A\n",
      "117      722060263  2038680547  2019-08-22     15.7     A\n",
      "227     4267573899  2038680547  2019-08-17     55.4     A\n",
      "390     2415738512  2038680547  2019-08-25      5.2     A\n",
      "577     3932236947  2038680547  2019-08-04     45.1     A\n",
      "578     1570911533  2038680547  2019-08-04     25.5     A\n",
      "605     1215730747  2038680547  2019-08-04     40.1     A\n",
      "624     1666104258  2038680547  2019-08-29     40.2     A\n",
      "      transactionid   visitorid        date  revenue group\n",
      "33        486237576  2378935119  2019-08-15     30.4     A\n",
      "118      4233533907  2378935119  2019-08-22     55.2     A\n",
      "179      1784270968  2378935119  2019-08-17      5.8     A\n",
      "391      2213813903  2378935119  2019-08-25    330.5     A\n",
      "435      2430683444  2378935119  2019-08-28    315.6     A\n",
      "473      3224706027  2378935119  2019-08-28     70.8     A\n",
      "697      1612868255  2378935119  2019-08-09    475.5     A\n",
      "1029      469609643  2378935119  2019-08-10    900.7     A\n",
      "1031     1661772358  2378935119  2019-08-10     45.6     A\n",
      "      transactionid  visitorid        date  revenue group\n",
      "26       2223239646  199603092  2019-08-15     55.7     A\n",
      "134        62794304  199603092  2019-08-22    110.3     A\n",
      "246       437656952  199603092  2019-08-02     55.7     A\n",
      "823      2971973105  199603092  2019-08-27     45.9     A\n",
      "1102     1941707234  199603092  2019-08-12    100.0     A\n",
      "     transactionid  visitorid        date  revenue group\n",
      "104      627804981  611059232  2019-08-01    275.8     A\n",
      "144      365058890  611059232  2019-08-01     45.3     A\n",
      "145      735232225  611059232  2019-08-01    140.4     A\n",
      "     transactionid   visitorid        date  revenue group\n",
      "141      602399015  3967698036  2019-08-01      5.6     A\n",
      "147       52260954  3967698036  2019-08-01     20.2     A\n",
      "191     2361024027  3967698036  2019-08-02     30.0     A\n",
      "     transactionid   visitorid        date  revenue group\n",
      "162     2634363174  2892265953  2019-08-17     35.6     A\n",
      "163     1071437802  2892265953  2019-08-17     10.0     A\n",
      "     transactionid   visitorid        date  revenue group\n",
      "82      1246801103  2096506107  2019-08-16     80.5     B\n",
      "172       86411600  2096506107  2019-08-17     85.3     B\n",
      "     transactionid   visitorid        date  revenue group\n",
      "139     4141167864  2716752286  2019-08-01    125.9     B\n",
      "197     2632798290  2716752286  2019-08-02     35.2     B\n",
      "     transactionid   visitorid        date  revenue group\n",
      "212     1764119908  3332057097  2019-08-02     45.4     B\n",
      "213      394880746  3332057097  2019-08-02     45.3     B\n",
      "     transactionid   visitorid        date  revenue group\n",
      "214     3485678199  2232111114  2019-08-02    270.0     A\n",
      "247     3231452720  2232111114  2019-08-02    240.2     A\n",
      "     transactionid   visitorid        date  revenue group\n",
      "24      1162046357  3234906277  2019-08-15    120.2     B\n",
      "249     1360774578  3234906277  2019-08-18    120.2     B\n",
      "      transactionid   visitorid        date  revenue group\n",
      "29       2220299125  3803269165  2019-08-15     15.8     B\n",
      "252       473864496  3803269165  2019-08-23     40.3     B\n",
      "693      3244441077  3803269165  2019-08-09     10.1     B\n",
      "1171     2860596918  3803269165  2019-08-14    105.7     B\n",
      "1172     3898641900  3803269165  2019-08-14     15.2     B\n",
      "     transactionid   visitorid        date  revenue group\n",
      "219     2139320439  2686716486  2019-08-23    170.6     A\n",
      "254     1545495643  2686716486  2019-08-23    530.3     A\n",
      "     transactionid   visitorid        date  revenue group\n",
      "265     3743515850  2579882178  2019-08-18     30.6     A\n",
      "267      131747281  2579882178  2019-08-18    305.6     A\n",
      "     transactionid   visitorid        date  revenue group\n",
      "189     4189935502  1648269707  2019-08-17      5.5     B\n",
      "279     1101659272  1648269707  2019-08-18     15.2     B\n",
      "     transactionid   visitorid        date  revenue group\n",
      "129     1665445278  1738359350  2019-08-22     50.2     B\n",
      "330     3006440800  1738359350  2019-08-28     15.7     B\n",
      "861     2229298010  1738359350  2019-08-30     35.8     B\n",
      "     transactionid  visitorid        date  revenue group\n",
      "74      3721196264  249864742  2019-08-16     15.0     B\n",
      "373     4140190337  249864742  2019-08-24     10.5     B\n",
      "920     3057892078  249864742  2019-08-21     90.1     B\n",
      "      transactionid   visitorid        date  revenue group\n",
      "133      3060563671  2458001652  2019-08-22     80.8     B\n",
      "380      1177690313  2458001652  2019-08-25     40.7     B\n",
      "454      3755354294  2458001652  2019-08-06    115.1     B\n",
      "456       543654048  2458001652  2019-08-06     25.9     B\n",
      "483      2280027650  2458001652  2019-08-06    105.8     B\n",
      "611      1244084011  2458001652  2019-08-04     10.2     B\n",
      "692      3586870909  2458001652  2019-08-09     85.4     B\n",
      "727      3959083601  2458001652  2019-08-07    270.4     B\n",
      "883      2412219836  2458001652  2019-08-05     40.2     B\n",
      "916       527333943  2458001652  2019-08-08     85.4     B\n",
      "1062     1817215137  2458001652  2019-08-11    130.4     B\n",
      "     transactionid  visitorid        date  revenue group\n",
      "143     3433533137  678354126  2019-08-01    100.4     A\n",
      "395     2552819381  678354126  2019-08-28     15.5     A\n",
      "     transactionid   visitorid        date  revenue group\n",
      "239     3083858710  3469608676  2019-08-02    165.9     A\n",
      "401     2641583134  3469608676  2019-08-28    300.0     A\n",
      "     transactionid   visitorid        date  revenue group\n",
      "426       19467429  2397843657  2019-08-19     45.5     B\n",
      "427     3019510679  2397843657  2019-08-19     25.5     B\n",
      "     transactionid   visitorid        date  revenue group\n",
      "430     1168756094  3202540741  2019-08-24     50.5     A\n",
      "432     1061451265  3202540741  2019-08-24     85.8     A\n",
      "     transactionid  visitorid        date  revenue group\n",
      "23      4252514150  351125977  2019-08-15    235.6     B\n",
      "453     3075639014  351125977  2019-08-06     70.0     B\n",
      "     transactionid   visitorid        date  revenue group\n",
      "225     2931845376  2954449915  2019-08-17    170.0     A\n",
      "455     2781850870  2954449915  2019-08-06     50.2     A\n",
      "     transactionid   visitorid        date  revenue group\n",
      "230     3124204494  2927087541  2019-08-23    425.8     A\n",
      "479     1651227034  2927087541  2019-08-24     35.7     A\n",
      "     transactionid   visitorid        date  revenue group\n",
      "364     1745032218  1772171838  2019-08-19     25.5     A\n",
      "484     2631228632  1772171838  2019-08-06    100.3     A\n",
      "     transactionid   visitorid        date  revenue group\n",
      "496     2825038272  3951559397  2019-08-29    480.8     B\n",
      "497      246848596  3951559397  2019-08-29     40.3     B\n",
      "     transactionid   visitorid        date  revenue group\n",
      "418     3322807521  4109358064  2019-08-06     15.5     A\n",
      "512     2744208512  4109358064  2019-08-06     75.5     A\n",
      "     transactionid   visitorid        date  revenue group\n",
      "370      857639553  2044997962  2019-08-24     40.1     B\n",
      "516     3754751399  2044997962  2019-08-26     95.7     B\n",
      "517      582361359  2044997962  2019-08-26     20.2     B\n",
      "     transactionid  visitorid        date  revenue group\n",
      "182     3221239900  522292794  2019-08-23     15.0     B\n",
      "523     1739748874  522292794  2019-08-19     80.1     B\n",
      "     transactionid   visitorid        date  revenue group\n",
      "310     3532704780  3984495233  2019-08-03    315.1     A\n",
      "536     3925488023  3984495233  2019-08-04    315.1     A\n",
      "698      429858801  3984495233  2019-08-05    225.0     A\n",
      "     transactionid   visitorid        date  revenue group\n",
      "149     2368313386  3362039251  2019-08-17    150.4     B\n",
      "539     1187625359  3362039251  2019-08-20    100.2     B\n",
      "     transactionid   visitorid        date  revenue group\n",
      "304      609915801  2780786433  2019-08-28     20.5     A\n",
      "548      430186476  2780786433  2019-08-29     25.3     A\n",
      "857      847315305  2780786433  2019-08-27     10.3     A\n",
      "     transactionid   visitorid        date  revenue group\n",
      "552      151437276  3908431265  2019-08-06     25.2     A\n",
      "553     1926996770  3908431265  2019-08-06     30.5     A\n",
      "554     3986425716  3908431265  2019-08-06     15.7     A\n",
      "     transactionid   visitorid        date  revenue group\n",
      "556      571224785  3941503500  2019-08-06     80.8     B\n",
      "558     3621273697  3941503500  2019-08-06     80.8     B\n",
      "     transactionid   visitorid        date  revenue group\n",
      "269     1067267410  3957174400  2019-08-18     40.2     A\n",
      "561     3241914033  3957174400  2019-08-26     40.2     A\n",
      "     transactionid   visitorid        date  revenue group\n",
      "89      3525980424  3379260072  2019-08-22     35.5     B\n",
      "583     3167192434  3379260072  2019-08-20     10.3     B\n",
      "     transactionid   visitorid        date  revenue group\n",
      "159     1170827001  3891541246  2019-08-22     20.2     A\n",
      "606     4007826947  3891541246  2019-08-04     10.4     A\n",
      "609      332633624  3891541246  2019-08-04     80.2     A\n",
      "     transactionid   visitorid        date  revenue group\n",
      "574     3394575003  2025197455  2019-08-04      5.6     B\n",
      "608     2672742956  2025197455  2019-08-04    195.1     B\n",
      "     transactionid   visitorid        date  revenue group\n",
      "595      629969501  3935952912  2019-08-26     75.2     B\n",
      "626     3022667018  3935952912  2019-08-29     30.1     B\n",
      "     transactionid   visitorid        date  revenue group\n",
      "672     3667885894  1230306981  2019-08-09    105.7     A\n",
      "674     1748608673  1230306981  2019-08-09    100.5     A\n",
      "675     2658936877  1230306981  2019-08-09    100.1     A\n",
      "676      278311817  1230306981  2019-08-09     30.0     A\n",
      "739     2541955961  1230306981  2019-08-09    160.0     A\n",
      "      transactionid   visitorid        date  revenue group\n",
      "402       371848868  1294878855  2019-08-28     50.4     A\n",
      "677      2348589867  1294878855  2019-08-09    425.4     A\n",
      "1015     4262851755  1294878855  2019-08-31     10.8     A\n",
      "     transactionid   visitorid        date  revenue group\n",
      "662     1811671147  4266935830  2019-08-29   1220.2     A\n",
      "682     1216533772  4266935830  2019-08-29   1220.2     A\n",
      "      transactionid   visitorid        date  revenue group\n",
      "685      2972137054  1614305549  2019-08-29    150.9     A\n",
      "687      2663041816  1614305549  2019-08-29     25.5     A\n",
      "767      1278695805  1614305549  2019-08-21     15.5     A\n",
      "1195     1947021204  1614305549  2019-08-14      5.5     A\n",
      "     transactionid   visitorid        date  revenue group\n",
      "450     1750160666  1333886533  2019-08-06     25.5     A\n",
      "688      511953429  1333886533  2019-08-29     50.4     A\n",
      "     transactionid  visitorid        date  revenue group\n",
      "71      3679129301    8300375  2019-08-01    165.7     B\n",
      "703     4293855558    8300375  2019-08-07     30.5     B\n",
      "     transactionid   visitorid        date  revenue group\n",
      "465     1490093586  1404560065  2019-08-26    155.8     B\n",
      "715     2961490189  1404560065  2019-08-27    275.7     B\n",
      "     transactionid   visitorid        date  revenue group\n",
      "415     1825231501  2587333274  2019-08-06    140.5     B\n",
      "729     2667448076  2587333274  2019-08-07     95.9     B\n",
      "970     3478707774  2587333274  2019-08-08     60.4     B\n",
      "972     2419539947  2587333274  2019-08-08     60.4     B\n",
      "     transactionid  visitorid        date  revenue group\n",
      "730     3335803766  477780734  2019-08-30    115.3     A\n",
      "732      132561921  477780734  2019-08-30     60.2     A\n",
      "     transactionid   visitorid        date  revenue group\n",
      "507     4067849009  2108163459  2019-08-06     10.9     A\n",
      "740      405281389  2108163459  2019-08-09     10.9     A\n",
      "918     3839104003  2108163459  2019-08-08     15.6     A\n",
      "     transactionid   visitorid        date  revenue group\n",
      "297      520097477  2988190573  2019-08-25    340.1     A\n",
      "757      461722689  2988190573  2019-08-30    385.5     A\n",
      "793     4080243878  2988190573  2019-08-30    315.2     A\n",
      "     transactionid   visitorid        date  revenue group\n",
      "515     1472783002  1617417821  2019-08-26     30.0     A\n",
      "781      936042206  1617417821  2019-08-27    125.4     A\n",
      "      transactionid   visitorid        date  revenue group\n",
      "327      3909269888  1668030113  2019-08-28     80.0     B\n",
      "782      2339954598  1668030113  2019-08-27     40.0     B\n",
      "1182     2682156369  1668030113  2019-08-14     20.8     B\n",
      "     transactionid   visitorid        date  revenue group\n",
      "375     1863281703  1959144690  2019-08-25    255.5     A\n",
      "783      189332332  1959144690  2019-08-27    255.5     A\n",
      "     transactionid   visitorid        date  revenue group\n",
      "487     2786000406  2744017357  2019-08-19     25.9     A\n",
      "797     1595002579  2744017357  2019-08-05     85.0     A\n",
      "     transactionid  visitorid        date  revenue group\n",
      "641     4016803793  366673373  2019-08-04      5.7     A\n",
      "808     2344401705  366673373  2019-08-05     25.5     A\n",
      "      transactionid   visitorid        date  revenue group\n",
      "359       615966907  3717692402  2019-08-28     15.0     B\n",
      "809      3362484972  3717692402  2019-08-21     40.9     B\n",
      "838      1607016207  3717692402  2019-08-21     65.2     B\n",
      "938      1575313118  3717692402  2019-08-08     25.7     B\n",
      "1175     1373388206  3717692402  2019-08-14     40.9     B\n",
      "      transactionid   visitorid        date  revenue group\n",
      "814      1759418862  4186807279  2019-08-21    290.5     B\n",
      "819       380064637  4186807279  2019-08-27    215.4     B\n",
      "1167     3757656646  4186807279  2019-08-14     80.8     B\n",
      "     transactionid   visitorid        date  revenue group\n",
      "829     2514024187  3766097110  2019-08-30     20.1     A\n",
      "832     2470658885  3766097110  2019-08-30     10.5     A\n",
      "     transactionid   visitorid        date  revenue group\n",
      "805     2726113349  1801183820  2019-08-05      5.5     B\n",
      "879     1197739160  1801183820  2019-08-05     10.0     B\n",
      "     transactionid   visitorid        date  revenue group\n",
      "858      192721366  1316129916  2019-08-27   1450.2     A\n",
      "900     3922986948  1316129916  2019-08-27     15.8     A\n",
      "     transactionid   visitorid        date  revenue group\n",
      "778     2726404029  1602967004  2019-08-27     75.9     B\n",
      "914     2792059099  1602967004  2019-08-08     65.2     A\n",
      "      transactionid  visitorid        date  revenue group\n",
      "525      3031564664  393266494  2019-08-19    335.5     B\n",
      "936       936917445  393266494  2019-08-08     35.7     B\n",
      "1189     4082620617  393266494  2019-08-14    490.4     B\n",
      "     transactionid   visitorid        date  revenue group\n",
      "311     3567356314  3077396270  2019-08-24     65.5     B\n",
      "942     2518211204  3077396270  2019-08-08    115.4     B\n",
      "     transactionid   visitorid        date  revenue group\n",
      "946      210558688  2733145037  2019-08-21     55.2     A\n",
      "947     2128508695  2733145037  2019-08-21    105.5     A\n"
     ]
    },
    {
     "name": "stdout",
     "output_type": "stream",
     "text": [
      "     transactionid   visitorid        date  revenue group\n",
      "842     2076434956  3941795274  2019-08-21     20.2     A\n",
      "973      698171827  3941795274  2019-08-22     25.3     A\n",
      "     transactionid  visitorid        date  revenue group\n",
      "735     3328555363  406208401  2019-08-09     55.3     B\n",
      "978      123992977  406208401  2019-08-22     45.6     B\n",
      "      transactionid   visitorid        date  revenue group\n",
      "480      1954636284  2600415354  2019-08-06     25.5     B\n",
      "1008     2316868256  2600415354  2019-08-31     45.9     B\n",
      "      transactionid  visitorid        date  revenue group\n",
      "1009     2670069237  232979603  2019-08-31     45.6     B\n",
      "1013       83566152  232979603  2019-08-31      5.9     B\n",
      "      transactionid   visitorid        date  revenue group\n",
      "627      4212256267  4120364173  2019-08-29    615.3     A\n",
      "1021      969750843  4120364173  2019-08-31    240.5     A\n",
      "      transactionid   visitorid        date  revenue group\n",
      "535      3061324106  3972127743  2019-08-04    130.2     B\n",
      "1035     2898835960  3972127743  2019-08-09    130.8     B\n",
      "      transactionid   visitorid        date  revenue group\n",
      "406      1441855393  1404934699  2019-08-03    420.1     B\n",
      "1036     2890600501  1404934699  2019-08-09    130.3     B\n",
      "1044     1814628689  1404934699  2019-08-11    135.9     B\n",
      "      transactionid   visitorid        date  revenue group\n",
      "200      2066718132  3656415546  2019-08-23     45.8     A\n",
      "1042      265631116  3656415546  2019-08-11      5.8     A\n",
      "      transactionid   visitorid        date  revenue group\n",
      "955      3143300221  4134830387  2019-08-28     40.1     B\n",
      "1048     4057562044  4134830387  2019-08-11     30.5     B\n",
      "      transactionid   visitorid        date  revenue group\n",
      "2        2961555356  4069496402  2019-08-15     10.2     A\n",
      "1070     1473132782  4069496402  2019-08-12     10.8     A\n",
      "      transactionid   visitorid        date  revenue group\n",
      "895      1646874005  2306096143  2019-08-21    210.4     A\n",
      "1072     3559692217  2306096143  2019-08-12     30.4     A\n",
      "      transactionid  visitorid        date  revenue group\n",
      "85       1701653566  276558944  2019-08-22    190.0     B\n",
      "1093     3894437543  276558944  2019-08-12     80.7     B\n",
      "      transactionid   visitorid        date  revenue group\n",
      "174      2089115464  2366521417  2019-08-02     45.1     B\n",
      "1095     2774755101  2366521417  2019-08-12    220.4     B\n",
      "      transactionid   visitorid        date  revenue group\n",
      "1112     1149756812  1985475298  2019-08-12      5.5     B\n",
      "1118      418108717  1985475298  2019-08-13     15.5     B\n",
      "      transactionid  visitorid        date  revenue group\n",
      "704      1185885568  759473111  2019-08-07    305.3     A\n",
      "1137     2183069967  759473111  2019-08-13    810.4     A\n",
      "      transactionid   visitorid        date  revenue group\n",
      "1122     3620682463  2654030115  2019-08-13     35.5     B\n",
      "1156     1254962016  2654030115  2019-08-14     35.5     B\n",
      "      transactionid   visitorid        date  revenue group\n",
      "474      2004946059  1637811943  2019-08-28     20.4     B\n",
      "1159       29438557  1637811943  2019-08-14     55.4     B\n",
      "      transactionid  visitorid        date  revenue group\n",
      "325      4276811111  818047933  2019-08-28     55.2     A\n",
      "1163     2357685128  818047933  2019-08-14     10.2     A\n",
      "      transactionid   visitorid        date  revenue group\n",
      "1162     1277417350  3963646447  2019-08-14    100.2     A\n",
      "1165     2289555915  3963646447  2019-08-14    120.2     A\n",
      "      transactionid  visitorid        date  revenue group\n",
      "844      3734714128  471551937  2019-08-05    355.1     A\n",
      "1166     2676541142  471551937  2019-08-14     55.2     A\n",
      "      transactionid   visitorid        date  revenue group\n",
      "61       1251767592  2712142231  2019-08-16     15.2     B\n",
      "1173     3612788481  2712142231  2019-08-14     40.3     B\n",
      "      transactionid  visitorid        date  revenue group\n",
      "20       2904772834  963407295  2019-08-15      5.6     B\n",
      "1183     1458356232  963407295  2019-08-14     80.0     B\n",
      "      transactionid   visitorid        date  revenue group\n",
      "1178     4052155355  2949041841  2019-08-14      5.9     A\n",
      "1184     1329499668  2949041841  2019-08-14    160.7     A\n"
     ]
    }
   ],
   "source": [
    "#mostrar usuarios con grupos corregidos\n",
    "for i in visitordup:\n",
    "    print(orders[orders['visitorid'] == i])"
   ]
  },
  {
   "cell_type": "code",
   "execution_count": 8,
   "metadata": {},
   "outputs": [
    {
     "name": "stdout",
     "output_type": "stream",
     "text": [
      "     transactionid   visitorid        date  revenue group\n",
      "425      590470918  1920142716  2019-08-19  19920.4     B\n"
     ]
    }
   ],
   "source": [
    "revenuemax = orders[orders['revenue'] == 19920.4]\n",
    "print(revenuemax)"
   ]
  },
  {
   "cell_type": "markdown",
   "metadata": {},
   "source": [
    "#### visits"
   ]
  },
  {
   "cell_type": "code",
   "execution_count": 9,
   "metadata": {},
   "outputs": [
    {
     "name": "stdout",
     "output_type": "stream",
     "text": [
      "<class 'pandas.core.frame.DataFrame'>\n",
      "RangeIndex: 62 entries, 0 to 61\n",
      "Data columns (total 3 columns):\n",
      " #   Column  Non-Null Count  Dtype \n",
      "---  ------  --------------  ----- \n",
      " 0   date    62 non-null     object\n",
      " 1   group   62 non-null     object\n",
      " 2   visits  62 non-null     int64 \n",
      "dtypes: int64(1), object(2)\n",
      "memory usage: 1.6+ KB\n",
      "\n",
      "         date group  visits\n",
      "0  2019-08-01     A     719\n",
      "1  2019-08-02     A     619\n",
      "2  2019-08-03     A     507\n",
      "3  2019-08-04     A     717\n",
      "4  2019-08-05     A     756\n",
      "\n",
      "El número de datos duplicados en visitors es  0\n"
     ]
    }
   ],
   "source": [
    "visitors = pd.read_csv('/datasets/visits_us.csv')\n",
    "visitors.info()\n",
    "print()\n",
    "print(visitors.head(5))\n",
    "print()\n",
    "print(\"El número de datos duplicados en visitors es \", visitors.duplicated().sum())"
   ]
  },
  {
   "cell_type": "code",
   "execution_count": 10,
   "metadata": {},
   "outputs": [
    {
     "data": {
      "text/plain": [
       "<matplotlib.legend.Legend at 0x7f76add6db20>"
      ]
     },
     "execution_count": 10,
     "metadata": {},
     "output_type": "execute_result"
    },
    {
     "data": {
      "image/png": "[encoded data removed]",
      "text/plain": [
       "<Figure size 640x480 with 1 Axes>"
      ]
     },
     "metadata": {},
     "output_type": "display_data"
    }
   ],
   "source": [
    "visitorsA = visitors[visitors['group']=='A'][['date', 'visits']]\n",
    "\n",
    "visitorsB = visitors[visitors['group']=='B'][['date', 'visits']]\n",
    "\n",
    "# Trazar el gráfico de ingresos del grupo A\n",
    "plt.plot(visitorsA['date'], visitorsA['visits'], label='A')\n",
    "\n",
    "# Trazar el gráfico de ingresos del grupo B\n",
    "plt.plot(visitorsB['date'], visitorsB['visits'], label='B')\n",
    "\n",
    "plt.xticks(rotation='vertical')\n",
    "plt.legend()"
   ]
  },
  {
   "cell_type": "markdown",
   "metadata": {},
   "source": [
    "<div class=\"alert alert-block alert-success\">\n",
    "<b>Comentario del revisor</b> <a class=\"tocSkip\"></a>\n",
    "    \n",
    "Buen trabajo realizando el cargue y exploración inicial de cada uno de los datasets que serán usados para el desarrollo del proyecto. \n",
    "</div>"
   ]
  },
  {
   "cell_type": "markdown",
   "metadata": {},
   "source": [
    "## Parte 1. Priorizar hipótesis\n",
    "El archivo hypotheses_us.csv contiene nueve hipótesis sobre cómo aumentar los ingresos de una tienda en línea con Reach, Impact, Confidence y Effort especificados para cada una.\n",
    "\n",
    "El ejercicio consiste en:\n",
    "\n",
    "Aplicar el framework ICE para priorizar hipótesis. Ordenarlas en orden descendente de prioridad.\n",
    "\n"
   ]
  },
  {
   "cell_type": "code",
   "execution_count": 11,
   "metadata": {},
   "outputs": [
    {
     "name": "stdout",
     "output_type": "stream",
     "text": [
      "                                          hypothesis        ICE\n",
      "8  Launch a promotion that gives users discounts ...  16.200000\n",
      "0  Add two new channels for attracting traffic. T...  13.333333\n",
      "7  Add a subscription form to all the main pages....  11.200000\n",
      "6  Show banners with current offers and sales on ...   8.000000\n",
      "2  Add product recommendation blocks to the store...   7.000000\n",
      "1  Launch your own delivery service. This will sh...   2.000000\n",
      "5  Add a customer review page. This will increase...   1.333333\n",
      "3  Change the category structure. This will incre...   1.125000\n",
      "4  Change the background color on the main page. ...   1.000000\n"
     ]
    }
   ],
   "source": [
    "hypotheses['ICE'] = hypotheses['impact'] * hypotheses['confidence'] / hypotheses['effort']\n",
    "\n",
    "print(hypotheses[['hypothesis', 'ICE']].sort_values(by = ['ICE'],ascending = False))"
   ]
  },
  {
   "cell_type": "markdown",
   "metadata": {},
   "source": [
    "Aplicar el framework RICE para priorizar hipótesis. Ordenarlas en orden descendente de prioridad.\n",
    "Mostrar cómo cambia la priorización de hipótesis cuando utilizas RICE en lugar de ICE. Proporcionar una explicación de los cambios."
   ]
  },
  {
   "cell_type": "code",
   "execution_count": 12,
   "metadata": {},
   "outputs": [
    {
     "name": "stdout",
     "output_type": "stream",
     "text": [
      "                                          hypothesis   RICE\n",
      "7  Add a subscription form to all the main pages....  112.0\n",
      "2  Add product recommendation blocks to the store...   56.0\n",
      "0  Add two new channels for attracting traffic. T...   40.0\n",
      "6  Show banners with current offers and sales on ...   40.0\n",
      "8  Launch a promotion that gives users discounts ...   16.2\n",
      "3  Change the category structure. This will incre...    9.0\n",
      "1  Launch your own delivery service. This will sh...    4.0\n",
      "5  Add a customer review page. This will increase...    4.0\n",
      "4  Change the background color on the main page. ...    3.0\n"
     ]
    }
   ],
   "source": [
    "hypotheses['RICE'] = hypotheses['reach'] * hypotheses['impact'] * hypotheses['confidence'] / hypotheses['effort']\n",
    "\n",
    "print(hypotheses[['hypothesis','RICE']].sort_values('RICE', ascending = False))"
   ]
  },
  {
   "cell_type": "markdown",
   "metadata": {},
   "source": [
    "Si se observa en la teoría del ICE y RICE, estos índices se diferencian en el alcance, a mayor alcance mayor RICE. De este análisis matemático, las hipothesis cambian de orden de prioridad porque requieren tendrían mayor alcance, añadir un formulario de suscripción o añadir recomendaciones de producto supondrían un mayor alcance para los usuarios de la tienda, adicionalmente podría notarse que estos cambios requieren menor esfuerzo de implmentación."
   ]
  },
  {
   "cell_type": "markdown",
   "metadata": {},
   "source": [
    "<div class=\"alert alert-block alert-success\">\n",
    "<b>Comentario del revisor</b> <a class=\"tocSkip\"></a>\n",
    "    \n",
    "Buen trabajo. Aplicas los frameworks RISE e ICE de manera correcta. Adicional a lo anterior, realizas una comparación de los resultados de muy buena manear y genera conclusiones coherentes e interesantes. </div>"
   ]
  },
  {
   "cell_type": "markdown",
   "metadata": {},
   "source": [
    "<div class=\"alert alert-block alert-danger\">\n",
    "<b>Comentario del revisor</b> <a class=\"tocSkip\"></a>\n",
    "    \n",
    "**Comentario Importante** \n",
    "    \n",
    "~~Hola, Andres. He revisado toda to sección de Análisis de test A/B y realmente luce bien e interesante, ahora bien, me he fijado que antes de desarrollarla no has tenido en cuenta un aspecto importante para que las conclusiones que obtengamos sean las correctas, debes previos al desarrollo de los análisis identificar y eliminar los usuarios que están presentes en los dos grupos. ~~</div>\n"
   ]
  },
  {
   "cell_type": "markdown",
   "metadata": {},
   "source": [
    "## Parte 2. Análisis de test A/B\n",
    "Realizaste un test A/B y obtuviste los resultados descritos en los archivos orders_us.csv y visitors_us.csv.\n",
    "\n",
    "Ejercicio\n",
    "\n",
    "Analiza el test A/B:\n",
    "\n",
    "- Representa gráficamente el ingreso acumulado por grupo. Haz conclusiones y conjeturas.\n"
   ]
  },
  {
   "cell_type": "code",
   "execution_count": 13,
   "metadata": {},
   "outputs": [],
   "source": [
    "orders['date'] = orders['date'].map(\n",
    "    lambda x: dt.datetime.strptime(x, '%Y-%m-%d')\n",
    ")\n",
    "visitors['date'] = visitors['date'].map(\n",
    "    lambda x: dt.datetime.strptime(x, '%Y-%m-%d')\n",
    ")"
   ]
  },
  {
   "cell_type": "code",
   "execution_count": 14,
   "metadata": {},
   "outputs": [
    {
     "name": "stdout",
     "output_type": "stream",
     "text": [
      "          date group  transactionid  visitorid  revenue\n",
      "55  2019-08-01     A             24         20   2356.8\n",
      "66  2019-08-01     B             21         20   1620.0\n",
      "175 2019-08-02     A             44         38   3880.8\n",
      "173 2019-08-02     B             45         42   4223.3\n",
      "291 2019-08-03     A             69         63   6011.1\n",
      "          date group  visits\n",
      "55  2019-08-01     A     719\n",
      "66  2019-08-01     B     713\n",
      "175 2019-08-02     A    1338\n",
      "173 2019-08-02     B    1294\n",
      "291 2019-08-03     A    1845\n"
     ]
    }
   ],
   "source": [
    "# crea una matriz con valores únicos de parejas fecha-grupo\n",
    "datesGroups = orders[['date','group']].drop_duplicates()\n",
    "\n",
    "#  obtén los datos diarios acumulados agregados sobre los pedidos \n",
    "ordersAggregated = datesGroups.apply(lambda x: orders[np.logical_and(orders['date'] <= x['date'], orders['group'] == x['group'])].agg({'date' : 'max', 'group' : 'max', 'transactionid' : pd.Series.nunique, 'visitorid' : pd.Series.nunique, 'revenue' : 'sum'}), axis=1).sort_values(by=['date','group'])\n",
    "print(ordersAggregated.head(5))\n",
    "\n",
    "#obtén los datos diarios acumulados agregados sobre los visitantes\n",
    "visitorsAggregated = datesGroups.apply(lambda x: visitors[np.logical_and(visitors['date'] <= x['date'], visitors['group'] == x['group'])].agg({'date' : 'max', 'group' : 'max', 'visits' : 'sum'}), axis=1).sort_values(by=['date','group'])\n",
    "print(visitorsAggregated.head(5))\n"
   ]
  },
  {
   "cell_type": "code",
   "execution_count": 15,
   "metadata": {},
   "outputs": [
    {
     "name": "stdout",
     "output_type": "stream",
     "text": [
      "         date group  orders  buyers  revenue  visitors\n",
      "54 2019-08-28     A     518     441  60677.7     16970\n",
      "58 2019-08-30     A     556     469  68529.6     18037\n",
      "47 2019-08-24     B     494     436  72889.7     14448\n",
      "55 2019-08-28     B     570     501  80245.3     17177\n",
      "0  2019-08-01     A      24      20   2356.8       719\n",
      "14 2019-08-08     A     159     142  14237.9      5239\n",
      "26 2019-08-14     A     267     237  30880.3      9058\n",
      "27 2019-08-14     B     309     278  31126.2      9056\n",
      "36 2019-08-19     A     350     304  39870.2     11629\n",
      "1  2019-08-01     B      21      20   1620.0       713\n"
     ]
    }
   ],
   "source": [
    "#  fusiona las dos tablas en una y da a sus columnas nombres descriptivos\n",
    "cumulativeData = ordersAggregated.merge(visitorsAggregated, left_on=['date', 'group'], right_on=['date', 'group'])\n",
    "cumulativeData.columns = ['date', 'group', 'orders', 'buyers', 'revenue', 'visitors']\n",
    "\n",
    "print(cumulativeData.sample(10))"
   ]
  },
  {
   "cell_type": "code",
   "execution_count": 16,
   "metadata": {},
   "outputs": [
    {
     "data": {
      "text/plain": [
       "<matplotlib.legend.Legend at 0x7f76abdf2490>"
      ]
     },
     "execution_count": 16,
     "metadata": {},
     "output_type": "execute_result"
    },
    {
     "data": {
      "image/png": "[encoded data removed]",
      "text/plain": [
       "<Figure size 640x480 with 1 Axes>"
      ]
     },
     "metadata": {},
     "output_type": "display_data"
    }
   ],
   "source": [
    "# DataFrame con pedidos acumulados e ingresos acumulados por día, grupo A\n",
    "cumulativeRevenueA = cumulativeData[cumulativeData['group']=='A'][['date','revenue', 'orders']]\n",
    "\n",
    "# DataFrame con pedidos acumulados e ingresos acumulados por día, grupo B\n",
    "cumulativeRevenueB = cumulativeData[cumulativeData['group']=='B'][['date','revenue', 'orders']]\n",
    "\n",
    "# Trazar el gráfico de ingresos del grupo A\n",
    "plt.plot(cumulativeRevenueA['date'], cumulativeRevenueA['revenue'], label='A')\n",
    "\n",
    "# Trazar el gráfico de ingresos del grupo B\n",
    "plt.plot(cumulativeRevenueB['date'], cumulativeRevenueB['revenue'], label='B')\n",
    "\n",
    "plt.xticks(rotation='vertical')\n",
    "plt.legend()"
   ]
  },
  {
   "cell_type": "markdown",
   "metadata": {},
   "source": [
    "Los ingresos aumentan constantemente durante toda la prueba. Sin embargo, podemos ver que en el grupo B, existe un alza repentina, lo cual implica un aumento en el número de pedidos o la existencia de pedidos muy caros en la muestra."
   ]
  },
  {
   "cell_type": "markdown",
   "metadata": {},
   "source": [
    "<div class=\"alert alert-block alert-success\">\n",
    "<b>Comentario del revisor #2</b> <a class=\"tocSkip\"></a>\n",
    "    \n",
    "Buen trabajo con el desarrollo del gráfico de ingresos acumulados por grupo. </div>"
   ]
  },
  {
   "cell_type": "markdown",
   "metadata": {},
   "source": [
    "- Representa gráficamente el tamaño de pedido promedio acumulado por grupo. Haz conclusiones y conjeturas.\n"
   ]
  },
  {
   "cell_type": "code",
   "execution_count": 17,
   "metadata": {},
   "outputs": [
    {
     "data": {
      "text/plain": [
       "<matplotlib.legend.Legend at 0x7f76adc68a90>"
      ]
     },
     "execution_count": 17,
     "metadata": {},
     "output_type": "execute_result"
    },
    {
     "data": {
      "image/png": "[encoded data removed]",
      "text/plain": [
       "<Figure size 640x480 with 1 Axes>"
      ]
     },
     "metadata": {},
     "output_type": "display_data"
    }
   ],
   "source": [
    "plt.plot(cumulativeRevenueA['date'], cumulativeRevenueA['revenue']/cumulativeRevenueA['orders'], label='A')\n",
    "plt.plot(cumulativeRevenueB['date'], cumulativeRevenueB['revenue']/cumulativeRevenueB['orders'], label='B')\n",
    "plt.xticks(rotation='vertical')\n",
    "plt.legend()"
   ]
  },
  {
   "cell_type": "markdown",
   "metadata": {},
   "source": [
    "El tamaño de compra promedio también se estabiliza al final de la prueba en el grupo A pero va cayendo para el grupo B. Necesitamos más datos sobre este grupo para encontrar el verdadero tamaño promedio de compra."
   ]
  },
  {
   "cell_type": "markdown",
   "metadata": {},
   "source": [
    "<div class=\"alert alert-block alert-success\">\n",
    "<b>Comentario del revisor #2</b> <a class=\"tocSkip\"></a>\n",
    "    \n",
    "Buen trabajo con el desarrollo del gráfico de tamaño de pedido promedio acumulado por grupo. </div>"
   ]
  },
  {
   "cell_type": "markdown",
   "metadata": {},
   "source": [
    "- Representa gráficamente la diferencia relativa en el tamaño de pedido promedio acumulado para el grupo B en comparación con el grupo A. Haz conclusiones y conjeturas.\n"
   ]
  },
  {
   "cell_type": "code",
   "execution_count": 37,
   "metadata": {},
   "outputs": [
    {
     "data": {
      "image/png": "[encoded data removed]",
      "text/plain": [
       "<Figure size 640x480 with 1 Axes>"
      ]
     },
     "metadata": {},
     "output_type": "display_data"
    }
   ],
   "source": [
    "# reunir los datos en un DataFrame\n",
    "mergedCumulativeRevenue = cumulativeRevenueA.merge(cumulativeRevenueB, left_on='date', right_on='date', how='left', suffixes=['A', 'B'])\n",
    "\n",
    "# trazar un gráfico de diferencia relativa para los tamaños de compra promedio\n",
    "plt.plot(mergedCumulativeRevenue['date'], (mergedCumulativeRevenue['revenueB']/mergedCumulativeRevenue['ordersB'])/(mergedCumulativeRevenue['revenueA']/mergedCumulativeRevenue['ordersA'])-1)\n",
    "\n",
    "# agregar el eje X\n",
    "plt.axhline(y=0, color='black', linestyle='--')\n",
    "\n",
    "plt.xticks(rotation='vertical')\n",
    "plt.show()"
   ]
  },
  {
   "cell_type": "markdown",
   "metadata": {},
   "source": [
    "<div class=\"alert alert-block alert-danger\">\n",
    "<b>Comentario del revisor #2</b> <a class=\"tocSkip\"></a>\n",
    "    \n",
    "~~Buen trabajo realizando la gráfica de la diferencia relativa en el tamaño de pedido promedio acumulado para el grupo B en comparación con el grupo A. Lo único que te puedo recomendar en este caso es que uses el método ``plt.show()`` para evitar que se impriman etiquetas innecesarias en pantalla.~~  </div>"
   ]
  },
  {
   "cell_type": "markdown",
   "metadata": {},
   "source": [
    "<div class=\"alert alert-block alert-info\">\n",
    "<b>Ok corregido</b> <a class=\"tocSkip\"></a>\n",
    "</div"
   ]
  },
  {
   "cell_type": "markdown",
   "metadata": {},
   "source": [
    "<div class=\"alert alert-block alert-success\">\n",
    "<b>Comentario del revisor #3</b> <a class=\"tocSkip\"></a>\n",
    "    \n",
    "Buen trabajo Andres.  </div>"
   ]
  },
  {
   "cell_type": "markdown",
   "metadata": {},
   "source": [
    "Esta diferencia entre los grupos, nos indica que en el grupo B existen dos picos importantes de compras a lo largo de todo el periodo de tiempo"
   ]
  },
  {
   "cell_type": "markdown",
   "metadata": {},
   "source": [
    "- Calcula la tasa de conversión de cada grupo como la relación entre los pedidos y el número de visitas de cada día. Representa gráficamente las tasas de conversión diarias de los dos grupos y describe la diferencia. Saca conclusiones y haz conjeturas.\n"
   ]
  },
  {
   "cell_type": "code",
   "execution_count": 36,
   "metadata": {},
   "outputs": [
    {
     "data": {
      "image/png": "[encoded data removed]",
      "text/plain": [
       "<Figure size 640x480 with 1 Axes>"
      ]
     },
     "metadata": {},
     "output_type": "display_data"
    }
   ],
   "source": [
    "# calcular la conversión acumulada\n",
    "cumulativeData['conversion'] = cumulativeData['orders']/cumulativeData['visitors']\n",
    "\n",
    "# seleccionar datos en el grupo A\n",
    "cumulativeDataA = cumulativeData[cumulativeData['group']=='A']\n",
    "\n",
    "# seleccionar datos en el grupo B\n",
    "cumulativeDataB = cumulativeData[cumulativeData['group']=='B']\n",
    "\n",
    "# trazar los gráficos\n",
    "plt.plot(cumulativeDataA['date'], cumulativeDataA['conversion'], label='A')\n",
    "plt.plot(cumulativeDataB['date'], cumulativeDataB['conversion'], label='B')\n",
    "plt.legend()\n",
    "\n",
    "# establecer la escala de los ejes\n",
    "#plt.axis([\"2019-08-01\", '2019-08-31', 0, 0.015])\n",
    "\n",
    "plt.xticks(rotation='vertical')\n",
    "plt.show()"
   ]
  },
  {
   "cell_type": "markdown",
   "metadata": {},
   "source": [
    "Los grupos fluctuan al principio pero luego las tasas de conversión se estabilizan, notando siempre que el grupo B está más arriba que el grupo A"
   ]
  },
  {
   "cell_type": "markdown",
   "metadata": {},
   "source": [
    "<div class=\"alert alert-block alert-danger\">\n",
    "<b>Comentario del revisor #2</b> <a class=\"tocSkip\"></a>\n",
    "    \n",
    "~~En este caso, buen trabajo con el cálculo y grafico de la tasa de conversión entre grupos. Simplemente, podrías tener en cuenta nuevamente el consejo del método ``plt.show()``.~~ </div>"
   ]
  },
  {
   "cell_type": "markdown",
   "metadata": {},
   "source": [
    "<div class=\"alert alert-block alert-info\">\n",
    "<b>Ok corregido</b> <a class=\"tocSkip\"></a>\n",
    "</div"
   ]
  },
  {
   "cell_type": "markdown",
   "metadata": {},
   "source": [
    "<div class=\"alert alert-block alert-success\">\n",
    "<b>Comentario del revisor #3</b> <a class=\"tocSkip\"></a>\n",
    "    \n",
    "Buen trabajo Andres.  </div>"
   ]
  },
  {
   "cell_type": "markdown",
   "metadata": {},
   "source": [
    "\n",
    "- Traza un gráfico de dispersión de los precios de los pedidos. Haz conclusiones y conjeturas.\n"
   ]
  },
  {
   "cell_type": "code",
   "execution_count": 35,
   "metadata": {},
   "outputs": [
    {
     "data": {
      "image/png": "[encoded data removed]",
      "text/plain": [
       "<Figure size 640x480 with 1 Axes>"
      ]
     },
     "metadata": {},
     "output_type": "display_data"
    }
   ],
   "source": [
    "mergedCumulativeConversions = cumulativeDataA[['date','conversion']].merge(cumulativeDataB[['date','conversion']], left_on='date', right_on='date', how='left', suffixes=['A', 'B'])\n",
    "\n",
    "plt.plot(mergedCumulativeConversions['date'], mergedCumulativeConversions['conversionB']/mergedCumulativeConversions['conversionA']-1)\n",
    "\n",
    "\n",
    "plt.axhline(y=0, color='black', linestyle='--')\n",
    "plt.axhline(y=-0.1, color='grey', linestyle='--')\n",
    "plt.xticks(rotation='vertical')\n",
    "plt.show()"
   ]
  },
  {
   "cell_type": "markdown",
   "metadata": {},
   "source": [
    "<div class=\"alert alert-block alert-danger\">\n",
    "<b>Comentario del revisor #2</b> <a class=\"tocSkip\"></a>\n",
    "    \n",
    "~~Buen trabajo desarrollando el grafico pero ten en cuenta el consejo del ``plt.show()``.~~ </div>"
   ]
  },
  {
   "cell_type": "markdown",
   "metadata": {},
   "source": [
    "<div class=\"alert alert-block alert-info\">\n",
    "<b>Ok corregido</b> <a class=\"tocSkip\"></a>\n",
    "</div"
   ]
  },
  {
   "cell_type": "markdown",
   "metadata": {},
   "source": [
    "<div class=\"alert alert-block alert-success\">\n",
    "<b>Comentario del revisor #3</b> <a class=\"tocSkip\"></a>\n",
    "    \n",
    "Buen trabajo Andres.  </div>"
   ]
  },
  {
   "cell_type": "markdown",
   "metadata": {},
   "source": [
    "De la misma manera este gráfico indica que el grupo B siempre tiene una ventaja sobre el grupo A"
   ]
  },
  {
   "cell_type": "code",
   "execution_count": 21,
   "metadata": {},
   "outputs": [
    {
     "data": {
      "text/plain": [
       "count     1197.000000\n",
       "mean       131.491646\n",
       "std        603.004729\n",
       "min          5.000000\n",
       "25%         20.800000\n",
       "50%         50.200000\n",
       "75%        130.400000\n",
       "max      19920.400000\n",
       "Name: revenue, dtype: float64"
      ]
     },
     "execution_count": 21,
     "metadata": {},
     "output_type": "execute_result"
    },
    {
     "data": {
      "image/png": "[encoded data removed]",
      "text/plain": [
       "<Figure size 640x480 with 1 Axes>"
      ]
     },
     "metadata": {},
     "output_type": "display_data"
    }
   ],
   "source": [
    "plt.hist(orders['revenue'])\n",
    "x_values = pd.Series(range(0, len(orders['revenue'])))\n",
    "orders['revenue'].describe()"
   ]
  },
  {
   "cell_type": "markdown",
   "metadata": {},
   "source": [
    "<div class=\"alert alert-block alert-success\">\n",
    "<b>Comentario del revisor #2</b> <a class=\"tocSkip\"></a>\n",
    "    \n",
    "Buen trabajo.  </div>"
   ]
  },
  {
   "cell_type": "markdown",
   "metadata": {},
   "source": [
    "Se etecta que existe un valor atípico de 19920 reflejado en el valor máximo del revenue"
   ]
  },
  {
   "cell_type": "code",
   "execution_count": 22,
   "metadata": {},
   "outputs": [
    {
     "data": {
      "text/plain": [
       "<matplotlib.collections.PathCollection at 0x7f76a7de8e80>"
      ]
     },
     "execution_count": 22,
     "metadata": {},
     "output_type": "execute_result"
    },
    {
     "data": {
      "image/png": "[encoded data removed]",
      "text/plain": [
       "<Figure size 640x480 with 1 Axes>"
      ]
     },
     "metadata": {},
     "output_type": "display_data"
    }
   ],
   "source": [
    "plt.scatter(x_values, orders['revenue'])"
   ]
  },
  {
   "cell_type": "markdown",
   "metadata": {},
   "source": [
    "Este gráfico scatter confirma lo dicho anteriormente, adicionando otro revenue con valor aproximado de 2500, mientras que el promedio es 131 y la mediana es 50."
   ]
  },
  {
   "cell_type": "markdown",
   "metadata": {},
   "source": [
    "<div class=\"alert alert-block alert-success\">\n",
    "<b>Comentario del revisor #2</b> <a class=\"tocSkip\"></a>\n",
    "    \n",
    "BUen trabajo con el grafico de dispersión via scatter del precio de los pedidos. </div>"
   ]
  },
  {
   "cell_type": "markdown",
   "metadata": {},
   "source": [
    "- Calcula los percentiles 95 y 99 para el número de pedidos por usuario. Define el punto en el cual un punto de datos se convierte en una anomalía.\n"
   ]
  },
  {
   "cell_type": "code",
   "execution_count": 23,
   "metadata": {},
   "outputs": [
    {
     "name": "stdout",
     "output_type": "stream",
     "text": [
      "[282.48  435.54  900.904]\n"
     ]
    }
   ],
   "source": [
    "print(np.percentile(orders['revenue'], [90, 95, 99]))"
   ]
  },
  {
   "cell_type": "code",
   "execution_count": 24,
   "metadata": {},
   "outputs": [
    {
     "data": {
      "text/plain": [
       "<AxesSubplot:>"
      ]
     },
     "execution_count": 24,
     "metadata": {},
     "output_type": "execute_result"
    },
    {
     "data": {
      "image/png": "[encoded data removed]",
      "text/plain": [
       "<Figure size 640x480 with 1 Axes>"
      ]
     },
     "metadata": {},
     "output_type": "display_data"
    }
   ],
   "source": [
    "sns.boxplot(data=orders['revenue'])"
   ]
  },
  {
   "cell_type": "markdown",
   "metadata": {},
   "source": [
    "De acuerdo a los datos y al gráfico se considera una anomalía más allá del percentil 99, $900"
   ]
  },
  {
   "cell_type": "markdown",
   "metadata": {},
   "source": [
    "<div class=\"alert alert-block alert-success\">\n",
    "<b>Comentario del revisor #2</b> <a class=\"tocSkip\"></a>\n",
    "    \n",
    "Buen trabajo con el calculo de los percentiles y el desarrollo del boxplot . </div>"
   ]
  },
  {
   "cell_type": "markdown",
   "metadata": {},
   "source": [
    "- Traza un gráfico de dispersión del número de pedidos por usuario. Haz conclusiones y conjeturas.\n"
   ]
  },
  {
   "cell_type": "code",
   "execution_count": 25,
   "metadata": {},
   "outputs": [
    {
     "name": "stdout",
     "output_type": "stream",
     "text": [
      "      transactionid  orders\n",
      "1023     4256040402      11\n",
      "591      2458001652      11\n",
      "569      2378935119       9\n",
      "487      2038680547       8\n",
      "44        199603092       5\n",
      "744      3062433592       5\n",
      "55        237748145       5\n",
      "917      3803269165       5\n",
      "299      1230306981       5\n",
      "897      3717692402       5\n"
     ]
    }
   ],
   "source": [
    "ordersByUsers = (\n",
    "    orders.drop(['group', 'revenue', 'date'], axis=1)\n",
    "    .groupby('visitorid', as_index=False)\n",
    "    .agg({'transactionid': pd.Series.nunique})\n",
    ")\n",
    "\n",
    "ordersByUsers.columns = ['transactionid', 'orders']\n",
    "\n",
    "print(ordersByUsers.sort_values(by='orders', ascending=False).head(10))"
   ]
  },
  {
   "cell_type": "code",
   "execution_count": 26,
   "metadata": {},
   "outputs": [
    {
     "data": {
      "text/plain": [
       "(array([937.,  64.,  17.,   3.,   6.,   0.,   0.,   1.,   1.,   2.]),\n",
       " array([ 1.,  2.,  3.,  4.,  5.,  6.,  7.,  8.,  9., 10., 11.]),\n",
       " <BarContainer object of 10 artists>)"
      ]
     },
     "execution_count": 26,
     "metadata": {},
     "output_type": "execute_result"
    },
    {
     "data": {
      "image/png": "[encoded data removed]",
      "text/plain": [
       "<Figure size 640x480 with 1 Axes>"
      ]
     },
     "metadata": {},
     "output_type": "display_data"
    }
   ],
   "source": [
    "plt.hist(ordersByUsers['orders'])\n"
   ]
  },
  {
   "cell_type": "markdown",
   "metadata": {},
   "source": [
    "La mayoría de los clientes hicieron un solo pedido. Sin embargo, una parte significativa hizo de dos a cuatro cada uno."
   ]
  },
  {
   "cell_type": "code",
   "execution_count": 27,
   "metadata": {},
   "outputs": [
    {
     "data": {
      "text/plain": [
       "<matplotlib.collections.PathCollection at 0x7f76a7c415e0>"
      ]
     },
     "execution_count": 27,
     "metadata": {},
     "output_type": "execute_result"
    },
    {
     "data": {
      "image/png": "[encoded data removed]",
      "text/plain": [
       "<Figure size 640x480 with 1 Axes>"
      ]
     },
     "metadata": {},
     "output_type": "display_data"
    }
   ],
   "source": [
    "x_values = pd.Series(range(0,len(ordersByUsers)))\n",
    "\n",
    "plt.scatter(x_values, ordersByUsers['orders'])"
   ]
  },
  {
   "cell_type": "markdown",
   "metadata": {},
   "source": [
    "Este gráfico confirma lo dicho anteriormente"
   ]
  },
  {
   "cell_type": "markdown",
   "metadata": {},
   "source": [
    "<div class=\"alert alert-block alert-success\">\n",
    "<b>Comentario del revisor #2</b> <a class=\"tocSkip\"></a>\n",
    "    \n",
    "BUen trabajo con el grafico de dispersión del numero de pedidos por cliente. </div>"
   ]
  },
  {
   "cell_type": "markdown",
   "metadata": {},
   "source": [
    "- Calcula los percentiles 95 y 99 de los precios de los pedidos. Define el punto en el cual un punto de datos se convierte en una anomalía.\n"
   ]
  },
  {
   "cell_type": "code",
   "execution_count": 28,
   "metadata": {},
   "outputs": [
    {
     "name": "stdout",
     "output_type": "stream",
     "text": [
      "[1. 2. 4.]\n"
     ]
    }
   ],
   "source": [
    "print(np.percentile(ordersByUsers['orders'], [90, 95, 99]))"
   ]
  },
  {
   "cell_type": "code",
   "execution_count": 29,
   "metadata": {},
   "outputs": [
    {
     "data": {
      "text/plain": [
       "<AxesSubplot:>"
      ]
     },
     "execution_count": 29,
     "metadata": {},
     "output_type": "execute_result"
    },
    {
     "data": {
      "image/png": "[encoded data removed]",
      "text/plain": [
       "<Figure size 640x480 with 1 Axes>"
      ]
     },
     "metadata": {},
     "output_type": "display_data"
    }
   ],
   "source": [
    "sns.boxplot(data=ordersByUsers['orders'])"
   ]
  },
  {
   "cell_type": "markdown",
   "metadata": {},
   "source": [
    "Se considerará datos atípicos cuando con compras mayores a 4, es decir en el percentil 99"
   ]
  },
  {
   "cell_type": "markdown",
   "metadata": {},
   "source": [
    "<div class=\"alert alert-block alert-success\">\n",
    "<b>Comentario del revisor #2</b> <a class=\"tocSkip\"></a>\n",
    "    \n",
    "Buen trabajo con el calculo de los percentiles y el desarrollo del boxplot . </div>"
   ]
  },
  {
   "cell_type": "markdown",
   "metadata": {},
   "source": [
    "- Encuentra la significancia estadística de la diferencia en la conversión entre los grupos utilizando los datos en bruto. Haz conclusiones y conjeturas.\n"
   ]
  },
  {
   "cell_type": "code",
   "execution_count": 30,
   "metadata": {},
   "outputs": [
    {
     "name": "stdout",
     "output_type": "stream",
     "text": [
      "0.022\n",
      "0.097\n"
     ]
    }
   ],
   "source": [
    "ordersByUsersA = orders[orders['group']=='A'].groupby('visitorid', as_index=False).agg({'transactionid' : pd.Series.nunique})\n",
    "ordersByUsersA.columns = ['visitorid', 'orders']\n",
    "\n",
    "ordersByUsersB = orders[orders['group']=='B'].groupby('visitorid', as_index=False).agg({'transactionid' : pd.Series.nunique})\n",
    "ordersByUsersB.columns = ['visitorid', 'orders']\n",
    "\n",
    "sampleA = pd.concat([ordersByUsersA['orders'],pd.Series(0, index=np.arange(visitors[visitors['group']=='A']['visits'].sum() - len(ordersByUsersA['orders'])), name='orders')],axis=0)\n",
    "\n",
    "sampleB = pd.concat([ordersByUsersB['orders'],pd.Series(0, index=np.arange(visitors[visitors['group']=='B']['visits'].sum() - len(ordersByUsersB['orders'])), name='orders')],axis=0)\n",
    "\n",
    "print(\"{0:.3f}\".format(stats.mannwhitneyu(sampleA, sampleB)[1]))\n",
    "\n",
    "print(\"{0:.3f}\".format(sampleB.mean()/sampleA.mean()-1))"
   ]
  },
  {
   "cell_type": "markdown",
   "metadata": {},
   "source": [
    "Según los datos sin procesar, si hay diferencia entre los grupos A y B.\n",
    "\n",
    "La primera fila de la salida nos da el valor p 0.022, que es menor que 0.05. Entonces, podemos rechazar la hipótesis nula ya que hay una diferencia estadísticamente significativa en la conversión entre los grupos. Se define una ganancia relativa del grupo B con el 9,7% (la segunda fila de la salida)."
   ]
  },
  {
   "cell_type": "markdown",
   "metadata": {},
   "source": [
    "- Encuentra la significancia estadística de la diferencia en el tamaño promedio de pedido entre los grupos utilizando los datos en bruto. Haz conclusiones y conjeturas.\n"
   ]
  },
  {
   "cell_type": "code",
   "execution_count": 31,
   "metadata": {},
   "outputs": [
    {
     "name": "stdout",
     "output_type": "stream",
     "text": [
      "0.741\n",
      "0.135\n"
     ]
    }
   ],
   "source": [
    "print('{0:.3f}'.format(stats.mannwhitneyu(orders[orders['group']=='A']['revenue'], orders[orders['group']=='B']['revenue'])[1]))\n",
    "print('{0:.3f}'.format(orders[orders['group']=='B']['revenue'].mean()/orders[orders['group']=='A']['revenue'].mean()-1))"
   ]
  },
  {
   "cell_type": "markdown",
   "metadata": {},
   "source": [
    "El valor p es notablemente superior a 0.05 por lo que no hay motivo para rechazar la hipótesis nula y concluir que el tamaño medio de los pedidos difiere entre los grupos. El tamaño de pedido promedio para el grupo B es mucho más grande que para el grupo A."
   ]
  },
  {
   "cell_type": "markdown",
   "metadata": {},
   "source": [
    "- Encuentra la significancia estadística de la diferencia en la conversión entre los grupos utilizando los datos filtrados. Haz conclusiones y conjeturas.\n"
   ]
  },
  {
   "cell_type": "code",
   "execution_count": 32,
   "metadata": {},
   "outputs": [
    {
     "name": "stdout",
     "output_type": "stream",
     "text": [
      "1099    148427295\n",
      "17      199603092\n",
      "21      237748145\n",
      "949     887908475\n",
      "744     888512513\n",
      "Name: visitorid, dtype: int64\n",
      "(21,)\n"
     ]
    }
   ],
   "source": [
    "usersWithManyOrders = pd.concat([ordersByUsersA[ordersByUsersA['orders'] > 4]['visitorid'], ordersByUsersB[ordersByUsersB['orders'] > 4]['visitorid']], axis = 0)\n",
    "usersWithExpensiveOrders = orders[orders['revenue'] > 900]['visitorid']\n",
    "abnormalUsers = pd.concat([usersWithManyOrders, usersWithExpensiveOrders], axis = 0).drop_duplicates().sort_values()\n",
    "print(abnormalUsers.head(5))\n",
    "print(abnormalUsers.shape)"
   ]
  },
  {
   "cell_type": "code",
   "execution_count": 33,
   "metadata": {},
   "outputs": [
    {
     "name": "stdout",
     "output_type": "stream",
     "text": [
      "0.013\n",
      "0.149\n"
     ]
    }
   ],
   "source": [
    "sampleAFiltered = pd.concat([ordersByUsersA[np.logical_not(ordersByUsersA['visitorid'].isin(abnormalUsers))]['orders'],pd.Series(0, index=np.arange(visitors[visitors['group']=='A']['visits'].sum() - len(ordersByUsersA['orders'])),name='orders')],axis=0)\n",
    "sampleBFiltered = pd.concat([ordersByUsersB[np.logical_not(ordersByUsersB['visitorid'].isin(abnormalUsers))]['orders'],pd.Series(0, index=np.arange(visitors[visitors['group']=='B']['visits'].sum() - len(ordersByUsersB['orders'])),name='orders')],axis=0)\n",
    "\n",
    "print(\"{0:.3f}\".format(stats.mannwhitneyu(sampleAFiltered, sampleBFiltered)[1]))\n",
    "print(\"{0:.3f}\".format(sampleBFiltered.mean()/sampleAFiltered.mean()-1))"
   ]
  },
  {
   "cell_type": "markdown",
   "metadata": {},
   "source": [
    "Los resultados de conversión han cambiado ligeramente, sin embargo se da la misma conclusión."
   ]
  },
  {
   "cell_type": "markdown",
   "metadata": {},
   "source": [
    "- Encuentra la significancia estadística de la diferencia en el tamaño promedio de pedido entre los grupos utilizando los datos filtrados. Haz conclusiones y conjeturas.\n"
   ]
  },
  {
   "cell_type": "code",
   "execution_count": 34,
   "metadata": {},
   "outputs": [
    {
     "name": "stdout",
     "output_type": "stream",
     "text": [
      "0.977\n",
      "-0.047\n"
     ]
    }
   ],
   "source": [
    "print('{0:.3f}'.format(stats.mannwhitneyu(\n",
    "    orders[np.logical_and(\n",
    "        orders['group']=='A',\n",
    "        np.logical_not(orders['visitorid'].isin(abnormalUsers)))]['revenue'],\n",
    "    orders[np.logical_and(\n",
    "        orders['group']=='B',\n",
    "        np.logical_not(orders['visitorid'].isin(abnormalUsers)))]['revenue'])[1]))\n",
    "\n",
    "print('{0:.3f}'.format(\n",
    "    orders[np.logical_and(orders['group']=='B',np.logical_not(orders['visitorid'].isin(abnormalUsers)))]['revenue'].mean()/\n",
    "    orders[np.logical_and(\n",
    "        orders['group']=='A',\n",
    "        np.logical_not(orders['visitorid'].isin(abnormalUsers)))]['revenue'].mean() - 1))"
   ]
  },
  {
   "cell_type": "markdown",
   "metadata": {},
   "source": [
    "Se confirma que el ingreso de los grupos difieren, sin embargo con los datos filtrados el tamaño promedio del pedido es similar entre los grupos."
   ]
  },
  {
   "cell_type": "markdown",
   "metadata": {},
   "source": [
    "<div class=\"alert alert-block alert-success\">\n",
    "<b>Comentario del revisor #2</b> <a class=\"tocSkip\"></a>\n",
    "    \n",
    "Buen trabajo con el desarrollo de las secciones de estudio de la significancia estadistica. </div>"
   ]
  },
  {
   "cell_type": "markdown",
   "metadata": {},
   "source": [
    "## Conclusión final \n",
    "- Toma una decisión basada en los resultados de la prueba. \n",
    "Las decisiones posibles son: \n",
    "1. Para la prueba, considera a uno de los grupos como líder. \n",
    "2. Para la prueba, concluye que no hay diferencia entre los grupos. \n",
    "3. Continúa la prueba.\n"
   ]
  },
  {
   "cell_type": "markdown",
   "metadata": {},
   "source": [
    "Claramente todos los análisis con datos filtrados y en bruto indican que el grupo B tiene una ventaja en ingresos sobre el grupo A.\n",
    "El tamaño promedio del pedido es similar en los grupos después que se filtraron los datos anómalos."
   ]
  },
  {
   "cell_type": "markdown",
   "metadata": {},
   "source": [
    "<div class=\"alert alert-block alert-success\">\n",
    "<b>Comentario del revisor #2</b> <a class=\"tocSkip\"></a>\n",
    "    \n",
    "Buen trabajo con la sección de conclusión final.</div>"
   ]
  },
  {
   "cell_type": "markdown",
   "metadata": {},
   "source": []
  }
 ],
 "metadata": {
  "ExecuteTimeLog": [
   {
    "duration": 311,
    "start_time": "2024-05-18T23:47:15.066Z"
   },
   {
    "duration": 4951,
    "start_time": "2024-05-18T23:47:19.180Z"
   },
   {
    "duration": 27,
    "start_time": "2024-05-18T23:47:24.134Z"
   },
   {
    "duration": 27,
    "start_time": "2024-05-18T23:47:24.165Z"
   },
   {
    "duration": 5,
    "start_time": "2024-05-18T23:47:24.197Z"
   },
   {
    "duration": 23,
    "start_time": "2024-05-18T23:47:24.232Z"
   },
   {
    "duration": 13,
    "start_time": "2024-05-18T23:47:24.258Z"
   },
   {
    "duration": 14,
    "start_time": "2024-05-18T23:47:24.275Z"
   },
   {
    "duration": 24,
    "start_time": "2024-05-18T23:47:24.330Z"
   },
   {
    "duration": 448,
    "start_time": "2024-05-18T23:47:24.356Z"
   },
   {
    "duration": 27,
    "start_time": "2024-05-18T23:47:24.811Z"
   },
   {
    "duration": 309,
    "start_time": "2024-05-18T23:47:24.842Z"
   },
   {
    "duration": 272,
    "start_time": "2024-05-18T23:47:25.154Z"
   },
   {
    "duration": 379,
    "start_time": "2024-05-18T23:47:25.430Z"
   },
   {
    "duration": 337,
    "start_time": "2024-05-18T23:47:25.812Z"
   },
   {
    "duration": 347,
    "start_time": "2024-05-18T23:47:26.152Z"
   },
   {
    "duration": 214,
    "start_time": "2024-05-18T23:47:26.503Z"
   },
   {
    "duration": 276,
    "start_time": "2024-05-18T23:47:26.730Z"
   },
   {
    "duration": 8,
    "start_time": "2024-05-18T23:47:27.009Z"
   },
   {
    "duration": 200,
    "start_time": "2024-05-18T23:47:27.032Z"
   },
   {
    "duration": 255,
    "start_time": "2024-05-18T23:47:27.235Z"
   },
   {
    "duration": 194,
    "start_time": "2024-05-18T23:47:27.493Z"
   },
   {
    "duration": 188,
    "start_time": "2024-05-18T23:47:27.690Z"
   },
   {
    "duration": 6,
    "start_time": "2024-05-18T23:47:27.881Z"
   },
   {
    "duration": 162,
    "start_time": "2024-05-18T23:47:27.890Z"
   },
   {
    "duration": 299,
    "start_time": "2024-05-18T23:47:28.054Z"
   },
   {
    "duration": 15,
    "start_time": "2024-05-18T23:47:28.356Z"
   },
   {
    "duration": 16,
    "start_time": "2024-05-18T23:47:28.375Z"
   },
   {
    "duration": 68,
    "start_time": "2024-05-18T23:47:28.398Z"
   },
   {
    "duration": 19,
    "start_time": "2024-05-18T23:47:28.469Z"
   },
   {
    "duration": 10,
    "start_time": "2024-05-18T23:48:42.068Z"
   },
   {
    "duration": 9,
    "start_time": "2024-05-18T23:48:49.838Z"
   },
   {
    "duration": 1053,
    "start_time": "2024-05-18T23:49:06.017Z"
   },
   {
    "duration": 5,
    "start_time": "2024-05-18T23:49:25.647Z"
   },
   {
    "duration": 9,
    "start_time": "2024-05-18T23:53:41.504Z"
   },
   {
    "duration": 10,
    "start_time": "2024-05-18T23:53:50.753Z"
   },
   {
    "duration": 1303,
    "start_time": "2024-05-18T23:53:54.863Z"
   },
   {
    "duration": 24,
    "start_time": "2024-05-18T23:53:56.170Z"
   },
   {
    "duration": 41,
    "start_time": "2024-05-18T23:53:56.198Z"
   },
   {
    "duration": 11,
    "start_time": "2024-05-18T23:53:56.244Z"
   },
   {
    "duration": 24,
    "start_time": "2024-05-18T23:53:56.257Z"
   },
   {
    "duration": 48,
    "start_time": "2024-05-18T23:53:56.285Z"
   },
   {
    "duration": 12,
    "start_time": "2024-05-18T23:53:56.337Z"
   },
   {
    "duration": 25,
    "start_time": "2024-05-18T23:53:56.353Z"
   },
   {
    "duration": 1064,
    "start_time": "2024-05-18T23:53:56.383Z"
   },
   {
    "duration": 0,
    "start_time": "2024-05-18T23:53:57.452Z"
   },
   {
    "duration": 0,
    "start_time": "2024-05-18T23:53:57.456Z"
   },
   {
    "duration": 0,
    "start_time": "2024-05-18T23:53:57.459Z"
   },
   {
    "duration": 0,
    "start_time": "2024-05-18T23:53:57.462Z"
   },
   {
    "duration": 0,
    "start_time": "2024-05-18T23:53:57.464Z"
   },
   {
    "duration": 0,
    "start_time": "2024-05-18T23:53:57.467Z"
   },
   {
    "duration": 0,
    "start_time": "2024-05-18T23:53:57.470Z"
   },
   {
    "duration": 0,
    "start_time": "2024-05-18T23:53:57.472Z"
   },
   {
    "duration": 0,
    "start_time": "2024-05-18T23:53:57.475Z"
   },
   {
    "duration": 0,
    "start_time": "2024-05-18T23:53:57.478Z"
   },
   {
    "duration": 0,
    "start_time": "2024-05-18T23:53:57.532Z"
   },
   {
    "duration": 0,
    "start_time": "2024-05-18T23:53:57.535Z"
   },
   {
    "duration": 0,
    "start_time": "2024-05-18T23:53:57.540Z"
   },
   {
    "duration": 0,
    "start_time": "2024-05-18T23:53:57.543Z"
   },
   {
    "duration": 0,
    "start_time": "2024-05-18T23:53:57.545Z"
   },
   {
    "duration": 0,
    "start_time": "2024-05-18T23:53:57.547Z"
   },
   {
    "duration": 0,
    "start_time": "2024-05-18T23:53:57.550Z"
   },
   {
    "duration": 0,
    "start_time": "2024-05-18T23:53:57.553Z"
   },
   {
    "duration": 0,
    "start_time": "2024-05-18T23:53:57.555Z"
   },
   {
    "duration": 0,
    "start_time": "2024-05-18T23:53:57.558Z"
   },
   {
    "duration": 12,
    "start_time": "2024-05-19T00:04:10.552Z"
   },
   {
    "duration": 63,
    "start_time": "2024-05-19T00:04:23.559Z"
   },
   {
    "duration": 30,
    "start_time": "2024-05-19T00:04:45.260Z"
   },
   {
    "duration": 10,
    "start_time": "2024-05-19T00:05:06.492Z"
   },
   {
    "duration": 7,
    "start_time": "2024-05-19T00:05:21.428Z"
   },
   {
    "duration": 1312,
    "start_time": "2024-05-19T00:05:32.318Z"
   },
   {
    "duration": 26,
    "start_time": "2024-05-19T00:05:33.633Z"
   },
   {
    "duration": 27,
    "start_time": "2024-05-19T00:05:33.662Z"
   },
   {
    "duration": 8,
    "start_time": "2024-05-19T00:05:33.693Z"
   },
   {
    "duration": 21,
    "start_time": "2024-05-19T00:05:33.731Z"
   },
   {
    "duration": 11,
    "start_time": "2024-05-19T00:05:33.756Z"
   },
   {
    "duration": 13,
    "start_time": "2024-05-19T00:05:33.770Z"
   },
   {
    "duration": 60,
    "start_time": "2024-05-19T00:05:33.785Z"
   },
   {
    "duration": 455,
    "start_time": "2024-05-19T00:05:33.849Z"
   },
   {
    "duration": 24,
    "start_time": "2024-05-19T00:05:34.309Z"
   },
   {
    "duration": 297,
    "start_time": "2024-05-19T00:05:34.336Z"
   },
   {
    "duration": 267,
    "start_time": "2024-05-19T00:05:34.636Z"
   },
   {
    "duration": 424,
    "start_time": "2024-05-19T00:05:34.906Z"
   },
   {
    "duration": 314,
    "start_time": "2024-05-19T00:05:35.334Z"
   },
   {
    "duration": 368,
    "start_time": "2024-05-19T00:05:35.652Z"
   },
   {
    "duration": 240,
    "start_time": "2024-05-19T00:05:36.030Z"
   },
   {
    "duration": 223,
    "start_time": "2024-05-19T00:05:36.275Z"
   },
   {
    "duration": 6,
    "start_time": "2024-05-19T00:05:36.502Z"
   },
   {
    "duration": 187,
    "start_time": "2024-05-19T00:05:36.511Z"
   },
   {
    "duration": 265,
    "start_time": "2024-05-19T00:05:36.700Z"
   },
   {
    "duration": 183,
    "start_time": "2024-05-19T00:05:36.968Z"
   },
   {
    "duration": 200,
    "start_time": "2024-05-19T00:05:37.154Z"
   },
   {
    "duration": 6,
    "start_time": "2024-05-19T00:05:37.357Z"
   },
   {
    "duration": 158,
    "start_time": "2024-05-19T00:05:37.367Z"
   },
   {
    "duration": 276,
    "start_time": "2024-05-19T00:05:37.528Z"
   },
   {
    "duration": 23,
    "start_time": "2024-05-19T00:05:37.808Z"
   },
   {
    "duration": 13,
    "start_time": "2024-05-19T00:05:37.835Z"
   },
   {
    "duration": 40,
    "start_time": "2024-05-19T00:05:37.857Z"
   },
   {
    "duration": 19,
    "start_time": "2024-05-19T00:05:37.931Z"
   },
   {
    "duration": 5475,
    "start_time": "2024-05-19T13:44:31.573Z"
   },
   {
    "duration": 35,
    "start_time": "2024-05-19T13:44:37.051Z"
   },
   {
    "duration": 45,
    "start_time": "2024-05-19T13:44:37.089Z"
   },
   {
    "duration": 11,
    "start_time": "2024-05-19T13:44:37.139Z"
   },
   {
    "duration": 29,
    "start_time": "2024-05-19T13:44:37.154Z"
   },
   {
    "duration": 36,
    "start_time": "2024-05-19T13:44:37.185Z"
   },
   {
    "duration": 14,
    "start_time": "2024-05-19T13:44:37.225Z"
   },
   {
    "duration": 27,
    "start_time": "2024-05-19T13:44:37.242Z"
   },
   {
    "duration": 506,
    "start_time": "2024-05-19T13:44:37.276Z"
   },
   {
    "duration": 26,
    "start_time": "2024-05-19T13:44:37.789Z"
   },
   {
    "duration": 328,
    "start_time": "2024-05-19T13:44:37.819Z"
   },
   {
    "duration": 315,
    "start_time": "2024-05-19T13:44:38.151Z"
   },
   {
    "duration": 419,
    "start_time": "2024-05-19T13:44:38.469Z"
   },
   {
    "duration": 317,
    "start_time": "2024-05-19T13:44:38.890Z"
   },
   {
    "duration": 465,
    "start_time": "2024-05-19T13:44:39.210Z"
   },
   {
    "duration": 254,
    "start_time": "2024-05-19T13:44:39.680Z"
   },
   {
    "duration": 237,
    "start_time": "2024-05-19T13:44:39.938Z"
   },
   {
    "duration": 6,
    "start_time": "2024-05-19T13:44:40.178Z"
   },
   {
    "duration": 248,
    "start_time": "2024-05-19T13:44:40.187Z"
   },
   {
    "duration": 285,
    "start_time": "2024-05-19T13:44:40.447Z"
   },
   {
    "duration": 211,
    "start_time": "2024-05-19T13:44:40.735Z"
   },
   {
    "duration": 210,
    "start_time": "2024-05-19T13:44:40.950Z"
   },
   {
    "duration": 5,
    "start_time": "2024-05-19T13:44:41.163Z"
   },
   {
    "duration": 174,
    "start_time": "2024-05-19T13:44:41.172Z"
   },
   {
    "duration": 298,
    "start_time": "2024-05-19T13:44:41.349Z"
   },
   {
    "duration": 13,
    "start_time": "2024-05-19T13:44:41.650Z"
   },
   {
    "duration": 13,
    "start_time": "2024-05-19T13:44:41.666Z"
   },
   {
    "duration": 40,
    "start_time": "2024-05-19T13:44:41.713Z"
   },
   {
    "duration": 18,
    "start_time": "2024-05-19T13:44:41.756Z"
   },
   {
    "duration": 7,
    "start_time": "2024-05-19T13:45:11.003Z"
   },
   {
    "duration": 10,
    "start_time": "2024-05-19T13:45:36.563Z"
   },
   {
    "duration": 9,
    "start_time": "2024-05-19T13:45:43.787Z"
   },
   {
    "duration": 1325,
    "start_time": "2024-05-19T13:52:33.555Z"
   },
   {
    "duration": 38,
    "start_time": "2024-05-19T13:52:34.884Z"
   },
   {
    "duration": 35,
    "start_time": "2024-05-19T13:52:34.925Z"
   },
   {
    "duration": 8,
    "start_time": "2024-05-19T13:52:34.964Z"
   },
   {
    "duration": 51,
    "start_time": "2024-05-19T13:52:34.977Z"
   },
   {
    "duration": 13,
    "start_time": "2024-05-19T13:52:35.031Z"
   },
   {
    "duration": 13,
    "start_time": "2024-05-19T13:52:35.046Z"
   },
   {
    "duration": 64,
    "start_time": "2024-05-19T13:52:35.062Z"
   },
   {
    "duration": 492,
    "start_time": "2024-05-19T13:52:35.131Z"
   },
   {
    "duration": 16,
    "start_time": "2024-05-19T13:52:35.626Z"
   },
   {
    "duration": 333,
    "start_time": "2024-05-19T13:52:35.648Z"
   },
   {
    "duration": 350,
    "start_time": "2024-05-19T13:52:35.984Z"
   },
   {
    "duration": 464,
    "start_time": "2024-05-19T13:52:36.338Z"
   },
   {
    "duration": 327,
    "start_time": "2024-05-19T13:52:36.819Z"
   },
   {
    "duration": 363,
    "start_time": "2024-05-19T13:52:37.149Z"
   },
   {
    "duration": 251,
    "start_time": "2024-05-19T13:52:37.515Z"
   },
   {
    "duration": 247,
    "start_time": "2024-05-19T13:52:37.769Z"
   },
   {
    "duration": 7,
    "start_time": "2024-05-19T13:52:38.020Z"
   },
   {
    "duration": 200,
    "start_time": "2024-05-19T13:52:38.031Z"
   },
   {
    "duration": 257,
    "start_time": "2024-05-19T13:52:38.234Z"
   },
   {
    "duration": 194,
    "start_time": "2024-05-19T13:52:38.494Z"
   },
   {
    "duration": 204,
    "start_time": "2024-05-19T13:52:38.691Z"
   },
   {
    "duration": 16,
    "start_time": "2024-05-19T13:52:38.899Z"
   },
   {
    "duration": 175,
    "start_time": "2024-05-19T13:52:38.919Z"
   },
   {
    "duration": 356,
    "start_time": "2024-05-19T13:52:39.096Z"
   },
   {
    "duration": 64,
    "start_time": "2024-05-19T13:52:39.455Z"
   },
   {
    "duration": 11,
    "start_time": "2024-05-19T13:52:39.522Z"
   },
   {
    "duration": 93,
    "start_time": "2024-05-19T13:52:39.536Z"
   },
   {
    "duration": 18,
    "start_time": "2024-05-19T13:52:39.632Z"
   },
   {
    "duration": 8,
    "start_time": "2024-05-19T13:53:07.712Z"
   },
   {
    "duration": 7,
    "start_time": "2024-05-19T13:53:19.272Z"
   },
   {
    "duration": 20,
    "start_time": "2024-05-19T13:59:06.862Z"
   },
   {
    "duration": 20,
    "start_time": "2024-05-19T13:59:25.247Z"
   },
   {
    "duration": 21,
    "start_time": "2024-05-19T13:59:43.098Z"
   },
   {
    "duration": 486,
    "start_time": "2024-05-19T14:10:34.170Z"
   },
   {
    "duration": 448,
    "start_time": "2024-05-19T14:10:47.903Z"
   },
   {
    "duration": 459,
    "start_time": "2024-05-19T14:11:00.071Z"
   },
   {
    "duration": 476,
    "start_time": "2024-05-19T14:11:11.226Z"
   },
   {
    "duration": 889,
    "start_time": "2024-05-19T14:11:36.988Z"
   },
   {
    "duration": 254,
    "start_time": "2024-05-19T14:14:02.435Z"
   },
   {
    "duration": 415,
    "start_time": "2024-05-19T14:14:15.210Z"
   },
   {
    "duration": 616,
    "start_time": "2024-05-19T14:14:47.315Z"
   },
   {
    "duration": 538,
    "start_time": "2024-05-19T14:14:54.376Z"
   },
   {
    "duration": 535,
    "start_time": "2024-05-19T14:15:16.426Z"
   },
   {
    "duration": 527,
    "start_time": "2024-05-19T14:15:27.410Z"
   },
   {
    "duration": 425,
    "start_time": "2024-05-19T14:17:07.076Z"
   },
   {
    "duration": 420,
    "start_time": "2024-05-19T14:17:13.156Z"
   },
   {
    "duration": 8,
    "start_time": "2024-05-19T14:25:55.807Z"
   },
   {
    "duration": 7,
    "start_time": "2024-05-19T14:26:08.760Z"
   },
   {
    "duration": 7,
    "start_time": "2024-05-19T14:26:24.961Z"
   },
   {
    "duration": 5632,
    "start_time": "2024-05-20T20:30:10.034Z"
   },
   {
    "duration": 30,
    "start_time": "2024-05-20T20:30:15.671Z"
   },
   {
    "duration": 38,
    "start_time": "2024-05-20T20:30:15.704Z"
   },
   {
    "duration": 7,
    "start_time": "2024-05-20T20:30:15.746Z"
   },
   {
    "duration": 24,
    "start_time": "2024-05-20T20:30:15.756Z"
   },
   {
    "duration": 480,
    "start_time": "2024-05-20T20:30:15.783Z"
   },
   {
    "duration": 13,
    "start_time": "2024-05-20T20:30:16.267Z"
   },
   {
    "duration": 11,
    "start_time": "2024-05-20T20:30:16.283Z"
   },
   {
    "duration": 43,
    "start_time": "2024-05-20T20:30:16.298Z"
   },
   {
    "duration": 450,
    "start_time": "2024-05-20T20:30:16.348Z"
   },
   {
    "duration": 29,
    "start_time": "2024-05-20T20:30:16.801Z"
   },
   {
    "duration": 297,
    "start_time": "2024-05-20T20:30:16.833Z"
   },
   {
    "duration": 274,
    "start_time": "2024-05-20T20:30:17.134Z"
   },
   {
    "duration": 401,
    "start_time": "2024-05-20T20:30:17.412Z"
   },
   {
    "duration": 331,
    "start_time": "2024-05-20T20:30:17.819Z"
   },
   {
    "duration": 451,
    "start_time": "2024-05-20T20:30:18.154Z"
   },
   {
    "duration": 360,
    "start_time": "2024-05-20T20:30:18.609Z"
   },
   {
    "duration": 525,
    "start_time": "2024-05-20T20:30:19.027Z"
   },
   {
    "duration": 6,
    "start_time": "2024-05-20T20:30:19.555Z"
   },
   {
    "duration": 464,
    "start_time": "2024-05-20T20:30:19.565Z"
   },
   {
    "duration": 307,
    "start_time": "2024-05-20T20:30:20.032Z"
   },
   {
    "duration": 194,
    "start_time": "2024-05-20T20:30:20.343Z"
   },
   {
    "duration": 191,
    "start_time": "2024-05-20T20:30:20.541Z"
   },
   {
    "duration": 6,
    "start_time": "2024-05-20T20:30:20.736Z"
   },
   {
    "duration": 164,
    "start_time": "2024-05-20T20:30:20.746Z"
   },
   {
    "duration": 286,
    "start_time": "2024-05-20T20:30:20.913Z"
   },
   {
    "duration": 30,
    "start_time": "2024-05-20T20:30:21.202Z"
   },
   {
    "duration": 12,
    "start_time": "2024-05-20T20:30:21.239Z"
   },
   {
    "duration": 40,
    "start_time": "2024-05-20T20:30:21.254Z"
   },
   {
    "duration": 46,
    "start_time": "2024-05-20T20:30:21.297Z"
   },
   {
    "duration": 7,
    "start_time": "2024-05-20T20:30:37.252Z"
   },
   {
    "duration": 11,
    "start_time": "2024-05-20T20:31:29.445Z"
   },
   {
    "duration": 9,
    "start_time": "2024-05-20T20:31:43.900Z"
   },
   {
    "duration": 1077,
    "start_time": "2024-05-20T20:31:53.264Z"
   },
   {
    "duration": 23,
    "start_time": "2024-05-20T20:32:34.861Z"
   },
   {
    "duration": 13,
    "start_time": "2024-05-20T20:32:48.173Z"
   },
   {
    "duration": 10,
    "start_time": "2024-05-20T20:35:54.923Z"
   },
   {
    "duration": 11,
    "start_time": "2024-05-20T20:36:33.285Z"
   },
   {
    "duration": 116,
    "start_time": "2024-05-20T20:37:05.627Z"
   },
   {
    "duration": 29,
    "start_time": "2024-05-20T20:37:19.961Z"
   },
   {
    "duration": 10,
    "start_time": "2024-05-20T20:37:29.519Z"
   },
   {
    "duration": 17,
    "start_time": "2024-05-20T20:39:21.138Z"
   },
   {
    "duration": 9,
    "start_time": "2024-05-20T20:39:32.303Z"
   },
   {
    "duration": 9,
    "start_time": "2024-05-20T20:47:36.211Z"
   },
   {
    "duration": 10,
    "start_time": "2024-05-20T20:48:39.240Z"
   },
   {
    "duration": 7,
    "start_time": "2024-05-20T20:49:47.793Z"
   },
   {
    "duration": 9,
    "start_time": "2024-05-20T20:49:57.243Z"
   },
   {
    "duration": 13,
    "start_time": "2024-05-20T20:52:01.643Z"
   },
   {
    "duration": 9,
    "start_time": "2024-05-20T20:53:57.792Z"
   },
   {
    "duration": 16,
    "start_time": "2024-05-20T20:54:26.192Z"
   },
   {
    "duration": 9,
    "start_time": "2024-05-20T20:54:41.970Z"
   },
   {
    "duration": 15,
    "start_time": "2024-05-20T20:56:06.652Z"
   },
   {
    "duration": 11,
    "start_time": "2024-05-20T20:56:12.549Z"
   },
   {
    "duration": 13,
    "start_time": "2024-05-20T20:56:24.302Z"
   },
   {
    "duration": 33,
    "start_time": "2024-05-20T20:57:03.049Z"
   },
   {
    "duration": 12,
    "start_time": "2024-05-20T20:57:11.478Z"
   },
   {
    "duration": 9,
    "start_time": "2024-05-20T21:01:35.266Z"
   },
   {
    "duration": 10,
    "start_time": "2024-05-20T21:01:45.451Z"
   },
   {
    "duration": 5,
    "start_time": "2024-05-20T21:03:00.923Z"
   },
   {
    "duration": 357,
    "start_time": "2024-05-20T21:03:25.513Z"
   },
   {
    "duration": 7,
    "start_time": "2024-05-20T21:08:32.587Z"
   },
   {
    "duration": 6,
    "start_time": "2024-05-20T21:15:33.413Z"
   },
   {
    "duration": 347,
    "start_time": "2024-05-20T21:15:34.663Z"
   },
   {
    "duration": 23,
    "start_time": "2024-05-20T21:16:10.978Z"
   },
   {
    "duration": 321,
    "start_time": "2024-05-21T00:02:23.450Z"
   },
   {
    "duration": 60,
    "start_time": "2024-05-21T00:02:43.037Z"
   },
   {
    "duration": 109,
    "start_time": "2024-05-21T00:02:50.815Z"
   },
   {
    "duration": 5354,
    "start_time": "2024-05-21T00:10:25.385Z"
   },
   {
    "duration": 33,
    "start_time": "2024-05-21T00:10:30.743Z"
   },
   {
    "duration": 45,
    "start_time": "2024-05-21T00:10:30.785Z"
   },
   {
    "duration": 9,
    "start_time": "2024-05-21T00:10:30.835Z"
   },
   {
    "duration": 374,
    "start_time": "2024-05-21T00:10:30.848Z"
   },
   {
    "duration": 111,
    "start_time": "2024-05-21T00:10:31.225Z"
   },
   {
    "duration": 337,
    "start_time": "2024-05-21T00:10:31.339Z"
   },
   {
    "duration": 41,
    "start_time": "2024-05-21T00:10:31.680Z"
   },
   {
    "duration": 514,
    "start_time": "2024-05-21T00:10:31.724Z"
   },
   {
    "duration": 14,
    "start_time": "2024-05-21T00:10:32.246Z"
   },
   {
    "duration": 15,
    "start_time": "2024-05-21T00:10:32.266Z"
   },
   {
    "duration": 46,
    "start_time": "2024-05-21T00:10:32.287Z"
   },
   {
    "duration": 533,
    "start_time": "2024-05-21T00:10:32.336Z"
   },
   {
    "duration": 17,
    "start_time": "2024-05-21T00:10:32.871Z"
   },
   {
    "duration": 325,
    "start_time": "2024-05-21T00:10:32.891Z"
   },
   {
    "duration": 336,
    "start_time": "2024-05-21T00:10:33.219Z"
   },
   {
    "duration": 443,
    "start_time": "2024-05-21T00:10:33.559Z"
   },
   {
    "duration": 324,
    "start_time": "2024-05-21T00:10:34.009Z"
   },
   {
    "duration": 449,
    "start_time": "2024-05-21T00:10:34.337Z"
   },
   {
    "duration": 255,
    "start_time": "2024-05-21T00:10:34.790Z"
   },
   {
    "duration": 232,
    "start_time": "2024-05-21T00:10:35.049Z"
   },
   {
    "duration": 6,
    "start_time": "2024-05-21T00:10:35.284Z"
   },
   {
    "duration": 197,
    "start_time": "2024-05-21T00:10:35.314Z"
   },
   {
    "duration": 311,
    "start_time": "2024-05-21T00:10:35.518Z"
   },
   {
    "duration": 209,
    "start_time": "2024-05-21T00:10:35.832Z"
   },
   {
    "duration": 221,
    "start_time": "2024-05-21T00:10:36.043Z"
   },
   {
    "duration": 7,
    "start_time": "2024-05-21T00:10:36.267Z"
   },
   {
    "duration": 201,
    "start_time": "2024-05-21T00:10:36.282Z"
   },
   {
    "duration": 274,
    "start_time": "2024-05-21T00:10:36.486Z"
   },
   {
    "duration": 13,
    "start_time": "2024-05-21T00:10:36.765Z"
   },
   {
    "duration": 32,
    "start_time": "2024-05-21T00:10:36.781Z"
   },
   {
    "duration": 39,
    "start_time": "2024-05-21T00:10:36.816Z"
   },
   {
    "duration": 19,
    "start_time": "2024-05-21T00:10:36.858Z"
   },
   {
    "duration": 287,
    "start_time": "2024-05-21T00:19:00.642Z"
   },
   {
    "duration": 120,
    "start_time": "2024-05-21T00:20:55.391Z"
   },
   {
    "duration": 392,
    "start_time": "2024-05-21T00:20:58.350Z"
   },
   {
    "duration": 277,
    "start_time": "2024-05-21T00:21:09.896Z"
   },
   {
    "duration": 113,
    "start_time": "2024-05-21T00:22:33.626Z"
   },
   {
    "duration": 295,
    "start_time": "2024-05-21T00:22:36.273Z"
   },
   {
    "duration": 1271,
    "start_time": "2024-05-21T00:23:18.598Z"
   },
   {
    "duration": 25,
    "start_time": "2024-05-21T00:23:19.872Z"
   },
   {
    "duration": 28,
    "start_time": "2024-05-21T00:23:19.907Z"
   },
   {
    "duration": 7,
    "start_time": "2024-05-21T00:23:19.939Z"
   },
   {
    "duration": 325,
    "start_time": "2024-05-21T00:23:19.951Z"
   },
   {
    "duration": 130,
    "start_time": "2024-05-21T00:23:20.279Z"
   },
   {
    "duration": 283,
    "start_time": "2024-05-21T00:23:20.412Z"
   },
   {
    "duration": 20,
    "start_time": "2024-05-21T00:23:20.710Z"
   },
   {
    "duration": 440,
    "start_time": "2024-05-21T00:23:20.733Z"
   },
   {
    "duration": 10,
    "start_time": "2024-05-21T00:23:21.177Z"
   },
   {
    "duration": 24,
    "start_time": "2024-05-21T00:23:21.190Z"
   },
   {
    "duration": 21,
    "start_time": "2024-05-21T00:23:21.217Z"
   },
   {
    "duration": 432,
    "start_time": "2024-05-21T00:23:21.242Z"
   },
   {
    "duration": 28,
    "start_time": "2024-05-21T00:23:21.680Z"
   },
   {
    "duration": 274,
    "start_time": "2024-05-21T00:23:21.711Z"
   },
   {
    "duration": 343,
    "start_time": "2024-05-21T00:23:21.988Z"
   },
   {
    "duration": 347,
    "start_time": "2024-05-21T00:23:22.334Z"
   },
   {
    "duration": 268,
    "start_time": "2024-05-21T00:23:22.684Z"
   },
   {
    "duration": 378,
    "start_time": "2024-05-21T00:23:22.956Z"
   },
   {
    "duration": 218,
    "start_time": "2024-05-21T00:23:23.337Z"
   },
   {
    "duration": 219,
    "start_time": "2024-05-21T00:23:23.558Z"
   },
   {
    "duration": 7,
    "start_time": "2024-05-21T00:23:23.780Z"
   },
   {
    "duration": 185,
    "start_time": "2024-05-21T00:23:23.790Z"
   },
   {
    "duration": 229,
    "start_time": "2024-05-21T00:23:23.979Z"
   },
   {
    "duration": 183,
    "start_time": "2024-05-21T00:23:24.211Z"
   },
   {
    "duration": 184,
    "start_time": "2024-05-21T00:23:24.397Z"
   },
   {
    "duration": 26,
    "start_time": "2024-05-21T00:23:24.585Z"
   },
   {
    "duration": 154,
    "start_time": "2024-05-21T00:23:24.615Z"
   },
   {
    "duration": 252,
    "start_time": "2024-05-21T00:23:24.773Z"
   },
   {
    "duration": 15,
    "start_time": "2024-05-21T00:23:25.031Z"
   },
   {
    "duration": 12,
    "start_time": "2024-05-21T00:23:25.049Z"
   },
   {
    "duration": 74,
    "start_time": "2024-05-21T00:23:25.064Z"
   },
   {
    "duration": 22,
    "start_time": "2024-05-21T00:23:25.141Z"
   },
   {
    "duration": 5,
    "start_time": "2024-05-21T00:28:25.758Z"
   },
   {
    "duration": 1333,
    "start_time": "2024-05-21T00:28:35.632Z"
   },
   {
    "duration": 9,
    "start_time": "2024-05-21T00:29:08.215Z"
   },
   {
    "duration": 1267,
    "start_time": "2024-05-21T00:32:12.809Z"
   },
   {
    "duration": 33,
    "start_time": "2024-05-21T00:32:14.080Z"
   },
   {
    "duration": 24,
    "start_time": "2024-05-21T00:32:14.117Z"
   },
   {
    "duration": 8,
    "start_time": "2024-05-21T00:32:14.146Z"
   },
   {
    "duration": 320,
    "start_time": "2024-05-21T00:32:14.156Z"
   },
   {
    "duration": 130,
    "start_time": "2024-05-21T00:32:14.479Z"
   },
   {
    "duration": 301,
    "start_time": "2024-05-21T00:32:14.612Z"
   },
   {
    "duration": 12,
    "start_time": "2024-05-21T00:32:14.917Z"
   },
   {
    "duration": 21,
    "start_time": "2024-05-21T00:32:14.933Z"
   },
   {
    "duration": 478,
    "start_time": "2024-05-21T00:32:14.963Z"
   },
   {
    "duration": 10,
    "start_time": "2024-05-21T00:32:15.445Z"
   },
   {
    "duration": 11,
    "start_time": "2024-05-21T00:32:15.458Z"
   },
   {
    "duration": 21,
    "start_time": "2024-05-21T00:32:15.472Z"
   },
   {
    "duration": 430,
    "start_time": "2024-05-21T00:32:15.497Z"
   },
   {
    "duration": 16,
    "start_time": "2024-05-21T00:32:15.930Z"
   },
   {
    "duration": 294,
    "start_time": "2024-05-21T00:32:15.949Z"
   },
   {
    "duration": 344,
    "start_time": "2024-05-21T00:32:16.246Z"
   },
   {
    "duration": 371,
    "start_time": "2024-05-21T00:32:16.593Z"
   },
   {
    "duration": 272,
    "start_time": "2024-05-21T00:32:16.970Z"
   },
   {
    "duration": 344,
    "start_time": "2024-05-21T00:32:17.245Z"
   },
   {
    "duration": 217,
    "start_time": "2024-05-21T00:32:17.593Z"
   },
   {
    "duration": 215,
    "start_time": "2024-05-21T00:32:17.813Z"
   },
   {
    "duration": 5,
    "start_time": "2024-05-21T00:32:18.032Z"
   },
   {
    "duration": 192,
    "start_time": "2024-05-21T00:32:18.041Z"
   },
   {
    "duration": 259,
    "start_time": "2024-05-21T00:32:18.236Z"
   },
   {
    "duration": 177,
    "start_time": "2024-05-21T00:32:18.510Z"
   },
   {
    "duration": 196,
    "start_time": "2024-05-21T00:32:18.690Z"
   },
   {
    "duration": 15,
    "start_time": "2024-05-21T00:32:18.893Z"
   },
   {
    "duration": 150,
    "start_time": "2024-05-21T00:32:18.911Z"
   },
   {
    "duration": 261,
    "start_time": "2024-05-21T00:32:19.064Z"
   },
   {
    "duration": 14,
    "start_time": "2024-05-21T00:32:19.328Z"
   },
   {
    "duration": 12,
    "start_time": "2024-05-21T00:32:19.345Z"
   },
   {
    "duration": 72,
    "start_time": "2024-05-21T00:32:19.360Z"
   },
   {
    "duration": 19,
    "start_time": "2024-05-21T00:32:19.435Z"
   },
   {
    "duration": 322,
    "start_time": "2024-05-21T14:56:14.920Z"
   },
   {
    "duration": 34,
    "start_time": "2024-05-21T14:56:21.720Z"
   },
   {
    "duration": 4979,
    "start_time": "2024-05-21T14:56:28.840Z"
   },
   {
    "duration": 37,
    "start_time": "2024-05-21T14:56:33.822Z"
   },
   {
    "duration": 34,
    "start_time": "2024-05-21T14:56:33.863Z"
   },
   {
    "duration": 8,
    "start_time": "2024-05-21T14:56:33.903Z"
   },
   {
    "duration": 322,
    "start_time": "2024-05-21T14:56:33.915Z"
   },
   {
    "duration": 119,
    "start_time": "2024-05-21T14:56:34.240Z"
   },
   {
    "duration": 279,
    "start_time": "2024-05-21T14:56:34.362Z"
   },
   {
    "duration": 9,
    "start_time": "2024-05-21T14:56:34.644Z"
   },
   {
    "duration": 25,
    "start_time": "2024-05-21T14:56:34.656Z"
   },
   {
    "duration": 469,
    "start_time": "2024-05-21T14:56:34.686Z"
   },
   {
    "duration": 10,
    "start_time": "2024-05-21T14:56:35.158Z"
   },
   {
    "duration": 11,
    "start_time": "2024-05-21T14:56:35.171Z"
   },
   {
    "duration": 22,
    "start_time": "2024-05-21T14:56:35.185Z"
   },
   {
    "duration": 428,
    "start_time": "2024-05-21T14:56:35.230Z"
   },
   {
    "duration": 19,
    "start_time": "2024-05-21T14:56:35.661Z"
   },
   {
    "duration": 291,
    "start_time": "2024-05-21T14:56:35.684Z"
   },
   {
    "duration": 294,
    "start_time": "2024-05-21T14:56:35.978Z"
   },
   {
    "duration": 341,
    "start_time": "2024-05-21T14:56:36.275Z"
   },
   {
    "duration": 329,
    "start_time": "2024-05-21T14:56:36.620Z"
   },
   {
    "duration": 373,
    "start_time": "2024-05-21T14:56:36.952Z"
   },
   {
    "duration": 214,
    "start_time": "2024-05-21T14:56:37.331Z"
   },
   {
    "duration": 210,
    "start_time": "2024-05-21T14:56:37.548Z"
   },
   {
    "duration": 6,
    "start_time": "2024-05-21T14:56:37.761Z"
   },
   {
    "duration": 193,
    "start_time": "2024-05-21T14:56:37.771Z"
   },
   {
    "duration": 217,
    "start_time": "2024-05-21T14:56:37.967Z"
   },
   {
    "duration": 176,
    "start_time": "2024-05-21T14:56:38.187Z"
   },
   {
    "duration": 199,
    "start_time": "2024-05-21T14:56:38.367Z"
   },
   {
    "duration": 6,
    "start_time": "2024-05-21T14:56:38.574Z"
   },
   {
    "duration": 159,
    "start_time": "2024-05-21T14:56:38.583Z"
   },
   {
    "duration": 259,
    "start_time": "2024-05-21T14:56:38.746Z"
   },
   {
    "duration": 26,
    "start_time": "2024-05-21T14:56:39.007Z"
   },
   {
    "duration": 13,
    "start_time": "2024-05-21T14:56:39.035Z"
   },
   {
    "duration": 41,
    "start_time": "2024-05-21T14:56:39.051Z"
   },
   {
    "duration": 45,
    "start_time": "2024-05-21T14:56:39.095Z"
   },
   {
    "duration": 328,
    "start_time": "2024-05-21T14:56:59.482Z"
   },
   {
    "duration": 254,
    "start_time": "2024-05-21T14:57:37.593Z"
   },
   {
    "duration": 326,
    "start_time": "2024-05-21T14:58:44.156Z"
   }
  ],
  "kernelspec": {
   "display_name": "Python 3 (ipykernel)",
   "language": "python",
   "name": "python3"
  },
  "language_info": {
   "codemirror_mode": {
    "name": "ipython",
    "version": 3
   },
   "file_extension": ".py",
   "mimetype": "text/x-python",
   "name": "python",
   "nbconvert_exporter": "python",
   "pygments_lexer": "ipython3",
   "version": "3.9.19"
  },
  "toc": {
   "base_numbering": 1,
   "nav_menu": {},
   "number_sections": true,
   "sideBar": true,
   "skip_h1_title": true,
   "title_cell": "Table of Contents",
   "title_sidebar": "Contents",
   "toc_cell": false,
   "toc_position": {
    "height": "calc(100% - 180px)",
    "left": "10px",
    "top": "150px",
    "width": "257.188px"
   },
   "toc_section_display": true,
   "toc_window_display": true
  }
 },
 "nbformat": 4,
 "nbformat_minor": 2
}
