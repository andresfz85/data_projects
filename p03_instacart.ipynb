{
 "cells": [
  {
   "cell_type": "markdown",
   "id": "41501036",
   "metadata": {},
   "source": [
    "# Hola Andrés! <a class=\"tocSkip\"></a>\n",
    "\n",
    "Mi nombre es Oscar Flores y tengo el gusto de revisar tu proyecto. Si tienes algún comentario que quieras agregar en tus respuestas te puedes referir a mi como Oscar, no hay problema que me trates de tú.\n",
    "\n",
    "Si veo un error en la primera revisión solamente lo señalaré y dejaré que tú encuentres de qué se trata y cómo arreglarlo. Debo prepararte para que te desempeñes como especialista en Data, en un trabajo real, el responsable a cargo tuyo hará lo mismo. Si aún tienes dificultades para resolver esta tarea, te daré indicaciones más precisas en una siguiente iteración.\n",
    "\n",
    "Te dejaré mis comentarios más abajo - **por favor, no los muevas, modifiques o borres**\n",
    "\n",
    "Comenzaré mis comentarios con un resumen de los puntos que están bien, aquellos que debes corregir y aquellos que puedes mejorar. Luego deberás revisar todo el notebook para leer mis comentarios, los cuales estarán en rectángulos de color verde, amarillo o rojo como siguen:\n",
    "\n",
    "<div class=\"alert alert-block alert-success\">\n",
    "<b>Comentario de Reviewer</b> <a class=\"tocSkip\"></a>\n",
    "    \n",
    "Muy bien! Toda la respuesta fue lograda satisfactoriamente.\n",
    "</div>\n",
    "\n",
    "<div class=\"alert alert-block alert-warning\">\n",
    "<b>Comentario de Reviewer</b> <a class=\"tocSkip\"></a>\n",
    "\n",
    "Existen detalles a mejorar. Existen recomendaciones.\n",
    "</div>\n",
    "\n",
    "<div class=\"alert alert-block alert-danger\">\n",
    "\n",
    "<b>Comentario de Reviewer</b> <a class=\"tocSkip\"></a>\n",
    "\n",
    "Se necesitan correcciones en el bloque. El trabajo no puede ser aceptado con comentarios en rojo sin solucionar.\n",
    "</div>\n",
    "\n",
    "Cualquier comentario que quieras agregar entre iteraciones de revisión lo puedes hacer de la siguiente manera:\n",
    "\n",
    "<div class=\"alert alert-block alert-info\">\n",
    "<b>Respuesta estudiante.</b> <a class=\"tocSkip\"></a>\n",
    "</div>\n"
   ]
  },
  {
   "cell_type": "markdown",
   "id": "01dd70e1",
   "metadata": {},
   "source": [
    "## Resumen de la revisión 1 <a class=\"tocSkip\"></a>"
   ]
  },
  {
   "cell_type": "markdown",
   "id": "5c3a6a36",
   "metadata": {},
   "source": [
    "<div class=\"alert alert-block alert-danger\">\n",
    "<b>Comentario de Reviewer</b> <a class=\"tocSkip\"></a>\n",
    "\n",
    "Muy buen trabajo! tu notebook está casi completo, tan solo falta que complementes un poco la exploración inicial de duplicados y corrijas hacia el final el cálculo de reorden. Te dejé comentarios en rojo en esas partes.\n",
    "    \n",
    "Saludos!    \n",
    "</div>"
   ]
  },
  {
   "cell_type": "markdown",
   "id": "2c3c5588",
   "metadata": {},
   "source": [
    "## Resumen de la revisión 2 <a class=\"tocSkip\"></a>"
   ]
  },
  {
   "cell_type": "markdown",
   "id": "e2ec64a3",
   "metadata": {},
   "source": [
    "<div class=\"alert alert-block alert-danger\">\n",
    "<b>Comentario de Reviewer v2</b> <a class=\"tocSkip\"></a>\n",
    "\n",
    "Muy buen trabajo! tu notebook está casi completo, tan solo falta que complementes un poco la exploración inicial de duplicados y corrijas hacia el final el cálculo de reorden. Te dejé comentarios en rojo en esas partes.\n",
    "    \n",
    "Saludos!    \n",
    "</div>"
   ]
  },
  {
   "cell_type": "markdown",
   "id": "1603811e",
   "metadata": {},
   "source": [
    "## Resumen de la revisión 3 <a class=\"tocSkip\"></a>"
   ]
  },
  {
   "cell_type": "markdown",
   "id": "c7c18cd8",
   "metadata": {},
   "source": [
    "<div class=\"alert alert-block alert-success\">\n",
    "<b>Comentario de Reviewer v3</b> <a class=\"tocSkip\"></a>\n",
    "\n",
    "Hola Andrés. Disculpa pero al parecer el resumen la revisión anterior no se envió correctamente, espero que no haya sido un problema para que avances con la corrección.\n",
    "    \n",
    "De todas formas, creo que solo faltaban un par de correcciones puntuales, tu notebook ya está completo, muy bien!\n",
    "    \n",
    "Saludos    \n",
    "</div>"
   ]
  },
  {
   "cell_type": "markdown",
   "id": "0febb828",
   "metadata": {},
   "source": [
    "-----"
   ]
  },
  {
   "cell_type": "markdown",
   "id": "3Xg_RQfnafXz",
   "metadata": {
    "id": "3Xg_RQfnafXz"
   },
   "source": [
    "# ¡Llena ese carrito!"
   ]
  },
  {
   "cell_type": "markdown",
   "id": "mhIvmmkW414q",
   "metadata": {
    "id": "mhIvmmkW414q"
   },
   "source": [
    "# Introducción\n",
    "\n",
    "Instacart es una plataforma de entregas de comestibles donde la clientela puede registrar un pedido y hacer que se lo entreguen, similar a Uber Eats y Door Dash.\n",
    "El conjunto de datos que te hemos proporcionado tiene modificaciones del original. Redujimos el tamaño del conjunto para que tus cálculos se hicieran más rápido e introdujimos valores ausentes y duplicados. Tuvimos cuidado de conservar las distribuciones de los datos originales cuando hicimos los cambios.\n",
    "\n",
    "Debes completar tres pasos. Para cada uno de ellos, escribe una breve introducción que refleje con claridad cómo pretendes resolver cada paso, y escribe párrafos explicatorios que justifiquen tus decisiones al tiempo que avanzas en tu solución.  También escribe una conclusión que resuma tus hallazgos y elecciones.\n"
   ]
  },
  {
   "cell_type": "markdown",
   "id": "3MbyzpOQZ5Or",
   "metadata": {
    "id": "3MbyzpOQZ5Or"
   },
   "source": [
    "## Diccionario de datos\n",
    "\n",
    "Hay cinco tablas en el conjunto de datos, y tendrás que usarlas todas para hacer el preprocesamiento de datos y el análisis exploratorio de datos. A continuación se muestra un diccionario de datos que enumera las columnas de cada tabla y describe los datos que contienen.\n",
    "\n",
    "- `instacart_orders.csv`: cada fila corresponde a un pedido en la aplicación Instacart.\n",
    "    - `'order_id'`: número de ID que identifica de manera única cada pedido.\n",
    "    - `'user_id'`: número de ID que identifica de manera única la cuenta de cada cliente.\n",
    "    - `'order_number'`: el número de veces que este cliente ha hecho un pedido.\n",
    "    - `'order_dow'`: día de la semana en que se hizo el pedido (0 si es domingo).\n",
    "    - `'order_hour_of_day'`: hora del día en que se hizo el pedido.\n",
    "    - `'days_since_prior_order'`: número de días transcurridos desde que este cliente hizo su pedido anterior.\n",
    "- `products.csv`: cada fila corresponde a un producto único que pueden comprar los clientes.\n",
    "    - `'product_id'`: número ID que identifica de manera única cada producto.\n",
    "    - `'product_name'`: nombre del producto.\n",
    "    - `'aisle_id'`: número ID que identifica de manera única cada categoría de pasillo de víveres.\n",
    "    - `'department_id'`: número ID que identifica de manera única cada departamento de víveres.\n",
    "- `order_products.csv`: cada fila corresponde a un artículo pedido en un pedido.\n",
    "    - `'order_id'`: número de ID que identifica de manera única cada pedido.\n",
    "    - `'product_id'`: número ID que identifica de manera única cada producto.\n",
    "    - `'add_to_cart_order'`: el orden secuencial en el que se añadió cada artículo en el carrito.\n",
    "    - `'reordered'`: 0 si el cliente nunca ha pedido este producto antes, 1 si lo ha pedido.\n",
    "- `aisles.csv`\n",
    "    - `'aisle_id'`: número ID que identifica de manera única cada categoría de pasillo de víveres.\n",
    "    - `'aisle'`: nombre del pasillo.\n",
    "- `departments.csv`\n",
    "    - `'department_id'`: número ID que identifica de manera única cada departamento de víveres.\n",
    "    - `'department'`: nombre del departamento."
   ]
  },
  {
   "cell_type": "markdown",
   "id": "n3Ha_cNSZ8lK",
   "metadata": {
    "id": "n3Ha_cNSZ8lK"
   },
   "source": [
    "# Paso 1. Descripción de los datos\n",
    "\n",
    "Lee los archivos de datos (`/datasets/instacart_orders.csv`, `/datasets/products.csv`, `/datasets/aisles.csv`, `/datasets/departments.csv` y `/datasets/order_products.csv`) con `pd.read_csv()` usando los parámetros adecuados para leer los datos correctamente. Verifica la información para cada DataFrame creado.\n"
   ]
  },
  {
   "cell_type": "markdown",
   "id": "OmlQPLlyaAfR",
   "metadata": {
    "id": "OmlQPLlyaAfR"
   },
   "source": [
    "## Plan de solución\n",
    "\n",
    "Escribe aquí tu plan de solución para el Paso 1. Descripción de los datos."
   ]
  },
  {
   "cell_type": "code",
   "execution_count": 1,
   "id": "fbf1adab",
   "metadata": {
    "id": "fbf1adab"
   },
   "outputs": [],
   "source": [
    "import pandas as pd# importar librerías"
   ]
  },
  {
   "cell_type": "code",
   "execution_count": 2,
   "id": "ad36396d",
   "metadata": {
    "id": "ad36396d"
   },
   "outputs": [],
   "source": [
    "df_orders = pd.read_csv(\"/datasets/instacart_orders.csv\", sep=\";\")\n",
    "df_products = pd.read_csv(\"/datasets/products.csv\", sep=\";\")\n",
    "df_aisles = pd.read_csv(\"/datasets/aisles.csv\", sep=\";\")\n",
    "df_departments = pd.read_csv(\"/datasets/departments.csv\", sep=\";\")\n",
    "df_orderps = pd.read_csv(\"/datasets/order_products.csv\", sep=\";\")"
   ]
  },
  {
   "cell_type": "code",
   "execution_count": 3,
   "id": "ad6a1efa",
   "metadata": {
    "id": "ad6a1efa"
   },
   "outputs": [
    {
     "name": "stdout",
     "output_type": "stream",
     "text": [
      "<class 'pandas.core.frame.DataFrame'>\n",
      "RangeIndex: 478967 entries, 0 to 478966\n",
      "Data columns (total 6 columns):\n",
      " #   Column                  Non-Null Count   Dtype  \n",
      "---  ------                  --------------   -----  \n",
      " 0   order_id                478967 non-null  int64  \n",
      " 1   user_id                 478967 non-null  int64  \n",
      " 2   order_number            478967 non-null  int64  \n",
      " 3   order_dow               478967 non-null  int64  \n",
      " 4   order_hour_of_day       478967 non-null  int64  \n",
      " 5   days_since_prior_order  450148 non-null  float64\n",
      "dtypes: float64(1), int64(5)\n",
      "memory usage: 21.9 MB\n"
     ]
    }
   ],
   "source": [
    "df_orders.info()# mostrar información del DataFrame"
   ]
  },
  {
   "cell_type": "code",
   "execution_count": 4,
   "id": "5130e05e",
   "metadata": {
    "id": "5130e05e"
   },
   "outputs": [
    {
     "name": "stdout",
     "output_type": "stream",
     "text": [
      "<class 'pandas.core.frame.DataFrame'>\n",
      "RangeIndex: 49694 entries, 0 to 49693\n",
      "Data columns (total 4 columns):\n",
      " #   Column         Non-Null Count  Dtype \n",
      "---  ------         --------------  ----- \n",
      " 0   product_id     49694 non-null  int64 \n",
      " 1   product_name   48436 non-null  object\n",
      " 2   aisle_id       49694 non-null  int64 \n",
      " 3   department_id  49694 non-null  int64 \n",
      "dtypes: int64(3), object(1)\n",
      "memory usage: 1.5+ MB\n"
     ]
    }
   ],
   "source": [
    "df_products.info()# mostrar información del DataFrame"
   ]
  },
  {
   "cell_type": "code",
   "execution_count": 5,
   "id": "d8370c05",
   "metadata": {
    "id": "d8370c05"
   },
   "outputs": [
    {
     "name": "stdout",
     "output_type": "stream",
     "text": [
      "<class 'pandas.core.frame.DataFrame'>\n",
      "RangeIndex: 134 entries, 0 to 133\n",
      "Data columns (total 2 columns):\n",
      " #   Column    Non-Null Count  Dtype \n",
      "---  ------    --------------  ----- \n",
      " 0   aisle_id  134 non-null    int64 \n",
      " 1   aisle     134 non-null    object\n",
      "dtypes: int64(1), object(1)\n",
      "memory usage: 2.2+ KB\n"
     ]
    }
   ],
   "source": [
    "df_aisles.info()# mostrar información del DataFrame"
   ]
  },
  {
   "cell_type": "code",
   "execution_count": 6,
   "id": "59e2090f",
   "metadata": {
    "id": "59e2090f"
   },
   "outputs": [
    {
     "name": "stdout",
     "output_type": "stream",
     "text": [
      "<class 'pandas.core.frame.DataFrame'>\n",
      "RangeIndex: 21 entries, 0 to 20\n",
      "Data columns (total 2 columns):\n",
      " #   Column         Non-Null Count  Dtype \n",
      "---  ------         --------------  ----- \n",
      " 0   department_id  21 non-null     int64 \n",
      " 1   department     21 non-null     object\n",
      "dtypes: int64(1), object(1)\n",
      "memory usage: 464.0+ bytes\n"
     ]
    }
   ],
   "source": [
    "df_departments.info()# mostrar información del DataFrame"
   ]
  },
  {
   "cell_type": "code",
   "execution_count": 7,
   "id": "6fc81694",
   "metadata": {
    "id": "6fc81694"
   },
   "outputs": [
    {
     "name": "stdout",
     "output_type": "stream",
     "text": [
      "<class 'pandas.core.frame.DataFrame'>\n",
      "RangeIndex: 4545007 entries, 0 to 4545006\n",
      "Data columns (total 4 columns):\n",
      " #   Column             Dtype  \n",
      "---  ------             -----  \n",
      " 0   order_id           int64  \n",
      " 1   product_id         int64  \n",
      " 2   add_to_cart_order  float64\n",
      " 3   reordered          int64  \n",
      "dtypes: float64(1), int64(3)\n",
      "memory usage: 138.7 MB\n",
      "\n",
      "order_id             0.0\n",
      "product_id           0.0\n",
      "add_to_cart_order    0.0\n",
      "reordered            0.0\n",
      "dtype: float64\n"
     ]
    }
   ],
   "source": [
    "df_orderps.info()# mostrar información del DataFrame\n",
    "print()\n",
    "print( df_orderps[df_orderps.isna()].sum())"
   ]
  },
  {
   "cell_type": "markdown",
   "id": "t75BD19oaR5f",
   "metadata": {
    "id": "t75BD19oaR5f"
   },
   "source": [
    "## Conclusiones\n",
    "\n",
    "Escribe aquí tus conclusiones intermedias sobre el Paso 1. Descripción de los datos.\n",
    "La función info es muy útil para observar de manera general las columnas, el tipo de datos y el número de datos en el archivo, en las ordenes existen datos vacíos en \"days_since_prior_order\", en los productos no fueron registrados varios \"product_name\"; en los tres archivos restantes, los datos se encuentran completos.\n"
   ]
  },
  {
   "cell_type": "markdown",
   "id": "5160d057",
   "metadata": {},
   "source": [
    "<div class=\"alert alert-block alert-success\">\n",
    "<b>Comentario de Reviewer</b> <a class=\"tocSkip\"></a>\n",
    "\n",
    "Muy bien con la revisión inicial de los datos.\n",
    "</div>"
   ]
  },
  {
   "cell_type": "markdown",
   "id": "8RJHqxVmaVsF",
   "metadata": {
    "id": "8RJHqxVmaVsF"
   },
   "source": [
    "# Paso 2. Preprocesamiento de los datos\n",
    "\n",
    "Preprocesa los datos de la siguiente manera:\n",
    "\n",
    "- Verifica y corrige los tipos de datos (por ejemplo, asegúrate de que las columnas de ID sean números enteros).\n",
    "- Identifica y completa los valores ausentes.\n",
    "- Identifica y elimina los valores duplicados.\n",
    "\n",
    "Asegúrate de explicar qué tipos de valores ausentes y duplicados encontraste, cómo los completaste o eliminaste y por qué usaste esos métodos. ¿Por qué crees que estos valores ausentes y duplicados pueden haber estado presentes en el conjunto de datos?"
   ]
  },
  {
   "cell_type": "markdown",
   "id": "p6poABZQaZYb",
   "metadata": {
    "id": "p6poABZQaZYb"
   },
   "source": [
    "## Plan de solución\n",
    "\n",
    "Escribe aquí tu plan para el Paso 2. Preprocesamiento de los datos."
   ]
  },
  {
   "cell_type": "markdown",
   "id": "07357848-dc64-4156-9cc3-01ff4365226d",
   "metadata": {
    "id": "07357848-dc64-4156-9cc3-01ff4365226d"
   },
   "source": [
    "## Encuentra y elimina los valores duplicados (y describe cómo tomaste tus decisiones)."
   ]
  },
  {
   "cell_type": "markdown",
   "id": "f179f0a9",
   "metadata": {
    "id": "f179f0a9"
   },
   "source": [
    "### `orders` data frame"
   ]
  },
  {
   "cell_type": "code",
   "execution_count": 8,
   "id": "b99297a5-405a-463d-8535-9adc3da4ad74",
   "metadata": {
    "id": "b99297a5-405a-463d-8535-9adc3da4ad74"
   },
   "outputs": [
    {
     "name": "stdout",
     "output_type": "stream",
     "text": [
      "Pedidos duplicados:  15\n",
      "        order_id  user_id  order_number  order_dow  order_hour_of_day  \\\n",
      "145574    794638    50898            24          3                  2   \n",
      "223105   2160484   107525            16          3                  2   \n",
      "230807   1918001   188546            14          3                  2   \n",
      "266232   1782114   106752             1          3                  2   \n",
      "273805   1112182   202304            84          3                  2   \n",
      "284038   2845099    31189            11          3                  2   \n",
      "311713   1021560    53767             3          3                  2   \n",
      "321100    408114    68324             4          3                  2   \n",
      "323900   1919531   191501            32          3                  2   \n",
      "345917   2232988    82565             1          3                  2   \n",
      "371905    391768    57671            19          3                  2   \n",
      "394347    467134    63189            21          3                  2   \n",
      "411408   1286742   183220            48          3                  2   \n",
      "415163   2282673    86751            49          3                  2   \n",
      "441599   2125197    14050            48          3                  2   \n",
      "\n",
      "        days_since_prior_order  \n",
      "145574                     2.0  \n",
      "223105                    30.0  \n",
      "230807                    16.0  \n",
      "266232                     NaN  \n",
      "273805                     6.0  \n",
      "284038                     7.0  \n",
      "311713                     9.0  \n",
      "321100                    18.0  \n",
      "323900                     7.0  \n",
      "345917                     NaN  \n",
      "371905                    10.0  \n",
      "394347                     2.0  \n",
      "411408                     4.0  \n",
      "415163                     2.0  \n",
      "441599                     3.0  \n"
     ]
    }
   ],
   "source": [
    "print(\"Pedidos duplicados: \",df_orders.duplicated().sum())# Revisa si hay pedidos duplicados\n",
    "print(df_orders[df_orders.duplicated()])# Basándote en tus hallazgos,"
   ]
  },
  {
   "cell_type": "markdown",
   "id": "PEkwUX_gvt5A",
   "metadata": {
    "id": "PEkwUX_gvt5A"
   },
   "source": [
    "¿Tienes líneas duplicadas? Si sí, ¿qué tienen en común? Son 15 pedidos realizados los miercoles a las 2am"
   ]
  },
  {
   "cell_type": "code",
   "execution_count": 9,
   "id": "0d44de5d",
   "metadata": {
    "id": "0d44de5d"
   },
   "outputs": [
    {
     "name": "stdout",
     "output_type": "stream",
     "text": [
      "        order_id  user_id  order_number  order_dow  order_hour_of_day  \\\n",
      "4838     2766110   162084            41          3                  2   \n",
      "5156     2190225   138285            18          3                  2   \n",
      "15506     553049    58599            13          3                  2   \n",
      "18420     382357   120200            19          3                  2   \n",
      "24691     690242    77357             2          3                  2   \n",
      "...          ...      ...           ...        ...                ...   \n",
      "457013   3384021    14881             6          3                  2   \n",
      "458816    910166   164782            18          3                  2   \n",
      "459635   1680532   106435             6          3                  2   \n",
      "468324    222962    54979            59          3                  2   \n",
      "477526   2592344    46860            38          3                  2   \n",
      "\n",
      "        days_since_prior_order  \n",
      "4838                      16.0  \n",
      "5156                      11.0  \n",
      "15506                      7.0  \n",
      "18420                     11.0  \n",
      "24691                      9.0  \n",
      "...                        ...  \n",
      "457013                    30.0  \n",
      "458816                     4.0  \n",
      "459635                    21.0  \n",
      "468324                     3.0  \n",
      "477526                     3.0  \n",
      "\n",
      "[121 rows x 6 columns]\n",
      "Total duplicados en pedidos filtrados del miercoles a las 2am: 15\n"
     ]
    }
   ],
   "source": [
    "wed2am= df_orders [(df_orders[\"order_dow\"]==3) &(df_orders[\"order_hour_of_day\"]==2)]\n",
    "print(wed2am)\n",
    "print(\"Total duplicados en pedidos filtrados del miercoles a las 2am:\" , wed2am.duplicated().sum())# Verifica todos los pedidos que se hicieron el miércoles a las 2:00 a.m.\n"
   ]
  },
  {
   "cell_type": "code",
   "execution_count": null,
   "id": "2c30a1f6",
   "metadata": {},
   "outputs": [],
   "source": []
  },
  {
   "cell_type": "markdown",
   "id": "vu2OWyoqwOx5",
   "metadata": {
    "id": "vu2OWyoqwOx5"
   },
   "source": [
    "¿Qué sugiere este resultado? Tal vez existe algún tipo de error en el sistema, el cual hace que algunos pedidos se registren como duplicados a las 2:00 del miércoles. No es un problema de comportamiento de usuario porque los 15 registrados son diferentes. Si se observa el total de los pedidos realizados los miércoles a las 2 am, se obtienen 121 registros, lo cual indica que este error de duplicación no ha sucedido en todas las órdenes realizadas."
   ]
  },
  {
   "cell_type": "markdown",
   "id": "8517f810",
   "metadata": {},
   "source": [
    "<div class=\"alert alert-block alert-success\">\n",
    "<b>Comentario de Reviewer</b> <a class=\"tocSkip\"></a>\n",
    "\n",
    "Ok, bien\n",
    "</div>"
   ]
  },
  {
   "cell_type": "markdown",
   "id": "551c0881",
   "metadata": {},
   "source": [
    "<div class=\"alert alert-block alert-danger\">\n",
    "<b>Comentario de Reviewer</b> <a class=\"tocSkip\"></a>\n",
    "\n",
    "Podrías explorar un poco más para ver si todos los pedidos del miércoles a las 2 son duplicados o hay algunos que no.\n",
    "</div>"
   ]
  },
  {
   "cell_type": "markdown",
   "id": "ebe0836e",
   "metadata": {},
   "source": [
    "<div class=\"alert alert-block alert-warning\">\n",
    "<b>Comentario de Reviewer v2</b> <a class=\"tocSkip\"></a>\n",
    "\n",
    "Bien, aunque lo ideal es comparar la cantida total de duplicados con los filtrados, para ver que los duplicados siempre ocurren en las mismas condiciones.    \n",
    "</div>"
   ]
  },
  {
   "cell_type": "code",
   "execution_count": 10,
   "id": "480563c7",
   "metadata": {
    "id": "480563c7"
   },
   "outputs": [],
   "source": [
    "df_orders= df_orders.drop_duplicates()# Elimina los pedidos duplicados\n"
   ]
  },
  {
   "cell_type": "code",
   "execution_count": 11,
   "id": "0b2396a2",
   "metadata": {
    "id": "0b2396a2"
   },
   "outputs": [
    {
     "name": "stdout",
     "output_type": "stream",
     "text": [
      "0\n"
     ]
    }
   ],
   "source": [
    "print(df_orders.duplicated().sum())# Vuelve a verificar si hay filas duplicadas\n"
   ]
  },
  {
   "cell_type": "code",
   "execution_count": 12,
   "id": "f6113ef1",
   "metadata": {
    "id": "f6113ef1"
   },
   "outputs": [
    {
     "name": "stdout",
     "output_type": "stream",
     "text": [
      "0\n"
     ]
    }
   ],
   "source": [
    "print(df_orders[\"order_id\"].duplicated().sum())# Vuelve a verificar únicamente si hay IDs duplicados de pedidos\n"
   ]
  },
  {
   "cell_type": "markdown",
   "id": "5e8905ae",
   "metadata": {
    "id": "5e8905ae"
   },
   "source": [
    "Describe brevemente tus hallazgos y lo que hiciste con ellos.\n",
    "Si no se puede recabar más información sobre estos registros entonces se eliminan, por otro lado 15 datos son insginificantes para el universo de datos existente (478967 registros)"
   ]
  },
  {
   "cell_type": "markdown",
   "id": "52b05763",
   "metadata": {},
   "source": [
    "<div class=\"alert alert-block alert-success\">\n",
    "<b>Comentario de Reviewer</b> <a class=\"tocSkip\"></a>\n",
    "\n",
    "Correcto, aunque te recomiendo resetear el índice del dataframe después de eliminar filas.\n",
    "</div>"
   ]
  },
  {
   "cell_type": "markdown",
   "id": "45e6bc46",
   "metadata": {
    "id": "45e6bc46"
   },
   "source": [
    "### `products` data frame"
   ]
  },
  {
   "cell_type": "code",
   "execution_count": 13,
   "id": "5f526b5b-8175-46fa-a0fd-441767d50e64",
   "metadata": {
    "id": "5f526b5b-8175-46fa-a0fd-441767d50e64"
   },
   "outputs": [
    {
     "name": "stdout",
     "output_type": "stream",
     "text": [
      "0\n"
     ]
    }
   ],
   "source": [
    "print(df_products.duplicated().sum())# Verifica si hay filas totalmente duplicadas\n"
   ]
  },
  {
   "cell_type": "code",
   "execution_count": 14,
   "id": "88daa4f4",
   "metadata": {
    "id": "88daa4f4"
   },
   "outputs": [
    {
     "name": "stdout",
     "output_type": "stream",
     "text": [
      "49673\n"
     ]
    }
   ],
   "source": [
    "print(df_products[\"department_id\"].duplicated().sum())# Revisa únicamente si hay ID de departamentos duplicados\n"
   ]
  },
  {
   "cell_type": "code",
   "execution_count": 15,
   "id": "c773f0bf",
   "metadata": {
    "id": "c773f0bf"
   },
   "outputs": [
    {
     "name": "stdout",
     "output_type": "stream",
     "text": [
      "1361\n"
     ]
    }
   ],
   "source": [
    "df_products[\"product_name\"]= df_products[\"product_name\"].str.upper()\n",
    "print(df_products[\"product_name\"].duplicated().sum())# Revisa únicamente si hay nombres duplicados de productos (convierte los nombres a letras mayúsculas para compararlos mejor)\n"
   ]
  },
  {
   "cell_type": "code",
   "execution_count": 16,
   "id": "01efd02e",
   "metadata": {
    "id": "01efd02e"
   },
   "outputs": [
    {
     "name": "stdout",
     "output_type": "stream",
     "text": [
      "0\n"
     ]
    }
   ],
   "source": [
    "print(df_products[~df_products[\"product_name\"].isna()].duplicated().sum())# Revisa si hay nombres duplicados de productos no faltantes\n"
   ]
  },
  {
   "cell_type": "markdown",
   "id": "9da8d293",
   "metadata": {
    "id": "9da8d293"
   },
   "source": [
    "Describe brevemente tus hallazgos y lo que hiciste con ellos.\n",
    "No existen duplicados de datos en todas las filas, los duplicados de \"department_id\" siginifica que los productos comprado son el mismo departamento. Existen 1361 duplicados para product_name pero son lso datos vacíos, ya que los duplicado de datos no vacíos son cero."
   ]
  },
  {
   "cell_type": "markdown",
   "id": "5e0de9e2",
   "metadata": {},
   "source": [
    "<div class=\"alert alert-block alert-success\">\n",
    "<b>Comentario de Reviewer</b> <a class=\"tocSkip\"></a>\n",
    "\n",
    "Ok, correcto. De todas formas, no es problema que existan duplicados de nombre\n",
    "</div>"
   ]
  },
  {
   "cell_type": "markdown",
   "id": "60f30db1",
   "metadata": {
    "id": "60f30db1"
   },
   "source": [
    "### `departments` data frame"
   ]
  },
  {
   "cell_type": "code",
   "execution_count": 17,
   "id": "fb410ad4-0fbf-4b80-bb09-23fdea79afe3",
   "metadata": {
    "id": "fb410ad4-0fbf-4b80-bb09-23fdea79afe3"
   },
   "outputs": [
    {
     "name": "stdout",
     "output_type": "stream",
     "text": [
      "    department_id       department\n",
      "0               1           frozen\n",
      "1               2            other\n",
      "2               3           bakery\n",
      "3               4          produce\n",
      "4               5          alcohol\n",
      "5               6    international\n",
      "6               7        beverages\n",
      "7               8             pets\n",
      "8               9  dry goods pasta\n",
      "9              10             bulk\n",
      "10             11    personal care\n",
      "11             12     meat seafood\n",
      "12             13           pantry\n",
      "13             14        breakfast\n",
      "14             15     canned goods\n",
      "15             16       dairy eggs\n",
      "16             17        household\n",
      "17             18           babies\n",
      "18             19           snacks\n",
      "19             20             deli\n",
      "20             21          missing\n",
      "\n",
      "0\n"
     ]
    }
   ],
   "source": [
    "print (df_departments)\n",
    "print()\n",
    "print(df_departments.duplicated().sum())# Revisa si hay filas totalmente duplicadas"
   ]
  },
  {
   "cell_type": "code",
   "execution_count": 18,
   "id": "332b12bb",
   "metadata": {
    "id": "332b12bb"
   },
   "outputs": [
    {
     "name": "stdout",
     "output_type": "stream",
     "text": [
      "0\n"
     ]
    }
   ],
   "source": [
    "print(df_departments[\"department_id\"].duplicated().sum())# Revisa únicamente si hay IDs duplicadas de productos"
   ]
  },
  {
   "cell_type": "markdown",
   "id": "bd30d78e",
   "metadata": {
    "id": "bd30d78e"
   },
   "source": [
    "Describe brevemente tus hallazgos y lo que hiciste con ellos.\n",
    "No existen departamentos ni IDs duplicados."
   ]
  },
  {
   "cell_type": "markdown",
   "id": "4b625cca",
   "metadata": {},
   "source": [
    "<div class=\"alert alert-block alert-success\">\n",
    "<b>Comentario de Reviewer</b> <a class=\"tocSkip\"></a>\n",
    "\n",
    "Correcto\n",
    "</div>"
   ]
  },
  {
   "cell_type": "markdown",
   "id": "889349c1",
   "metadata": {
    "id": "889349c1"
   },
   "source": [
    "### `aisles` data frame"
   ]
  },
  {
   "cell_type": "code",
   "execution_count": 19,
   "id": "9da89fb9-4679-40f5-ad0d-c34df753a3f8",
   "metadata": {
    "id": "9da89fb9-4679-40f5-ad0d-c34df753a3f8"
   },
   "outputs": [
    {
     "name": "stdout",
     "output_type": "stream",
     "text": [
      "     aisle_id                       aisle\n",
      "0           1       prepared soups salads\n",
      "1           2           specialty cheeses\n",
      "2           3         energy granola bars\n",
      "3           4               instant foods\n",
      "4           5  marinades meat preparation\n",
      "..        ...                         ...\n",
      "129       130    hot cereal pancake mixes\n",
      "130       131                   dry pasta\n",
      "131       132                      beauty\n",
      "132       133  muscles joints pain relief\n",
      "133       134  specialty wines champagnes\n",
      "\n",
      "[134 rows x 2 columns]\n",
      "\n",
      "0\n"
     ]
    }
   ],
   "source": [
    "print(df_aisles)\n",
    "print()\n",
    "\n",
    "print(df_aisles.duplicated().sum())# Revisa si hay filas totalmente duplicadas"
   ]
  },
  {
   "cell_type": "code",
   "execution_count": 20,
   "id": "da7c2822",
   "metadata": {
    "id": "da7c2822"
   },
   "outputs": [
    {
     "name": "stdout",
     "output_type": "stream",
     "text": [
      "0\n"
     ]
    }
   ],
   "source": [
    "print(df_aisles[\"aisle_id\"].duplicated().sum())# Revisa únicamente si hay IDs duplicadas de productos"
   ]
  },
  {
   "cell_type": "markdown",
   "id": "ac63826f",
   "metadata": {
    "id": "ac63826f"
   },
   "source": [
    "Describe brevemente tus hallazgos y lo que hiciste con ellos.\n",
    "No existen ids ni aisles duplicados"
   ]
  },
  {
   "cell_type": "markdown",
   "id": "cf34f0b7",
   "metadata": {},
   "source": [
    "<div class=\"alert alert-block alert-success\">\n",
    "<b>Comentario de Reviewer</b> <a class=\"tocSkip\"></a>\n",
    "\n",
    "Correcto\n",
    "</div>"
   ]
  },
  {
   "cell_type": "markdown",
   "id": "274cd06a",
   "metadata": {
    "id": "274cd06a"
   },
   "source": [
    "### `order_products` data frame"
   ]
  },
  {
   "cell_type": "code",
   "execution_count": 21,
   "id": "52326689-84a8-4b8f-a881-7c68780f62c9",
   "metadata": {
    "id": "52326689-84a8-4b8f-a881-7c68780f62c9"
   },
   "outputs": [
    {
     "name": "stdout",
     "output_type": "stream",
     "text": [
      "0\n"
     ]
    }
   ],
   "source": [
    "print(df_orderps.duplicated().sum())# Revisa si hay filas totalmente duplicadas\n"
   ]
  },
  {
   "cell_type": "code",
   "execution_count": 22,
   "id": "7b861391",
   "metadata": {
    "id": "7b861391"
   },
   "outputs": [
    {
     "name": "stdout",
     "output_type": "stream",
     "text": [
      "0\n"
     ]
    }
   ],
   "source": [
    "print(df_orderps[~df_orderps.isna()].duplicated().sum())# Vuelve a verificar si hay cualquier otro duplicado engañoso\n"
   ]
  },
  {
   "cell_type": "markdown",
   "id": "0b890492",
   "metadata": {
    "id": "0b890492"
   },
   "source": [
    "Describe brevemente tus hallazgos y lo que hiciste con ellos.\n",
    "No se han encontrado filas dulplicadas"
   ]
  },
  {
   "cell_type": "markdown",
   "id": "f1670228",
   "metadata": {},
   "source": [
    "<div class=\"alert alert-block alert-success\">\n",
    "<b>Comentario de Reviewer</b> <a class=\"tocSkip\"></a>\n",
    "\n",
    "Correcto. En este dataframe hay duplicados en la columna order_id, lo cual es normal, puesto que los carros aparecen muchas veces, una vez por cada item que contienen.\n",
    "</div>"
   ]
  },
  {
   "cell_type": "markdown",
   "id": "1e46de76",
   "metadata": {
    "id": "1e46de76"
   },
   "source": [
    "## Encuentra y elimina los valores ausentes\n",
    "\n",
    "Al trabajar con valores duplicados, pudimos observar que también nos falta investigar valores ausentes:\n",
    "\n",
    "* La columna `'product_name'` de la tabla products.\n",
    "* La columna `'days_since_prior_order'` de la tabla orders.\n",
    "* La columna `'add_to_cart_order'` de la tabla order_productos."
   ]
  },
  {
   "cell_type": "markdown",
   "id": "c0aebd78",
   "metadata": {
    "id": "c0aebd78"
   },
   "source": [
    "### `products` data frame"
   ]
  },
  {
   "cell_type": "code",
   "execution_count": 23,
   "id": "fe4a8b0f",
   "metadata": {
    "id": "fe4a8b0f"
   },
   "outputs": [
    {
     "name": "stdout",
     "output_type": "stream",
     "text": [
      "       product_id product_name  aisle_id  department_id\n",
      "37             38          NaN       100             21\n",
      "71             72          NaN       100             21\n",
      "109           110          NaN       100             21\n",
      "296           297          NaN       100             21\n",
      "416           417          NaN       100             21\n",
      "...           ...          ...       ...            ...\n",
      "49552       49553          NaN       100             21\n",
      "49574       49575          NaN       100             21\n",
      "49640       49641          NaN       100             21\n",
      "49663       49664          NaN       100             21\n",
      "49668       49669          NaN       100             21\n",
      "\n",
      "[1258 rows x 4 columns]\n"
     ]
    }
   ],
   "source": [
    "null_product_name = df_products[df_products['product_name'].isna()]\n",
    "print(null_product_name)# Encuentra los valores ausentes en la columna 'product_name'"
   ]
  },
  {
   "cell_type": "markdown",
   "id": "-A6x1AbJhjkp",
   "metadata": {
    "id": "-A6x1AbJhjkp"
   },
   "source": [
    "Describe brevemente cuáles son tus hallazgos.\n",
    "Se han encontrado 1258 valores vacíos en la columna product_name"
   ]
  },
  {
   "cell_type": "code",
   "execution_count": 24,
   "id": "e96167bc",
   "metadata": {
    "id": "e96167bc"
   },
   "outputs": [
    {
     "name": "stdout",
     "output_type": "stream",
     "text": [
      "[100]\n"
     ]
    }
   ],
   "source": [
    "print(null_product_name[\"aisle_id\"].unique())#  ¿Todos los nombres de productos ausentes están relacionados con el pasillo con ID 100?\n"
   ]
  },
  {
   "cell_type": "markdown",
   "id": "WRpIfXRphpSL",
   "metadata": {
    "id": "WRpIfXRphpSL"
   },
   "source": [
    "Describe brevemente cuáles son tus hallazgos.\n",
    "Así es, todos están asociados al pasillo ID 100"
   ]
  },
  {
   "cell_type": "code",
   "execution_count": 25,
   "id": "8fd0a541",
   "metadata": {
    "id": "8fd0a541"
   },
   "outputs": [
    {
     "name": "stdout",
     "output_type": "stream",
     "text": [
      "[21]\n"
     ]
    }
   ],
   "source": [
    "print(null_product_name[\"department_id\"].unique())# ¿Todos los nombres de productos ausentes están relacionados con el departamento con ID 21?\n"
   ]
  },
  {
   "cell_type": "markdown",
   "id": "34af6c84",
   "metadata": {},
   "source": [
    "<div class=\"alert alert-block alert-success\">\n",
    "<b>Comentario de Reviewer</b> <a class=\"tocSkip\"></a>\n",
    "\n",
    "Correcto con ambos\n",
    "</div>"
   ]
  },
  {
   "cell_type": "markdown",
   "id": "qDpdYn1Fht_I",
   "metadata": {
    "id": "qDpdYn1Fht_I"
   },
   "source": [
    "Describe brevemente cuáles son tus hallazgos.\n",
    "Así es, todos los ausentes están asociados al departamento ID 21"
   ]
  },
  {
   "cell_type": "code",
   "execution_count": 26,
   "id": "325c3464",
   "metadata": {
    "id": "325c3464"
   },
   "outputs": [
    {
     "name": "stdout",
     "output_type": "stream",
     "text": [
      "       product_id product_name  aisle_id  department_id\n",
      "37             38          NaN       100             21\n",
      "71             72          NaN       100             21\n",
      "109           110          NaN       100             21\n",
      "296           297          NaN       100             21\n",
      "416           417          NaN       100             21\n",
      "...           ...          ...       ...            ...\n",
      "49552       49553          NaN       100             21\n",
      "49574       49575          NaN       100             21\n",
      "49640       49641          NaN       100             21\n",
      "49663       49664          NaN       100             21\n",
      "49668       49669          NaN       100             21\n",
      "\n",
      "[1258 rows x 4 columns]\n"
     ]
    }
   ],
   "source": [
    "a100d21 = df_products[(df_products['aisle_id']== 100) & (df_products['department_id']== 21)]\n",
    "print(a100d21)# Usa las tablas department y aisle para revisar los datos del pasillo con ID 100 y el departamento con ID 21.\n"
   ]
  },
  {
   "cell_type": "markdown",
   "id": "nqhSTUPhhvEJ",
   "metadata": {
    "id": "nqhSTUPhhvEJ"
   },
   "source": [
    "Describe brevemente cuáles son tus hallazgos. El nombre de los productos no ha sido registrado debidamente del departament 21 y el aisle 100"
   ]
  },
  {
   "cell_type": "markdown",
   "id": "d2f3ac7e",
   "metadata": {},
   "source": [
    "<div class=\"alert alert-block alert-success\">\n",
    "<b>Comentario de Reviewer</b> <a class=\"tocSkip\"></a>\n",
    "\n",
    "Muy bien\n",
    "</div>"
   ]
  },
  {
   "cell_type": "code",
   "execution_count": 27,
   "id": "6b295120",
   "metadata": {
    "id": "6b295120"
   },
   "outputs": [
    {
     "name": "stdout",
     "output_type": "stream",
     "text": [
      "       product_id product_name  aisle_id  department_id\n",
      "37             38      Unknown       100             21\n",
      "71             72      Unknown       100             21\n",
      "109           110      Unknown       100             21\n",
      "296           297      Unknown       100             21\n",
      "416           417      Unknown       100             21\n",
      "...           ...          ...       ...            ...\n",
      "49552       49553      Unknown       100             21\n",
      "49574       49575      Unknown       100             21\n",
      "49640       49641      Unknown       100             21\n",
      "49663       49664      Unknown       100             21\n",
      "49668       49669      Unknown       100             21\n",
      "\n",
      "[1258 rows x 4 columns]\n"
     ]
    }
   ],
   "source": [
    "df_products['product_name']= df_products['product_name'].fillna(\"Unknown\")# Completa los nombres de productos ausentes con 'Unknown'\n",
    "a100d21_rep = df_products[(df_products['aisle_id']== 100) & (df_products['department_id']== 21)]\n",
    "print(a100d21_rep)"
   ]
  },
  {
   "cell_type": "markdown",
   "id": "fc70e5ad",
   "metadata": {
    "id": "fc70e5ad"
   },
   "source": [
    "Describe brevemente tus hallazgos y lo que hiciste con ellos. Se ha completado la información faltante de la base de datos con la palabra \"Unknown\" con el fin de rellenar datos para trabajar con todos los productos vendidos"
   ]
  },
  {
   "cell_type": "markdown",
   "id": "764880c7",
   "metadata": {},
   "source": [
    "<div class=\"alert alert-block alert-success\">\n",
    "<b>Comentario de Reviewer</b> <a class=\"tocSkip\"></a>\n",
    "\n",
    "Correcto \n",
    "</div>"
   ]
  },
  {
   "cell_type": "markdown",
   "id": "7eb45c86",
   "metadata": {
    "id": "7eb45c86"
   },
   "source": [
    "### `orders` data frame"
   ]
  },
  {
   "cell_type": "code",
   "execution_count": 28,
   "id": "93e41d96",
   "metadata": {
    "id": "93e41d96"
   },
   "outputs": [
    {
     "name": "stdout",
     "output_type": "stream",
     "text": [
      "order_id                      0\n",
      "user_id                       0\n",
      "order_number                  0\n",
      "order_dow                     0\n",
      "order_hour_of_day             0\n",
      "days_since_prior_order    28817\n",
      "dtype: int64\n",
      "\n",
      "        order_id  user_id  order_number  order_dow  order_hour_of_day  \\\n",
      "28        133707   182261             1          3                 10   \n",
      "96        787445    25685             1          6                 18   \n",
      "100       294410   111449             1          0                 19   \n",
      "103      2869915   123958             1          4                 16   \n",
      "104      2521921    42286             1          3                 18   \n",
      "...          ...      ...           ...        ...                ...   \n",
      "478895   2589657   205028             1          0                 16   \n",
      "478896   2222353   141211             1          2                 13   \n",
      "478922   2272807   204154             1          1                 15   \n",
      "478926   2499542    68810             1          4                 19   \n",
      "478945   1387033    22496             1          5                 14   \n",
      "\n",
      "        days_since_prior_order  \n",
      "28                         NaN  \n",
      "96                         NaN  \n",
      "100                        NaN  \n",
      "103                        NaN  \n",
      "104                        NaN  \n",
      "...                        ...  \n",
      "478895                     NaN  \n",
      "478896                     NaN  \n",
      "478922                     NaN  \n",
      "478926                     NaN  \n",
      "478945                     NaN  \n",
      "\n",
      "[28817 rows x 6 columns]\n"
     ]
    }
   ],
   "source": [
    "null_orders = df_orders.isna().sum()# Encuentra los valores ausentes\n",
    "print(null_orders)\n",
    "print()\n",
    "df_null_orders = df_orders[(df_orders[\"days_since_prior_order\"].isna())]\n",
    "print(df_null_orders)"
   ]
  },
  {
   "cell_type": "code",
   "execution_count": 29,
   "id": "166e5a86",
   "metadata": {
    "id": "166e5a86"
   },
   "outputs": [
    {
     "name": "stdout",
     "output_type": "stream",
     "text": [
      "Empty DataFrame\n",
      "Columns: [order_id, user_id, order_number, order_dow, order_hour_of_day, days_since_prior_order]\n",
      "Index: []\n"
     ]
    }
   ],
   "source": [
    "null_orders_no1 = df_null_orders[(df_null_orders[\"order_number\"]!=1)]# ¿Hay algún valor ausente que no sea el primer pedido del cliente?\n",
    "print(null_orders_no1)"
   ]
  },
  {
   "cell_type": "markdown",
   "id": "4e23d089",
   "metadata": {
    "id": "4e23d089"
   },
   "source": [
    "Describe brevemente tus hallazgos y lo que hiciste con ellos.\n",
    "De los datos faltantes en \"days_since_prior_order\" ninguno de ellos corresponde a un pedido diferente del primero. Eso quiere decir que en el registro de ventas, esta columna se deja vacía al ser el primer pedido del cliente.\n",
    "\n"
   ]
  },
  {
   "cell_type": "markdown",
   "id": "459ca269",
   "metadata": {},
   "source": [
    "<div class=\"alert alert-block alert-success\">\n",
    "<b>Comentario de Reviewer</b> <a class=\"tocSkip\"></a>\n",
    "\n",
    "Correcto, por lo tanto, no se requiere ninguna modificación.\n",
    "</div>"
   ]
  },
  {
   "cell_type": "markdown",
   "id": "69dc9ca4",
   "metadata": {
    "id": "69dc9ca4"
   },
   "source": [
    "### `order_products` data frame"
   ]
  },
  {
   "cell_type": "code",
   "execution_count": 30,
   "id": "b8240253",
   "metadata": {
    "id": "b8240253"
   },
   "outputs": [
    {
     "name": "stdout",
     "output_type": "stream",
     "text": [
      "order_id               0\n",
      "product_id             0\n",
      "add_to_cart_order    836\n",
      "reordered              0\n",
      "dtype: int64\n",
      "\n"
     ]
    }
   ],
   "source": [
    "null_orderps = df_orderps.isna().sum()\n",
    "print(null_orderps)# Encuentra los valores ausentes\n",
    "print()"
   ]
  },
  {
   "cell_type": "code",
   "execution_count": 31,
   "id": "9a78e5ee",
   "metadata": {
    "id": "9a78e5ee"
   },
   "outputs": [
    {
     "name": "stdout",
     "output_type": "stream",
     "text": [
      "El valor máximo es  64.0\n",
      "El valor mínimo es  1.0\n"
     ]
    }
   ],
   "source": [
    "max_atco = df_orderps[\"add_to_cart_order\"].max()# ¿Cuáles son los valores mínimos y máximos en esta columna?\n",
    "print(\"El valor máximo es \", max_atco)\n",
    "min_atco = df_orderps[\"add_to_cart_order\"].min()\n",
    "print(\"El valor mínimo es \", min_atco)"
   ]
  },
  {
   "cell_type": "markdown",
   "id": "-Z2Ja215jW78",
   "metadata": {
    "id": "-Z2Ja215jW78"
   },
   "source": [
    "Describe brevemente cuáles son tus hallazgos. Los datos faltantes de esta base de datos son 836 en la columna \"add_to_cart_order\", el valor máximo de productos vendidos es 64 en una orden y el mínimo es 1"
   ]
  },
  {
   "cell_type": "code",
   "execution_count": 32,
   "id": "ab9d0c2b",
   "metadata": {
    "id": "ab9d0c2b"
   },
   "outputs": [
    {
     "name": "stdout",
     "output_type": "stream",
     "text": [
      "         order_id  product_id  add_to_cart_order  reordered\n",
      "737       2449164        5068                NaN          0\n",
      "9926      1968313       43867                NaN          0\n",
      "14394     2926893       11688                NaN          0\n",
      "16418     1717990        4142                NaN          0\n",
      "30114     1959075       42828                NaN          1\n",
      "...           ...         ...                ...        ...\n",
      "4505662   1800005        7411                NaN          0\n",
      "4511400   1633337         260                NaN          0\n",
      "4517562    404157        9517                NaN          0\n",
      "4534112   1673227       17835                NaN          0\n",
      "4535739   1832957       17949                NaN          1\n",
      "\n",
      "[836 rows x 4 columns]\n",
      "         order_id\n",
      "737       2449164\n",
      "9926      1968313\n",
      "14394     2926893\n",
      "16418     1717990\n",
      "30114     1959075\n",
      "...           ...\n",
      "4505662   1800005\n",
      "4511400   1633337\n",
      "4517562    404157\n",
      "4534112   1673227\n",
      "4535739   1832957\n",
      "\n",
      "[836 rows x 1 columns]\n"
     ]
    }
   ],
   "source": [
    "df_null_atco = df_orderps[df_orderps[\"add_to_cart_order\"].isna()]\n",
    "print(df_null_atco)\n",
    "id_null_atco = df_null_atco.drop(labels=[\"product_id\", \"add_to_cart_order\", \"reordered\" ], axis=1)\n",
    "# Guarda todas las IDs de pedidos que tengan un valor ausente en 'add_to_cart_order'\n",
    "print(id_null_atco)\n"
   ]
  },
  {
   "cell_type": "code",
   "execution_count": 33,
   "id": "54c31695",
   "metadata": {
    "id": "54c31695"
   },
   "outputs": [
    {
     "name": "stdout",
     "output_type": "stream",
     "text": [
      "          product_id  add_to_cart_order  reordered\n",
      "order_id                                          \n",
      "9310               1                  0          1\n",
      "61355             63                  0         63\n",
      "102236            31                  0         31\n",
      "129627             5                  0          5\n",
      "165801             6                  0          6\n",
      "...              ...                ...        ...\n",
      "2999801            6                  0          6\n",
      "3125735           22                  0         22\n",
      "3308010           51                  0         51\n",
      "3347453            7                  0          7\n",
      "3383594            5                  0          5\n",
      "\n",
      "[70 rows x 3 columns]\n",
      "\n",
      "          product_id  add_to_cart_order  reordered\n",
      "order_id                                          \n",
      "61355             63                  0         63\n",
      "3308010           51                  0         51\n",
      "2136777           44                  0         44\n",
      "171934            40                  0         40\n",
      "1959075           34                  0         34\n",
      "...              ...                ...        ...\n",
      "888470             1                  0          1\n",
      "1598369            1                  0          1\n",
      "747668             1                  0          1\n",
      "1677118            1                  0          1\n",
      "9310               1                  0          1\n",
      "\n",
      "[70 rows x 3 columns]\n",
      "\n",
      "1\n"
     ]
    }
   ],
   "source": [
    "df_null_atco_grpbyid = df_null_atco.groupby(\"order_id\").count()\n",
    "print(df_null_atco_grpbyid)# Agrupa todos los pedidos con datos ausentes por su ID de pedido.\n",
    "print()\n",
    "n_atco_pidhigh64 = df_null_atco_grpbyid.sort_values(by=\"product_id\", ascending=False)  #¿Todos los pedidos con valores ausentes tienen más de 64 productos? YA SE SABE QUE NO\n",
    "print(n_atco_pidhigh64)\n",
    "print()\n",
    "prod_id = df_null_atco_grpbyid[\"product_id\"].min()\n",
    "print(prod_id)# Cuenta el número de 'product_id' en cada pedido y revisa el valor mínimo del conteo.\n"
   ]
  },
  {
   "cell_type": "markdown",
   "id": "p9V6pddtjglj",
   "metadata": {
    "id": "p9V6pddtjglj"
   },
   "source": [
    "Describe brevemente cuáles son tus hallazgos. Existen 836 datos vacíos en \"add_to_cart_order\". El máximo \"add_to_cart_order\" es 63 por lo que en esas ordenes no existen compras con más de 64 productos. El pedido mínimo en cada orden es 1 producto."
   ]
  },
  {
   "cell_type": "markdown",
   "id": "e325405a",
   "metadata": {},
   "source": [
    "<div class=\"alert alert-block alert-success\">\n",
    "<b>Comentario de Reviewer</b> <a class=\"tocSkip\"></a>\n",
    "\n",
    "Muy bien, correcto\n",
    "</div>"
   ]
  },
  {
   "cell_type": "code",
   "execution_count": 34,
   "id": "7a987d08",
   "metadata": {
    "id": "7a987d08"
   },
   "outputs": [
    {
     "name": "stdout",
     "output_type": "stream",
     "text": [
      "<class 'pandas.core.frame.DataFrame'>\n",
      "RangeIndex: 4545007 entries, 0 to 4545006\n",
      "Data columns (total 4 columns):\n",
      " #   Column             Dtype\n",
      "---  ------             -----\n",
      " 0   order_id           int64\n",
      " 1   product_id         int64\n",
      " 2   add_to_cart_order  int64\n",
      " 3   reordered          int64\n",
      "dtypes: int64(4)\n",
      "memory usage: 138.7 MB\n"
     ]
    }
   ],
   "source": [
    "df_orderps[\"add_to_cart_order\"]= df_orderps[\"add_to_cart_order\"].fillna(999)# Remplaza los valores ausentes en la columna 'add_to_cart? con 999 y convierte la columna al tipo entero.\n",
    "df_orderps[\"add_to_cart_order\"]=df_orderps[\"add_to_cart_order\"].astype(int)\n",
    "df_orderps.info()"
   ]
  },
  {
   "cell_type": "markdown",
   "id": "fea4bcc7",
   "metadata": {
    "id": "fea4bcc7"
   },
   "source": [
    "Describe brevemente tus hallazgos y lo que hiciste con ellos. con la función fillna se reemplazaronlos datos y con la función astype se cambió el tipo de dato a integer"
   ]
  },
  {
   "cell_type": "markdown",
   "id": "RnplPFY1gSrb",
   "metadata": {
    "id": "RnplPFY1gSrb"
   },
   "source": [
    "## Conclusiones\n",
    "\n",
    "Escribe aquí tus conclusiones intermedias sobre el Paso 2. Preprocesamiento de los datos\n",
    "\n",
    "Se han tratado los datos para un mejor manejo, mediante las funciones aprendidas se ha localizado vacíos y duplicados, en algunos casos estos han sido reemplzados y en otros han sido eliminados\n"
   ]
  },
  {
   "cell_type": "markdown",
   "id": "UjrOIwTcz3ri",
   "metadata": {
    "id": "UjrOIwTcz3ri"
   },
   "source": [
    "# Paso 3. Análisis de los datos\n",
    "\n",
    "Una vez los datos estén procesados y listos, haz el siguiente análisis:"
   ]
  },
  {
   "cell_type": "markdown",
   "id": "turkish-kidney",
   "metadata": {
    "id": "turkish-kidney"
   },
   "source": [
    "# [A] Fácil (deben completarse todos para aprobar)\n",
    "\n",
    "1. Verifica que los valores en las columnas `'order_hour_of_day'` y `'order_dow'` en la tabla orders sean razonables (es decir, `'order_hour_of_day'` oscile entre 0 y 23 y `'order_dow'` oscile entre 0 y 6).\n",
    "2. Crea un gráfico que muestre el número de personas que hacen pedidos dependiendo de la hora del día.\n",
    "3. Crea un gráfico que muestre qué día de la semana la gente hace sus compras.\n",
    "4. Crea un gráfico que muestre el tiempo que la gente espera hasta hacer su siguiente pedido, y comenta sobre los valores mínimos y máximos."
   ]
  },
  {
   "cell_type": "markdown",
   "id": "short-capability",
   "metadata": {
    "id": "short-capability"
   },
   "source": [
    "### [A1] Verifica que los valores sean sensibles"
   ]
  },
  {
   "cell_type": "code",
   "execution_count": 35,
   "id": "growing-fruit",
   "metadata": {
    "id": "growing-fruit"
   },
   "outputs": [
    {
     "name": "stdout",
     "output_type": "stream",
     "text": [
      "0\n",
      "\n",
      "23\n",
      "\n"
     ]
    }
   ],
   "source": [
    "hod_max = df_orders['order_hour_of_day'].min()\n",
    "print(hod_max)\n",
    "print()\n",
    "hod_min = df_orders['order_hour_of_day'].max()\n",
    "print(hod_min)\n",
    "print()"
   ]
  },
  {
   "cell_type": "code",
   "execution_count": 36,
   "id": "accessory-malaysia",
   "metadata": {
    "id": "accessory-malaysia"
   },
   "outputs": [
    {
     "name": "stdout",
     "output_type": "stream",
     "text": [
      "0\n",
      "\n",
      "6\n"
     ]
    }
   ],
   "source": [
    "dow_max = df_orders['order_dow'].min()\n",
    "print(dow_max)\n",
    "print()\n",
    "dow_min = df_orders['order_dow'].max()\n",
    "print(dow_min)"
   ]
  },
  {
   "cell_type": "markdown",
   "id": "hmR2GNQ6lCsX",
   "metadata": {
    "id": "hmR2GNQ6lCsX"
   },
   "source": [
    "Escribe aquí tus conclusiones: Todos los datos revisados se encuentran en el rango requerido, no se detectan errores"
   ]
  },
  {
   "cell_type": "markdown",
   "id": "84956ae0",
   "metadata": {},
   "source": [
    "<div class=\"alert alert-block alert-success\">\n",
    "<b>Comentario de Reviewer</b> <a class=\"tocSkip\"></a>\n",
    "\n",
    "Ok, correcto. Algo adicional es chequear que estén todos los valores entre 0 y 23 y 0 y 6.\n",
    "</div>"
   ]
  },
  {
   "cell_type": "markdown",
   "id": "a6743a70",
   "metadata": {
    "id": "a6743a70"
   },
   "source": [
    "### [A2] Para cada hora del día, ¿cuántas personas hacen órdenes?"
   ]
  },
  {
   "cell_type": "code",
   "execution_count": 37,
   "id": "a36cca27",
   "metadata": {
    "id": "a36cca27"
   },
   "outputs": [
    {
     "name": "stdout",
     "output_type": "stream",
     "text": [
      "order_hour_of_day\n",
      "0      3180\n",
      "1      1763\n",
      "2       989\n",
      "3       770\n",
      "4       765\n",
      "5      1371\n",
      "6      4215\n",
      "7     13043\n",
      "8     25024\n",
      "9     35896\n",
      "10    40578\n",
      "11    40032\n",
      "12    38034\n",
      "13    39007\n",
      "14    39631\n",
      "15    39789\n",
      "16    38112\n",
      "17    31930\n",
      "18    25510\n",
      "19    19547\n",
      "20    14624\n",
      "21    11019\n",
      "22     8512\n",
      "23     5611\n",
      "Name: user_id, dtype: int64\n",
      "\n"
     ]
    },
    {
     "data": {
      "text/plain": [
       "<AxesSubplot:xlabel='order_hour_of_day', ylabel='number_of_clients'>"
      ]
     },
     "execution_count": 37,
     "metadata": {},
     "output_type": "execute_result"
    },
    {
     "data": {
      "image/png": "[encoded data removed]",
      "text/plain": [
       "<Figure size 432x288 with 1 Axes>"
      ]
     },
     "metadata": {
      "needs_background": "light"
     },
     "output_type": "display_data"
    }
   ],
   "source": [
    "df_clientsbyday = df_orders.groupby(\"order_hour_of_day\").count()[\"user_id\"]\n",
    "print(df_clientsbyday)\n",
    "print()\n",
    "df_clientsbyday.plot(kind= \"bar\",xlabel= \"order_hour_of_day\",ylabel= \"number_of_clients\")"
   ]
  },
  {
   "cell_type": "markdown",
   "id": "11270eed",
   "metadata": {
    "id": "11270eed"
   },
   "source": [
    "Escribe aquí tus conclusiones el gráfico creado indica claramente que las ocmpras se hacer en el día desde las 7 am hasta las 23 horas, existe mayor afluencia de clilentes de 9 am hasta las 4 pm "
   ]
  },
  {
   "cell_type": "markdown",
   "id": "789179e9",
   "metadata": {},
   "source": [
    "<div class=\"alert alert-block alert-success\">\n",
    "<b>Comentario de Reviewer</b> <a class=\"tocSkip\"></a>\n",
    "\n",
    "Correcto\n",
    "</div>"
   ]
  },
  {
   "cell_type": "markdown",
   "id": "documented-command",
   "metadata": {
    "id": "documented-command"
   },
   "source": [
    "### [A3] ¿Qué día de la semana compran víveres las personas?"
   ]
  },
  {
   "cell_type": "code",
   "execution_count": 38,
   "id": "chief-digit",
   "metadata": {
    "id": "chief-digit"
   },
   "outputs": [
    {
     "data": {
      "text/plain": [
       "<AxesSubplot:xlabel='day_of_week', ylabel='number_of_clients'>"
      ]
     },
     "execution_count": 38,
     "metadata": {},
     "output_type": "execute_result"
    },
    {
     "data": {
      "image/png": "[encoded data removed]",
      "text/plain": [
       "<Figure size 432x288 with 1 Axes>"
      ]
     },
     "metadata": {
      "needs_background": "light"
     },
     "output_type": "display_data"
    }
   ],
   "source": [
    "df_clientsbyday.plot(kind= \"bar\",xlabel= \"day_of_week\",ylabel= \"number_of_clients\")"
   ]
  },
  {
   "cell_type": "markdown",
   "id": "dominant-lightning",
   "metadata": {
    "id": "dominant-lightning"
   },
   "source": [
    "Escribe aquí tus conclusiones: Las personas hacen sus compras todos los días, sin embargo se puede observar que el fin de semana existe un mayor volumen de clientes. El fin de semana la alfuencia de clientes aumenta un 25% ya que el gráfico muestra que entre semana, el número de clientes es alrededor de 60k diarios y el fin de semana es 80k diarios"
   ]
  },
  {
   "cell_type": "markdown",
   "id": "dde00a0a",
   "metadata": {},
   "source": [
    "<div class=\"alert alert-block alert-success\">\n",
    "<b>Comentario de Reviewer</b> <a class=\"tocSkip\"></a>\n",
    "\n",
    "Correcto, muy bien\n",
    "</div>"
   ]
  },
  {
   "cell_type": "markdown",
   "id": "cutting-concert",
   "metadata": {
    "id": "cutting-concert"
   },
   "source": [
    "### [A4] ¿Cuánto tiempo esperan las personas hasta hacer otro pedido? Comenta sobre los valores mínimos y máximos."
   ]
  },
  {
   "cell_type": "code",
   "execution_count": 39,
   "id": "c231f523",
   "metadata": {
    "id": "c231f523"
   },
   "outputs": [
    {
     "name": "stdout",
     "output_type": "stream",
     "text": [
      "La media de espera es  11.101813900274362\n",
      "\n",
      "El máximo de espera es  30.0\n",
      "\n",
      "El mínimo de espera es  0.0\n",
      "\n",
      "La mediana de espera es  7.0\n",
      "\n"
     ]
    },
    {
     "data": {
      "text/plain": [
       "array([[<AxesSubplot:title={'center':'days_since_prior_order'}>]],\n",
       "      dtype=object)"
      ]
     },
     "execution_count": 39,
     "metadata": {},
     "output_type": "execute_result"
    },
    {
     "data": {
      "image/png": "[encoded data removed]",
      "text/plain": [
       "<Figure size 432x288 with 1 Axes>"
      ]
     },
     "metadata": {
      "needs_background": "light"
     },
     "output_type": "display_data"
    }
   ],
   "source": [
    "print(\"La media de espera es \", df_orders['days_since_prior_order'].mean())\n",
    "print()\n",
    "print(\"El máximo de espera es \", df_orders['days_since_prior_order'].max())\n",
    "print()\n",
    "print(\"El mínimo de espera es \", df_orders['days_since_prior_order'].min())\n",
    "print()\n",
    "print(\"La mediana de espera es \", df_orders['days_since_prior_order'].median())\n",
    "print()\n",
    "df_orders.hist(column='days_since_prior_order')\n"
   ]
  },
  {
   "cell_type": "markdown",
   "id": "discrete-vertex",
   "metadata": {
    "id": "discrete-vertex"
   },
   "source": [
    "Con los cálculos realizados, se observa que en promedio las personas esperan 11 días para realizar una nueva orden, el mínimo es 0 y el máximo es 30 días. Si se tiene en cuenta la mediana del conjunto de datos de 7 días, se observa que hay una diferencia con el promedio, lo que quiere decir que los datos están influenciados por los extremos. En este caso, la mediana muestra que la espera es de 7 días.\n",
    "El histograma nos da una mejor visión del comportamiento de compra de todos los clientes, la mayoría compran cada 6-7 días y existe un segundo grupo importante que compra cada 30 días."
   ]
  },
  {
   "cell_type": "markdown",
   "id": "2e034350",
   "metadata": {},
   "source": [
    "<div class=\"alert alert-block alert-success\">\n",
    "<b>Comentario de Reviewer</b> <a class=\"tocSkip\"></a>\n",
    "\n",
    "Bien, peor es probable que la distribución está muy cargada a 30 debido a que el sistema no registra más de eso.\n",
    "</div>"
   ]
  },
  {
   "cell_type": "markdown",
   "id": "tight-staff",
   "metadata": {
    "id": "tight-staff"
   },
   "source": [
    "# [B] Intermedio (deben completarse todos para aprobar)\n",
    "\n",
    "1. ¿Existe alguna diferencia entre las distribuciones `'order_hour_of_day'` de los miércoles y los sábados? Traza gráficos de barra de `'order_hour_of_day'` para ambos días en la misma figura y describe las diferencias que observes.\n",
    "2. Grafica la distribución para el número de órdenes que hacen los clientes (es decir, cuántos clientes hicieron solo 1 pedido, cuántos hicieron 2, cuántos 3, y así sucesivamente...).\n",
    "3. ¿Cuáles son los 20 principales productos que se piden con más frecuencia (muestra su identificación y nombre)?"
   ]
  },
  {
   "cell_type": "markdown",
   "id": "packed-classic",
   "metadata": {
    "id": "packed-classic"
   },
   "source": [
    "### [B1] Diferencia entre miércoles y sábados para  `'order_hour_of_day'`. Traza gráficos de barra para los dos días y describe las diferencias que veas."
   ]
  },
  {
   "cell_type": "code",
   "execution_count": 40,
   "id": "d89b8403",
   "metadata": {
    "id": "d89b8403"
   },
   "outputs": [
    {
     "data": {
      "text/plain": [
       "<AxesSubplot:ylabel='Frequency'>"
      ]
     },
     "execution_count": 40,
     "metadata": {},
     "output_type": "execute_result"
    },
    {
     "data": {
      "image/png": "[encoded data removed]",
      "text/plain": [
       "<Figure size 432x288 with 1 Axes>"
      ]
     },
     "metadata": {
      "needs_background": "light"
     },
     "output_type": "display_data"
    }
   ],
   "source": [
    "df_orders[df_orders['order_dow']==3]['order_hour_of_day'].plot(kind=\"hist\", bins=24)\n"
   ]
  },
  {
   "cell_type": "code",
   "execution_count": 41,
   "id": "94e54e8a",
   "metadata": {
    "id": "94e54e8a"
   },
   "outputs": [
    {
     "data": {
      "text/plain": [
       "<AxesSubplot:ylabel='Frequency'>"
      ]
     },
     "execution_count": 41,
     "metadata": {},
     "output_type": "execute_result"
    },
    {
     "data": {
      "image/png": "[encoded data removed]",
      "text/plain": [
       "<Figure size 432x288 with 1 Axes>"
      ]
     },
     "metadata": {
      "needs_background": "light"
     },
     "output_type": "display_data"
    }
   ],
   "source": [
    "df_orders[df_orders['order_dow']==0]['order_hour_of_day'].plot(kind=\"hist\", bins=24, alpha= 0.5)"
   ]
  },
  {
   "cell_type": "code",
   "execution_count": 42,
   "id": "797c90a8",
   "metadata": {
    "id": "797c90a8"
   },
   "outputs": [
    {
     "data": {
      "text/plain": [
       "<function matplotlib.pyplot.show(close=None, block=None)>"
      ]
     },
     "execution_count": 42,
     "metadata": {},
     "output_type": "execute_result"
    },
    {
     "data": {
      "image/png": "[encoded data removed]",
      "text/plain": [
       "<Figure size 432x288 with 1 Axes>"
      ]
     },
     "metadata": {
      "needs_background": "light"
     },
     "output_type": "display_data"
    }
   ],
   "source": [
    "from matplotlib import pyplot as plt\n",
    "df_orders[df_orders['order_dow']==3]['order_hour_of_day'].plot(kind=\"hist\", bins=24)\n",
    "df_orders[df_orders['order_dow']==0]['order_hour_of_day'].plot(kind=\"hist\", bins=24, alpha= 0.5)\n",
    "plt.legend([\"Wednesday\", \"Saturday\"])\n",
    "plt.title(\"Orders on Wednesday vs. orders on Saturday\")\n",
    "plt.xlabel(\"Hour of day\")\n",
    "plt.show"
   ]
  },
  {
   "cell_type": "code",
   "execution_count": null,
   "id": "35bcea30",
   "metadata": {
    "id": "35bcea30"
   },
   "outputs": [],
   "source": []
  },
  {
   "cell_type": "markdown",
   "id": "charitable-congo",
   "metadata": {
    "id": "charitable-congo"
   },
   "source": [
    "Escribe aquí tus conclusiones. El comportamiento de compras a lo largo del día es similar entre semana y fin de semana, sin embargo el volumen de compras es lo que diferencia entre el miercoles (5k órdenes) y sabado (mayor a 7k órdenes)"
   ]
  },
  {
   "cell_type": "markdown",
   "id": "697f4cb4",
   "metadata": {},
   "source": [
    "<div class=\"alert alert-block alert-success\">\n",
    "<b>Comentario de Reviewer</b> <a class=\"tocSkip\"></a>\n",
    "\n",
    "Muy bien con la comparación, pero no olvides el nombre de ambos ejes, título y leyenda en los gráficos.\n",
    "</div>"
   ]
  },
  {
   "cell_type": "markdown",
   "id": "e3891143",
   "metadata": {
    "id": "e3891143"
   },
   "source": [
    "### [B2] ¿Cuál es la distribución para el número de pedidos por cliente?"
   ]
  },
  {
   "cell_type": "code",
   "execution_count": 43,
   "id": "d8c26c23",
   "metadata": {
    "id": "d8c26c23"
   },
   "outputs": [
    {
     "name": "stdout",
     "output_type": "stream",
     "text": [
      "         order_id  order_number  order_dow  order_hour_of_day  \\\n",
      "user_id                                                         \n",
      "2               2             2          2                  2   \n",
      "4               2             2          2                  2   \n",
      "5               1             1          1                  1   \n",
      "6               2             2          2                  2   \n",
      "7               2             2          2                  2   \n",
      "...           ...           ...        ...                ...   \n",
      "206203          1             1          1                  1   \n",
      "206206          7             7          7                  7   \n",
      "206207          5             5          5                  5   \n",
      "206208          9             9          9                  9   \n",
      "206209          2             2          2                  2   \n",
      "\n",
      "         days_since_prior_order  \n",
      "user_id                          \n",
      "2                             1  \n",
      "4                             2  \n",
      "5                             1  \n",
      "6                             1  \n",
      "7                             2  \n",
      "...                         ...  \n",
      "206203                        1  \n",
      "206206                        7  \n",
      "206207                        5  \n",
      "206208                        9  \n",
      "206209                        2  \n",
      "\n",
      "[157437 rows x 5 columns]\n",
      "\n"
     ]
    }
   ],
   "source": [
    "df_clients = df_orders.groupby(\"user_id\").count()\n",
    "print(df_clients)\n",
    "print()\n"
   ]
  },
  {
   "cell_type": "code",
   "execution_count": 44,
   "id": "00e69a66",
   "metadata": {
    "id": "00e69a66"
   },
   "outputs": [
    {
     "name": "stdout",
     "output_type": "stream",
     "text": [
      "28\n"
     ]
    },
    {
     "data": {
      "text/plain": [
       "array([[<AxesSubplot:title={'center':'order_id'}>]], dtype=object)"
      ]
     },
     "execution_count": 44,
     "metadata": {},
     "output_type": "execute_result"
    },
    {
     "data": {
      "image/png": "[encoded data removed]",
      "text/plain": [
       "<Figure size 432x288 with 1 Axes>"
      ]
     },
     "metadata": {
      "needs_background": "light"
     },
     "output_type": "display_data"
    }
   ],
   "source": [
    "print(df_clients[\"order_id\"].max())\n",
    "df_clients.hist(column='order_id', bins=28)"
   ]
  },
  {
   "cell_type": "markdown",
   "id": "d2eff7d5",
   "metadata": {
    "id": "d2eff7d5"
   },
   "source": [
    "Escribe aquí tus conclusiones La mayoría de clientes han realizado 1 pedido, el máximo de pedios que ha realizado un cliente es 28"
   ]
  },
  {
   "cell_type": "markdown",
   "id": "43e3aed6",
   "metadata": {},
   "source": [
    "<div class=\"alert alert-block alert-success\">\n",
    "<b>Comentario de Reviewer</b> <a class=\"tocSkip\"></a>\n",
    "\n",
    "Correcto\n",
    "</div>"
   ]
  },
  {
   "cell_type": "markdown",
   "id": "54a0319c",
   "metadata": {
    "id": "54a0319c"
   },
   "source": [
    "### [B3] ¿Cuáles son los 20 productos más populares (muestra su ID y nombre)?"
   ]
  },
  {
   "cell_type": "code",
   "execution_count": 45,
   "id": "exterior-arizona",
   "metadata": {
    "id": "exterior-arizona",
    "scrolled": false
   },
   "outputs": [
    {
     "name": "stdout",
     "output_type": "stream",
     "text": [
      "            order_id\n",
      "product_id          \n",
      "24852          66050\n",
      "13176          53297\n",
      "21137          37039\n",
      "21903          33971\n",
      "47209          29773\n",
      "47766          24689\n",
      "47626          21495\n",
      "16797          20018\n",
      "26209          19690\n",
      "27845          19600\n",
      "27966          19197\n",
      "22935          15898\n",
      "24964          15292\n",
      "45007          14584\n",
      "39275          13879\n",
      "49683          13675\n",
      "28204          12544\n",
      "5876           12232\n",
      "8277           11993\n",
      "40706          11781\n"
     ]
    }
   ],
   "source": [
    "id_prods = df_orderps.drop(labels=[\"add_to_cart_order\",\"reordered\"], axis=1)\n",
    "df_prod_count = id_prods.groupby(\"product_id\").count()\n",
    "df_popularprods = df_prod_count.sort_values(by=\"order_id\", ascending=False)\n",
    "print(df_popularprods.head(20))"
   ]
  },
  {
   "cell_type": "code",
   "execution_count": 46,
   "id": "universal-facial",
   "metadata": {
    "id": "universal-facial"
   },
   "outputs": [
    {
     "name": "stdout",
     "output_type": "stream",
     "text": [
      "    product_id  order_id              product_name\n",
      "0        24852     66050                    BANANA\n",
      "1        13176     53297    BAG OF ORGANIC BANANAS\n",
      "2        21137     37039      ORGANIC STRAWBERRIES\n",
      "3        21903     33971      ORGANIC BABY SPINACH\n",
      "4        47209     29773      ORGANIC HASS AVOCADO\n",
      "5        47766     24689           ORGANIC AVOCADO\n",
      "6        47626     21495               LARGE LEMON\n",
      "7        16797     20018              STRAWBERRIES\n",
      "8        26209     19690                     LIMES\n",
      "9        27845     19600        ORGANIC WHOLE MILK\n",
      "10       27966     19197       ORGANIC RASPBERRIES\n",
      "11       22935     15898      ORGANIC YELLOW ONION\n",
      "12       24964     15292            ORGANIC GARLIC\n",
      "13       45007     14584          ORGANIC ZUCCHINI\n",
      "14       39275     13879       ORGANIC BLUEBERRIES\n",
      "15       49683     13675            CUCUMBER KIRBY\n",
      "16       28204     12544        ORGANIC FUJI APPLE\n",
      "17        5876     12232             ORGANIC LEMON\n",
      "18        8277     11993  APPLE HONEYCRISP ORGANIC\n",
      "19       40706     11781    ORGANIC GRAPE TOMATOES\n"
     ]
    }
   ],
   "source": [
    "id_name_prods = df_products.drop(labels=[\"aisle_id\",\"department_id\"], axis=1)\n",
    "prodid_prodname = df_popularprods.merge(id_name_prods, on=\"product_id\")\n",
    "print(prodid_prodname.head(20))"
   ]
  },
  {
   "cell_type": "code",
   "execution_count": null,
   "id": "bbcdd20b",
   "metadata": {
    "id": "bbcdd20b"
   },
   "outputs": [],
   "source": []
  },
  {
   "cell_type": "markdown",
   "id": "7df00f47",
   "metadata": {
    "id": "7df00f47"
   },
   "source": [
    "Escribe aquí tus conclusiones Los produtos más populares son las bananas, seguido de otras frutas catalogadas como orgánicas"
   ]
  },
  {
   "cell_type": "markdown",
   "id": "d8fd25fd",
   "metadata": {},
   "source": [
    "<div class=\"alert alert-block alert-success\">\n",
    "<b>Comentario de Reviewer</b> <a class=\"tocSkip\"></a>\n",
    "\n",
    "Correcto\n",
    "</div>"
   ]
  },
  {
   "cell_type": "markdown",
   "id": "gross-theme",
   "metadata": {
    "id": "gross-theme"
   },
   "source": [
    "# [C] Difícil (deben completarse todos para aprobar)\n",
    "\n",
    "1. ¿Cuántos artículos suelen comprar las personas en un pedido? ¿Cómo es la distribución?\n",
    "2. ¿Cuáles son los 20 principales artículos que vuelven a pedirse con mayor frecuencia (muestra sus nombres e IDs de los productos)?\n",
    "3. Para cada producto, ¿cuál es la tasa de repetición del pedido (número de repeticiones de pedido/total de pedidos?\n",
    "4. Para cada cliente, ¿qué proporción de los productos que pidió ya los había pedido? Calcula la tasa de repetición de pedido para cada usuario en lugar de para cada producto.\n",
    "5. ¿Cuáles son los 20 principales artículos que la gente pone primero en sus carritos (muestra las IDs de los productos, sus nombres, y el número de veces en que fueron el primer artículo en añadirse al carrito)?"
   ]
  },
  {
   "cell_type": "markdown",
   "id": "romantic-deposit",
   "metadata": {
    "id": "romantic-deposit"
   },
   "source": [
    "### [C1] ¿Cuántos artículos compran normalmente las personas en un pedido? ¿Cómo es la distribución?"
   ]
  },
  {
   "cell_type": "code",
   "execution_count": 47,
   "id": "virtual-punch",
   "metadata": {
    "id": "virtual-punch"
   },
   "outputs": [
    {
     "name": "stdout",
     "output_type": "stream",
     "text": [
      "          product_id  add_to_cart_order  reordered\n",
      "order_id                                          \n",
      "4                 13                 13         13\n",
      "9                 15                 15         15\n",
      "11                 5                  5          5\n",
      "19                 3                  3          3\n",
      "20                 8                  8          8\n",
      "...              ...                ...        ...\n",
      "3421034           17                 17         17\n",
      "3421053            9                  9          9\n",
      "3421071            5                  5          5\n",
      "3421077            4                  4          4\n",
      "3421079            1                  1          1\n",
      "\n",
      "[450046 rows x 3 columns]\n"
     ]
    }
   ],
   "source": [
    "prods_in_ord=df_orderps.groupby([\"order_id\"]).count()\n",
    "print(prods_in_ord)\n"
   ]
  },
  {
   "cell_type": "code",
   "execution_count": 48,
   "id": "sensitive-breathing",
   "metadata": {
    "id": "sensitive-breathing"
   },
   "outputs": [
    {
     "data": {
      "text/plain": [
       "array([[<AxesSubplot:title={'center':'product_id'}>]], dtype=object)"
      ]
     },
     "execution_count": 48,
     "metadata": {},
     "output_type": "execute_result"
    },
    {
     "data": {
      "image/png": "[encoded data removed]",
      "text/plain": [
       "<Figure size 432x288 with 1 Axes>"
      ]
     },
     "metadata": {
      "needs_background": "light"
     },
     "output_type": "display_data"
    }
   ],
   "source": [
    "prods_in_ord.hist(column=\"product_id\", bins=25)"
   ]
  },
  {
   "cell_type": "code",
   "execution_count": 49,
   "id": "completed-frank",
   "metadata": {
    "id": "completed-frank"
   },
   "outputs": [
    {
     "name": "stdout",
     "output_type": "stream",
     "text": [
      "10.098983215049127\n",
      "\n",
      "8.0\n"
     ]
    }
   ],
   "source": [
    "mean_prods_in_ord=prods_in_ord[\"product_id\"].mean()\n",
    "print(mean_prods_in_ord)\n",
    "print()\n",
    "median_prods_in_ord=prods_in_ord[\"product_id\"].median()\n",
    "print(median_prods_in_ord)"
   ]
  },
  {
   "cell_type": "markdown",
   "id": "designed-mortality",
   "metadata": {
    "id": "designed-mortality"
   },
   "source": [
    "Escribe aquí tus conclusiones: En el gráfico se observa que en su mayoría, el número de productos adquiridos en cada orden se encuentra entre 1 y 5, lo cual concuerda con la mediana obtenida de 8. En promedio se compra 10 productos en cada orden."
   ]
  },
  {
   "cell_type": "markdown",
   "id": "3274ccd4",
   "metadata": {},
   "source": [
    "<div class=\"alert alert-block alert-success\">\n",
    "<b>Comentario de Reviewer</b> <a class=\"tocSkip\"></a>\n",
    "\n",
    "Muy bien, no solo el gráfico es importante sino que también los estadísticos.\n",
    "</div>"
   ]
  },
  {
   "cell_type": "markdown",
   "id": "5e6b5537",
   "metadata": {
    "id": "5e6b5537"
   },
   "source": [
    "### [C2] ¿Cuáles son los 20 principales artículos que vuelven a pedirse con mayor frecuencia (muestra sus nombres e IDs de los productos)?"
   ]
  },
  {
   "cell_type": "code",
   "execution_count": 50,
   "id": "9374e55a",
   "metadata": {
    "id": "9374e55a"
   },
   "outputs": [
    {
     "name": "stdout",
     "output_type": "stream",
     "text": [
      "         product_id  reordered\n",
      "1              1560          1\n",
      "2             26683          1\n",
      "3              8670          1\n",
      "4              1940          1\n",
      "5             21616          1\n",
      "...             ...        ...\n",
      "4544999       24852          1\n",
      "4545000       40600          1\n",
      "4545002       15290          1\n",
      "4545004       47766          1\n",
      "4545005         691          1\n",
      "\n",
      "[2683838 rows x 2 columns]\n"
     ]
    }
   ],
   "source": [
    "prod_reord = df_orderps.drop(labels=[\"add_to_cart_order\",\"order_id\"], axis=1)\n",
    "reordered=prod_reord[(prod_reord[\"reordered\"]==1)]\n",
    "print(reordered)"
   ]
  },
  {
   "cell_type": "code",
   "execution_count": 51,
   "id": "possible-change",
   "metadata": {
    "id": "possible-change",
    "scrolled": true
   },
   "outputs": [
    {
     "name": "stdout",
     "output_type": "stream",
     "text": [
      "            reordered\n",
      "product_id           \n",
      "1                 158\n",
      "3                  31\n",
      "4                  25\n",
      "7                   1\n",
      "8                   6\n",
      "...               ...\n",
      "49690               4\n",
      "49691              31\n",
      "49692               5\n",
      "49693              11\n",
      "49694               3\n",
      "\n",
      "[36228 rows x 1 columns]\n"
     ]
    }
   ],
   "source": [
    "most_reord=reordered.groupby([\"product_id\"]).count()\n",
    "print(most_reord)"
   ]
  },
  {
   "cell_type": "code",
   "execution_count": 52,
   "id": "professional-surfing",
   "metadata": {
    "id": "professional-surfing",
    "scrolled": true
   },
   "outputs": [
    {
     "name": "stdout",
     "output_type": "stream",
     "text": [
      "       product_id  reordered              product_name\n",
      "18104       24852      55763                    BANANA\n",
      "9528        13176      44450    BAG OF ORGANIC BANANAS\n",
      "15368       21137      28639      ORGANIC STRAWBERRIES\n",
      "15936       21903      26233      ORGANIC BABY SPINACH\n",
      "34407       47209      23629      ORGANIC HASS AVOCADO\n",
      "34828       47766      18743           ORGANIC AVOCADO\n",
      "20285       27845      16251        ORGANIC WHOLE MILK\n",
      "34725       47626      15044               LARGE LEMON\n",
      "20375       27966      14748       ORGANIC RASPBERRIES\n",
      "12193       16797      13945              STRAWBERRIES\n",
      "19088       26209      13327                     LIMES\n",
      "16700       22935      11145      ORGANIC YELLOW ONION\n",
      "18186       24964      10411            ORGANIC GARLIC\n",
      "32792       45007      10076          ORGANIC ZUCCHINI\n",
      "36219       49683       9538            CUCUMBER KIRBY\n",
      "20543       28204       8989        ORGANIC FUJI APPLE\n",
      "5978         8277       8836  APPLE HONEYCRISP ORGANIC\n",
      "28607       39275       8799       ORGANIC BLUEBERRIES\n",
      "4267         5876       8412             ORGANIC LEMON\n",
      "35905       49235       8389       ORGANIC HALF & HALF\n"
     ]
    }
   ],
   "source": [
    "most_reord_name = most_reord.merge(id_name_prods, on=\"product_id\").sort_values(by=\"reordered\", ascending=False)\n",
    "print(most_reord_name.head(20))"
   ]
  },
  {
   "cell_type": "markdown",
   "id": "80e70c74",
   "metadata": {
    "id": "80e70c74"
   },
   "source": [
    "Escribe aquí tus conclusiones Similar a los productos más populares, las bananas son el producto que más se recompra"
   ]
  },
  {
   "cell_type": "markdown",
   "id": "ffa76cbb",
   "metadata": {},
   "source": [
    "<div class=\"alert alert-block alert-success\">\n",
    "<b>Comentario de Reviewer</b> <a class=\"tocSkip\"></a>\n",
    "\n",
    "Correcto!\n",
    "</div>"
   ]
  },
  {
   "cell_type": "markdown",
   "id": "9d312b14",
   "metadata": {
    "id": "9d312b14"
   },
   "source": [
    "### [C3] Para cada producto, ¿cuál es la proporción de las veces que se pide y que se vuelve a pedir?"
   ]
  },
  {
   "cell_type": "code",
   "execution_count": 53,
   "id": "8ae9f4b1",
   "metadata": {
    "id": "8ae9f4b1"
   },
   "outputs": [
    {
     "name": "stdout",
     "output_type": "stream",
     "text": [
      "         product_id  reordered\n",
      "0             11440          0\n",
      "11            22963          0\n",
      "13            48520          0\n",
      "18            46692          0\n",
      "21            26209          0\n",
      "...             ...        ...\n",
      "4544995       28849          0\n",
      "4544997       10017          0\n",
      "4545001       10902          0\n",
      "4545003       21914          0\n",
      "4545006       28733          0\n",
      "\n",
      "[1861169 rows x 2 columns]\n"
     ]
    }
   ],
   "source": [
    "not_reordered=prod_reord[(prod_reord[\"reordered\"]==0)]\n",
    "print(not_reordered)"
   ]
  },
  {
   "cell_type": "code",
   "execution_count": 54,
   "id": "103e7fe1",
   "metadata": {
    "id": "103e7fe1"
   },
   "outputs": [
    {
     "name": "stdout",
     "output_type": "stream",
     "text": [
      "            not_reordered\n",
      "product_id               \n",
      "1                     122\n",
      "2                      11\n",
      "3                      11\n",
      "4                      24\n",
      "7                       1\n",
      "...                   ...\n",
      "49690                   1\n",
      "49691                  41\n",
      "49692                   7\n",
      "49693                  14\n",
      "49694                   6\n",
      "\n",
      "[43764 rows x 1 columns]\n"
     ]
    }
   ],
   "source": [
    "most_not_reord=not_reordered.groupby([\"product_id\"]).count()\n",
    "most_not_reord = most_not_reord.rename(columns={\"reordered\": \"not_reordered\"})\n",
    "print(most_not_reord)"
   ]
  },
  {
   "cell_type": "code",
   "execution_count": 55,
   "id": "social-individual",
   "metadata": {
    "id": "social-individual"
   },
   "outputs": [
    {
     "name": "stdout",
     "output_type": "stream",
     "text": [
      "       product_id  reordered  not_reordered      Prop  \\\n",
      "7394        10236       20.0            1.0  0.952381   \n",
      "3974         5470       18.0            1.0  0.947368   \n",
      "6422         8867       17.0            1.0  0.944444   \n",
      "15113       20783       17.0            1.0  0.944444   \n",
      "19699       27041       15.0            1.0  0.937500   \n",
      "16038       22049       14.0            1.0  0.933333   \n",
      "6087         8428       14.0            1.0  0.933333   \n",
      "33171       45523       13.0            1.0  0.928571   \n",
      "9576        13240       13.0            1.0  0.928571   \n",
      "11450       15783       12.0            1.0  0.923077   \n",
      "771          1078       12.0            1.0  0.923077   \n",
      "29506       40507       12.0            1.0  0.923077   \n",
      "27470       37698       11.0            1.0  0.916667   \n",
      "24239       33256       11.0            1.0  0.916667   \n",
      "5367         7423       11.0            1.0  0.916667   \n",
      "28320       38873       11.0            1.0  0.916667   \n",
      "19952       27383       11.0            1.0  0.916667   \n",
      "11699       16134       11.0            1.0  0.916667   \n",
      "32245       44271       11.0            1.0  0.916667   \n",
      "32595       44741       31.0            3.0  0.911765   \n",
      "\n",
      "                                            product_name  \n",
      "7394   FRAGRANCE FREE CLAY WITH NATURAL ODOR ELIMINAT...  \n",
      "3974                                    TEQUILA REPOSADO  \n",
      "6422                            ARTISAN MULTIGRAIN BREAD  \n",
      "15113                         SUPER DETOX ACAI NONI GOJI  \n",
      "19699                            MUSHROOM STEMS & PIECES  \n",
      "16038                    ORGANIC BLUE CORN TORTILA CHIPS  \n",
      "6087                                  FRESH SQUEEZED IPA  \n",
      "33171                  DARK 83% PURE DARK CHOCOLATE BITE  \n",
      "9576                             LICORICE- TWISTS- BLACK  \n",
      "11450                                SMOKED 5 SPICE TOFU  \n",
      "771             FRENCH VANILLA CREME PROTEIN ENERGY BARS  \n",
      "29506                  PEACH MANGO LIQUID WATER ENHANCER  \n",
      "27470                        SLICED PEARS IN HEAVY SYRUP  \n",
      "24239                  NO SALT ADDED STONEGROUND MUSTARD  \n",
      "5367               WHITE CHOCOLATE RASPBERRY PROTEIN BAR  \n",
      "28320                         CALORIE FREE SELTZER WATER  \n",
      "19952  SELECT TENDER CHICKEN WITH CRISP CARROTS & LEA...  \n",
      "11699                             OLIVE OIL SEA SALT BAR  \n",
      "32245                                   CARBONATED WATER  \n",
      "32595                                  HONEY WHOLE WHEAT  \n"
     ]
    }
   ],
   "source": [
    "reo_prop = most_reord.merge(most_not_reord, on=\"product_id\", how=\"outer\")\n",
    "reo_prop [\"Prop\"]= reo_prop[\"reordered\"] / (reo_prop[\"reordered\"]+reo_prop[\"not_reordered\"])\n",
    "reo_prop [\"Prop\"] = reo_prop[\"Prop\"].fillna(0)\n",
    "reo_prop = reo_prop.merge(id_name_prods, on=\"product_id\")\n",
    "reo_prop = reo_prop.sort_values(by=\"Prop\", ascending = False)\n",
    "print(reo_prop.head(20))"
   ]
  },
  {
   "cell_type": "markdown",
   "id": "I10dEIAyldcO",
   "metadata": {
    "id": "I10dEIAyldcO"
   },
   "source": [
    "Escribe aquí tus conclusiones Las proporciones indican que varios productos son factibles de ser reelegidos por los clientes como el FRAGRANCE FREE CLAY o TEQUILA REPOSADO"
   ]
  },
  {
   "cell_type": "markdown",
   "id": "216562a7",
   "metadata": {},
   "source": [
    "<div class=\"alert alert-block alert-danger\">\n",
    "<b>Comentario de Reviewer</b> <a class=\"tocSkip\"></a>\n",
    "\n",
    "La proporción que debes calcular el número de veces que se reordenaron/total de veces que se ordenó, es decir veces reordenado/(veces reordenado + veces no reordenado). Basta con que hagas una media sobre la columna de reordenado en el dataframe completo.\n",
    "</div>"
   ]
  },
  {
   "cell_type": "markdown",
   "id": "2b7d1b04",
   "metadata": {},
   "source": [
    "<div class=\"alert alert-block alert-success\">\n",
    "<b>Comentario de Reviewer v2</b> <a class=\"tocSkip\"></a>\n",
    "\n",
    "Bien, correcto \n",
    "</div>"
   ]
  },
  {
   "cell_type": "markdown",
   "id": "subject-boxing",
   "metadata": {
    "id": "subject-boxing"
   },
   "source": [
    "### [C4] Para cada cliente, ¿qué proporción de sus productos ya los había pedido?"
   ]
  },
  {
   "cell_type": "code",
   "execution_count": 56,
   "id": "medical-couple",
   "metadata": {
    "id": "medical-couple",
    "scrolled": true
   },
   "outputs": [
    {
     "name": "stdout",
     "output_type": "stream",
     "text": [
      "         order_id  product_id  reordered  user_id\n",
      "1         2141543     31869.0        1.0    58454\n",
      "2         2141543     30233.0        1.0    58454\n",
      "3         2141543     27966.0        1.0    58454\n",
      "4         2141543     13176.0        1.0    58454\n",
      "7         2141543      9825.0        1.0    58454\n",
      "...           ...         ...        ...      ...\n",
      "4545002   1790509     43739.0        1.0    60894\n",
      "4545003   1274005     38275.0        1.0    32958\n",
      "4545004    812418     46149.0        1.0   130466\n",
      "4545005   2666881       196.0        1.0    33946\n",
      "4545006   1461911     33198.0        1.0    54019\n",
      "\n",
      "[2683838 rows x 4 columns]\n",
      "\n",
      "         order_id  product_id  reordered  user_id\n",
      "0         2141543     11440.0        0.0    58454\n",
      "5         2141543     31263.0        0.0    58454\n",
      "6         2141543     31471.0        0.0    58454\n",
      "12        2141543      2447.0        0.0    58454\n",
      "19        2141543     32981.0        0.0    58454\n",
      "...           ...         ...        ...      ...\n",
      "4544992   2706564     45004.0        0.0   141417\n",
      "4544996   3138686     17316.0        0.0   161414\n",
      "4544999   2086930     18638.0        0.0    67470\n",
      "4545000   2027086     21582.0        0.0   141575\n",
      "4545001   1034058         1.0        0.0   156624\n",
      "\n",
      "[1861169 rows x 4 columns]\n"
     ]
    }
   ],
   "source": [
    "user_order = df_orders.drop(labels=[\"order_number\", \"order_dow\", \"order_hour_of_day\", \"days_since_prior_order\" ], axis=1)\n",
    "prod_reor = df_orderps.drop(labels=[\"add_to_cart_order\"], axis=1)\n",
    "id_prod_reor = prod_reor.merge(user_order, on=\"order_id\", how=\"outer\")\n",
    "id_prod_reor.dropna(inplace=True)\n",
    "#print(id_prod_reor)\n",
    "\n",
    "prods_reor = id_prod_reor[(id_prod_reor[\"reordered\"] == 1)]\n",
    "print(prods_reor)\n",
    "print()\n",
    "prods_not_reor = id_prod_reor[(id_prod_reor[\"reordered\"] == 0)]\n",
    "print(prods_not_reor)"
   ]
  },
  {
   "cell_type": "code",
   "execution_count": 57,
   "id": "8892e4b4",
   "metadata": {
    "id": "8892e4b4"
   },
   "outputs": [
    {
     "name": "stdout",
     "output_type": "stream",
     "text": [
      "\n",
      "\n",
      "         reordered  not_reordered      Prop\n",
      "user_id                                    \n",
      "143831       136.0            1.0  0.992701\n",
      "196748       115.0            1.0  0.991379\n",
      "5588         106.0            1.0  0.990654\n",
      "4368          91.0            1.0  0.989130\n",
      "113113        88.0            1.0  0.988764\n",
      "142654        86.0            1.0  0.988506\n",
      "11839         78.0            1.0  0.987342\n",
      "177643        77.0            1.0  0.987179\n",
      "26308         77.0            1.0  0.987179\n",
      "82679         76.0            1.0  0.987013\n"
     ]
    }
   ],
   "source": [
    "numberprod_reor= prods_reor.groupby([\"user_id\"]).count()\n",
    "print()\n",
    "numberprod_notreor= prods_not_reor.groupby([\"user_id\"]).count()\n",
    "numberprod_notreor = numberprod_notreor.rename(columns={\"reordered\": \"not_reordered\"})\n",
    "print()\n",
    "merged = numberprod_reor.merge(numberprod_notreor, on=\"user_id\", how= \"outer\")\n",
    "merged = merged.drop(labels=[\"order_id_x\", \"order_id_y\", \"product_id_x\", \"product_id_y\" ], axis=1)\n",
    "\n",
    "merged [\"Prop\"]= merged[\"reordered\"] / (merged[\"reordered\"] +merged[\"not_reordered\"])\n",
    "merged [\"Prop\"] = merged[\"Prop\"].fillna(0)\n",
    "merged = merged.sort_values(by=\"Prop\", ascending = False)\n",
    "print(merged.head(10))\n",
    "\n"
   ]
  },
  {
   "cell_type": "markdown",
   "id": "BgJSvXDsleXz",
   "metadata": {
    "id": "BgJSvXDsleXz"
   },
   "source": [
    "Escribe aquí tus conclusiones Elcomprtamiento de compra de varios clientes es repetitivo, compran los mismos productos"
   ]
  },
  {
   "cell_type": "markdown",
   "id": "f2d1a742",
   "metadata": {},
   "source": [
    "<div class=\"alert alert-block alert-danger\">\n",
    "<b>Comentario de Reviewer</b> <a class=\"tocSkip\"></a>\n",
    "\n",
    "Mismo comentario anterior\n",
    "</div>"
   ]
  },
  {
   "cell_type": "markdown",
   "id": "a60b4f12",
   "metadata": {},
   "source": [
    "<div class=\"alert alert-block alert-success\">\n",
    "<b>Comentario de Reviewer v3</b> <a class=\"tocSkip\"></a>\n",
    "\n",
    "Bien, corregido!\n",
    "</div>"
   ]
  },
  {
   "cell_type": "markdown",
   "id": "92d35137",
   "metadata": {
    "id": "92d35137"
   },
   "source": [
    "### [C5] ¿Cuáles son los 20 principales artículos que las personas ponen primero en sus carritos?"
   ]
  },
  {
   "cell_type": "code",
   "execution_count": 58,
   "id": "0ae57274",
   "metadata": {
    "id": "0ae57274",
    "scrolled": true
   },
   "outputs": [
    {
     "name": "stdout",
     "output_type": "stream",
     "text": [
      "         order_id  product_id  add_to_cart_order  reordered  user_id\n",
      "14        2141543       13166                  1          1    58454\n",
      "20         567889        1560                  1          1   129474\n",
      "46        2261212       26683                  1          1    47476\n",
      "83         491251       20876                  1          1   134505\n",
      "111       2571142       14174                  1          0   155995\n",
      "...           ...         ...                ...        ...      ...\n",
      "4545002   1790509       43739                  1          1    60894\n",
      "4545003   1274005       38275                  1          1    32958\n",
      "4545004    812418       46149                  1          1   130466\n",
      "4545005   2666881         196                  1          1    33946\n",
      "4545006   1461911       33198                  1          1    54019\n",
      "\n",
      "[450046 rows x 5 columns]\n"
     ]
    }
   ],
   "source": [
    "prim_atc = df_orderps.merge(user_order, on=\"order_id\")\n",
    "prim_atc = prim_atc[(prim_atc[\"add_to_cart_order\"]==1)]\n",
    "print(prim_atc)"
   ]
  },
  {
   "cell_type": "markdown",
   "id": "890c6588",
   "metadata": {
    "id": "forty-netherlands",
    "scrolled": true
   },
   "source": []
  },
  {
   "cell_type": "code",
   "execution_count": 59,
   "id": "08e41ec2",
   "metadata": {
    "id": "08e41ec2"
   },
   "outputs": [
    {
     "name": "stdout",
     "output_type": "stream",
     "text": [
      "       product_id  add_to_cart_order                 product_name\n",
      "13414       24852              15562                       BANANA\n",
      "7127        13176              11026       BAG OF ORGANIC BANANAS\n",
      "15028       27845               4363           ORGANIC WHOLE MILK\n",
      "11384       21137               3946         ORGANIC STRAWBERRIES\n",
      "25439       47209               3390         ORGANIC HASS AVOCADO\n",
      "11786       21903               3336         ORGANIC BABY SPINACH\n",
      "25732       47766               3044              ORGANIC AVOCADO\n",
      "10622       19660               2336                 SPRING WATER\n",
      "9050        16797               2308                 STRAWBERRIES\n",
      "15102       27966               2024          ORGANIC RASPBERRIES\n",
      "24024       44632               1914   SPARKLING WATER GRAPEFRUIT\n",
      "26519       49235               1797          ORGANIC HALF & HALF\n",
      "25658       47626               1737                  LARGE LEMON\n",
      "115           196               1733                         SODA\n",
      "20853       38689               1397     ORGANIC REDUCED FAT MILK\n",
      "14158       26209               1370                        LIMES\n",
      "6660        12341               1340                HASS AVOCADOS\n",
      "3153         5785               1310  ORGANIC REDUCED FAT 2% MILK\n",
      "14639       27086               1309                  HALF & HALF\n",
      "23335       43352               1246                  RASPBERRIES\n"
     ]
    }
   ],
   "source": [
    "primprod_atc = prim_atc.groupby([\"product_id\"]).count()\n",
    "primprod_atc = primprod_atc.drop(labels=[\"order_id\", \"reordered\", \"user_id\" ], axis=1)\n",
    "primprod_atc = primprod_atc.merge(id_name_prods, on=\"product_id\").sort_values(by=\"add_to_cart_order\", ascending=False)\n",
    "print(primprod_atc.head(20))"
   ]
  },
  {
   "cell_type": "markdown",
   "id": "28ce9872",
   "metadata": {
    "id": "28ce9872"
   },
   "source": [
    "Escribe aquí tus conclusiones. Se observa que los clientes compran frecuentemente por la necesidad de adquirir bananas principalmnete"
   ]
  },
  {
   "cell_type": "markdown",
   "id": "56ded31f",
   "metadata": {},
   "source": [
    "<div class=\"alert alert-block alert-success\">\n",
    "<b>Comentario de Reviewer</b> <a class=\"tocSkip\"></a>\n",
    "\n",
    "Correcto!\n",
    "</div>"
   ]
  },
  {
   "cell_type": "markdown",
   "id": "uITbFCEoDosC",
   "metadata": {
    "id": "uITbFCEoDosC"
   },
   "source": [
    "### Conclusion general del proyecto:"
   ]
  },
  {
   "cell_type": "code",
   "execution_count": 60,
   "id": "Nk-4GS7mDwqY",
   "metadata": {
    "id": "Nk-4GS7mDwqY"
   },
   "outputs": [],
   "source": [
    "##Se ha tratado de conseguir pistas acerca del comportamiento de los clientes atraves de los datos recolectados, sabemos ahora que los clientes compran entre las 9 y las 16h, los productos favoritos y recurrentes son las bananas y frutas orgánicas, muchos de ellos realizan recompras, etc. "
   ]
  },
  {
   "cell_type": "code",
   "execution_count": null,
   "id": "575b18d6",
   "metadata": {},
   "outputs": [],
   "source": []
  }
 ],
 "metadata": {
  "colab": {
   "provenance": []
  },
  "kernelspec": {
   "display_name": "Python 3 (ipykernel)",
   "language": "python",
   "name": "python3"
  },
  "language_info": {
   "codemirror_mode": {
    "name": "ipython",
    "version": 3
   },
   "file_extension": ".py",
   "mimetype": "text/x-python",
   "name": "python",
   "nbconvert_exporter": "python",
   "pygments_lexer": "ipython3",
   "version": "3.9.19"
  },
  "toc": {
   "base_numbering": 1,
   "nav_menu": {},
   "number_sections": true,
   "sideBar": true,
   "skip_h1_title": true,
   "title_cell": "Table of Contents",
   "title_sidebar": "Contents",
   "toc_cell": false,
   "toc_position": {},
   "toc_section_display": true,
   "toc_window_display": false
  },
  "vscode": {
   "interpreter": {
    "hash": "01a7be9ec63e704a62cefc5fe7a4756944464ee731be31632bdf42a4cb4688cf"
   }
  }
 },
 "nbformat": 4,
 "nbformat_minor": 5
}
