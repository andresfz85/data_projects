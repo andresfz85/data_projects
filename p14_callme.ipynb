{
 "cells": [
  {
   "cell_type": "markdown",
   "metadata": {},
   "source": [
    "Hola &#x1F600;\n",
    "\n",
    "Soy **Hesus Garcia**  como \"Jesús\" pero con H. Sé que puede ser confuso al principio, pero una vez que lo recuerdes, ¡nunca lo olvidarás! &#x1F31D;\t. Como revisor de código de Practicum, estoy emocionado de examinar tus proyectos y ayudarte a mejorar tus habilidades en programación. si has cometido algún error, no te preocupes, pues ¡estoy aquí para ayudarte a corregirlo y hacer que tu código brille! &#x1F31F;. Si encuentro algún detalle en tu código, te lo señalaré para que lo corrijas, ya que mi objetivo es ayudarte a prepararte para un ambiente de trabajo real, donde el líder de tu equipo actuaría de la misma manera. Si no puedes solucionar el problema, te proporcionaré más información en la próxima oportunidad. Cuando encuentres un comentario,  **por favor, no los muevas, no los modifiques ni los borres**. \n",
    "\n",
    "Revisaré cuidadosamente todas las implementaciones que has realizado para cumplir con los requisitos y te proporcionaré mis comentarios de la siguiente manera:\n",
    "\n",
    "\n",
    "<div class=\"alert alert-block alert-success\">\n",
    "<b>Comentario del revisor</b> <a class=“tocSkip”></a>\n",
    "Si todo está perfecto.\n",
    "</div>\n",
    "\n",
    "<div class=\"alert alert-block alert-warning\">\n",
    "<b>Comentario del revisor</b> <a class=“tocSkip”></a>\n",
    "Si tu código está bien pero se puede mejorar o hay algún detalle que le hace falta.\n",
    "</div>\n",
    "\n",
    "<div class=\"alert alert-block alert-danger\">\n",
    "<b>Comentario del revisor</b> <a class=“tocSkip”></a>\n",
    "Si de pronto hace falta algo o existe algún problema con tu código o conclusiones.\n",
    "</div>\n",
    "\n",
    "Puedes responderme de esta forma:\n",
    "<div class=\"alert alert-block alert-info\">\n",
    "<b>Respuesta del estudiante</b> <a class=“tocSkip”></a>\n",
    "</div>\n",
    "\n",
    "</br>\n",
    "\n",
    "**¡Empecemos!**  &#x1F680;"
   ]
  },
  {
   "cell_type": "markdown",
   "metadata": {},
   "source": [
    "# Proyecto Final: Telecomunicaciones: identificar operadores ineficaces\n",
    "\n",
    "## Objetivo\n",
    "\n",
    "El servicio de telefonía virtual CallMeMaybe está desarrollando una nueva función que brindará a los supervisores y las supervisores información sobre los operadores menos eficaces. Se considera que un operador es ineficaz si tiene una gran cantidad de llamadas entrantes perdidas (internas y externas) y un tiempo de espera prolongado para las llamadas entrantes. Además, si se supone que un operador debe realizar llamadas salientes, un número reducido de ellas también será un signo de ineficacia.\n",
    "\n",
    "\n",
    "\n",
    "### Descripción de los datos\n",
    "\n",
    "Los datasets contienen información sobre el uso del servicio de telefonía virtual CallMeMaybe. Sus clientes son organizaciones que necesitan distribuir gran cantidad de llamadas entrantes entre varios operadores, o realizar llamadas salientes a través de sus operadores. Los operadores también pueden realizar llamadas internas para comunicarse entre ellos. Estas llamadas se realizan a través de la red de CallMeMaybe.\n",
    "\n",
    "El dataset comprimido `telecom_dataset_us.csv` contiene las siguientes columnas:\n",
    "\n",
    "- `user_id`: ID de la cuenta de cliente\n",
    "- `date`: fecha en la que se recuperaron las estadísticas\n",
    "- `direction`: \"dirección\" de llamada (`out` para saliente, `in` para entrante)\n",
    "- `internal`: si la llamada fue interna (entre los operadores de un cliente o clienta)\n",
    "- `operator_id`: identificador del operador\n",
    "- `is_missed_call`: si fue una llamada perdida\n",
    "- `calls_count`: número de llamadas\n",
    "- `call_duration`: duración de la llamada (sin incluir el tiempo de espera)\n",
    "- `total_call_duration`: duración de la llamada (incluido el tiempo de espera)\n",
    "\n",
    " \n",
    "\n",
    "El conjunto de datos `telecom_clients_us.csv` tiene las siguientes columnas:\n",
    "\n",
    "- `user_id`: ID de usuario/a\n",
    "- `tariff_plan`: tarifa actual de la clientela\n",
    "- `date_start`: fecha de registro de la clientela\n",
    "\n",
    "<div class=\"alert alert-block alert-success\">\n",
    "<b>Comentario del revisor</b> <a class=\"tocSkip\"></a>\n",
    "Estimado/a estudiante,\n",
    "Tu proyecto sobre la identificación de operadores ineficaces para CallMeMaybe muestra un análisis detallado y bien estructurado. Aquí están mis observaciones:\n",
    "Puntos fuertes:\n",
    "\n",
    "Excelente preparación y limpieza de datos, incluyendo el manejo de duplicados y valores nulos.\n",
    "Buen uso de visualizaciones para explorar la distribución de los datos.\n",
    "Análisis detallado de los tres criterios de ineficacia: llamadas perdidas, tiempo de espera y llamadas salientes.\n",
    "Uso apropiado de pruebas estadísticas para comparar las diferentes métricas.\n",
    "Conclusiones claras y recomendaciones basadas en el análisis.\n",
    "\n",
    "Áreas de mejora:\n",
    "\n",
    "Considera profundizar en el análisis de las causas subyacentes de la ineficacia de los operadores.\n",
    "Podrías explorar la relación entre las diferentes métricas de ineficacia utilizando análisis de correlación.\n",
    "Sería interesante ver un análisis de cómo la ineficacia varía según la tarifa del cliente o la fecha de registro.\n",
    "\n",
    "El dashboard en Tableau y la presentación son excelentes complementos a tu análisis. Proporcionan una visualización clara de tus hallazgos y facilitarán la comunicación de tus resultados a los stakeholders.\n",
    "En general, has realizado un trabajo sólido que proporciona insights valiosos para CallMeMaybe. Tus recomendaciones sobre reentrenamiento o posible reemplazo de operadores ineficaces están bien fundamentadas en los datos.\n",
    "Sigue adelante con tu excelente trabajo analítico.\n",
    "</div>\n",
    "\n",
    "## Lleva a cabo el análisis exploratorio de datos\n",
    "\n",
    "Haz una lista de 5 a 10 fuentes (documentación, artículos, etc) que usaste mientras trabajabas en el proyecto. Brinda explicaciones breves sobre las preguntas que cada fuente te ayudó a responder. Prepara una presentación con tus conclusiones. Puedes usar cualquier herramienta que quieras para hacer la presentación, pero debes enviarla en PDF. Coloca el enlace en el cuerpo del proyecto principal."
   ]
  },
  {
   "cell_type": "markdown",
   "metadata": {},
   "source": [
    "<div class=\"alert alert-block alert-success\">\n",
    "<b>Comentario del revisor</b> <a class=“tocSkip”></a>\n",
    "Me parece genial que hayas incluido una tabla de contenidos en tu documento, esto facilitará la navegación y comprensión de los temas que estás tratando. ¡Sigue así!</div>\n",
    "</div>\n"
   ]
  },
  {
   "cell_type": "code",
   "execution_count": 1,
   "metadata": {},
   "outputs": [],
   "source": [
    "#importcion librerias\n",
    "import pandas as pd\n",
    "import matplotlib.pyplot as plt\n",
    "import numpy as np\n",
    "import seaborn as sns\n",
    "from scipy import stats as st\n",
    "import scipy.integrate"
   ]
  },
  {
   "cell_type": "code",
   "execution_count": 2,
   "metadata": {},
   "outputs": [
    {
     "name": "stdout",
     "output_type": "stream",
     "text": [
      "<class 'pandas.core.frame.DataFrame'>\n",
      "RangeIndex: 732 entries, 0 to 731\n",
      "Data columns (total 3 columns):\n",
      " #   Column       Non-Null Count  Dtype \n",
      "---  ------       --------------  ----- \n",
      " 0   user_id      732 non-null    int64 \n",
      " 1   tariff_plan  732 non-null    object\n",
      " 2   date_start   732 non-null    object\n",
      "dtypes: int64(1), object(2)\n",
      "memory usage: 17.3+ KB\n",
      "     user_id tariff_plan  date_start\n",
      "0     166713           A  2019-08-15\n",
      "1     166901           A  2019-08-23\n",
      "2     168527           A  2019-10-29\n",
      "3     167097           A  2019-09-01\n",
      "4     168193           A  2019-10-16\n",
      "..       ...         ...         ...\n",
      "727   166554           B  2019-08-08\n",
      "728   166911           B  2019-08-23\n",
      "729   167012           B  2019-08-28\n",
      "730   166867           B  2019-08-22\n",
      "731   166565           B  2019-08-08\n",
      "\n",
      "[732 rows x 3 columns]\n"
     ]
    }
   ],
   "source": [
    "clients = pd.read_csv('/datasets/telecom_clients_us.csv')\n",
    "clients.info()\n",
    "print(clients)"
   ]
  },
  {
   "cell_type": "code",
   "execution_count": 3,
   "metadata": {},
   "outputs": [
    {
     "name": "stdout",
     "output_type": "stream",
     "text": [
      "<class 'pandas.core.frame.DataFrame'>\n",
      "RangeIndex: 53902 entries, 0 to 53901\n",
      "Data columns (total 9 columns):\n",
      " #   Column               Non-Null Count  Dtype  \n",
      "---  ------               --------------  -----  \n",
      " 0   user_id              53902 non-null  int64  \n",
      " 1   date                 53902 non-null  object \n",
      " 2   direction            53902 non-null  object \n",
      " 3   internal             53785 non-null  object \n",
      " 4   operator_id          45730 non-null  float64\n",
      " 5   is_missed_call       53902 non-null  bool   \n",
      " 6   calls_count          53902 non-null  int64  \n",
      " 7   call_duration        53902 non-null  int64  \n",
      " 8   total_call_duration  53902 non-null  int64  \n",
      "dtypes: bool(1), float64(1), int64(4), object(3)\n",
      "memory usage: 3.3+ MB\n"
     ]
    },
    {
     "data": {
      "text/html": [
       "<div>\n",
       "<style scoped>\n",
       "    .dataframe tbody tr th:only-of-type {\n",
       "        vertical-align: middle;\n",
       "    }\n",
       "\n",
       "    .dataframe tbody tr th {\n",
       "        vertical-align: top;\n",
       "    }\n",
       "\n",
       "    .dataframe thead th {\n",
       "        text-align: right;\n",
       "    }\n",
       "</style>\n",
       "<table border=\"1\" class=\"dataframe\">\n",
       "  <thead>\n",
       "    <tr style=\"text-align: right;\">\n",
       "      <th></th>\n",
       "      <th>user_id</th>\n",
       "      <th>date</th>\n",
       "      <th>direction</th>\n",
       "      <th>internal</th>\n",
       "      <th>operator_id</th>\n",
       "      <th>is_missed_call</th>\n",
       "      <th>calls_count</th>\n",
       "      <th>call_duration</th>\n",
       "      <th>total_call_duration</th>\n",
       "    </tr>\n",
       "  </thead>\n",
       "  <tbody>\n",
       "    <tr>\n",
       "      <th>16121</th>\n",
       "      <td>166916</td>\n",
       "      <td>2019-09-27 00:00:00+03:00</td>\n",
       "      <td>out</td>\n",
       "      <td>False</td>\n",
       "      <td>906396.0</td>\n",
       "      <td>False</td>\n",
       "      <td>2</td>\n",
       "      <td>183</td>\n",
       "      <td>206</td>\n",
       "    </tr>\n",
       "    <tr>\n",
       "      <th>51724</th>\n",
       "      <td>168336</td>\n",
       "      <td>2019-11-19 00:00:00+03:00</td>\n",
       "      <td>in</td>\n",
       "      <td>False</td>\n",
       "      <td>958416.0</td>\n",
       "      <td>False</td>\n",
       "      <td>1</td>\n",
       "      <td>7</td>\n",
       "      <td>21</td>\n",
       "    </tr>\n",
       "    <tr>\n",
       "      <th>424</th>\n",
       "      <td>166377</td>\n",
       "      <td>2019-10-29 00:00:00+03:00</td>\n",
       "      <td>out</td>\n",
       "      <td>False</td>\n",
       "      <td>880028.0</td>\n",
       "      <td>False</td>\n",
       "      <td>33</td>\n",
       "      <td>2036</td>\n",
       "      <td>2388</td>\n",
       "    </tr>\n",
       "    <tr>\n",
       "      <th>8080</th>\n",
       "      <td>166658</td>\n",
       "      <td>2019-08-28 00:00:00+03:00</td>\n",
       "      <td>in</td>\n",
       "      <td>False</td>\n",
       "      <td>890406.0</td>\n",
       "      <td>False</td>\n",
       "      <td>5</td>\n",
       "      <td>2890</td>\n",
       "      <td>2931</td>\n",
       "    </tr>\n",
       "    <tr>\n",
       "      <th>41813</th>\n",
       "      <td>167888</td>\n",
       "      <td>2019-11-19 00:00:00+03:00</td>\n",
       "      <td>out</td>\n",
       "      <td>False</td>\n",
       "      <td>928886.0</td>\n",
       "      <td>True</td>\n",
       "      <td>1</td>\n",
       "      <td>0</td>\n",
       "      <td>48</td>\n",
       "    </tr>\n",
       "    <tr>\n",
       "      <th>6782</th>\n",
       "      <td>166582</td>\n",
       "      <td>2019-09-06 00:00:00+03:00</td>\n",
       "      <td>in</td>\n",
       "      <td>False</td>\n",
       "      <td>885890.0</td>\n",
       "      <td>True</td>\n",
       "      <td>2</td>\n",
       "      <td>0</td>\n",
       "      <td>26</td>\n",
       "    </tr>\n",
       "    <tr>\n",
       "      <th>45379</th>\n",
       "      <td>168062</td>\n",
       "      <td>2019-11-22 00:00:00+03:00</td>\n",
       "      <td>out</td>\n",
       "      <td>True</td>\n",
       "      <td>952392.0</td>\n",
       "      <td>True</td>\n",
       "      <td>1</td>\n",
       "      <td>0</td>\n",
       "      <td>10</td>\n",
       "    </tr>\n",
       "    <tr>\n",
       "      <th>7229</th>\n",
       "      <td>166582</td>\n",
       "      <td>2019-10-23 00:00:00+03:00</td>\n",
       "      <td>out</td>\n",
       "      <td>False</td>\n",
       "      <td>925922.0</td>\n",
       "      <td>False</td>\n",
       "      <td>1</td>\n",
       "      <td>900</td>\n",
       "      <td>915</td>\n",
       "    </tr>\n",
       "    <tr>\n",
       "      <th>43683</th>\n",
       "      <td>168018</td>\n",
       "      <td>2019-10-24 00:00:00+03:00</td>\n",
       "      <td>out</td>\n",
       "      <td>False</td>\n",
       "      <td>945894.0</td>\n",
       "      <td>False</td>\n",
       "      <td>5</td>\n",
       "      <td>89</td>\n",
       "      <td>163</td>\n",
       "    </tr>\n",
       "    <tr>\n",
       "      <th>27064</th>\n",
       "      <td>167172</td>\n",
       "      <td>2019-10-29 00:00:00+03:00</td>\n",
       "      <td>out</td>\n",
       "      <td>False</td>\n",
       "      <td>929228.0</td>\n",
       "      <td>False</td>\n",
       "      <td>1</td>\n",
       "      <td>38</td>\n",
       "      <td>47</td>\n",
       "    </tr>\n",
       "  </tbody>\n",
       "</table>\n",
       "</div>"
      ],
      "text/plain": [
       "       user_id                       date direction internal  operator_id  \\\n",
       "16121   166916  2019-09-27 00:00:00+03:00       out    False     906396.0   \n",
       "51724   168336  2019-11-19 00:00:00+03:00        in    False     958416.0   \n",
       "424     166377  2019-10-29 00:00:00+03:00       out    False     880028.0   \n",
       "8080    166658  2019-08-28 00:00:00+03:00        in    False     890406.0   \n",
       "41813   167888  2019-11-19 00:00:00+03:00       out    False     928886.0   \n",
       "6782    166582  2019-09-06 00:00:00+03:00        in    False     885890.0   \n",
       "45379   168062  2019-11-22 00:00:00+03:00       out     True     952392.0   \n",
       "7229    166582  2019-10-23 00:00:00+03:00       out    False     925922.0   \n",
       "43683   168018  2019-10-24 00:00:00+03:00       out    False     945894.0   \n",
       "27064   167172  2019-10-29 00:00:00+03:00       out    False     929228.0   \n",
       "\n",
       "       is_missed_call  calls_count  call_duration  total_call_duration  \n",
       "16121           False            2            183                  206  \n",
       "51724           False            1              7                   21  \n",
       "424             False           33           2036                 2388  \n",
       "8080            False            5           2890                 2931  \n",
       "41813            True            1              0                   48  \n",
       "6782             True            2              0                   26  \n",
       "45379            True            1              0                   10  \n",
       "7229            False            1            900                  915  \n",
       "43683           False            5             89                  163  \n",
       "27064           False            1             38                   47  "
      ]
     },
     "execution_count": 3,
     "metadata": {},
     "output_type": "execute_result"
    }
   ],
   "source": [
    "dataset = pd.read_csv('/datasets/telecom_dataset_us.csv')\n",
    "dataset.info()\n",
    "dataset.sample(10)"
   ]
  },
  {
   "cell_type": "code",
   "execution_count": 4,
   "metadata": {},
   "outputs": [
    {
     "name": "stdout",
     "output_type": "stream",
     "text": [
      "El número de datos duplicados en dataset es  4900\n",
      "<class 'pandas.core.frame.DataFrame'>\n",
      "Int64Index: 49002 entries, 0 to 53901\n",
      "Data columns (total 9 columns):\n",
      " #   Column               Non-Null Count  Dtype  \n",
      "---  ------               --------------  -----  \n",
      " 0   user_id              49002 non-null  int64  \n",
      " 1   date                 49002 non-null  object \n",
      " 2   direction            49002 non-null  object \n",
      " 3   internal             48892 non-null  object \n",
      " 4   operator_id          41546 non-null  float64\n",
      " 5   is_missed_call       49002 non-null  bool   \n",
      " 6   calls_count          49002 non-null  int64  \n",
      " 7   call_duration        49002 non-null  int64  \n",
      " 8   total_call_duration  49002 non-null  int64  \n",
      "dtypes: bool(1), float64(1), int64(4), object(3)\n",
      "memory usage: 10.4 MB\n"
     ]
    }
   ],
   "source": [
    "#revisión de datos duplicados\n",
    "print(\"El número de datos duplicados en dataset es \", dataset.duplicated().sum())\n",
    "dataset.drop_duplicates(inplace=True)\n",
    "dataset.info(memory_usage = 'deep')"
   ]
  },
  {
   "cell_type": "code",
   "execution_count": 5,
   "metadata": {},
   "outputs": [
    {
     "name": "stdout",
     "output_type": "stream",
     "text": [
      "El número de datos duplicados en clients es  0\n",
      "<class 'pandas.core.frame.DataFrame'>\n",
      "Int64Index: 732 entries, 0 to 731\n",
      "Data columns (total 3 columns):\n",
      " #   Column       Non-Null Count  Dtype \n",
      "---  ------       --------------  ----- \n",
      " 0   user_id      732 non-null    int64 \n",
      " 1   tariff_plan  732 non-null    object\n",
      " 2   date_start   732 non-null    object\n",
      "dtypes: int64(1), object(2)\n",
      "memory usage: 100.8 KB\n"
     ]
    }
   ],
   "source": [
    "#revisión de datos duplicados\n",
    "print(\"El número de datos duplicados en clients es \", clients.duplicated().sum())\n",
    "clients.drop_duplicates(inplace=True)\n",
    "clients.info(memory_usage = 'deep')"
   ]
  },
  {
   "cell_type": "code",
   "execution_count": 6,
   "metadata": {},
   "outputs": [
    {
     "name": "stdout",
     "output_type": "stream",
     "text": [
      "El número de datos ausentes en dataset:  user_id                   0\n",
      "date                      0\n",
      "direction                 0\n",
      "internal                110\n",
      "operator_id            7456\n",
      "is_missed_call            0\n",
      "calls_count               0\n",
      "call_duration             0\n",
      "total_call_duration       0\n",
      "dtype: int64\n",
      "El número de datos ausentes en dataset:  user_id                0\n",
      "date                   0\n",
      "direction              0\n",
      "internal               0\n",
      "operator_id            0\n",
      "is_missed_call         0\n",
      "calls_count            0\n",
      "call_duration          0\n",
      "total_call_duration    0\n",
      "dtype: int64\n",
      "<class 'pandas.core.frame.DataFrame'>\n",
      "Int64Index: 41491 entries, 1 to 53899\n",
      "Data columns (total 9 columns):\n",
      " #   Column               Non-Null Count  Dtype  \n",
      "---  ------               --------------  -----  \n",
      " 0   user_id              41491 non-null  int64  \n",
      " 1   date                 41491 non-null  object \n",
      " 2   direction            41491 non-null  object \n",
      " 3   internal             41491 non-null  object \n",
      " 4   operator_id          41491 non-null  float64\n",
      " 5   is_missed_call       41491 non-null  bool   \n",
      " 6   calls_count          41491 non-null  int64  \n",
      " 7   call_duration        41491 non-null  int64  \n",
      " 8   total_call_duration  41491 non-null  int64  \n",
      "dtypes: bool(1), float64(1), int64(4), object(3)\n",
      "memory usage: 8.8 MB\n"
     ]
    }
   ],
   "source": [
    "# revisión de datos vacíos\n",
    "print(\"El número de datos ausentes en dataset: \", dataset.isna().sum())\n",
    "dataset = dataset.dropna()\n",
    "print(\"El número de datos ausentes en dataset: \", dataset.isna().sum())\n",
    "dataset.info(memory_usage = 'deep')"
   ]
  },
  {
   "cell_type": "code",
   "execution_count": 7,
   "metadata": {},
   "outputs": [
    {
     "name": "stdout",
     "output_type": "stream",
     "text": [
      "<class 'pandas.core.frame.DataFrame'>\n",
      "Int64Index: 41491 entries, 1 to 53899\n",
      "Data columns (total 11 columns):\n",
      " #   Column               Non-Null Count  Dtype                                \n",
      "---  ------               --------------  -----                                \n",
      " 0   user_id              41491 non-null  int64                                \n",
      " 1   date                 41491 non-null  datetime64[ns, pytz.FixedOffset(180)]\n",
      " 2   direction            41491 non-null  object                               \n",
      " 3   internal             41491 non-null  object                               \n",
      " 4   operator_id          41491 non-null  float64                              \n",
      " 5   is_missed_call       41491 non-null  bool                                 \n",
      " 6   calls_count          41491 non-null  int64                                \n",
      " 7   call_duration        41491 non-null  int64                                \n",
      " 8   total_call_duration  41491 non-null  int64                                \n",
      " 9   dt_gmt               41491 non-null  datetime64[ns, GMT]                  \n",
      " 10  date_dt              41491 non-null  object                               \n",
      "dtypes: bool(1), datetime64[ns, GMT](1), datetime64[ns, pytz.FixedOffset(180)](1), float64(1), int64(4), object(3)\n",
      "memory usage: 3.5+ MB\n"
     ]
    },
    {
     "data": {
      "text/html": [
       "<div>\n",
       "<style scoped>\n",
       "    .dataframe tbody tr th:only-of-type {\n",
       "        vertical-align: middle;\n",
       "    }\n",
       "\n",
       "    .dataframe tbody tr th {\n",
       "        vertical-align: top;\n",
       "    }\n",
       "\n",
       "    .dataframe thead th {\n",
       "        text-align: right;\n",
       "    }\n",
       "</style>\n",
       "<table border=\"1\" class=\"dataframe\">\n",
       "  <thead>\n",
       "    <tr style=\"text-align: right;\">\n",
       "      <th></th>\n",
       "      <th>user_id</th>\n",
       "      <th>date</th>\n",
       "      <th>direction</th>\n",
       "      <th>internal</th>\n",
       "      <th>operator_id</th>\n",
       "      <th>is_missed_call</th>\n",
       "      <th>calls_count</th>\n",
       "      <th>call_duration</th>\n",
       "      <th>total_call_duration</th>\n",
       "      <th>dt_gmt</th>\n",
       "      <th>date_dt</th>\n",
       "    </tr>\n",
       "  </thead>\n",
       "  <tbody>\n",
       "    <tr>\n",
       "      <th>24408</th>\n",
       "      <td>167109</td>\n",
       "      <td>2019-11-22 00:00:00+03:00</td>\n",
       "      <td>in</td>\n",
       "      <td>False</td>\n",
       "      <td>907182.0</td>\n",
       "      <td>False</td>\n",
       "      <td>2</td>\n",
       "      <td>1859</td>\n",
       "      <td>1871</td>\n",
       "      <td>2019-11-21 21:00:00+00:00</td>\n",
       "      <td>2019-11-21</td>\n",
       "    </tr>\n",
       "    <tr>\n",
       "      <th>22329</th>\n",
       "      <td>167059</td>\n",
       "      <td>2019-11-13 00:00:00+03:00</td>\n",
       "      <td>in</td>\n",
       "      <td>False</td>\n",
       "      <td>911140.0</td>\n",
       "      <td>False</td>\n",
       "      <td>1</td>\n",
       "      <td>105</td>\n",
       "      <td>127</td>\n",
       "      <td>2019-11-12 21:00:00+00:00</td>\n",
       "      <td>2019-11-12</td>\n",
       "    </tr>\n",
       "    <tr>\n",
       "      <th>52717</th>\n",
       "      <td>168361</td>\n",
       "      <td>2019-11-17 00:00:00+03:00</td>\n",
       "      <td>out</td>\n",
       "      <td>False</td>\n",
       "      <td>945304.0</td>\n",
       "      <td>True</td>\n",
       "      <td>59</td>\n",
       "      <td>0</td>\n",
       "      <td>587</td>\n",
       "      <td>2019-11-16 21:00:00+00:00</td>\n",
       "      <td>2019-11-16</td>\n",
       "    </tr>\n",
       "    <tr>\n",
       "      <th>52968</th>\n",
       "      <td>168361</td>\n",
       "      <td>2019-11-24 00:00:00+03:00</td>\n",
       "      <td>out</td>\n",
       "      <td>False</td>\n",
       "      <td>945294.0</td>\n",
       "      <td>True</td>\n",
       "      <td>34</td>\n",
       "      <td>0</td>\n",
       "      <td>548</td>\n",
       "      <td>2019-11-23 21:00:00+00:00</td>\n",
       "      <td>2019-11-23</td>\n",
       "    </tr>\n",
       "    <tr>\n",
       "      <th>16585</th>\n",
       "      <td>166916</td>\n",
       "      <td>2019-10-23 00:00:00+03:00</td>\n",
       "      <td>out</td>\n",
       "      <td>True</td>\n",
       "      <td>906408.0</td>\n",
       "      <td>False</td>\n",
       "      <td>1</td>\n",
       "      <td>92</td>\n",
       "      <td>94</td>\n",
       "      <td>2019-10-22 21:00:00+00:00</td>\n",
       "      <td>2019-10-22</td>\n",
       "    </tr>\n",
       "    <tr>\n",
       "      <th>37597</th>\n",
       "      <td>167630</td>\n",
       "      <td>2019-10-01 00:00:00+03:00</td>\n",
       "      <td>out</td>\n",
       "      <td>False</td>\n",
       "      <td>920666.0</td>\n",
       "      <td>True</td>\n",
       "      <td>4</td>\n",
       "      <td>0</td>\n",
       "      <td>55</td>\n",
       "      <td>2019-09-30 21:00:00+00:00</td>\n",
       "      <td>2019-09-30</td>\n",
       "    </tr>\n",
       "    <tr>\n",
       "      <th>17052</th>\n",
       "      <td>166916</td>\n",
       "      <td>2019-11-15 00:00:00+03:00</td>\n",
       "      <td>out</td>\n",
       "      <td>True</td>\n",
       "      <td>906412.0</td>\n",
       "      <td>True</td>\n",
       "      <td>2</td>\n",
       "      <td>0</td>\n",
       "      <td>46</td>\n",
       "      <td>2019-11-14 21:00:00+00:00</td>\n",
       "      <td>2019-11-14</td>\n",
       "    </tr>\n",
       "    <tr>\n",
       "      <th>29023</th>\n",
       "      <td>167199</td>\n",
       "      <td>2019-10-02 00:00:00+03:00</td>\n",
       "      <td>out</td>\n",
       "      <td>False</td>\n",
       "      <td>911310.0</td>\n",
       "      <td>False</td>\n",
       "      <td>1</td>\n",
       "      <td>15</td>\n",
       "      <td>29</td>\n",
       "      <td>2019-10-01 21:00:00+00:00</td>\n",
       "      <td>2019-10-01</td>\n",
       "    </tr>\n",
       "    <tr>\n",
       "      <th>22962</th>\n",
       "      <td>167071</td>\n",
       "      <td>2019-11-21 00:00:00+03:00</td>\n",
       "      <td>in</td>\n",
       "      <td>False</td>\n",
       "      <td>913938.0</td>\n",
       "      <td>False</td>\n",
       "      <td>85</td>\n",
       "      <td>6508</td>\n",
       "      <td>7108</td>\n",
       "      <td>2019-11-20 21:00:00+00:00</td>\n",
       "      <td>2019-11-20</td>\n",
       "    </tr>\n",
       "    <tr>\n",
       "      <th>45267</th>\n",
       "      <td>168062</td>\n",
       "      <td>2019-11-21 00:00:00+03:00</td>\n",
       "      <td>out</td>\n",
       "      <td>True</td>\n",
       "      <td>947614.0</td>\n",
       "      <td>False</td>\n",
       "      <td>1</td>\n",
       "      <td>8</td>\n",
       "      <td>12</td>\n",
       "      <td>2019-11-20 21:00:00+00:00</td>\n",
       "      <td>2019-11-20</td>\n",
       "    </tr>\n",
       "  </tbody>\n",
       "</table>\n",
       "</div>"
      ],
      "text/plain": [
       "       user_id                      date direction internal  operator_id  \\\n",
       "24408   167109 2019-11-22 00:00:00+03:00        in    False     907182.0   \n",
       "22329   167059 2019-11-13 00:00:00+03:00        in    False     911140.0   \n",
       "52717   168361 2019-11-17 00:00:00+03:00       out    False     945304.0   \n",
       "52968   168361 2019-11-24 00:00:00+03:00       out    False     945294.0   \n",
       "16585   166916 2019-10-23 00:00:00+03:00       out     True     906408.0   \n",
       "37597   167630 2019-10-01 00:00:00+03:00       out    False     920666.0   \n",
       "17052   166916 2019-11-15 00:00:00+03:00       out     True     906412.0   \n",
       "29023   167199 2019-10-02 00:00:00+03:00       out    False     911310.0   \n",
       "22962   167071 2019-11-21 00:00:00+03:00        in    False     913938.0   \n",
       "45267   168062 2019-11-21 00:00:00+03:00       out     True     947614.0   \n",
       "\n",
       "       is_missed_call  calls_count  call_duration  total_call_duration  \\\n",
       "24408           False            2           1859                 1871   \n",
       "22329           False            1            105                  127   \n",
       "52717            True           59              0                  587   \n",
       "52968            True           34              0                  548   \n",
       "16585           False            1             92                   94   \n",
       "37597            True            4              0                   55   \n",
       "17052            True            2              0                   46   \n",
       "29023           False            1             15                   29   \n",
       "22962           False           85           6508                 7108   \n",
       "45267           False            1              8                   12   \n",
       "\n",
       "                         dt_gmt     date_dt  \n",
       "24408 2019-11-21 21:00:00+00:00  2019-11-21  \n",
       "22329 2019-11-12 21:00:00+00:00  2019-11-12  \n",
       "52717 2019-11-16 21:00:00+00:00  2019-11-16  \n",
       "52968 2019-11-23 21:00:00+00:00  2019-11-23  \n",
       "16585 2019-10-22 21:00:00+00:00  2019-10-22  \n",
       "37597 2019-09-30 21:00:00+00:00  2019-09-30  \n",
       "17052 2019-11-14 21:00:00+00:00  2019-11-14  \n",
       "29023 2019-10-01 21:00:00+00:00  2019-10-01  \n",
       "22962 2019-11-20 21:00:00+00:00  2019-11-20  \n",
       "45267 2019-11-20 21:00:00+00:00  2019-11-20  "
      ]
     },
     "execution_count": 7,
     "metadata": {},
     "output_type": "execute_result"
    }
   ],
   "source": [
    "# conversión string a datetime\n",
    "dataset['date']= pd.to_datetime(dataset['date'], format='%Y-%m-%dT%H:%M:%S')\n",
    "dataset['dt_gmt'] = dataset['date'].dt.tz_convert('GMT')\n",
    "\n",
    "# obtener solo fecha\n",
    "dataset['date_dt'] = dataset['dt_gmt'].dt.date\n",
    "\n",
    "dataset.info()\n",
    "dataset.sample(10)"
   ]
  },
  {
   "cell_type": "code",
   "execution_count": 8,
   "metadata": {},
   "outputs": [
    {
     "name": "stdout",
     "output_type": "stream",
     "text": [
      "<class 'pandas.core.frame.DataFrame'>\n",
      "Int64Index: 41491 entries, 1 to 53899\n",
      "Data columns (total 11 columns):\n",
      " #   Column               Non-Null Count  Dtype                                \n",
      "---  ------               --------------  -----                                \n",
      " 0   user_id              41491 non-null  int64                                \n",
      " 1   date                 41491 non-null  datetime64[ns, pytz.FixedOffset(180)]\n",
      " 2   direction            41491 non-null  object                               \n",
      " 3   internal             41491 non-null  object                               \n",
      " 4   operator_id          41491 non-null  int64                                \n",
      " 5   is_missed_call       41491 non-null  bool                                 \n",
      " 6   calls_count          41491 non-null  int64                                \n",
      " 7   call_duration        41491 non-null  int64                                \n",
      " 8   total_call_duration  41491 non-null  int64                                \n",
      " 9   dt_gmt               41491 non-null  datetime64[ns, GMT]                  \n",
      " 10  date_dt              41491 non-null  object                               \n",
      "dtypes: bool(1), datetime64[ns, GMT](1), datetime64[ns, pytz.FixedOffset(180)](1), int64(5), object(3)\n",
      "memory usage: 3.5+ MB\n"
     ]
    },
    {
     "data": {
      "text/html": [
       "<div>\n",
       "<style scoped>\n",
       "    .dataframe tbody tr th:only-of-type {\n",
       "        vertical-align: middle;\n",
       "    }\n",
       "\n",
       "    .dataframe tbody tr th {\n",
       "        vertical-align: top;\n",
       "    }\n",
       "\n",
       "    .dataframe thead th {\n",
       "        text-align: right;\n",
       "    }\n",
       "</style>\n",
       "<table border=\"1\" class=\"dataframe\">\n",
       "  <thead>\n",
       "    <tr style=\"text-align: right;\">\n",
       "      <th></th>\n",
       "      <th>user_id</th>\n",
       "      <th>date</th>\n",
       "      <th>direction</th>\n",
       "      <th>internal</th>\n",
       "      <th>operator_id</th>\n",
       "      <th>is_missed_call</th>\n",
       "      <th>calls_count</th>\n",
       "      <th>call_duration</th>\n",
       "      <th>total_call_duration</th>\n",
       "      <th>dt_gmt</th>\n",
       "      <th>date_dt</th>\n",
       "    </tr>\n",
       "  </thead>\n",
       "  <tbody>\n",
       "    <tr>\n",
       "      <th>32490</th>\n",
       "      <td>167466</td>\n",
       "      <td>2019-11-06 00:00:00+03:00</td>\n",
       "      <td>out</td>\n",
       "      <td>False</td>\n",
       "      <td>921818</td>\n",
       "      <td>False</td>\n",
       "      <td>36</td>\n",
       "      <td>892</td>\n",
       "      <td>1447</td>\n",
       "      <td>2019-11-05 21:00:00+00:00</td>\n",
       "      <td>2019-11-05</td>\n",
       "    </tr>\n",
       "    <tr>\n",
       "      <th>20034</th>\n",
       "      <td>166997</td>\n",
       "      <td>2019-09-27 00:00:00+03:00</td>\n",
       "      <td>in</td>\n",
       "      <td>False</td>\n",
       "      <td>905430</td>\n",
       "      <td>False</td>\n",
       "      <td>8</td>\n",
       "      <td>1021</td>\n",
       "      <td>1073</td>\n",
       "      <td>2019-09-26 21:00:00+00:00</td>\n",
       "      <td>2019-09-26</td>\n",
       "    </tr>\n",
       "    <tr>\n",
       "      <th>47095</th>\n",
       "      <td>168180</td>\n",
       "      <td>2019-11-27 00:00:00+03:00</td>\n",
       "      <td>in</td>\n",
       "      <td>False</td>\n",
       "      <td>958640</td>\n",
       "      <td>False</td>\n",
       "      <td>1</td>\n",
       "      <td>75</td>\n",
       "      <td>84</td>\n",
       "      <td>2019-11-26 21:00:00+00:00</td>\n",
       "      <td>2019-11-26</td>\n",
       "    </tr>\n",
       "    <tr>\n",
       "      <th>20214</th>\n",
       "      <td>166997</td>\n",
       "      <td>2019-10-24 00:00:00+03:00</td>\n",
       "      <td>out</td>\n",
       "      <td>False</td>\n",
       "      <td>903318</td>\n",
       "      <td>False</td>\n",
       "      <td>3</td>\n",
       "      <td>606</td>\n",
       "      <td>697</td>\n",
       "      <td>2019-10-23 21:00:00+00:00</td>\n",
       "      <td>2019-10-23</td>\n",
       "    </tr>\n",
       "    <tr>\n",
       "      <th>13962</th>\n",
       "      <td>166812</td>\n",
       "      <td>2019-11-26 00:00:00+03:00</td>\n",
       "      <td>out</td>\n",
       "      <td>False</td>\n",
       "      <td>900594</td>\n",
       "      <td>True</td>\n",
       "      <td>1</td>\n",
       "      <td>0</td>\n",
       "      <td>9</td>\n",
       "      <td>2019-11-25 21:00:00+00:00</td>\n",
       "      <td>2019-11-25</td>\n",
       "    </tr>\n",
       "    <tr>\n",
       "      <th>46197</th>\n",
       "      <td>168091</td>\n",
       "      <td>2019-11-19 00:00:00+03:00</td>\n",
       "      <td>out</td>\n",
       "      <td>True</td>\n",
       "      <td>958672</td>\n",
       "      <td>False</td>\n",
       "      <td>3</td>\n",
       "      <td>76</td>\n",
       "      <td>90</td>\n",
       "      <td>2019-11-18 21:00:00+00:00</td>\n",
       "      <td>2019-11-18</td>\n",
       "    </tr>\n",
       "    <tr>\n",
       "      <th>33359</th>\n",
       "      <td>167487</td>\n",
       "      <td>2019-11-27 00:00:00+03:00</td>\n",
       "      <td>out</td>\n",
       "      <td>False</td>\n",
       "      <td>914052</td>\n",
       "      <td>True</td>\n",
       "      <td>6</td>\n",
       "      <td>0</td>\n",
       "      <td>103</td>\n",
       "      <td>2019-11-26 21:00:00+00:00</td>\n",
       "      <td>2019-11-26</td>\n",
       "    </tr>\n",
       "    <tr>\n",
       "      <th>25415</th>\n",
       "      <td>167125</td>\n",
       "      <td>2019-10-11 00:00:00+03:00</td>\n",
       "      <td>out</td>\n",
       "      <td>True</td>\n",
       "      <td>902782</td>\n",
       "      <td>True</td>\n",
       "      <td>2</td>\n",
       "      <td>0</td>\n",
       "      <td>1</td>\n",
       "      <td>2019-10-10 21:00:00+00:00</td>\n",
       "      <td>2019-10-10</td>\n",
       "    </tr>\n",
       "    <tr>\n",
       "      <th>39893</th>\n",
       "      <td>167756</td>\n",
       "      <td>2019-11-22 00:00:00+03:00</td>\n",
       "      <td>out</td>\n",
       "      <td>False</td>\n",
       "      <td>938896</td>\n",
       "      <td>False</td>\n",
       "      <td>34</td>\n",
       "      <td>1898</td>\n",
       "      <td>2523</td>\n",
       "      <td>2019-11-21 21:00:00+00:00</td>\n",
       "      <td>2019-11-21</td>\n",
       "    </tr>\n",
       "    <tr>\n",
       "      <th>47698</th>\n",
       "      <td>168187</td>\n",
       "      <td>2019-10-28 00:00:00+03:00</td>\n",
       "      <td>in</td>\n",
       "      <td>False</td>\n",
       "      <td>937862</td>\n",
       "      <td>False</td>\n",
       "      <td>4</td>\n",
       "      <td>676</td>\n",
       "      <td>715</td>\n",
       "      <td>2019-10-27 21:00:00+00:00</td>\n",
       "      <td>2019-10-27</td>\n",
       "    </tr>\n",
       "  </tbody>\n",
       "</table>\n",
       "</div>"
      ],
      "text/plain": [
       "       user_id                      date direction internal  operator_id  \\\n",
       "32490   167466 2019-11-06 00:00:00+03:00       out    False       921818   \n",
       "20034   166997 2019-09-27 00:00:00+03:00        in    False       905430   \n",
       "47095   168180 2019-11-27 00:00:00+03:00        in    False       958640   \n",
       "20214   166997 2019-10-24 00:00:00+03:00       out    False       903318   \n",
       "13962   166812 2019-11-26 00:00:00+03:00       out    False       900594   \n",
       "46197   168091 2019-11-19 00:00:00+03:00       out     True       958672   \n",
       "33359   167487 2019-11-27 00:00:00+03:00       out    False       914052   \n",
       "25415   167125 2019-10-11 00:00:00+03:00       out     True       902782   \n",
       "39893   167756 2019-11-22 00:00:00+03:00       out    False       938896   \n",
       "47698   168187 2019-10-28 00:00:00+03:00        in    False       937862   \n",
       "\n",
       "       is_missed_call  calls_count  call_duration  total_call_duration  \\\n",
       "32490           False           36            892                 1447   \n",
       "20034           False            8           1021                 1073   \n",
       "47095           False            1             75                   84   \n",
       "20214           False            3            606                  697   \n",
       "13962            True            1              0                    9   \n",
       "46197           False            3             76                   90   \n",
       "33359            True            6              0                  103   \n",
       "25415            True            2              0                    1   \n",
       "39893           False           34           1898                 2523   \n",
       "47698           False            4            676                  715   \n",
       "\n",
       "                         dt_gmt     date_dt  \n",
       "32490 2019-11-05 21:00:00+00:00  2019-11-05  \n",
       "20034 2019-09-26 21:00:00+00:00  2019-09-26  \n",
       "47095 2019-11-26 21:00:00+00:00  2019-11-26  \n",
       "20214 2019-10-23 21:00:00+00:00  2019-10-23  \n",
       "13962 2019-11-25 21:00:00+00:00  2019-11-25  \n",
       "46197 2019-11-18 21:00:00+00:00  2019-11-18  \n",
       "33359 2019-11-26 21:00:00+00:00  2019-11-26  \n",
       "25415 2019-10-10 21:00:00+00:00  2019-10-10  \n",
       "39893 2019-11-21 21:00:00+00:00  2019-11-21  \n",
       "47698 2019-10-27 21:00:00+00:00  2019-10-27  "
      ]
     },
     "execution_count": 8,
     "metadata": {},
     "output_type": "execute_result"
    }
   ],
   "source": [
    "#conversion de operator_id a int\n",
    "dataset['operator_id'] = dataset['operator_id'].astype(int)\n",
    "\n",
    "dataset.info()\n",
    "dataset.sample(10)"
   ]
  },
  {
   "cell_type": "code",
   "execution_count": 9,
   "metadata": {},
   "outputs": [
    {
     "name": "stdout",
     "output_type": "stream",
     "text": [
      "<class 'pandas.core.frame.DataFrame'>\n",
      "Int64Index: 732 entries, 0 to 731\n",
      "Data columns (total 3 columns):\n",
      " #   Column       Non-Null Count  Dtype         \n",
      "---  ------       --------------  -----         \n",
      " 0   user_id      732 non-null    int64         \n",
      " 1   tariff_plan  732 non-null    object        \n",
      " 2   date_start   732 non-null    datetime64[ns]\n",
      "dtypes: datetime64[ns](1), int64(1), object(1)\n",
      "memory usage: 22.9+ KB\n"
     ]
    }
   ],
   "source": [
    "# conversión string a datetime\n",
    "clients['date_start']= pd.to_datetime(clients['date_start'], format='%Y-%m-%d')\n",
    "\n",
    "clients.info()"
   ]
  },
  {
   "cell_type": "markdown",
   "metadata": {},
   "source": [
    "## Identificar operadores ineficaces\n",
    "###  Gran cantidad de llamadas entrantes perdidas (internas y externas)\n"
   ]
  },
  {
   "cell_type": "code",
   "execution_count": 10,
   "metadata": {},
   "outputs": [
    {
     "name": "stdout",
     "output_type": "stream",
     "text": [
      "      operator_id  is_missed_call\n",
      "1091       973286               1\n",
      "871        946020               1\n",
      "867        945898               1\n",
      "864        945710               1\n",
      "842        945274               1\n",
      "...           ...             ...\n",
      "33         887276             267\n",
      "28         885876             283\n",
      "108        893804             289\n",
      "203        901880             300\n",
      "204        901884             323\n",
      "\n",
      "[1092 rows x 2 columns]\n"
     ]
    }
   ],
   "source": [
    "op_miss = dataset.groupby('operator_id')['is_missed_call'].count()\n",
    "op_miss = op_miss.reset_index()\n",
    "op_miss = op_miss.sort_values(by='is_missed_call')\n",
    "print(op_miss)"
   ]
  },
  {
   "cell_type": "code",
   "execution_count": 11,
   "metadata": {},
   "outputs": [
    {
     "data": {
      "image/png": "[encoded data removed]",
      "text/plain": [
       "<Figure size 640x480 with 1 Axes>"
      ]
     },
     "metadata": {},
     "output_type": "display_data"
    }
   ],
   "source": [
    "op_miss['is_missed_call'].hist()\n",
    "plt.xlabel('missed_calls ', fontsize = 10)\n",
    "plt.ylabel('operators', fontsize = 10)\n",
    "plt.show()"
   ]
  },
  {
   "cell_type": "code",
   "execution_count": 12,
   "metadata": {},
   "outputs": [
    {
     "data": {
      "text/plain": [
       "count    1092.000000\n",
       "mean       37.995421\n",
       "std        49.141679\n",
       "min         1.000000\n",
       "25%         5.000000\n",
       "50%        19.000000\n",
       "75%        50.000000\n",
       "max       323.000000\n",
       "Name: is_missed_call, dtype: float64"
      ]
     },
     "execution_count": 12,
     "metadata": {},
     "output_type": "execute_result"
    }
   ],
   "source": [
    "op_miss['is_missed_call'].describe()"
   ]
  },
  {
   "cell_type": "code",
   "execution_count": 13,
   "metadata": {},
   "outputs": [
    {
     "name": "stdout",
     "output_type": "stream",
     "text": [
      "Se determina que gran cantidad de llamadas será, el operador que sobrepase el percentil 90 del conjunto de datos:  50.0\n"
     ]
    }
   ],
   "source": [
    "op_miss_75 = op_miss['is_missed_call'].quantile(0.75)\n",
    "print('Se determina que gran cantidad de llamadas será, el operador que sobrepase el percentil 90 del conjunto de datos: ', op_miss_75)"
   ]
  },
  {
   "cell_type": "code",
   "execution_count": 14,
   "metadata": {},
   "outputs": [
    {
     "data": {
      "text/plain": [
       "operator_id       270\n",
       "is_missed_call    270\n",
       "dtype: int64"
      ]
     },
     "execution_count": 14,
     "metadata": {},
     "output_type": "execute_result"
    }
   ],
   "source": [
    "op_miss[op_miss['is_missed_call']>op_miss_75].count()"
   ]
  },
  {
   "cell_type": "markdown",
   "metadata": {},
   "source": [
    "Existen 270 operadores que sobrepasan las 97 llamadas perdidas."
   ]
  },
  {
   "cell_type": "markdown",
   "metadata": {},
   "source": [
    "### Tiempo de espera prolongado para las llamadas entrantes"
   ]
  },
  {
   "cell_type": "code",
   "execution_count": 15,
   "metadata": {},
   "outputs": [
    {
     "data": {
      "text/html": [
       "<div>\n",
       "<style scoped>\n",
       "    .dataframe tbody tr th:only-of-type {\n",
       "        vertical-align: middle;\n",
       "    }\n",
       "\n",
       "    .dataframe tbody tr th {\n",
       "        vertical-align: top;\n",
       "    }\n",
       "\n",
       "    .dataframe thead th {\n",
       "        text-align: right;\n",
       "    }\n",
       "</style>\n",
       "<table border=\"1\" class=\"dataframe\">\n",
       "  <thead>\n",
       "    <tr style=\"text-align: right;\">\n",
       "      <th></th>\n",
       "      <th>user_id</th>\n",
       "      <th>date</th>\n",
       "      <th>direction</th>\n",
       "      <th>internal</th>\n",
       "      <th>operator_id</th>\n",
       "      <th>is_missed_call</th>\n",
       "      <th>calls_count</th>\n",
       "      <th>call_duration</th>\n",
       "      <th>total_call_duration</th>\n",
       "      <th>dt_gmt</th>\n",
       "      <th>date_dt</th>\n",
       "      <th>time_wait</th>\n",
       "    </tr>\n",
       "  </thead>\n",
       "  <tbody>\n",
       "    <tr>\n",
       "      <th>52924</th>\n",
       "      <td>168361</td>\n",
       "      <td>2019-11-22 00:00:00+03:00</td>\n",
       "      <td>out</td>\n",
       "      <td>False</td>\n",
       "      <td>945312</td>\n",
       "      <td>False</td>\n",
       "      <td>16</td>\n",
       "      <td>1858</td>\n",
       "      <td>2221</td>\n",
       "      <td>2019-11-21 21:00:00+00:00</td>\n",
       "      <td>2019-11-21</td>\n",
       "      <td>363</td>\n",
       "    </tr>\n",
       "    <tr>\n",
       "      <th>29202</th>\n",
       "      <td>167200</td>\n",
       "      <td>2019-11-13 00:00:00+03:00</td>\n",
       "      <td>in</td>\n",
       "      <td>False</td>\n",
       "      <td>905862</td>\n",
       "      <td>False</td>\n",
       "      <td>1</td>\n",
       "      <td>222</td>\n",
       "      <td>232</td>\n",
       "      <td>2019-11-12 21:00:00+00:00</td>\n",
       "      <td>2019-11-12</td>\n",
       "      <td>10</td>\n",
       "    </tr>\n",
       "    <tr>\n",
       "      <th>11266</th>\n",
       "      <td>166691</td>\n",
       "      <td>2019-09-16 00:00:00+03:00</td>\n",
       "      <td>out</td>\n",
       "      <td>False</td>\n",
       "      <td>889410</td>\n",
       "      <td>True</td>\n",
       "      <td>2</td>\n",
       "      <td>0</td>\n",
       "      <td>64</td>\n",
       "      <td>2019-09-15 21:00:00+00:00</td>\n",
       "      <td>2019-09-15</td>\n",
       "      <td>64</td>\n",
       "    </tr>\n",
       "    <tr>\n",
       "      <th>41117</th>\n",
       "      <td>167828</td>\n",
       "      <td>2019-11-19 00:00:00+03:00</td>\n",
       "      <td>in</td>\n",
       "      <td>False</td>\n",
       "      <td>938612</td>\n",
       "      <td>False</td>\n",
       "      <td>7</td>\n",
       "      <td>758</td>\n",
       "      <td>793</td>\n",
       "      <td>2019-11-18 21:00:00+00:00</td>\n",
       "      <td>2019-11-18</td>\n",
       "      <td>35</td>\n",
       "    </tr>\n",
       "    <tr>\n",
       "      <th>15818</th>\n",
       "      <td>166901</td>\n",
       "      <td>2019-10-16 00:00:00+03:00</td>\n",
       "      <td>out</td>\n",
       "      <td>True</td>\n",
       "      <td>896008</td>\n",
       "      <td>False</td>\n",
       "      <td>2</td>\n",
       "      <td>102</td>\n",
       "      <td>112</td>\n",
       "      <td>2019-10-15 21:00:00+00:00</td>\n",
       "      <td>2019-10-15</td>\n",
       "      <td>10</td>\n",
       "    </tr>\n",
       "    <tr>\n",
       "      <th>31927</th>\n",
       "      <td>167445</td>\n",
       "      <td>2019-11-18 00:00:00+03:00</td>\n",
       "      <td>in</td>\n",
       "      <td>False</td>\n",
       "      <td>943066</td>\n",
       "      <td>False</td>\n",
       "      <td>14</td>\n",
       "      <td>902</td>\n",
       "      <td>1088</td>\n",
       "      <td>2019-11-17 21:00:00+00:00</td>\n",
       "      <td>2019-11-17</td>\n",
       "      <td>186</td>\n",
       "    </tr>\n",
       "    <tr>\n",
       "      <th>7053</th>\n",
       "      <td>166582</td>\n",
       "      <td>2019-10-07 00:00:00+03:00</td>\n",
       "      <td>in</td>\n",
       "      <td>False</td>\n",
       "      <td>885876</td>\n",
       "      <td>True</td>\n",
       "      <td>1</td>\n",
       "      <td>0</td>\n",
       "      <td>13</td>\n",
       "      <td>2019-10-06 21:00:00+00:00</td>\n",
       "      <td>2019-10-06</td>\n",
       "      <td>13</td>\n",
       "    </tr>\n",
       "    <tr>\n",
       "      <th>32054</th>\n",
       "      <td>167445</td>\n",
       "      <td>2019-11-25 00:00:00+03:00</td>\n",
       "      <td>in</td>\n",
       "      <td>False</td>\n",
       "      <td>920902</td>\n",
       "      <td>False</td>\n",
       "      <td>2</td>\n",
       "      <td>277</td>\n",
       "      <td>305</td>\n",
       "      <td>2019-11-24 21:00:00+00:00</td>\n",
       "      <td>2019-11-24</td>\n",
       "      <td>28</td>\n",
       "    </tr>\n",
       "    <tr>\n",
       "      <th>23690</th>\n",
       "      <td>167109</td>\n",
       "      <td>2019-09-13 00:00:00+03:00</td>\n",
       "      <td>out</td>\n",
       "      <td>True</td>\n",
       "      <td>907182</td>\n",
       "      <td>False</td>\n",
       "      <td>7</td>\n",
       "      <td>262</td>\n",
       "      <td>308</td>\n",
       "      <td>2019-09-12 21:00:00+00:00</td>\n",
       "      <td>2019-09-12</td>\n",
       "      <td>46</td>\n",
       "    </tr>\n",
       "    <tr>\n",
       "      <th>31722</th>\n",
       "      <td>167445</td>\n",
       "      <td>2019-11-06 00:00:00+03:00</td>\n",
       "      <td>in</td>\n",
       "      <td>False</td>\n",
       "      <td>920838</td>\n",
       "      <td>False</td>\n",
       "      <td>2</td>\n",
       "      <td>68</td>\n",
       "      <td>91</td>\n",
       "      <td>2019-11-05 21:00:00+00:00</td>\n",
       "      <td>2019-11-05</td>\n",
       "      <td>23</td>\n",
       "    </tr>\n",
       "  </tbody>\n",
       "</table>\n",
       "</div>"
      ],
      "text/plain": [
       "       user_id                      date direction internal  operator_id  \\\n",
       "52924   168361 2019-11-22 00:00:00+03:00       out    False       945312   \n",
       "29202   167200 2019-11-13 00:00:00+03:00        in    False       905862   \n",
       "11266   166691 2019-09-16 00:00:00+03:00       out    False       889410   \n",
       "41117   167828 2019-11-19 00:00:00+03:00        in    False       938612   \n",
       "15818   166901 2019-10-16 00:00:00+03:00       out     True       896008   \n",
       "31927   167445 2019-11-18 00:00:00+03:00        in    False       943066   \n",
       "7053    166582 2019-10-07 00:00:00+03:00        in    False       885876   \n",
       "32054   167445 2019-11-25 00:00:00+03:00        in    False       920902   \n",
       "23690   167109 2019-09-13 00:00:00+03:00       out     True       907182   \n",
       "31722   167445 2019-11-06 00:00:00+03:00        in    False       920838   \n",
       "\n",
       "       is_missed_call  calls_count  call_duration  total_call_duration  \\\n",
       "52924           False           16           1858                 2221   \n",
       "29202           False            1            222                  232   \n",
       "11266            True            2              0                   64   \n",
       "41117           False            7            758                  793   \n",
       "15818           False            2            102                  112   \n",
       "31927           False           14            902                 1088   \n",
       "7053             True            1              0                   13   \n",
       "32054           False            2            277                  305   \n",
       "23690           False            7            262                  308   \n",
       "31722           False            2             68                   91   \n",
       "\n",
       "                         dt_gmt     date_dt  time_wait  \n",
       "52924 2019-11-21 21:00:00+00:00  2019-11-21        363  \n",
       "29202 2019-11-12 21:00:00+00:00  2019-11-12         10  \n",
       "11266 2019-09-15 21:00:00+00:00  2019-09-15         64  \n",
       "41117 2019-11-18 21:00:00+00:00  2019-11-18         35  \n",
       "15818 2019-10-15 21:00:00+00:00  2019-10-15         10  \n",
       "31927 2019-11-17 21:00:00+00:00  2019-11-17        186  \n",
       "7053  2019-10-06 21:00:00+00:00  2019-10-06         13  \n",
       "32054 2019-11-24 21:00:00+00:00  2019-11-24         28  \n",
       "23690 2019-09-12 21:00:00+00:00  2019-09-12         46  \n",
       "31722 2019-11-05 21:00:00+00:00  2019-11-05         23  "
      ]
     },
     "execution_count": 15,
     "metadata": {},
     "output_type": "execute_result"
    }
   ],
   "source": [
    "dataset['time_wait'] = dataset['total_call_duration'] - dataset['call_duration']\n",
    "dataset.sample(10)"
   ]
  },
  {
   "cell_type": "code",
   "execution_count": 16,
   "metadata": {},
   "outputs": [
    {
     "data": {
      "text/html": [
       "<div>\n",
       "<style scoped>\n",
       "    .dataframe tbody tr th:only-of-type {\n",
       "        vertical-align: middle;\n",
       "    }\n",
       "\n",
       "    .dataframe tbody tr th {\n",
       "        vertical-align: top;\n",
       "    }\n",
       "\n",
       "    .dataframe thead th {\n",
       "        text-align: right;\n",
       "    }\n",
       "</style>\n",
       "<table border=\"1\" class=\"dataframe\">\n",
       "  <thead>\n",
       "    <tr style=\"text-align: right;\">\n",
       "      <th></th>\n",
       "      <th>operator_id</th>\n",
       "      <th>mean_tw</th>\n",
       "    </tr>\n",
       "  </thead>\n",
       "  <tbody>\n",
       "    <tr>\n",
       "      <th>380</th>\n",
       "      <td>914266</td>\n",
       "      <td>22.333333</td>\n",
       "    </tr>\n",
       "    <tr>\n",
       "      <th>486</th>\n",
       "      <td>920874</td>\n",
       "      <td>48.052632</td>\n",
       "    </tr>\n",
       "    <tr>\n",
       "      <th>1010</th>\n",
       "      <td>958456</td>\n",
       "      <td>474.485714</td>\n",
       "    </tr>\n",
       "    <tr>\n",
       "      <th>601</th>\n",
       "      <td>930660</td>\n",
       "      <td>27.500000</td>\n",
       "    </tr>\n",
       "    <tr>\n",
       "      <th>315</th>\n",
       "      <td>908180</td>\n",
       "      <td>15.000000</td>\n",
       "    </tr>\n",
       "  </tbody>\n",
       "</table>\n",
       "</div>"
      ],
      "text/plain": [
       "      operator_id     mean_tw\n",
       "380        914266   22.333333\n",
       "486        920874   48.052632\n",
       "1010       958456  474.485714\n",
       "601        930660   27.500000\n",
       "315        908180   15.000000"
      ]
     },
     "execution_count": 16,
     "metadata": {},
     "output_type": "execute_result"
    }
   ],
   "source": [
    "op_tpro = dataset.groupby('operator_id')['time_wait'].mean()\n",
    "op_tpro = op_tpro.reset_index()\n",
    "op_tpro.columns = op_tpro.columns.str.replace('time_wait','mean_tw')\n",
    "op_tpro.sample(5)"
   ]
  },
  {
   "cell_type": "code",
   "execution_count": 17,
   "metadata": {},
   "outputs": [
    {
     "data": {
      "image/png": "[encoded data removed]",
      "text/plain": [
       "<Figure size 640x480 with 1 Axes>"
      ]
     },
     "metadata": {},
     "output_type": "display_data"
    }
   ],
   "source": [
    "op_tpro['mean_tw'].hist(bins=100)\n",
    "plt.xlabel('mean_time_wait', fontsize = 10)\n",
    "plt.ylabel('operators', fontsize = 10)\n",
    "plt.show()"
   ]
  },
  {
   "cell_type": "code",
   "execution_count": 18,
   "metadata": {},
   "outputs": [
    {
     "data": {
      "text/plain": [
       "count    1092.000000\n",
       "mean      216.249892\n",
       "std       507.052815\n",
       "min         0.000000\n",
       "25%        23.000000\n",
       "50%        46.619048\n",
       "75%       159.758929\n",
       "max      5805.027397\n",
       "Name: mean_tw, dtype: float64"
      ]
     },
     "execution_count": 18,
     "metadata": {},
     "output_type": "execute_result"
    }
   ],
   "source": [
    "op_tpro['mean_tw'].describe()"
   ]
  },
  {
   "cell_type": "code",
   "execution_count": 19,
   "metadata": {},
   "outputs": [
    {
     "name": "stdout",
     "output_type": "stream",
     "text": [
      "Se determina que tiempo prolongado de espera será el que sobrepase el percentil 75 del promedio del tiempo de espera:  159.75892857142856\n"
     ]
    }
   ],
   "source": [
    "time_wait_75 = op_tpro['mean_tw'].quantile(0.75)\n",
    "print('Se determina que tiempo prolongado de espera será el que sobrepase el percentil 75 del promedio del tiempo de espera: ', time_wait_75)"
   ]
  },
  {
   "cell_type": "code",
   "execution_count": 20,
   "metadata": {},
   "outputs": [
    {
     "data": {
      "text/html": [
       "<div>\n",
       "<style scoped>\n",
       "    .dataframe tbody tr th:only-of-type {\n",
       "        vertical-align: middle;\n",
       "    }\n",
       "\n",
       "    .dataframe tbody tr th {\n",
       "        vertical-align: top;\n",
       "    }\n",
       "\n",
       "    .dataframe thead th {\n",
       "        text-align: right;\n",
       "    }\n",
       "</style>\n",
       "<table border=\"1\" class=\"dataframe\">\n",
       "  <thead>\n",
       "    <tr style=\"text-align: right;\">\n",
       "      <th></th>\n",
       "      <th>operator_id</th>\n",
       "      <th>mean_tw</th>\n",
       "    </tr>\n",
       "  </thead>\n",
       "  <tbody>\n",
       "    <tr>\n",
       "      <th>465</th>\n",
       "      <td>919554</td>\n",
       "      <td>461.650602</td>\n",
       "    </tr>\n",
       "    <tr>\n",
       "      <th>856</th>\n",
       "      <td>945310</td>\n",
       "      <td>1605.311111</td>\n",
       "    </tr>\n",
       "    <tr>\n",
       "      <th>1052</th>\n",
       "      <td>965542</td>\n",
       "      <td>1224.769231</td>\n",
       "    </tr>\n",
       "    <tr>\n",
       "      <th>319</th>\n",
       "      <td>908834</td>\n",
       "      <td>167.800000</td>\n",
       "    </tr>\n",
       "    <tr>\n",
       "      <th>429</th>\n",
       "      <td>919166</td>\n",
       "      <td>245.416667</td>\n",
       "    </tr>\n",
       "  </tbody>\n",
       "</table>\n",
       "</div>"
      ],
      "text/plain": [
       "      operator_id      mean_tw\n",
       "465        919554   461.650602\n",
       "856        945310  1605.311111\n",
       "1052       965542  1224.769231\n",
       "319        908834   167.800000\n",
       "429        919166   245.416667"
      ]
     },
     "execution_count": 20,
     "metadata": {},
     "output_type": "execute_result"
    }
   ],
   "source": [
    "op_tpr = op_tpro[op_tpro['mean_tw']>time_wait_75]\n",
    "op_tpr.sample(5)"
   ]
  },
  {
   "cell_type": "code",
   "execution_count": 21,
   "metadata": {},
   "outputs": [
    {
     "data": {
      "text/plain": [
       "273"
      ]
     },
     "execution_count": 21,
     "metadata": {},
     "output_type": "execute_result"
    }
   ],
   "source": [
    "op_tpr['operator_id'].nunique()"
   ]
  },
  {
   "cell_type": "markdown",
   "metadata": {},
   "source": [
    "Existen 273 operadores que en promedio contestan 159 segundos después considerandose éste un tiempo prolongado"
   ]
  },
  {
   "cell_type": "markdown",
   "metadata": {},
   "source": [
    "### Número reducido de llamadas salientes"
   ]
  },
  {
   "cell_type": "code",
   "execution_count": 22,
   "metadata": {},
   "outputs": [
    {
     "data": {
      "text/html": [
       "<div>\n",
       "<style scoped>\n",
       "    .dataframe tbody tr th:only-of-type {\n",
       "        vertical-align: middle;\n",
       "    }\n",
       "\n",
       "    .dataframe tbody tr th {\n",
       "        vertical-align: top;\n",
       "    }\n",
       "\n",
       "    .dataframe thead th {\n",
       "        text-align: right;\n",
       "    }\n",
       "</style>\n",
       "<table border=\"1\" class=\"dataframe\">\n",
       "  <thead>\n",
       "    <tr style=\"text-align: right;\">\n",
       "      <th></th>\n",
       "      <th>user_id</th>\n",
       "      <th>date</th>\n",
       "      <th>direction</th>\n",
       "      <th>internal</th>\n",
       "      <th>operator_id</th>\n",
       "      <th>is_missed_call</th>\n",
       "      <th>calls_count</th>\n",
       "      <th>call_duration</th>\n",
       "      <th>total_call_duration</th>\n",
       "      <th>dt_gmt</th>\n",
       "      <th>date_dt</th>\n",
       "      <th>time_wait</th>\n",
       "    </tr>\n",
       "  </thead>\n",
       "  <tbody>\n",
       "    <tr>\n",
       "      <th>36680</th>\n",
       "      <td>167626</td>\n",
       "      <td>2019-10-01 00:00:00+03:00</td>\n",
       "      <td>out</td>\n",
       "      <td>False</td>\n",
       "      <td>919910</td>\n",
       "      <td>True</td>\n",
       "      <td>10</td>\n",
       "      <td>0</td>\n",
       "      <td>282</td>\n",
       "      <td>2019-09-30 21:00:00+00:00</td>\n",
       "      <td>2019-09-30</td>\n",
       "      <td>282</td>\n",
       "    </tr>\n",
       "    <tr>\n",
       "      <th>12382</th>\n",
       "      <td>166725</td>\n",
       "      <td>2019-10-21 00:00:00+03:00</td>\n",
       "      <td>out</td>\n",
       "      <td>False</td>\n",
       "      <td>889754</td>\n",
       "      <td>False</td>\n",
       "      <td>10</td>\n",
       "      <td>719</td>\n",
       "      <td>850</td>\n",
       "      <td>2019-10-20 21:00:00+00:00</td>\n",
       "      <td>2019-10-20</td>\n",
       "      <td>131</td>\n",
       "    </tr>\n",
       "    <tr>\n",
       "      <th>34579</th>\n",
       "      <td>167497</td>\n",
       "      <td>2019-11-22 00:00:00+03:00</td>\n",
       "      <td>out</td>\n",
       "      <td>False</td>\n",
       "      <td>924948</td>\n",
       "      <td>False</td>\n",
       "      <td>1</td>\n",
       "      <td>45</td>\n",
       "      <td>56</td>\n",
       "      <td>2019-11-21 21:00:00+00:00</td>\n",
       "      <td>2019-11-21</td>\n",
       "      <td>11</td>\n",
       "    </tr>\n",
       "    <tr>\n",
       "      <th>27258</th>\n",
       "      <td>167175</td>\n",
       "      <td>2019-10-07 00:00:00+03:00</td>\n",
       "      <td>out</td>\n",
       "      <td>False</td>\n",
       "      <td>905842</td>\n",
       "      <td>False</td>\n",
       "      <td>4</td>\n",
       "      <td>839</td>\n",
       "      <td>892</td>\n",
       "      <td>2019-10-06 21:00:00+00:00</td>\n",
       "      <td>2019-10-06</td>\n",
       "      <td>53</td>\n",
       "    </tr>\n",
       "    <tr>\n",
       "      <th>6308</th>\n",
       "      <td>166541</td>\n",
       "      <td>2019-10-17 00:00:00+03:00</td>\n",
       "      <td>out</td>\n",
       "      <td>False</td>\n",
       "      <td>908958</td>\n",
       "      <td>True</td>\n",
       "      <td>2</td>\n",
       "      <td>0</td>\n",
       "      <td>2</td>\n",
       "      <td>2019-10-16 21:00:00+00:00</td>\n",
       "      <td>2019-10-16</td>\n",
       "      <td>2</td>\n",
       "    </tr>\n",
       "  </tbody>\n",
       "</table>\n",
       "</div>"
      ],
      "text/plain": [
       "       user_id                      date direction internal  operator_id  \\\n",
       "36680   167626 2019-10-01 00:00:00+03:00       out    False       919910   \n",
       "12382   166725 2019-10-21 00:00:00+03:00       out    False       889754   \n",
       "34579   167497 2019-11-22 00:00:00+03:00       out    False       924948   \n",
       "27258   167175 2019-10-07 00:00:00+03:00       out    False       905842   \n",
       "6308    166541 2019-10-17 00:00:00+03:00       out    False       908958   \n",
       "\n",
       "       is_missed_call  calls_count  call_duration  total_call_duration  \\\n",
       "36680            True           10              0                  282   \n",
       "12382           False           10            719                  850   \n",
       "34579           False            1             45                   56   \n",
       "27258           False            4            839                  892   \n",
       "6308             True            2              0                    2   \n",
       "\n",
       "                         dt_gmt     date_dt  time_wait  \n",
       "36680 2019-09-30 21:00:00+00:00  2019-09-30        282  \n",
       "12382 2019-10-20 21:00:00+00:00  2019-10-20        131  \n",
       "34579 2019-11-21 21:00:00+00:00  2019-11-21         11  \n",
       "27258 2019-10-06 21:00:00+00:00  2019-10-06         53  \n",
       "6308  2019-10-16 21:00:00+00:00  2019-10-16          2  "
      ]
     },
     "execution_count": 22,
     "metadata": {},
     "output_type": "execute_result"
    }
   ],
   "source": [
    "calls_out = dataset[dataset['direction']=='out']\n",
    "calls_out.sample(5)"
   ]
  },
  {
   "cell_type": "code",
   "execution_count": 23,
   "metadata": {},
   "outputs": [
    {
     "data": {
      "text/html": [
       "<div>\n",
       "<style scoped>\n",
       "    .dataframe tbody tr th:only-of-type {\n",
       "        vertical-align: middle;\n",
       "    }\n",
       "\n",
       "    .dataframe tbody tr th {\n",
       "        vertical-align: top;\n",
       "    }\n",
       "\n",
       "    .dataframe thead th {\n",
       "        text-align: right;\n",
       "    }\n",
       "</style>\n",
       "<table border=\"1\" class=\"dataframe\">\n",
       "  <thead>\n",
       "    <tr style=\"text-align: right;\">\n",
       "      <th></th>\n",
       "      <th>operator_id</th>\n",
       "      <th>direction</th>\n",
       "    </tr>\n",
       "  </thead>\n",
       "  <tbody>\n",
       "    <tr>\n",
       "      <th>201</th>\n",
       "      <td>905538</td>\n",
       "      <td>191</td>\n",
       "    </tr>\n",
       "    <tr>\n",
       "      <th>173</th>\n",
       "      <td>902742</td>\n",
       "      <td>65</td>\n",
       "    </tr>\n",
       "    <tr>\n",
       "      <th>744</th>\n",
       "      <td>948182</td>\n",
       "      <td>50</td>\n",
       "    </tr>\n",
       "    <tr>\n",
       "      <th>113</th>\n",
       "      <td>896384</td>\n",
       "      <td>3</td>\n",
       "    </tr>\n",
       "    <tr>\n",
       "      <th>638</th>\n",
       "      <td>940782</td>\n",
       "      <td>4</td>\n",
       "    </tr>\n",
       "  </tbody>\n",
       "</table>\n",
       "</div>"
      ],
      "text/plain": [
       "     operator_id  direction\n",
       "201       905538        191\n",
       "173       902742         65\n",
       "744       948182         50\n",
       "113       896384          3\n",
       "638       940782          4"
      ]
     },
     "execution_count": 23,
     "metadata": {},
     "output_type": "execute_result"
    }
   ],
   "source": [
    "op_call_out = calls_out.groupby('operator_id')['direction'].count()\n",
    "op_call_out = op_call_out.reset_index()\n",
    "op_call_out.sample(5)"
   ]
  },
  {
   "cell_type": "code",
   "execution_count": 24,
   "metadata": {},
   "outputs": [
    {
     "data": {
      "image/png": "[encoded data removed]",
      "text/plain": [
       "<Figure size 640x480 with 1 Axes>"
      ]
     },
     "metadata": {},
     "output_type": "display_data"
    }
   ],
   "source": [
    "op_call_out['direction'].hist(bins = 20)\n",
    "plt.xlabel('out_calls', fontsize = 10)\n",
    "plt.ylabel('operators', fontsize = 10)\n",
    "plt.show()"
   ]
  },
  {
   "cell_type": "code",
   "execution_count": 25,
   "metadata": {},
   "outputs": [
    {
     "data": {
      "text/plain": [
       "count    882.000000\n",
       "mean      32.667800\n",
       "std       38.145841\n",
       "min        1.000000\n",
       "25%        5.000000\n",
       "50%       19.000000\n",
       "75%       45.000000\n",
       "max      228.000000\n",
       "Name: direction, dtype: float64"
      ]
     },
     "execution_count": 25,
     "metadata": {},
     "output_type": "execute_result"
    }
   ],
   "source": [
    "op_call_out['direction'].describe()"
   ]
  },
  {
   "cell_type": "code",
   "execution_count": 26,
   "metadata": {},
   "outputs": [
    {
     "name": "stdout",
     "output_type": "stream",
     "text": [
      "Se determina que un número reducido de llamadas será menor al percentil 25:  5.0\n"
     ]
    }
   ],
   "source": [
    "op_call_out_25 = op_call_out['direction'].quantile(0.25)\n",
    "print('Se determina que un número reducido de llamadas será menor al percentil 25: ', op_call_out_25 )"
   ]
  },
  {
   "cell_type": "code",
   "execution_count": 27,
   "metadata": {},
   "outputs": [
    {
     "data": {
      "text/plain": [
       "operator_id    216\n",
       "direction      216\n",
       "dtype: int64"
      ]
     },
     "execution_count": 27,
     "metadata": {},
     "output_type": "execute_result"
    }
   ],
   "source": [
    "op_call_out[op_call_out['direction']<5].count()"
   ]
  },
  {
   "cell_type": "markdown",
   "metadata": {},
   "source": [
    "Existen 216 operadores que han realizado un número de llamadas salientes menor a 5"
   ]
  },
  {
   "cell_type": "markdown",
   "metadata": {},
   "source": [
    "<div class=\"alert alert-block alert-success\">\n",
    "<b>Comentario del revisor: Identificar operadores ineficaces</b> <a class=\"tocSkip\"></a>\n",
    "Excelente trabajo en la definición y cuantificación de los criterios de ineficacia. El uso de percentiles para establecer umbrales es una buena aproximación. Las visualizaciones aquí son particularmente útiles.\n",
    "</div>"
   ]
  },
  {
   "cell_type": "markdown",
   "metadata": {},
   "source": [
    "## Prueba las hipótesis estadísticas"
   ]
  },
  {
   "cell_type": "code",
   "execution_count": 28,
   "metadata": {},
   "outputs": [
    {
     "data": {
      "image/png": "[encoded data removed]",
      "text/plain": [
       "<Figure size 640x480 with 1 Axes>"
      ]
     },
     "metadata": {},
     "output_type": "display_data"
    }
   ],
   "source": [
    "op_miss['is_missed_call'].hist()\n",
    "op_tpr['mean_tw'].hist(alpha = 0.75)\n",
    "op_call_out['direction'].hist(alpha = 0.5)\n",
    "plt.show()"
   ]
  },
  {
   "cell_type": "code",
   "execution_count": 29,
   "metadata": {},
   "outputs": [
    {
     "data": {
      "image/png": "[encoded data removed]",
      "text/plain": [
       "<Figure size 640x480 with 1 Axes>"
      ]
     },
     "metadata": {},
     "output_type": "display_data"
    }
   ],
   "source": [
    "sns.boxplot(op_miss['is_missed_call'])\n",
    "plt.show()"
   ]
  },
  {
   "cell_type": "code",
   "execution_count": 30,
   "metadata": {},
   "outputs": [
    {
     "data": {
      "image/png": "[encoded data removed]",
      "text/plain": [
       "<Figure size 640x480 with 1 Axes>"
      ]
     },
     "metadata": {},
     "output_type": "display_data"
    }
   ],
   "source": [
    "sns.boxplot(op_tpr['mean_tw'])\n",
    "plt.show()"
   ]
  },
  {
   "cell_type": "code",
   "execution_count": 31,
   "metadata": {},
   "outputs": [
    {
     "data": {
      "image/png": "[encoded data removed]",
      "text/plain": [
       "<Figure size 640x480 with 1 Axes>"
      ]
     },
     "metadata": {},
     "output_type": "display_data"
    }
   ],
   "source": [
    "sns.boxplot(op_call_out['direction'])\n",
    "plt.show()"
   ]
  },
  {
   "cell_type": "markdown",
   "metadata": {},
   "source": [
    "### Corrección de valores atípicos"
   ]
  },
  {
   "cell_type": "code",
   "execution_count": 32,
   "metadata": {},
   "outputs": [
    {
     "name": "stdout",
     "output_type": "stream",
     "text": [
      "El número de datos de missed_calls es: 1092\n",
      "\n",
      "El número de datos de corr_missed_calls es: 1011\n"
     ]
    }
   ],
   "source": [
    "#CORRECCION DE VALORES ATIPICOS\n",
    "missed_calls = op_miss['is_missed_call']\n",
    "print (\"El número de datos de missed_calls es:\", len(missed_calls))\n",
    "print()\n",
    "# Calcular pencentiles\n",
    "cuartil3 = missed_calls.quantile(0.75)\n",
    "cuartil1 = missed_calls.quantile(0.25)\n",
    "\n",
    "# Calcular IQR\n",
    "iqr = cuartil3 - cuartil1\n",
    "\n",
    "# Límites upper y lower\n",
    "upper = cuartil3 + (1.5 * iqr)\n",
    "lower = cuartil1 - (1.5 * iqr)\n",
    "\n",
    "#Eliminar outliers\n",
    "corr_missed_calls = missed_calls.where((missed_calls > lower) & (missed_calls < upper), None)\n",
    "corr_missed_calls = corr_missed_calls.dropna()\n",
    "print (\"El número de datos de corr_missed_calls es:\", len(corr_missed_calls))"
   ]
  },
  {
   "cell_type": "code",
   "execution_count": 33,
   "metadata": {},
   "outputs": [
    {
     "name": "stdout",
     "output_type": "stream",
     "text": [
      "El número de datos de op_tpro_tw es: 1092\n",
      "\n",
      "El número de datos de corr_op_tpro_tw es: 938\n"
     ]
    }
   ],
   "source": [
    "#CORRECCION DE VALORES ATIPICOS\n",
    "op_tpro_tw = op_tpro['mean_tw']\n",
    "print (\"El número de datos de op_tpro_tw es:\", len(op_tpro_tw))\n",
    "print()\n",
    "# Calcular pencentiles\n",
    "cuartil3 = op_tpro_tw.quantile(0.75)\n",
    "cuartil1 = op_tpro_tw.quantile(0.25)\n",
    "\n",
    "# Calcular IQR\n",
    "iqr = cuartil3 - cuartil1\n",
    "\n",
    "# Límites upper y lower\n",
    "upper = cuartil3 + (1.5 * iqr)\n",
    "lower = cuartil1 - (1.5 * iqr)\n",
    "\n",
    "#Eliminar outliers\n",
    "corr_op_tpro_tw = op_tpro_tw.where((op_tpro_tw > lower) & (op_tpro_tw < upper), None)\n",
    "corr_op_tpro_tw = corr_op_tpro_tw.dropna()\n",
    "print (\"El número de datos de corr_op_tpro_tw es:\", len(corr_op_tpro_tw))"
   ]
  },
  {
   "cell_type": "code",
   "execution_count": 34,
   "metadata": {},
   "outputs": [
    {
     "name": "stdout",
     "output_type": "stream",
     "text": [
      "El número de datos de op_call_out_d es: 882\n",
      "\n",
      "El número de datos de corr_op_call_out_d es: 829\n"
     ]
    }
   ],
   "source": [
    "#CORRECCION DE VALORES ATIPICOS\n",
    "op_call_out_d = op_call_out['direction']\n",
    "print (\"El número de datos de op_call_out_d es:\", len(op_call_out_d))\n",
    "print()\n",
    "# Calcular pencentiles\n",
    "cuartil3 = op_call_out_d.quantile(0.75)\n",
    "cuartil1 = op_call_out_d.quantile(0.25)\n",
    "\n",
    "# Calcular IQR\n",
    "iqr = cuartil3 - cuartil1\n",
    "\n",
    "# Límites upper y lower\n",
    "upper = cuartil3 + (1.5 * iqr)\n",
    "lower = cuartil1 - (1.5 * iqr)\n",
    "\n",
    "#Eliminar outliers\n",
    "corr_op_call_out_d = op_call_out_d.where((op_call_out_d > lower) & (op_call_out_d < upper), None)\n",
    "corr_op_call_out_d = corr_op_call_out_d.dropna()\n",
    "print (\"El número de datos de corr_op_call_out_d es:\", len(corr_op_call_out_d))"
   ]
  },
  {
   "cell_type": "markdown",
   "metadata": {},
   "source": [
    "### Hipótesis sobre la igualdad de las medias de dos poblaciones\n",
    "\n",
    "La hipotesis nula: Las medias de cada serie son iguales"
   ]
  },
  {
   "cell_type": "markdown",
   "metadata": {},
   "source": [
    "#### Llamadas perdidas vs tiempo prolongado"
   ]
  },
  {
   "cell_type": "code",
   "execution_count": 35,
   "metadata": {},
   "outputs": [
    {
     "name": "stdout",
     "output_type": "stream",
     "text": [
      "Levene's test statistic: 145.93149883302377\n",
      "p-value: 1.8850722300319277e-32\n",
      "Hay evidencia suficiente que sugiera que las varianzas son significativamente diferentes.\n",
      "\n"
     ]
    }
   ],
   "source": [
    "#levene\n",
    "levene_stat, p_value = st.levene(corr_missed_calls, corr_op_tpro_tw)\n",
    "\n",
    "print(\"Levene's test statistic:\", levene_stat)\n",
    "print(\"p-value:\", p_value)\n",
    "\n",
    "if p_value < 0.05:\n",
    "    print(\"Hay evidencia suficiente que sugiera que las varianzas son significativamente diferentes.\")\n",
    "else:\n",
    "    print(\"No hay evidencia suficiente que sugiera que las varianzas son significativamente diferentes. Las varianzas son probablemente similares.\")\n",
    "\n",
    "print()"
   ]
  },
  {
   "cell_type": "code",
   "execution_count": 36,
   "metadata": {},
   "outputs": [
    {
     "name": "stdout",
     "output_type": "stream",
     "text": [
      "valor p:  7.159126130814949e-50\n",
      "Rechazamos la hipótesis nula\n"
     ]
    }
   ],
   "source": [
    "# Prueba las hipótesis\n",
    "alpha = 0.05  # el nivel de significancia estadística crítica\n",
    "\n",
    "# si el valor p es menor que alpha, rechazamos la hipótesis\n",
    "\n",
    "corr_missed_calls = list(corr_missed_calls)\n",
    "corr_op_tpro_tw = list(corr_op_tpro_tw)\n",
    "\n",
    "results = scipy.stats.ttest_ind(corr_missed_calls, corr_op_tpro_tw, equal_var = False) # realizar una prueba\n",
    "\n",
    "print('valor p: ', results.pvalue) # extraer el valor p\n",
    "\n",
    "if results.pvalue < alpha: # comparar el valor p con el umbral\n",
    "    print(\"Rechazamos la hipótesis nula\")\n",
    "else:\n",
    "    print(\"No podemos rechazar la hipótesis nula\") "
   ]
  },
  {
   "cell_type": "markdown",
   "metadata": {},
   "source": [
    "#### Llamadas perdidas vs llamadas salientes"
   ]
  },
  {
   "cell_type": "code",
   "execution_count": 37,
   "metadata": {},
   "outputs": [
    {
     "name": "stdout",
     "output_type": "stream",
     "text": [
      "Levene's test statistic: 2.455343667394975\n",
      "p-value: 0.11729766821563449\n",
      "No hay evidencia suficiente que sugiera que las varianzas son significativamente diferentes. Las varianzas son probablemente similares.\n",
      "\n"
     ]
    }
   ],
   "source": [
    "#levene\n",
    "levene_stat, p_value = st.levene(corr_missed_calls, corr_op_call_out_d)\n",
    "\n",
    "print(\"Levene's test statistic:\", levene_stat)\n",
    "print(\"p-value:\", p_value)\n",
    "\n",
    "if p_value < 0.05:\n",
    "    print(\"Hay evidencia suficiente que sugiera que las varianzas son significativamente diferentes.\")\n",
    "else:\n",
    "    print(\"No hay evidencia suficiente que sugiera que las varianzas son significativamente diferentes. Las varianzas son probablemente similares.\")\n",
    "\n",
    "print()"
   ]
  },
  {
   "cell_type": "code",
   "execution_count": 38,
   "metadata": {},
   "outputs": [
    {
     "name": "stdout",
     "output_type": "stream",
     "text": [
      "valor p:  0.23098303908015927\n",
      "No podemos rechazar la hipótesis nula\n"
     ]
    }
   ],
   "source": [
    "# Prueba las hipótesis\n",
    "alpha = 0.05  # el nivel de significancia estadística crítica\n",
    "\n",
    "# si el valor p es menor que alpha, rechazamos la hipótesis\n",
    "\n",
    "corr_missed_calls = list(corr_missed_calls)\n",
    "corr_op_call_out_d = list(corr_op_call_out_d)\n",
    "\n",
    "results = scipy.stats.ttest_ind(corr_missed_calls, corr_op_call_out_d, equal_var = True) # realizar una prueba\n",
    "\n",
    "print('valor p: ', results.pvalue) # extraer el valor p\n",
    "\n",
    "if results.pvalue < alpha: # comparar el valor p con el umbral\n",
    "    print(\"Rechazamos la hipótesis nula\")\n",
    "else:\n",
    "    print(\"No podemos rechazar la hipótesis nula\") "
   ]
  },
  {
   "cell_type": "markdown",
   "metadata": {},
   "source": [
    "#### Tiempo prolongado vs llamadas salientes"
   ]
  },
  {
   "cell_type": "code",
   "execution_count": 39,
   "metadata": {},
   "outputs": [
    {
     "name": "stdout",
     "output_type": "stream",
     "text": [
      "Levene's test statistic: 138.98479032585786\n",
      "p-value: 6.208361959989518e-31\n",
      "Hay evidencia suficiente que sugiera que las varianzas son significativamente diferentes.\n",
      "\n"
     ]
    }
   ],
   "source": [
    "#levene\n",
    "levene_stat, p_value = st.levene(corr_op_tpro_tw, corr_op_call_out_d)\n",
    "\n",
    "print(\"Levene's test statistic:\", levene_stat)\n",
    "print(\"p-value:\", p_value)\n",
    "\n",
    "if p_value < 0.05:\n",
    "    print(\"Hay evidencia suficiente que sugiera que las varianzas son significativamente diferentes.\")\n",
    "else:\n",
    "    print(\"No hay evidencia suficiente que sugiera que las varianzas son significativamente diferentes. Las varianzas son probablemente similares.\")\n",
    "\n",
    "print()"
   ]
  },
  {
   "cell_type": "code",
   "execution_count": 40,
   "metadata": {},
   "outputs": [
    {
     "name": "stdout",
     "output_type": "stream",
     "text": [
      "valor p:  3.6429895064930558e-53\n",
      "Rechazamos la hipótesis nula\n"
     ]
    }
   ],
   "source": [
    "# Prueba las hipótesis\n",
    "alpha = 0.05  # el nivel de significancia estadística crítica\n",
    "\n",
    "# si el valor p es menor que alpha, rechazamos la hipótesis\n",
    "\n",
    "results = scipy.stats.ttest_ind(corr_op_tpro_tw, corr_op_call_out_d, equal_var = False) # realizar una prueba\n",
    "\n",
    "print('valor p: ', results.pvalue) # extraer el valor p\n",
    "\n",
    "if results.pvalue < alpha: # comparar el valor p con el umbral\n",
    "    print(\"Rechazamos la hipótesis nula\")\n",
    "else:\n",
    "    print(\"No podemos rechazar la hipótesis nula\") "
   ]
  },
  {
   "cell_type": "markdown",
   "metadata": {},
   "source": [
    "\n",
    "<div class=\"alert alert-block alert-success\">\n",
    "<b>Comentario del revisor: Pruebas de hipótesis estadísticas</b> <a class=\"tocSkip\"></a>\n",
    "Has realizado pruebas estadísticas apropiadas, incluyendo la prueba de Levene y la prueba t.\n",
    "</div>\n"
   ]
  },
  {
   "cell_type": "markdown",
   "metadata": {},
   "source": [
    "## Conclusiones"
   ]
  },
  {
   "cell_type": "markdown",
   "metadata": {},
   "source": [
    "* La distribución de datos sirve para cuantificar lo cualitativo, por ejemplo \"numero reducido\", \"prolongado\", \" gran cantidad de llamadas\", lo cual sirve en esta empresa para cuantificar sus estándares de calidad sobre el trabajo de los operadores\n",
    "* Existen 270 operadores que registran más de 97 llamadas perdidas.\n",
    "* Existen 273 operadores que en promedio contestan 159 segundos después considerándose éste un tiempo prolongado\n",
    "* Existen 216 operadores que han realizado un número de llamadas salientes menor a 5\n",
    "* Comparando la media de los operadores con llamadas perdidas y la media de los operadores con pocas llamadas salientes se concluye que son similares, mientras que comparándolas con los operadores con tiempo prolongado sus medias son diferentes. Lo cual puede establecer una relación en el comportamiento de dichos operadores, éstos no atienden llamadas y no realizan llamadas salientes.\n",
    "* Se recomienda reentrenamiento a estos operadores, si su rendimiento sigue igual tendrán que ser reemplazados."
   ]
  },
  {
   "cell_type": "markdown",
   "metadata": {},
   "source": [
    "<div class=\"alert alert-block alert-success\">\n",
    "<b>Comentario del revisor: Conclusiones</b> <a class=\"tocSkip\"></a>\n",
    "Tus conclusiones son claras y están bien respaldadas por el análisis. La recomendación de reentrenamiento es práctica y basada en evidencia.\n",
    "</div>\n"
   ]
  },
  {
   "cell_type": "markdown",
   "metadata": {},
   "source": [
    "## Enlaces"
   ]
  },
  {
   "cell_type": "markdown",
   "metadata": {},
   "source": [
    "### Dashboard Tableau\n",
    "https://public.tableau.com/views/Callme1/Dashboard1?:language=es-ES&publish=yes&:sid=&:redirect=auth&:display_count=n&:origin=viz_share_link\n",
    "<div class=\"alert alert-block alert-success\">\n",
    "<b>Comentario del revisor: Dashboard</b> <a class=\"tocSkip\"></a>\n",
    "El dashboard presenta de manera efectiva información clave sobre la empresa Call me Maybe. Algunos puntos fuertes incluyen:\n",
    "\n",
    "Título claro que identifica la empresa.\n",
    "Uso de un filtro de dirección que permite al usuario interactuar con los datos.\n",
    "Gráfico de barras que muestra la duración de las llamadas, proporcionando una visión clara de la distribución.\n",
    "Gráfico circular que ilustra la proporción de llamadas internas vs externas.\n",
    "\n",
    "Áreas de mejora:\n",
    "\n",
    "El eje Y del gráfico de barras podría beneficiarse de etiquetas más descriptivas. \"Count of Call Duration\" podría cambiarse a \"Número de llamadas\".\n",
    "Considera añadir títulos más descriptivos a los gráficos individuales.\n",
    "El gráfico circular podría beneficiarse de etiquetas de porcentaje para una interpretación más rápida.\n",
    "La paleta de colores es consistente, pero considera usar colores más contrastantes para mejorar la legibilidad.\n",
    "Podrías añadir un resumen o KPIs clave en la parte superior del dashboard para proporcionar un contexto rápido.\n",
    "\n",
    "En general, el dashboard es informativo y bien estructurado. Con algunas mejoras menores en la presentación y etiquetado, podría ser aún más efectivo en comunicar los insights clave.\n",
    "</div>\n",
    "\n",
    "\n",
    "### Presentación\n",
    "https://drive.google.com/file/d/1VcRjLKS9dH0pAHd6spb15NFaILgplGIm/view?usp=sharing"
   ]
  },
  {
   "cell_type": "markdown",
   "metadata": {},
   "source": [
    "<div class=\"alert alert-block alert-success\">\n",
    "<b>Comentario del revisor</b> <a class=\"tocSkip\"></a>\n",
    "Tu proyecto sobre la identificación de operadores ineficaces para CallMeMaybe muestra un análisis detallado y bien estructurado. Aquí están mis observaciones:\n",
    "Puntos fuertes:\n",
    "\n",
    "Excelente preparación y limpieza de datos, incluyendo el manejo de duplicados y valores nulos.\n",
    "Buen uso de visualizaciones para explorar la distribución de los datos.\n",
    "Análisis detallado de los tres criterios de ineficacia: llamadas perdidas, tiempo de espera y llamadas salientes.\n",
    "Uso apropiado de pruebas estadísticas para comparar las diferentes métricas.\n",
    "Conclusiones claras y recomendaciones basadas en el análisis.\n",
    "\n",
    "Áreas de mejora:\n",
    "\n",
    "Considera profundizar en el análisis de las causas subyacentes de la ineficacia de los operadores.\n",
    "Podrías explorar la relación entre las diferentes métricas de ineficacia utilizando análisis de correlación.\n",
    "Sería interesante ver un análisis de cómo la ineficacia varía según la tarifa del cliente o la fecha de registro.\n",
    "\n",
    "El dashboard en Tableau y la presentación son excelentes complementos a tu análisis. Proporcionan una visualización clara de tus hallazgos y facilitarán la comunicación de tus resultados a los stakeholders.\n",
    "    \n",
    "Sigue adelante con tu excelente trabajo analítico.\n",
    "</div>"
   ]
  },
  {
   "cell_type": "markdown",
   "metadata": {},
   "source": []
  }
 ],
 "metadata": {
  "ExecuteTimeLog": [
   {
    "duration": 4282,
    "start_time": "2024-08-01T23:44:00.779Z"
   },
   {
    "duration": 1073,
    "start_time": "2024-08-01T23:44:05.064Z"
   },
   {
    "duration": 0,
    "start_time": "2024-08-01T23:44:06.141Z"
   },
   {
    "duration": 0,
    "start_time": "2024-08-01T23:44:06.143Z"
   },
   {
    "duration": 0,
    "start_time": "2024-08-01T23:44:06.146Z"
   },
   {
    "duration": 0,
    "start_time": "2024-08-01T23:44:06.148Z"
   },
   {
    "duration": 0,
    "start_time": "2024-08-01T23:44:06.150Z"
   },
   {
    "duration": 0,
    "start_time": "2024-08-01T23:44:06.152Z"
   },
   {
    "duration": 0,
    "start_time": "2024-08-01T23:44:06.154Z"
   },
   {
    "duration": 0,
    "start_time": "2024-08-01T23:44:06.156Z"
   },
   {
    "duration": 0,
    "start_time": "2024-08-01T23:44:06.159Z"
   },
   {
    "duration": 1,
    "start_time": "2024-08-01T23:44:06.160Z"
   },
   {
    "duration": 0,
    "start_time": "2024-08-01T23:44:06.163Z"
   },
   {
    "duration": 121,
    "start_time": "2024-08-01T23:47:02.405Z"
   },
   {
    "duration": 122,
    "start_time": "2024-08-01T23:47:11.182Z"
   },
   {
    "duration": 120,
    "start_time": "2024-08-01T23:47:16.098Z"
   },
   {
    "duration": 28,
    "start_time": "2024-08-01T23:53:50.563Z"
   },
   {
    "duration": 692,
    "start_time": "2024-08-01T23:54:03.337Z"
   },
   {
    "duration": 66,
    "start_time": "2024-08-01T23:54:04.033Z"
   },
   {
    "duration": 123,
    "start_time": "2024-08-01T23:54:04.102Z"
   },
   {
    "duration": 79,
    "start_time": "2024-08-01T23:54:04.229Z"
   },
   {
    "duration": 15,
    "start_time": "2024-08-01T23:54:04.324Z"
   },
   {
    "duration": 86,
    "start_time": "2024-08-01T23:54:04.342Z"
   },
   {
    "duration": 112,
    "start_time": "2024-08-01T23:54:04.431Z"
   },
   {
    "duration": 17,
    "start_time": "2024-08-01T23:54:04.546Z"
   },
   {
    "duration": 11,
    "start_time": "2024-08-01T23:54:04.566Z"
   },
   {
    "duration": 257,
    "start_time": "2024-08-01T23:54:04.582Z"
   },
   {
    "duration": 27,
    "start_time": "2024-08-01T23:54:04.842Z"
   },
   {
    "duration": 242,
    "start_time": "2024-08-01T23:54:04.871Z"
   },
   {
    "duration": 15,
    "start_time": "2024-08-01T23:54:05.116Z"
   },
   {
    "duration": 79,
    "start_time": "2024-08-01T23:55:38.737Z"
   },
   {
    "duration": 701,
    "start_time": "2024-08-01T23:55:48.819Z"
   },
   {
    "duration": 67,
    "start_time": "2024-08-01T23:55:49.523Z"
   },
   {
    "duration": 116,
    "start_time": "2024-08-01T23:55:49.593Z"
   },
   {
    "duration": 101,
    "start_time": "2024-08-01T23:55:49.726Z"
   },
   {
    "duration": 17,
    "start_time": "2024-08-01T23:55:49.830Z"
   },
   {
    "duration": 91,
    "start_time": "2024-08-01T23:55:49.850Z"
   },
   {
    "duration": 101,
    "start_time": "2024-08-01T23:55:49.944Z"
   },
   {
    "duration": 18,
    "start_time": "2024-08-01T23:55:50.047Z"
   },
   {
    "duration": 12,
    "start_time": "2024-08-01T23:55:50.068Z"
   },
   {
    "duration": 263,
    "start_time": "2024-08-01T23:55:50.084Z"
   },
   {
    "duration": 28,
    "start_time": "2024-08-01T23:55:50.350Z"
   },
   {
    "duration": 242,
    "start_time": "2024-08-01T23:55:50.381Z"
   },
   {
    "duration": 13,
    "start_time": "2024-08-01T23:55:50.626Z"
   },
   {
    "duration": 364,
    "start_time": "2024-08-01T23:57:21.081Z"
   },
   {
    "duration": 585,
    "start_time": "2024-08-01T23:57:45.055Z"
   },
   {
    "duration": 156,
    "start_time": "2024-08-01T23:57:51.781Z"
   },
   {
    "duration": 8,
    "start_time": "2024-08-02T00:00:06.115Z"
   },
   {
    "duration": 9,
    "start_time": "2024-08-02T00:00:19.650Z"
   },
   {
    "duration": 16,
    "start_time": "2024-08-02T00:00:40.181Z"
   },
   {
    "duration": 195,
    "start_time": "2024-08-02T00:00:54.041Z"
   },
   {
    "duration": 153,
    "start_time": "2024-08-02T00:01:06.561Z"
   },
   {
    "duration": 216,
    "start_time": "2024-08-02T00:01:19.708Z"
   },
   {
    "duration": 212,
    "start_time": "2024-08-02T00:01:57.130Z"
   },
   {
    "duration": 1371,
    "start_time": "2024-08-02T00:05:59.502Z"
   },
   {
    "duration": 26,
    "start_time": "2024-08-02T00:06:00.876Z"
   },
   {
    "duration": 103,
    "start_time": "2024-08-02T00:06:00.905Z"
   },
   {
    "duration": 86,
    "start_time": "2024-08-02T00:06:01.012Z"
   },
   {
    "duration": 30,
    "start_time": "2024-08-02T00:06:01.101Z"
   },
   {
    "duration": 63,
    "start_time": "2024-08-02T00:06:01.135Z"
   },
   {
    "duration": 104,
    "start_time": "2024-08-02T00:06:01.201Z"
   },
   {
    "duration": 17,
    "start_time": "2024-08-02T00:06:01.323Z"
   },
   {
    "duration": 12,
    "start_time": "2024-08-02T00:06:01.343Z"
   },
   {
    "duration": 254,
    "start_time": "2024-08-02T00:06:01.360Z"
   },
   {
    "duration": 25,
    "start_time": "2024-08-02T00:06:01.624Z"
   },
   {
    "duration": 229,
    "start_time": "2024-08-02T00:06:01.652Z"
   },
   {
    "duration": 11,
    "start_time": "2024-08-02T00:06:01.884Z"
   },
   {
    "duration": 236,
    "start_time": "2024-08-02T00:06:01.899Z"
   },
   {
    "duration": 16,
    "start_time": "2024-08-02T00:06:02.138Z"
   },
   {
    "duration": 229,
    "start_time": "2024-08-02T00:06:02.157Z"
   },
   {
    "duration": 234,
    "start_time": "2024-08-02T00:06:02.389Z"
   },
   {
    "duration": 4848,
    "start_time": "2024-08-04T16:56:21.708Z"
   },
   {
    "duration": 26,
    "start_time": "2024-08-04T16:56:26.560Z"
   },
   {
    "duration": 118,
    "start_time": "2024-08-04T16:56:26.588Z"
   },
   {
    "duration": 98,
    "start_time": "2024-08-04T16:56:26.710Z"
   },
   {
    "duration": 29,
    "start_time": "2024-08-04T16:56:26.811Z"
   },
   {
    "duration": 61,
    "start_time": "2024-08-04T16:56:26.843Z"
   },
   {
    "duration": 136,
    "start_time": "2024-08-04T16:56:26.907Z"
   },
   {
    "duration": 634,
    "start_time": "2024-08-04T16:56:27.046Z"
   },
   {
    "duration": 0,
    "start_time": "2024-08-04T16:56:27.683Z"
   },
   {
    "duration": 0,
    "start_time": "2024-08-04T16:56:27.685Z"
   },
   {
    "duration": 0,
    "start_time": "2024-08-04T16:56:27.688Z"
   },
   {
    "duration": 0,
    "start_time": "2024-08-04T16:56:27.691Z"
   },
   {
    "duration": 0,
    "start_time": "2024-08-04T16:56:27.693Z"
   },
   {
    "duration": 0,
    "start_time": "2024-08-04T16:56:27.695Z"
   },
   {
    "duration": 0,
    "start_time": "2024-08-04T16:56:27.698Z"
   },
   {
    "duration": 0,
    "start_time": "2024-08-04T16:56:27.699Z"
   },
   {
    "duration": 0,
    "start_time": "2024-08-04T16:56:27.702Z"
   },
   {
    "duration": 0,
    "start_time": "2024-08-04T16:56:27.735Z"
   },
   {
    "duration": 5,
    "start_time": "2024-08-04T16:58:24.836Z"
   },
   {
    "duration": 37,
    "start_time": "2024-08-04T16:58:41.797Z"
   },
   {
    "duration": 1241,
    "start_time": "2024-08-04T16:58:52.442Z"
   },
   {
    "duration": 22,
    "start_time": "2024-08-04T16:58:53.686Z"
   },
   {
    "duration": 108,
    "start_time": "2024-08-04T16:58:53.711Z"
   },
   {
    "duration": 78,
    "start_time": "2024-08-04T16:58:53.833Z"
   },
   {
    "duration": 29,
    "start_time": "2024-08-04T16:58:53.914Z"
   },
   {
    "duration": 59,
    "start_time": "2024-08-04T16:58:53.946Z"
   },
   {
    "duration": 115,
    "start_time": "2024-08-04T16:58:54.007Z"
   },
   {
    "duration": 38,
    "start_time": "2024-08-04T16:58:54.135Z"
   },
   {
    "duration": 16,
    "start_time": "2024-08-04T16:58:54.176Z"
   },
   {
    "duration": 38,
    "start_time": "2024-08-04T16:58:54.197Z"
   },
   {
    "duration": 236,
    "start_time": "2024-08-04T16:58:54.238Z"
   },
   {
    "duration": 27,
    "start_time": "2024-08-04T16:58:54.477Z"
   },
   {
    "duration": 223,
    "start_time": "2024-08-04T16:58:54.507Z"
   },
   {
    "duration": 12,
    "start_time": "2024-08-04T16:58:54.735Z"
   },
   {
    "duration": 236,
    "start_time": "2024-08-04T16:58:54.750Z"
   },
   {
    "duration": 15,
    "start_time": "2024-08-04T16:58:54.990Z"
   },
   {
    "duration": 226,
    "start_time": "2024-08-04T16:58:55.008Z"
   },
   {
    "duration": 221,
    "start_time": "2024-08-04T16:58:55.237Z"
   },
   {
    "duration": 11,
    "start_time": "2024-08-04T16:59:54.242Z"
   },
   {
    "duration": 140,
    "start_time": "2024-08-04T17:00:27.547Z"
   },
   {
    "duration": 12,
    "start_time": "2024-08-04T17:02:41.612Z"
   },
   {
    "duration": 12,
    "start_time": "2024-08-04T17:03:49.681Z"
   },
   {
    "duration": 7,
    "start_time": "2024-08-04T17:07:22.131Z"
   },
   {
    "duration": 5,
    "start_time": "2024-08-04T17:07:34.316Z"
   },
   {
    "duration": 7,
    "start_time": "2024-08-04T17:07:43.276Z"
   },
   {
    "duration": 7,
    "start_time": "2024-08-04T17:12:54.261Z"
   },
   {
    "duration": 7,
    "start_time": "2024-08-04T17:14:04.370Z"
   },
   {
    "duration": 7,
    "start_time": "2024-08-04T17:14:10.076Z"
   },
   {
    "duration": 7,
    "start_time": "2024-08-04T17:14:43.642Z"
   },
   {
    "duration": 21,
    "start_time": "2024-08-04T17:16:46.048Z"
   },
   {
    "duration": 22,
    "start_time": "2024-08-04T17:17:16.423Z"
   },
   {
    "duration": 193,
    "start_time": "2024-08-04T17:19:17.182Z"
   },
   {
    "duration": 15,
    "start_time": "2024-08-04T17:20:01.793Z"
   },
   {
    "duration": 16,
    "start_time": "2024-08-04T17:20:54.216Z"
   },
   {
    "duration": 24,
    "start_time": "2024-08-04T17:24:43.813Z"
   },
   {
    "duration": 25,
    "start_time": "2024-08-04T17:24:49.126Z"
   },
   {
    "duration": 168,
    "start_time": "2024-08-04T17:25:58.837Z"
   },
   {
    "duration": 17,
    "start_time": "2024-08-04T17:26:51.288Z"
   },
   {
    "duration": 13,
    "start_time": "2024-08-04T17:26:58.018Z"
   },
   {
    "duration": 19,
    "start_time": "2024-08-04T17:27:12.510Z"
   },
   {
    "duration": 17,
    "start_time": "2024-08-04T17:27:40.533Z"
   },
   {
    "duration": 173,
    "start_time": "2024-08-04T17:27:50.250Z"
   },
   {
    "duration": 20,
    "start_time": "2024-08-04T17:28:06.603Z"
   },
   {
    "duration": 11,
    "start_time": "2024-08-04T17:28:23.890Z"
   },
   {
    "duration": 6,
    "start_time": "2024-08-04T17:31:15.835Z"
   },
   {
    "duration": 6,
    "start_time": "2024-08-04T17:31:31.765Z"
   },
   {
    "duration": 6,
    "start_time": "2024-08-04T17:31:53.080Z"
   },
   {
    "duration": 9,
    "start_time": "2024-08-04T17:32:37.575Z"
   },
   {
    "duration": 6,
    "start_time": "2024-08-04T17:32:50.160Z"
   },
   {
    "duration": 6,
    "start_time": "2024-08-04T17:33:00.870Z"
   },
   {
    "duration": 12,
    "start_time": "2024-08-04T17:33:10.020Z"
   },
   {
    "duration": 172,
    "start_time": "2024-08-04T17:33:32.745Z"
   },
   {
    "duration": 220,
    "start_time": "2024-08-04T17:33:39.999Z"
   },
   {
    "duration": 1185,
    "start_time": "2024-08-04T17:45:51.996Z"
   },
   {
    "duration": 24,
    "start_time": "2024-08-04T17:45:53.184Z"
   },
   {
    "duration": 117,
    "start_time": "2024-08-04T17:45:53.212Z"
   },
   {
    "duration": 98,
    "start_time": "2024-08-04T17:45:53.337Z"
   },
   {
    "duration": 15,
    "start_time": "2024-08-04T17:45:53.437Z"
   },
   {
    "duration": 85,
    "start_time": "2024-08-04T17:45:53.455Z"
   },
   {
    "duration": 97,
    "start_time": "2024-08-04T17:45:53.543Z"
   },
   {
    "duration": 44,
    "start_time": "2024-08-04T17:45:53.643Z"
   },
   {
    "duration": 44,
    "start_time": "2024-08-04T17:45:53.690Z"
   },
   {
    "duration": 11,
    "start_time": "2024-08-04T17:45:53.740Z"
   },
   {
    "duration": 239,
    "start_time": "2024-08-04T17:45:53.757Z"
   },
   {
    "duration": 11,
    "start_time": "2024-08-04T17:45:53.999Z"
   },
   {
    "duration": 24,
    "start_time": "2024-08-04T17:45:54.013Z"
   },
   {
    "duration": 28,
    "start_time": "2024-08-04T17:45:54.039Z"
   },
   {
    "duration": 243,
    "start_time": "2024-08-04T17:45:54.070Z"
   },
   {
    "duration": 25,
    "start_time": "2024-08-04T17:45:54.316Z"
   },
   {
    "duration": 6,
    "start_time": "2024-08-04T17:45:54.344Z"
   },
   {
    "duration": 22,
    "start_time": "2024-08-04T17:45:54.353Z"
   },
   {
    "duration": 17,
    "start_time": "2024-08-04T17:45:54.377Z"
   },
   {
    "duration": 26,
    "start_time": "2024-08-04T17:45:54.435Z"
   },
   {
    "duration": 15,
    "start_time": "2024-08-04T17:45:54.464Z"
   },
   {
    "duration": 307,
    "start_time": "2024-08-04T17:45:54.483Z"
   },
   {
    "duration": 11,
    "start_time": "2024-08-04T17:45:54.793Z"
   },
   {
    "duration": 27,
    "start_time": "2024-08-04T17:45:54.807Z"
   },
   {
    "duration": 10,
    "start_time": "2024-08-04T17:45:54.837Z"
   },
   {
    "duration": 318,
    "start_time": "2024-08-05T15:40:58.662Z"
   },
   {
    "duration": 4882,
    "start_time": "2024-08-05T15:41:03.473Z"
   },
   {
    "duration": 28,
    "start_time": "2024-08-05T15:41:08.359Z"
   },
   {
    "duration": 132,
    "start_time": "2024-08-05T15:41:08.391Z"
   },
   {
    "duration": 101,
    "start_time": "2024-08-05T15:41:08.529Z"
   },
   {
    "duration": 15,
    "start_time": "2024-08-05T15:41:08.633Z"
   },
   {
    "duration": 88,
    "start_time": "2024-08-05T15:41:08.651Z"
   },
   {
    "duration": 104,
    "start_time": "2024-08-05T15:41:08.742Z"
   },
   {
    "duration": 58,
    "start_time": "2024-08-05T15:41:08.849Z"
   },
   {
    "duration": 21,
    "start_time": "2024-08-05T15:41:08.910Z"
   },
   {
    "duration": 11,
    "start_time": "2024-08-05T15:41:08.938Z"
   },
   {
    "duration": 278,
    "start_time": "2024-08-05T15:41:08.955Z"
   },
   {
    "duration": 11,
    "start_time": "2024-08-05T15:41:09.236Z"
   },
   {
    "duration": 7,
    "start_time": "2024-08-05T15:41:09.250Z"
   },
   {
    "duration": 56,
    "start_time": "2024-08-05T15:41:09.261Z"
   },
   {
    "duration": 219,
    "start_time": "2024-08-05T15:41:09.320Z"
   },
   {
    "duration": 13,
    "start_time": "2024-08-05T15:41:09.542Z"
   },
   {
    "duration": 7,
    "start_time": "2024-08-05T15:41:09.558Z"
   },
   {
    "duration": 55,
    "start_time": "2024-08-05T15:41:09.569Z"
   },
   {
    "duration": 17,
    "start_time": "2024-08-05T15:41:09.627Z"
   },
   {
    "duration": 59,
    "start_time": "2024-08-05T15:41:09.647Z"
   },
   {
    "duration": 15,
    "start_time": "2024-08-05T15:41:09.708Z"
   },
   {
    "duration": 235,
    "start_time": "2024-08-05T15:41:09.726Z"
   },
   {
    "duration": 11,
    "start_time": "2024-08-05T15:41:09.964Z"
   },
   {
    "duration": 7,
    "start_time": "2024-08-05T15:41:09.978Z"
   },
   {
    "duration": 11,
    "start_time": "2024-08-05T15:41:10.008Z"
   },
   {
    "duration": 278,
    "start_time": "2024-08-05T15:41:10.023Z"
   },
   {
    "duration": 198,
    "start_time": "2024-08-05T15:48:12.968Z"
   },
   {
    "duration": 241,
    "start_time": "2024-08-05T15:48:47.447Z"
   },
   {
    "duration": 14,
    "start_time": "2024-08-05T15:49:31.281Z"
   },
   {
    "duration": 13,
    "start_time": "2024-08-05T15:49:32.810Z"
   },
   {
    "duration": 250,
    "start_time": "2024-08-05T15:49:43.506Z"
   },
   {
    "duration": 14,
    "start_time": "2024-08-05T15:50:25.403Z"
   },
   {
    "duration": 1305,
    "start_time": "2024-08-05T15:50:29.305Z"
   },
   {
    "duration": 23,
    "start_time": "2024-08-05T15:50:30.614Z"
   },
   {
    "duration": 108,
    "start_time": "2024-08-05T15:50:30.640Z"
   },
   {
    "duration": 98,
    "start_time": "2024-08-05T15:50:30.751Z"
   },
   {
    "duration": 15,
    "start_time": "2024-08-05T15:50:30.853Z"
   },
   {
    "duration": 83,
    "start_time": "2024-08-05T15:50:30.871Z"
   },
   {
    "duration": 106,
    "start_time": "2024-08-05T15:50:30.957Z"
   },
   {
    "duration": 51,
    "start_time": "2024-08-05T15:50:31.066Z"
   },
   {
    "duration": 16,
    "start_time": "2024-08-05T15:50:31.121Z"
   },
   {
    "duration": 13,
    "start_time": "2024-08-05T15:50:31.140Z"
   },
   {
    "duration": 261,
    "start_time": "2024-08-05T15:50:31.156Z"
   },
   {
    "duration": 11,
    "start_time": "2024-08-05T15:50:31.421Z"
   },
   {
    "duration": 6,
    "start_time": "2024-08-05T15:50:31.435Z"
   },
   {
    "duration": 60,
    "start_time": "2024-08-05T15:50:31.449Z"
   },
   {
    "duration": 224,
    "start_time": "2024-08-05T15:50:31.512Z"
   },
   {
    "duration": 15,
    "start_time": "2024-08-05T15:50:31.743Z"
   },
   {
    "duration": 6,
    "start_time": "2024-08-05T15:50:31.761Z"
   },
   {
    "duration": 50,
    "start_time": "2024-08-05T15:50:31.771Z"
   },
   {
    "duration": 482,
    "start_time": "2024-08-05T15:50:31.824Z"
   },
   {
    "duration": 0,
    "start_time": "2024-08-05T15:50:32.310Z"
   },
   {
    "duration": 0,
    "start_time": "2024-08-05T15:50:32.312Z"
   },
   {
    "duration": 0,
    "start_time": "2024-08-05T15:50:32.315Z"
   },
   {
    "duration": 0,
    "start_time": "2024-08-05T15:50:32.316Z"
   },
   {
    "duration": 0,
    "start_time": "2024-08-05T15:50:32.318Z"
   },
   {
    "duration": 0,
    "start_time": "2024-08-05T15:50:32.319Z"
   },
   {
    "duration": 0,
    "start_time": "2024-08-05T15:50:32.320Z"
   },
   {
    "duration": 0,
    "start_time": "2024-08-05T15:50:32.325Z"
   },
   {
    "duration": 0,
    "start_time": "2024-08-05T15:50:32.327Z"
   },
   {
    "duration": 1308,
    "start_time": "2024-08-05T15:50:57.455Z"
   },
   {
    "duration": 40,
    "start_time": "2024-08-05T15:50:58.766Z"
   },
   {
    "duration": 107,
    "start_time": "2024-08-05T15:50:58.809Z"
   },
   {
    "duration": 96,
    "start_time": "2024-08-05T15:50:58.919Z"
   },
   {
    "duration": 16,
    "start_time": "2024-08-05T15:50:59.021Z"
   },
   {
    "duration": 90,
    "start_time": "2024-08-05T15:50:59.040Z"
   },
   {
    "duration": 100,
    "start_time": "2024-08-05T15:50:59.133Z"
   },
   {
    "duration": 38,
    "start_time": "2024-08-05T15:50:59.236Z"
   },
   {
    "duration": 43,
    "start_time": "2024-08-05T15:50:59.277Z"
   },
   {
    "duration": 13,
    "start_time": "2024-08-05T15:50:59.323Z"
   },
   {
    "duration": 256,
    "start_time": "2024-08-05T15:50:59.340Z"
   },
   {
    "duration": 17,
    "start_time": "2024-08-05T15:50:59.599Z"
   },
   {
    "duration": 11,
    "start_time": "2024-08-05T15:50:59.618Z"
   },
   {
    "duration": 24,
    "start_time": "2024-08-05T15:50:59.635Z"
   },
   {
    "duration": 258,
    "start_time": "2024-08-05T15:50:59.662Z"
   },
   {
    "duration": 12,
    "start_time": "2024-08-05T15:50:59.925Z"
   },
   {
    "duration": 6,
    "start_time": "2024-08-05T15:50:59.940Z"
   },
   {
    "duration": 20,
    "start_time": "2024-08-05T15:50:59.949Z"
   },
   {
    "duration": 14,
    "start_time": "2024-08-05T15:51:00.007Z"
   },
   {
    "duration": 484,
    "start_time": "2024-08-05T15:51:00.024Z"
   },
   {
    "duration": 0,
    "start_time": "2024-08-05T15:51:00.516Z"
   },
   {
    "duration": 0,
    "start_time": "2024-08-05T15:51:00.518Z"
   },
   {
    "duration": 0,
    "start_time": "2024-08-05T15:51:00.521Z"
   },
   {
    "duration": 0,
    "start_time": "2024-08-05T15:51:00.523Z"
   },
   {
    "duration": 0,
    "start_time": "2024-08-05T15:51:00.527Z"
   },
   {
    "duration": 0,
    "start_time": "2024-08-05T15:51:00.529Z"
   },
   {
    "duration": 0,
    "start_time": "2024-08-05T15:51:00.532Z"
   },
   {
    "duration": 0,
    "start_time": "2024-08-05T15:51:00.537Z"
   },
   {
    "duration": 13,
    "start_time": "2024-08-05T15:51:10.724Z"
   },
   {
    "duration": 1229,
    "start_time": "2024-08-05T15:51:14.669Z"
   },
   {
    "duration": 24,
    "start_time": "2024-08-05T15:51:15.902Z"
   },
   {
    "duration": 107,
    "start_time": "2024-08-05T15:51:15.932Z"
   },
   {
    "duration": 92,
    "start_time": "2024-08-05T15:51:16.043Z"
   },
   {
    "duration": 16,
    "start_time": "2024-08-05T15:51:16.138Z"
   },
   {
    "duration": 89,
    "start_time": "2024-08-05T15:51:16.157Z"
   },
   {
    "duration": 99,
    "start_time": "2024-08-05T15:51:16.249Z"
   },
   {
    "duration": 56,
    "start_time": "2024-08-05T15:51:16.351Z"
   },
   {
    "duration": 19,
    "start_time": "2024-08-05T15:51:16.411Z"
   },
   {
    "duration": 11,
    "start_time": "2024-08-05T15:51:16.435Z"
   },
   {
    "duration": 258,
    "start_time": "2024-08-05T15:51:16.449Z"
   },
   {
    "duration": 11,
    "start_time": "2024-08-05T15:51:16.711Z"
   },
   {
    "duration": 7,
    "start_time": "2024-08-05T15:51:16.725Z"
   },
   {
    "duration": 25,
    "start_time": "2024-08-05T15:51:16.735Z"
   },
   {
    "duration": 255,
    "start_time": "2024-08-05T15:51:16.763Z"
   },
   {
    "duration": 11,
    "start_time": "2024-08-05T15:51:17.022Z"
   },
   {
    "duration": 7,
    "start_time": "2024-08-05T15:51:17.036Z"
   },
   {
    "duration": 20,
    "start_time": "2024-08-05T15:51:17.046Z"
   },
   {
    "duration": 13,
    "start_time": "2024-08-05T15:51:17.107Z"
   },
   {
    "duration": 13,
    "start_time": "2024-08-05T15:51:17.123Z"
   },
   {
    "duration": 26,
    "start_time": "2024-08-05T15:51:17.139Z"
   },
   {
    "duration": 113,
    "start_time": "2024-08-05T15:51:17.168Z"
   },
   {
    "duration": 228,
    "start_time": "2024-08-05T15:51:17.285Z"
   },
   {
    "duration": 11,
    "start_time": "2024-08-05T15:51:17.516Z"
   },
   {
    "duration": 6,
    "start_time": "2024-08-05T15:51:17.531Z"
   },
   {
    "duration": 10,
    "start_time": "2024-08-05T15:51:17.540Z"
   },
   {
    "duration": 689,
    "start_time": "2024-08-05T15:51:17.553Z"
   },
   {
    "duration": 0,
    "start_time": "2024-08-05T15:51:18.245Z"
   },
   {
    "duration": 243,
    "start_time": "2024-08-05T15:51:31.891Z"
   },
   {
    "duration": 190,
    "start_time": "2024-08-05T15:52:42.800Z"
   },
   {
    "duration": 27,
    "start_time": "2024-08-05T15:55:50.352Z"
   },
   {
    "duration": 4,
    "start_time": "2024-08-05T15:56:19.815Z"
   },
   {
    "duration": 7,
    "start_time": "2024-08-05T15:56:25.741Z"
   },
   {
    "duration": 8,
    "start_time": "2024-08-05T15:57:00.376Z"
   },
   {
    "duration": 9,
    "start_time": "2024-08-05T15:57:05.900Z"
   },
   {
    "duration": 8,
    "start_time": "2024-08-05T15:57:55.212Z"
   },
   {
    "duration": 242,
    "start_time": "2024-08-05T16:17:07.511Z"
   },
   {
    "duration": 255,
    "start_time": "2024-08-05T16:17:16.952Z"
   },
   {
    "duration": 12,
    "start_time": "2024-08-05T16:20:33.287Z"
   },
   {
    "duration": 150,
    "start_time": "2024-08-05T16:23:01.150Z"
   },
   {
    "duration": 231,
    "start_time": "2024-08-05T16:23:09.319Z"
   },
   {
    "duration": 4329,
    "start_time": "2024-08-05T16:23:33.567Z"
   },
   {
    "duration": 4419,
    "start_time": "2024-08-05T16:23:42.989Z"
   },
   {
    "duration": 707,
    "start_time": "2024-08-05T16:23:54.236Z"
   },
   {
    "duration": 174,
    "start_time": "2024-08-05T16:24:28.440Z"
   },
   {
    "duration": 410,
    "start_time": "2024-08-05T16:24:41.872Z"
   },
   {
    "duration": 174,
    "start_time": "2024-08-05T16:25:57.999Z"
   },
   {
    "duration": 149,
    "start_time": "2024-08-05T16:26:20.215Z"
   },
   {
    "duration": 145,
    "start_time": "2024-08-05T16:26:23.225Z"
   },
   {
    "duration": 125,
    "start_time": "2024-08-05T16:26:26.084Z"
   },
   {
    "duration": 12,
    "start_time": "2024-08-05T16:27:44.373Z"
   },
   {
    "duration": 12,
    "start_time": "2024-08-05T16:28:49.676Z"
   },
   {
    "duration": 8,
    "start_time": "2024-08-05T16:30:34.751Z"
   },
   {
    "duration": 9,
    "start_time": "2024-08-05T16:31:02.691Z"
   },
   {
    "duration": 8,
    "start_time": "2024-08-05T16:31:44.027Z"
   },
   {
    "duration": 258,
    "start_time": "2024-08-05T16:32:12.592Z"
   },
   {
    "duration": 232,
    "start_time": "2024-08-05T16:32:23.117Z"
   },
   {
    "duration": 27,
    "start_time": "2024-08-05T16:35:37.396Z"
   },
   {
    "duration": 4,
    "start_time": "2024-08-05T16:36:20.086Z"
   },
   {
    "duration": 7,
    "start_time": "2024-08-05T16:36:43.134Z"
   },
   {
    "duration": 7,
    "start_time": "2024-08-05T16:37:01.131Z"
   },
   {
    "duration": 8,
    "start_time": "2024-08-05T16:37:38.234Z"
   },
   {
    "duration": 3,
    "start_time": "2024-08-05T16:42:42.075Z"
   },
   {
    "duration": 778,
    "start_time": "2024-08-05T16:43:24.250Z"
   },
   {
    "duration": 1263,
    "start_time": "2024-08-05T16:43:50.571Z"
   },
   {
    "duration": 23,
    "start_time": "2024-08-05T16:43:51.839Z"
   },
   {
    "duration": 108,
    "start_time": "2024-08-05T16:43:51.866Z"
   },
   {
    "duration": 92,
    "start_time": "2024-08-05T16:43:51.977Z"
   },
   {
    "duration": 16,
    "start_time": "2024-08-05T16:43:52.072Z"
   },
   {
    "duration": 66,
    "start_time": "2024-08-05T16:43:52.107Z"
   },
   {
    "duration": 108,
    "start_time": "2024-08-05T16:43:52.177Z"
   },
   {
    "duration": 51,
    "start_time": "2024-08-05T16:43:52.289Z"
   },
   {
    "duration": 19,
    "start_time": "2024-08-05T16:43:52.342Z"
   },
   {
    "duration": 43,
    "start_time": "2024-08-05T16:43:52.368Z"
   },
   {
    "duration": 240,
    "start_time": "2024-08-05T16:43:52.414Z"
   },
   {
    "duration": 12,
    "start_time": "2024-08-05T16:43:52.657Z"
   },
   {
    "duration": 34,
    "start_time": "2024-08-05T16:43:52.671Z"
   },
   {
    "duration": 25,
    "start_time": "2024-08-05T16:43:52.709Z"
   },
   {
    "duration": 221,
    "start_time": "2024-08-05T16:43:52.737Z"
   },
   {
    "duration": 13,
    "start_time": "2024-08-05T16:43:52.961Z"
   },
   {
    "duration": 31,
    "start_time": "2024-08-05T16:43:52.976Z"
   },
   {
    "duration": 21,
    "start_time": "2024-08-05T16:43:53.011Z"
   },
   {
    "duration": 13,
    "start_time": "2024-08-05T16:43:53.035Z"
   },
   {
    "duration": 12,
    "start_time": "2024-08-05T16:43:53.051Z"
   },
   {
    "duration": 26,
    "start_time": "2024-08-05T16:43:53.108Z"
   },
   {
    "duration": 103,
    "start_time": "2024-08-05T16:43:53.137Z"
   },
   {
    "duration": 229,
    "start_time": "2024-08-05T16:43:53.243Z"
   },
   {
    "duration": 11,
    "start_time": "2024-08-05T16:43:53.475Z"
   },
   {
    "duration": 20,
    "start_time": "2024-08-05T16:43:53.489Z"
   },
   {
    "duration": 10,
    "start_time": "2024-08-05T16:43:53.512Z"
   },
   {
    "duration": 264,
    "start_time": "2024-08-05T16:43:53.526Z"
   },
   {
    "duration": 148,
    "start_time": "2024-08-05T16:43:53.806Z"
   },
   {
    "duration": 155,
    "start_time": "2024-08-05T16:43:53.957Z"
   },
   {
    "duration": 143,
    "start_time": "2024-08-05T16:43:54.115Z"
   },
   {
    "duration": 14,
    "start_time": "2024-08-05T16:43:54.261Z"
   },
   {
    "duration": 35,
    "start_time": "2024-08-05T16:43:54.279Z"
   },
   {
    "duration": 14,
    "start_time": "2024-08-05T16:43:54.317Z"
   },
   {
    "duration": 9,
    "start_time": "2024-08-05T16:43:54.335Z"
   },
   {
    "duration": 1160,
    "start_time": "2024-08-05T16:43:54.347Z"
   },
   {
    "duration": 0,
    "start_time": "2024-08-05T16:43:55.510Z"
   },
   {
    "duration": 0,
    "start_time": "2024-08-05T16:43:55.513Z"
   },
   {
    "duration": 0,
    "start_time": "2024-08-05T16:43:55.515Z"
   },
   {
    "duration": 149,
    "start_time": "2024-08-05T16:46:10.476Z"
   },
   {
    "duration": 7,
    "start_time": "2024-08-05T16:46:30.746Z"
   },
   {
    "duration": 4,
    "start_time": "2024-08-05T16:47:35.094Z"
   },
   {
    "duration": 8,
    "start_time": "2024-08-05T16:47:55.830Z"
   },
   {
    "duration": 96,
    "start_time": "2024-08-05T16:48:27.824Z"
   },
   {
    "duration": 8,
    "start_time": "2024-08-05T16:49:46.922Z"
   },
   {
    "duration": 88,
    "start_time": "2024-08-05T16:50:22.785Z"
   },
   {
    "duration": 8,
    "start_time": "2024-08-05T16:50:34.984Z"
   },
   {
    "duration": 8,
    "start_time": "2024-08-05T16:51:15.109Z"
   },
   {
    "duration": 8,
    "start_time": "2024-08-05T16:51:36.423Z"
   },
   {
    "duration": 8,
    "start_time": "2024-08-05T16:51:51.053Z"
   },
   {
    "duration": 5,
    "start_time": "2024-08-05T16:53:44.109Z"
   },
   {
    "duration": 9,
    "start_time": "2024-08-05T16:55:48.764Z"
   },
   {
    "duration": 7,
    "start_time": "2024-08-05T16:56:17.955Z"
   },
   {
    "duration": 26,
    "start_time": "2024-08-05T17:01:29.619Z"
   },
   {
    "duration": 24,
    "start_time": "2024-08-05T17:01:34.225Z"
   },
   {
    "duration": 28,
    "start_time": "2024-08-05T17:02:02.685Z"
   },
   {
    "duration": 30,
    "start_time": "2024-08-05T17:03:44.693Z"
   },
   {
    "duration": 34,
    "start_time": "2024-08-05T17:03:59.923Z"
   },
   {
    "duration": 26,
    "start_time": "2024-08-05T17:04:58.549Z"
   },
   {
    "duration": 13,
    "start_time": "2024-08-05T17:05:06.255Z"
   },
   {
    "duration": 14,
    "start_time": "2024-08-05T17:05:20.364Z"
   },
   {
    "duration": 13,
    "start_time": "2024-08-05T17:05:27.369Z"
   },
   {
    "duration": 7,
    "start_time": "2024-08-05T17:07:52.677Z"
   },
   {
    "duration": 316,
    "start_time": "2024-08-05T18:43:41.170Z"
   },
   {
    "duration": 4991,
    "start_time": "2024-08-05T18:43:50.533Z"
   },
   {
    "duration": 29,
    "start_time": "2024-08-05T18:43:55.529Z"
   },
   {
    "duration": 128,
    "start_time": "2024-08-05T18:43:55.562Z"
   },
   {
    "duration": 97,
    "start_time": "2024-08-05T18:43:55.695Z"
   },
   {
    "duration": 17,
    "start_time": "2024-08-05T18:43:55.807Z"
   },
   {
    "duration": 105,
    "start_time": "2024-08-05T18:43:55.827Z"
   },
   {
    "duration": 102,
    "start_time": "2024-08-05T18:43:55.938Z"
   },
   {
    "duration": 65,
    "start_time": "2024-08-05T18:43:56.043Z"
   },
   {
    "duration": 17,
    "start_time": "2024-08-05T18:43:56.111Z"
   },
   {
    "duration": 12,
    "start_time": "2024-08-05T18:43:56.135Z"
   },
   {
    "duration": 267,
    "start_time": "2024-08-05T18:43:56.150Z"
   },
   {
    "duration": 13,
    "start_time": "2024-08-05T18:43:56.420Z"
   },
   {
    "duration": 8,
    "start_time": "2024-08-05T18:43:56.436Z"
   },
   {
    "duration": 13,
    "start_time": "2024-08-05T18:43:56.448Z"
   },
   {
    "duration": 61,
    "start_time": "2024-08-05T18:43:56.465Z"
   },
   {
    "duration": 217,
    "start_time": "2024-08-05T18:43:56.536Z"
   },
   {
    "duration": 12,
    "start_time": "2024-08-05T18:43:56.756Z"
   },
   {
    "duration": 7,
    "start_time": "2024-08-05T18:43:56.773Z"
   },
   {
    "duration": 20,
    "start_time": "2024-08-05T18:43:56.808Z"
   },
   {
    "duration": 14,
    "start_time": "2024-08-05T18:43:56.832Z"
   },
   {
    "duration": 14,
    "start_time": "2024-08-05T18:43:56.849Z"
   },
   {
    "duration": 65,
    "start_time": "2024-08-05T18:43:56.866Z"
   },
   {
    "duration": 20,
    "start_time": "2024-08-05T18:43:56.935Z"
   },
   {
    "duration": 243,
    "start_time": "2024-08-05T18:43:56.958Z"
   },
   {
    "duration": 12,
    "start_time": "2024-08-05T18:43:57.207Z"
   },
   {
    "duration": 9,
    "start_time": "2024-08-05T18:43:57.223Z"
   },
   {
    "duration": 11,
    "start_time": "2024-08-05T18:43:57.235Z"
   },
   {
    "duration": 1567,
    "start_time": "2024-08-05T18:43:57.255Z"
   },
   {
    "duration": 0,
    "start_time": "2024-08-05T18:43:58.825Z"
   },
   {
    "duration": 0,
    "start_time": "2024-08-05T18:43:58.828Z"
   },
   {
    "duration": 0,
    "start_time": "2024-08-05T18:43:58.830Z"
   },
   {
    "duration": 0,
    "start_time": "2024-08-05T18:43:58.831Z"
   },
   {
    "duration": 0,
    "start_time": "2024-08-05T18:43:58.833Z"
   },
   {
    "duration": 0,
    "start_time": "2024-08-05T18:43:58.835Z"
   },
   {
    "duration": 0,
    "start_time": "2024-08-05T18:43:58.836Z"
   },
   {
    "duration": 0,
    "start_time": "2024-08-05T18:43:58.838Z"
   },
   {
    "duration": 0,
    "start_time": "2024-08-05T18:43:58.842Z"
   },
   {
    "duration": 0,
    "start_time": "2024-08-05T18:43:58.844Z"
   },
   {
    "duration": 0,
    "start_time": "2024-08-05T18:43:58.845Z"
   },
   {
    "duration": 0,
    "start_time": "2024-08-05T18:43:58.847Z"
   },
   {
    "duration": 233,
    "start_time": "2024-08-05T18:44:46.205Z"
   },
   {
    "duration": 317,
    "start_time": "2024-08-05T18:45:16.611Z"
   },
   {
    "duration": 1205,
    "start_time": "2024-08-05T18:45:23.503Z"
   },
   {
    "duration": 210,
    "start_time": "2024-08-05T18:45:38.667Z"
   },
   {
    "duration": 199,
    "start_time": "2024-08-05T18:45:49.570Z"
   },
   {
    "duration": 238,
    "start_time": "2024-08-05T18:46:50.613Z"
   },
   {
    "duration": 233,
    "start_time": "2024-08-05T18:47:10.742Z"
   },
   {
    "duration": 278,
    "start_time": "2024-08-05T18:47:24.338Z"
   },
   {
    "duration": 221,
    "start_time": "2024-08-05T18:48:17.133Z"
   },
   {
    "duration": 232,
    "start_time": "2024-08-05T18:48:24.155Z"
   },
   {
    "duration": 1331,
    "start_time": "2024-08-05T18:48:36.964Z"
   },
   {
    "duration": 33,
    "start_time": "2024-08-05T18:48:38.299Z"
   },
   {
    "duration": 110,
    "start_time": "2024-08-05T18:48:38.335Z"
   },
   {
    "duration": 105,
    "start_time": "2024-08-05T18:48:38.449Z"
   },
   {
    "duration": 17,
    "start_time": "2024-08-05T18:48:38.558Z"
   },
   {
    "duration": 86,
    "start_time": "2024-08-05T18:48:38.578Z"
   },
   {
    "duration": 111,
    "start_time": "2024-08-05T18:48:38.667Z"
   },
   {
    "duration": 58,
    "start_time": "2024-08-05T18:48:38.781Z"
   },
   {
    "duration": 19,
    "start_time": "2024-08-05T18:48:38.842Z"
   },
   {
    "duration": 12,
    "start_time": "2024-08-05T18:48:38.868Z"
   },
   {
    "duration": 247,
    "start_time": "2024-08-05T18:48:38.908Z"
   },
   {
    "duration": 11,
    "start_time": "2024-08-05T18:48:39.159Z"
   },
   {
    "duration": 31,
    "start_time": "2024-08-05T18:48:39.174Z"
   },
   {
    "duration": 17,
    "start_time": "2024-08-05T18:48:39.210Z"
   },
   {
    "duration": 29,
    "start_time": "2024-08-05T18:48:39.230Z"
   },
   {
    "duration": 231,
    "start_time": "2024-08-05T18:48:39.262Z"
   },
   {
    "duration": 20,
    "start_time": "2024-08-05T18:48:39.497Z"
   },
   {
    "duration": 7,
    "start_time": "2024-08-05T18:48:39.521Z"
   },
   {
    "duration": 22,
    "start_time": "2024-08-05T18:48:39.532Z"
   },
   {
    "duration": 48,
    "start_time": "2024-08-05T18:48:39.560Z"
   },
   {
    "duration": 12,
    "start_time": "2024-08-05T18:48:39.611Z"
   },
   {
    "duration": 25,
    "start_time": "2024-08-05T18:48:39.626Z"
   },
   {
    "duration": 116,
    "start_time": "2024-08-05T18:48:39.654Z"
   },
   {
    "duration": 226,
    "start_time": "2024-08-05T18:48:39.773Z"
   },
   {
    "duration": 12,
    "start_time": "2024-08-05T18:48:40.007Z"
   },
   {
    "duration": 7,
    "start_time": "2024-08-05T18:48:40.022Z"
   },
   {
    "duration": 10,
    "start_time": "2024-08-05T18:48:40.033Z"
   },
   {
    "duration": 1536,
    "start_time": "2024-08-05T18:48:40.052Z"
   },
   {
    "duration": 0,
    "start_time": "2024-08-05T18:48:41.592Z"
   },
   {
    "duration": 0,
    "start_time": "2024-08-05T18:48:41.597Z"
   },
   {
    "duration": 0,
    "start_time": "2024-08-05T18:48:41.605Z"
   },
   {
    "duration": 0,
    "start_time": "2024-08-05T18:48:41.608Z"
   },
   {
    "duration": 0,
    "start_time": "2024-08-05T18:48:41.610Z"
   },
   {
    "duration": 0,
    "start_time": "2024-08-05T18:48:41.612Z"
   },
   {
    "duration": 0,
    "start_time": "2024-08-05T18:48:41.613Z"
   },
   {
    "duration": 1,
    "start_time": "2024-08-05T18:48:41.614Z"
   },
   {
    "duration": 0,
    "start_time": "2024-08-05T18:48:41.616Z"
   },
   {
    "duration": 0,
    "start_time": "2024-08-05T18:48:41.618Z"
   },
   {
    "duration": 0,
    "start_time": "2024-08-05T18:48:41.619Z"
   },
   {
    "duration": 0,
    "start_time": "2024-08-05T18:48:41.621Z"
   },
   {
    "duration": 219,
    "start_time": "2024-08-05T18:49:00.406Z"
   },
   {
    "duration": 213,
    "start_time": "2024-08-05T18:49:41.474Z"
   },
   {
    "duration": 213,
    "start_time": "2024-08-05T18:50:22.899Z"
   },
   {
    "duration": 254,
    "start_time": "2024-08-05T18:51:08.300Z"
   },
   {
    "duration": 228,
    "start_time": "2024-08-05T18:51:18.760Z"
   },
   {
    "duration": 188,
    "start_time": "2024-08-05T18:52:03.995Z"
   },
   {
    "duration": 285,
    "start_time": "2024-08-05T18:52:24.076Z"
   },
   {
    "duration": 297,
    "start_time": "2024-08-05T18:52:48.701Z"
   },
   {
    "duration": 248,
    "start_time": "2024-08-05T18:53:13.806Z"
   },
   {
    "duration": 439,
    "start_time": "2024-08-05T18:56:46.135Z"
   },
   {
    "duration": 413,
    "start_time": "2024-08-05T18:56:54.689Z"
   },
   {
    "duration": 184,
    "start_time": "2024-08-05T19:01:04.757Z"
   },
   {
    "duration": 225,
    "start_time": "2024-08-05T19:01:10.343Z"
   },
   {
    "duration": 18,
    "start_time": "2024-08-05T19:54:27.681Z"
   },
   {
    "duration": 17,
    "start_time": "2024-08-05T19:55:16.143Z"
   },
   {
    "duration": 17,
    "start_time": "2024-08-05T19:56:51.479Z"
   },
   {
    "duration": 16,
    "start_time": "2024-08-05T19:57:09.959Z"
   },
   {
    "duration": 356,
    "start_time": "2024-08-05T19:57:51.519Z"
   },
   {
    "duration": 13,
    "start_time": "2024-08-05T19:58:37.748Z"
   },
   {
    "duration": 6,
    "start_time": "2024-08-05T19:59:33.713Z"
   },
   {
    "duration": 7,
    "start_time": "2024-08-05T20:00:03.695Z"
   },
   {
    "duration": 22,
    "start_time": "2024-08-05T20:00:19.824Z"
   },
   {
    "duration": 6,
    "start_time": "2024-08-05T20:01:01.697Z"
   },
   {
    "duration": 5,
    "start_time": "2024-08-05T20:01:06.678Z"
   },
   {
    "duration": 255,
    "start_time": "2024-08-05T20:01:13.237Z"
   },
   {
    "duration": 11,
    "start_time": "2024-08-05T20:01:22.412Z"
   },
   {
    "duration": 18,
    "start_time": "2024-08-05T20:01:38.210Z"
   },
   {
    "duration": 11,
    "start_time": "2024-08-05T20:03:16.853Z"
   },
   {
    "duration": 8,
    "start_time": "2024-08-05T20:04:48.193Z"
   },
   {
    "duration": 14,
    "start_time": "2024-08-05T20:05:27.936Z"
   },
   {
    "duration": 9,
    "start_time": "2024-08-05T20:07:01.434Z"
   },
   {
    "duration": 7,
    "start_time": "2024-08-05T20:08:35.888Z"
   },
   {
    "duration": 7,
    "start_time": "2024-08-05T20:09:23.009Z"
   },
   {
    "duration": 9,
    "start_time": "2024-08-05T20:09:24.067Z"
   },
   {
    "duration": 11,
    "start_time": "2024-08-05T20:13:21.893Z"
   },
   {
    "duration": 6,
    "start_time": "2024-08-05T20:13:23.638Z"
   },
   {
    "duration": 1321,
    "start_time": "2024-08-05T20:14:13.120Z"
   },
   {
    "duration": 28,
    "start_time": "2024-08-05T20:14:14.446Z"
   },
   {
    "duration": 111,
    "start_time": "2024-08-05T20:14:14.478Z"
   },
   {
    "duration": 90,
    "start_time": "2024-08-05T20:14:14.594Z"
   },
   {
    "duration": 31,
    "start_time": "2024-08-05T20:14:14.687Z"
   },
   {
    "duration": 92,
    "start_time": "2024-08-05T20:14:14.722Z"
   },
   {
    "duration": 96,
    "start_time": "2024-08-05T20:14:14.817Z"
   },
   {
    "duration": 46,
    "start_time": "2024-08-05T20:14:14.916Z"
   },
   {
    "duration": 42,
    "start_time": "2024-08-05T20:14:14.967Z"
   },
   {
    "duration": 12,
    "start_time": "2024-08-05T20:14:15.016Z"
   },
   {
    "duration": 254,
    "start_time": "2024-08-05T20:14:15.034Z"
   },
   {
    "duration": 22,
    "start_time": "2024-08-05T20:14:15.291Z"
   },
   {
    "duration": 7,
    "start_time": "2024-08-05T20:14:15.316Z"
   },
   {
    "duration": 13,
    "start_time": "2024-08-05T20:14:15.327Z"
   },
   {
    "duration": 64,
    "start_time": "2024-08-05T20:14:15.343Z"
   },
   {
    "duration": 16,
    "start_time": "2024-08-05T20:14:15.411Z"
   },
   {
    "duration": 467,
    "start_time": "2024-08-05T20:14:15.430Z"
   },
   {
    "duration": 15,
    "start_time": "2024-08-05T20:14:15.905Z"
   },
   {
    "duration": 8,
    "start_time": "2024-08-05T20:14:15.923Z"
   },
   {
    "duration": 13,
    "start_time": "2024-08-05T20:14:15.934Z"
   },
   {
    "duration": 8,
    "start_time": "2024-08-05T20:14:15.950Z"
   },
   {
    "duration": 67,
    "start_time": "2024-08-05T20:14:15.960Z"
   },
   {
    "duration": 17,
    "start_time": "2024-08-05T20:14:16.030Z"
   },
   {
    "duration": 256,
    "start_time": "2024-08-05T20:14:16.050Z"
   },
   {
    "duration": 13,
    "start_time": "2024-08-05T20:14:16.309Z"
   },
   {
    "duration": 8,
    "start_time": "2024-08-05T20:14:16.325Z"
   },
   {
    "duration": 15,
    "start_time": "2024-08-05T20:14:16.336Z"
   },
   {
    "duration": 1526,
    "start_time": "2024-08-05T20:14:16.359Z"
   },
   {
    "duration": 0,
    "start_time": "2024-08-05T20:14:17.889Z"
   },
   {
    "duration": 0,
    "start_time": "2024-08-05T20:14:17.896Z"
   },
   {
    "duration": 0,
    "start_time": "2024-08-05T20:14:17.898Z"
   },
   {
    "duration": 0,
    "start_time": "2024-08-05T20:14:17.906Z"
   },
   {
    "duration": 0,
    "start_time": "2024-08-05T20:14:17.908Z"
   },
   {
    "duration": 0,
    "start_time": "2024-08-05T20:14:17.910Z"
   },
   {
    "duration": 0,
    "start_time": "2024-08-05T20:14:17.913Z"
   },
   {
    "duration": 0,
    "start_time": "2024-08-05T20:14:17.916Z"
   },
   {
    "duration": 0,
    "start_time": "2024-08-05T20:14:17.918Z"
   },
   {
    "duration": 0,
    "start_time": "2024-08-05T20:14:17.919Z"
   },
   {
    "duration": 0,
    "start_time": "2024-08-05T20:14:17.921Z"
   },
   {
    "duration": 0,
    "start_time": "2024-08-05T20:14:17.926Z"
   },
   {
    "duration": 278,
    "start_time": "2024-08-05T20:16:03.074Z"
   },
   {
    "duration": 246,
    "start_time": "2024-08-05T20:16:09.376Z"
   },
   {
    "duration": 144,
    "start_time": "2024-08-05T20:17:13.066Z"
   },
   {
    "duration": 149,
    "start_time": "2024-08-05T20:17:15.360Z"
   },
   {
    "duration": 138,
    "start_time": "2024-08-05T20:17:18.035Z"
   },
   {
    "duration": 1318,
    "start_time": "2024-08-05T20:17:26.629Z"
   },
   {
    "duration": 24,
    "start_time": "2024-08-05T20:17:27.951Z"
   },
   {
    "duration": 117,
    "start_time": "2024-08-05T20:17:27.978Z"
   },
   {
    "duration": 88,
    "start_time": "2024-08-05T20:17:28.100Z"
   },
   {
    "duration": 20,
    "start_time": "2024-08-05T20:17:28.207Z"
   },
   {
    "duration": 77,
    "start_time": "2024-08-05T20:17:28.233Z"
   },
   {
    "duration": 114,
    "start_time": "2024-08-05T20:17:28.314Z"
   },
   {
    "duration": 38,
    "start_time": "2024-08-05T20:17:28.433Z"
   },
   {
    "duration": 41,
    "start_time": "2024-08-05T20:17:28.474Z"
   },
   {
    "duration": 12,
    "start_time": "2024-08-05T20:17:28.522Z"
   },
   {
    "duration": 273,
    "start_time": "2024-08-05T20:17:28.537Z"
   },
   {
    "duration": 10,
    "start_time": "2024-08-05T20:17:28.814Z"
   },
   {
    "duration": 12,
    "start_time": "2024-08-05T20:17:28.826Z"
   },
   {
    "duration": 10,
    "start_time": "2024-08-05T20:17:28.842Z"
   },
   {
    "duration": 63,
    "start_time": "2024-08-05T20:17:28.855Z"
   },
   {
    "duration": 19,
    "start_time": "2024-08-05T20:17:28.921Z"
   },
   {
    "duration": 452,
    "start_time": "2024-08-05T20:17:28.945Z"
   },
   {
    "duration": 12,
    "start_time": "2024-08-05T20:17:29.407Z"
   },
   {
    "duration": 7,
    "start_time": "2024-08-05T20:17:29.421Z"
   },
   {
    "duration": 13,
    "start_time": "2024-08-05T20:17:29.432Z"
   },
   {
    "duration": 6,
    "start_time": "2024-08-05T20:17:29.449Z"
   },
   {
    "duration": 71,
    "start_time": "2024-08-05T20:17:29.459Z"
   },
   {
    "duration": 16,
    "start_time": "2024-08-05T20:17:29.534Z"
   },
   {
    "duration": 249,
    "start_time": "2024-08-05T20:17:29.553Z"
   },
   {
    "duration": 15,
    "start_time": "2024-08-05T20:17:29.807Z"
   },
   {
    "duration": 6,
    "start_time": "2024-08-05T20:17:29.825Z"
   },
   {
    "duration": 10,
    "start_time": "2024-08-05T20:17:29.834Z"
   },
   {
    "duration": 293,
    "start_time": "2024-08-05T20:17:29.852Z"
   },
   {
    "duration": 162,
    "start_time": "2024-08-05T20:17:30.148Z"
   },
   {
    "duration": 158,
    "start_time": "2024-08-05T20:17:30.314Z"
   },
   {
    "duration": 169,
    "start_time": "2024-08-05T20:17:30.475Z"
   },
   {
    "duration": 15,
    "start_time": "2024-08-05T20:17:30.649Z"
   },
   {
    "duration": 11,
    "start_time": "2024-08-05T20:17:30.667Z"
   },
   {
    "duration": 33,
    "start_time": "2024-08-05T20:17:30.682Z"
   },
   {
    "duration": 9,
    "start_time": "2024-08-05T20:17:30.719Z"
   },
   {
    "duration": 10,
    "start_time": "2024-08-05T20:17:30.732Z"
   },
   {
    "duration": 9,
    "start_time": "2024-08-05T20:17:30.746Z"
   },
   {
    "duration": 52,
    "start_time": "2024-08-05T20:17:30.758Z"
   },
   {
    "duration": 8,
    "start_time": "2024-08-05T20:17:30.812Z"
   },
   {
    "duration": 8,
    "start_time": "2024-08-05T20:17:30.823Z"
   },
   {
    "duration": 739,
    "start_time": "2024-08-05T20:18:49.950Z"
   },
   {
    "duration": 1577,
    "start_time": "2024-08-05T20:22:38.111Z"
   },
   {
    "duration": 32,
    "start_time": "2024-08-05T20:22:39.696Z"
   },
   {
    "duration": 133,
    "start_time": "2024-08-05T20:22:39.734Z"
   },
   {
    "duration": 111,
    "start_time": "2024-08-05T20:22:39.871Z"
   },
   {
    "duration": 30,
    "start_time": "2024-08-05T20:22:39.986Z"
   },
   {
    "duration": 96,
    "start_time": "2024-08-05T20:22:40.019Z"
   },
   {
    "duration": 112,
    "start_time": "2024-08-05T20:22:40.118Z"
   },
   {
    "duration": 44,
    "start_time": "2024-08-05T20:22:40.233Z"
   },
   {
    "duration": 17,
    "start_time": "2024-08-05T20:22:40.307Z"
   },
   {
    "duration": 12,
    "start_time": "2024-08-05T20:22:40.330Z"
   },
   {
    "duration": 308,
    "start_time": "2024-08-05T20:22:40.345Z"
   },
   {
    "duration": 11,
    "start_time": "2024-08-05T20:22:40.657Z"
   },
   {
    "duration": 7,
    "start_time": "2024-08-05T20:22:40.672Z"
   },
   {
    "duration": 35,
    "start_time": "2024-08-05T20:22:40.682Z"
   },
   {
    "duration": 29,
    "start_time": "2024-08-05T20:22:40.721Z"
   },
   {
    "duration": 18,
    "start_time": "2024-08-05T20:22:40.754Z"
   },
   {
    "duration": 468,
    "start_time": "2024-08-05T20:22:40.810Z"
   },
   {
    "duration": 23,
    "start_time": "2024-08-05T20:22:41.283Z"
   },
   {
    "duration": 7,
    "start_time": "2024-08-05T20:22:41.311Z"
   },
   {
    "duration": 20,
    "start_time": "2024-08-05T20:22:41.322Z"
   },
   {
    "duration": 11,
    "start_time": "2024-08-05T20:22:41.347Z"
   },
   {
    "duration": 47,
    "start_time": "2024-08-05T20:22:41.361Z"
   },
   {
    "duration": 18,
    "start_time": "2024-08-05T20:22:41.411Z"
   },
   {
    "duration": 259,
    "start_time": "2024-08-05T20:22:41.432Z"
   },
   {
    "duration": 14,
    "start_time": "2024-08-05T20:22:41.695Z"
   },
   {
    "duration": 9,
    "start_time": "2024-08-05T20:22:41.713Z"
   },
   {
    "duration": 13,
    "start_time": "2024-08-05T20:22:41.725Z"
   },
   {
    "duration": 290,
    "start_time": "2024-08-05T20:22:41.751Z"
   },
   {
    "duration": 150,
    "start_time": "2024-08-05T20:22:42.044Z"
   },
   {
    "duration": 168,
    "start_time": "2024-08-05T20:22:42.198Z"
   },
   {
    "duration": 148,
    "start_time": "2024-08-05T20:22:42.372Z"
   },
   {
    "duration": 14,
    "start_time": "2024-08-05T20:22:42.523Z"
   },
   {
    "duration": 17,
    "start_time": "2024-08-05T20:22:42.540Z"
   },
   {
    "duration": 13,
    "start_time": "2024-08-05T20:22:42.560Z"
   },
   {
    "duration": 8,
    "start_time": "2024-08-05T20:22:42.606Z"
   },
   {
    "duration": 8,
    "start_time": "2024-08-05T20:22:42.617Z"
   },
   {
    "duration": 8,
    "start_time": "2024-08-05T20:22:42.628Z"
   },
   {
    "duration": 7,
    "start_time": "2024-08-05T20:22:42.640Z"
   },
   {
    "duration": 54,
    "start_time": "2024-08-05T20:22:42.652Z"
   },
   {
    "duration": 7,
    "start_time": "2024-08-05T20:22:42.709Z"
   },
   {
    "duration": 12,
    "start_time": "2024-08-05T20:24:13.937Z"
   },
   {
    "duration": 1290,
    "start_time": "2024-08-05T20:24:27.975Z"
   },
   {
    "duration": 23,
    "start_time": "2024-08-05T20:24:29.269Z"
   },
   {
    "duration": 120,
    "start_time": "2024-08-05T20:24:29.295Z"
   },
   {
    "duration": 93,
    "start_time": "2024-08-05T20:24:29.419Z"
   },
   {
    "duration": 17,
    "start_time": "2024-08-05T20:24:29.515Z"
   },
   {
    "duration": 98,
    "start_time": "2024-08-05T20:24:29.535Z"
   },
   {
    "duration": 102,
    "start_time": "2024-08-05T20:24:29.637Z"
   },
   {
    "duration": 64,
    "start_time": "2024-08-05T20:24:29.742Z"
   },
   {
    "duration": 18,
    "start_time": "2024-08-05T20:24:29.809Z"
   },
   {
    "duration": 13,
    "start_time": "2024-08-05T20:24:29.835Z"
   },
   {
    "duration": 266,
    "start_time": "2024-08-05T20:24:29.851Z"
   },
   {
    "duration": 12,
    "start_time": "2024-08-05T20:24:30.122Z"
   },
   {
    "duration": 9,
    "start_time": "2024-08-05T20:24:30.137Z"
   },
   {
    "duration": 10,
    "start_time": "2024-08-05T20:24:30.149Z"
   },
   {
    "duration": 66,
    "start_time": "2024-08-05T20:24:30.164Z"
   },
   {
    "duration": 18,
    "start_time": "2024-08-05T20:24:30.232Z"
   },
   {
    "duration": 472,
    "start_time": "2024-08-05T20:24:30.253Z"
   },
   {
    "duration": 10,
    "start_time": "2024-08-05T20:24:30.732Z"
   },
   {
    "duration": 10,
    "start_time": "2024-08-05T20:24:30.745Z"
   },
   {
    "duration": 46,
    "start_time": "2024-08-05T20:24:30.759Z"
   },
   {
    "duration": 7,
    "start_time": "2024-08-05T20:24:30.809Z"
   },
   {
    "duration": 30,
    "start_time": "2024-08-05T20:24:30.820Z"
   },
   {
    "duration": 52,
    "start_time": "2024-08-05T20:24:30.853Z"
   },
   {
    "duration": 242,
    "start_time": "2024-08-05T20:24:30.908Z"
   },
   {
    "duration": 14,
    "start_time": "2024-08-05T20:24:31.153Z"
   },
   {
    "duration": 9,
    "start_time": "2024-08-05T20:24:31.170Z"
   },
   {
    "duration": 10,
    "start_time": "2024-08-05T20:24:31.208Z"
   },
   {
    "duration": 271,
    "start_time": "2024-08-05T20:24:31.226Z"
   },
   {
    "duration": 171,
    "start_time": "2024-08-05T20:24:31.500Z"
   },
   {
    "duration": 160,
    "start_time": "2024-08-05T20:24:31.674Z"
   },
   {
    "duration": 153,
    "start_time": "2024-08-05T20:24:31.837Z"
   },
   {
    "duration": 25,
    "start_time": "2024-08-05T20:24:31.993Z"
   },
   {
    "duration": 13,
    "start_time": "2024-08-05T20:24:32.021Z"
   },
   {
    "duration": 13,
    "start_time": "2024-08-05T20:24:32.037Z"
   },
   {
    "duration": 53,
    "start_time": "2024-08-05T20:24:32.053Z"
   },
   {
    "duration": 12,
    "start_time": "2024-08-05T20:24:32.110Z"
   },
   {
    "duration": 11,
    "start_time": "2024-08-05T20:24:32.125Z"
   },
   {
    "duration": 9,
    "start_time": "2024-08-05T20:24:32.140Z"
   },
   {
    "duration": 8,
    "start_time": "2024-08-05T20:24:32.152Z"
   },
   {
    "duration": 45,
    "start_time": "2024-08-05T20:24:32.163Z"
   },
   {
    "duration": 7,
    "start_time": "2024-08-05T20:34:36.898Z"
   }
  ],
  "kernelspec": {
   "display_name": "Python 3 (ipykernel)",
   "language": "python",
   "name": "python3"
  },
  "language_info": {
   "codemirror_mode": {
    "name": "ipython",
    "version": 3
   },
   "file_extension": ".py",
   "mimetype": "text/x-python",
   "name": "python",
   "nbconvert_exporter": "python",
   "pygments_lexer": "ipython3",
   "version": "3.9.19"
  },
  "toc": {
   "base_numbering": 1,
   "nav_menu": {},
   "number_sections": true,
   "sideBar": true,
   "skip_h1_title": true,
   "title_cell": "Table of Contents",
   "title_sidebar": "Contents",
   "toc_cell": false,
   "toc_position": {
    "height": "calc(100% - 180px)",
    "left": "10px",
    "top": "150px",
    "width": "193.994px"
   },
   "toc_section_display": true,
   "toc_window_display": true
  }
 },
 "nbformat": 4,
 "nbformat_minor": 2
}
